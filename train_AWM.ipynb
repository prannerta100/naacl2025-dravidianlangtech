{
 "cells": [
  {
   "cell_type": "code",
   "execution_count": 1,
   "metadata": {},
   "outputs": [
    {
     "data": {
      "text/plain": [
       "2933"
      ]
     },
     "execution_count": 1,
     "metadata": {},
     "output_type": "execute_result"
    }
   ],
   "source": [
    "import pandas as pd \n",
    "AWM = pd.read_csv('/Users/5036365/Documents/Dravidian Lang Tech Data/Abusive Towards Women/AWM_train.csv')\n",
    "len(AWM)"
   ]
  },
  {
   "cell_type": "code",
   "execution_count": 2,
   "metadata": {},
   "outputs": [
    {
     "data": {
      "text/plain": [
       "629"
      ]
     },
     "execution_count": 2,
     "metadata": {},
     "output_type": "execute_result"
    }
   ],
   "source": [
    "AWM_val = pd.read_csv('/Users/5036365/Documents/Dravidian Lang Tech Data/Abusive Towards Women/AWM_dev.csv')\n",
    "len(AWM_val)"
   ]
  },
  {
   "cell_type": "code",
   "execution_count": 3,
   "metadata": {},
   "outputs": [],
   "source": [
    "import numpy as np\n",
    "label = []\n",
    "for i in range(0,len(AWM)):\n",
    "    if AWM['Class'][i] =='Abusive':\n",
    "        label.append(1)\n",
    "    else:\n",
    "        label.append(0)\n",
    "AWM['label']=np.array(label)"
   ]
  },
  {
   "cell_type": "code",
   "execution_count": 4,
   "metadata": {},
   "outputs": [],
   "source": [
    "label_val = []\n",
    "for i in range(0,len(AWM_val)):\n",
    "    if AWM_val['Class'][i] =='Abusive':\n",
    "        label_val.append(1)\n",
    "    else:\n",
    "        label_val.append(0)\n",
    "AWM_val['label']=np.array(label_val)"
   ]
  },
  {
   "cell_type": "code",
   "execution_count": 5,
   "metadata": {},
   "outputs": [],
   "source": [
    "AWM = AWM.drop_duplicates(subset=['Text'])\n",
    "AWM = AWM.reset_index()"
   ]
  },
  {
   "cell_type": "code",
   "execution_count": 12,
   "metadata": {},
   "outputs": [],
   "source": [
    "AWM['label']=np.array(label)"
   ]
  },
  {
   "cell_type": "code",
   "execution_count": 7,
   "metadata": {},
   "outputs": [
    {
     "name": "stderr",
     "output_type": "stream",
     "text": [
      "/Users/5036365/Documents/text-recommendation/.venv/lib/python3.9/site-packages/urllib3/__init__.py:35: NotOpenSSLWarning: urllib3 v2 only supports OpenSSL 1.1.1+, currently the 'ssl' module is compiled with 'LibreSSL 2.8.3'. See: https://github.com/urllib3/urllib3/issues/3020\n",
      "  warnings.warn(\n"
     ]
    }
   ],
   "source": [
    "from transformers import AutoTokenizer\n",
    " \n",
    "import torch\n",
    "import numpy as np\n",
    "from transformers import DistilBertTokenizerFast, DistilBertForSequenceClassification, Trainer, TrainingArguments, TrainerCallback\n",
    "from sklearn.model_selection import train_test_split\n",
    "from datasets import Dataset\n",
    "from sklearn.metrics import accuracy_score, f1_score\n",
    "import matplotlib.pyplot as plt\n",
    "import os\n",
    "\n",
    "# Split the data into train and test sets\n",
    "#train_texts, test_texts, train_labels, test_labels = train_test_split(AWM['Text'], AWM['label'], test_size=0.2)\n",
    " \n",
    "\n",
    "train_texts, train_labels,test_texts, test_labels = AWM['Text'], AWM['label'],AWM_val['Text'], AWM_val['label']\n",
    "# Load tokenizer\n",
    "model_name = \"xlm-roberta-base\"\n",
    "tokenizer = AutoTokenizer.from_pretrained(model_name)\n",
    " \n",
    "# Tokenize dataset\n",
    "def preprocess_function(examples):\n",
    "    return tokenizer(examples.to_list(), truncation=True, padding=\"max_length\", max_length=128)\n",
    " \n",
    "train_encodings = preprocess_function(train_texts)\n",
    "test_encodings = preprocess_function(test_texts)"
   ]
  },
  {
   "cell_type": "code",
   "execution_count": 8,
   "metadata": {},
   "outputs": [],
   "source": [
    "# Convert to Hugging Face Dataset format, and include 'labels' in the Dataset\n",
    "train_dataset = Dataset.from_dict({\n",
    "    'input_ids': train_encodings['input_ids'],\n",
    "    'attention_mask': train_encodings['attention_mask'],\n",
    "    'labels': train_labels  # Ensure labels are included\n",
    "})\n",
    "\n",
    "test_dataset = Dataset.from_dict({\n",
    "    'input_ids': test_encodings['input_ids'],\n",
    "    'attention_mask': test_encodings['attention_mask'],\n",
    "    'labels': test_labels  # Ensure labels are included\n",
    "})\n"
   ]
  },
  {
   "cell_type": "code",
   "execution_count": 9,
   "metadata": {},
   "outputs": [
    {
     "name": "stderr",
     "output_type": "stream",
     "text": [
      "Some weights of XLMRobertaForSequenceClassification were not initialized from the model checkpoint at xlm-roberta-base and are newly initialized: ['classifier.dense.bias', 'classifier.dense.weight', 'classifier.out_proj.bias', 'classifier.out_proj.weight']\n",
      "You should probably TRAIN this model on a down-stream task to be able to use it for predictions and inference.\n"
     ]
    }
   ],
   "source": [
    "from transformers import AutoModelForSequenceClassification\n",
    " \n",
    "model = AutoModelForSequenceClassification.from_pretrained(model_name, num_labels=2)"
   ]
  },
  {
   "cell_type": "code",
   "execution_count": 20,
   "metadata": {},
   "outputs": [
    {
     "data": {
      "application/vnd.jupyter.widget-view+json": {
       "model_id": "9824b69c11c24baa9b9ca123dd371a1b",
       "version_major": 2,
       "version_minor": 0
      },
      "text/plain": [
       "  0%|          | 0/1470 [00:00<?, ?it/s]"
      ]
     },
     "metadata": {},
     "output_type": "display_data"
    },
    {
     "name": "stdout",
     "output_type": "stream",
     "text": [
      "{'loss': 0.53, 'grad_norm': 25.739871978759766, 'learning_rate': 1.0000000000000001e-07, 'epoch': 0.03}\n",
      "{'loss': 0.5916, 'grad_norm': 26.05185890197754, 'learning_rate': 2.0000000000000002e-07, 'epoch': 0.07}\n",
      "{'loss': 0.5843, 'grad_norm': 19.190223693847656, 'learning_rate': 3.0000000000000004e-07, 'epoch': 0.1}\n",
      "{'loss': 0.4778, 'grad_norm': 12.123152732849121, 'learning_rate': 4.0000000000000003e-07, 'epoch': 0.14}\n",
      "{'loss': 0.3921, 'grad_norm': 16.33024024963379, 'learning_rate': 5.000000000000001e-07, 'epoch': 0.17}\n",
      "{'loss': 0.5107, 'grad_norm': 13.64146614074707, 'learning_rate': 6.000000000000001e-07, 'epoch': 0.2}\n",
      "{'loss': 0.5684, 'grad_norm': 28.327049255371094, 'learning_rate': 7.000000000000001e-07, 'epoch': 0.24}\n",
      "{'loss': 0.4881, 'grad_norm': 49.317325592041016, 'learning_rate': 8.000000000000001e-07, 'epoch': 0.27}\n",
      "{'loss': 0.4198, 'grad_norm': 8.839217185974121, 'learning_rate': 9.000000000000001e-07, 'epoch': 0.31}\n",
      "{'loss': 0.3825, 'grad_norm': 18.498159408569336, 'learning_rate': 1.0000000000000002e-06, 'epoch': 0.34}\n",
      "{'loss': 0.3641, 'grad_norm': 14.321125030517578, 'learning_rate': 1.1e-06, 'epoch': 0.37}\n",
      "{'loss': 0.3653, 'grad_norm': 25.181482315063477, 'learning_rate': 1.2000000000000002e-06, 'epoch': 0.41}\n",
      "{'loss': 0.3342, 'grad_norm': 9.229820251464844, 'learning_rate': 1.3e-06, 'epoch': 0.44}\n",
      "{'loss': 0.3679, 'grad_norm': 21.189350128173828, 'learning_rate': 1.4000000000000001e-06, 'epoch': 0.48}\n",
      "{'loss': 0.3666, 'grad_norm': 18.81771469116211, 'learning_rate': 1.5e-06, 'epoch': 0.51}\n",
      "{'loss': 0.4657, 'grad_norm': 18.402482986450195, 'learning_rate': 1.6000000000000001e-06, 'epoch': 0.54}\n",
      "{'loss': 0.3324, 'grad_norm': 3.2555510997772217, 'learning_rate': 1.7000000000000002e-06, 'epoch': 0.58}\n",
      "{'loss': 0.3435, 'grad_norm': 10.332249641418457, 'learning_rate': 1.8000000000000001e-06, 'epoch': 0.61}\n",
      "{'loss': 0.2461, 'grad_norm': 4.988479137420654, 'learning_rate': 1.9000000000000002e-06, 'epoch': 0.65}\n",
      "{'loss': 0.3247, 'grad_norm': 23.28459930419922, 'learning_rate': 2.0000000000000003e-06, 'epoch': 0.68}\n",
      "{'loss': 0.3204, 'grad_norm': 4.161382675170898, 'learning_rate': 2.1000000000000002e-06, 'epoch': 0.71}\n",
      "{'loss': 0.3244, 'grad_norm': 28.265586853027344, 'learning_rate': 2.2e-06, 'epoch': 0.75}\n",
      "{'loss': 0.3713, 'grad_norm': 3.558940887451172, 'learning_rate': 2.3000000000000004e-06, 'epoch': 0.78}\n",
      "{'loss': 0.2052, 'grad_norm': 4.203049182891846, 'learning_rate': 2.4000000000000003e-06, 'epoch': 0.82}\n",
      "{'loss': 0.149, 'grad_norm': 3.6700286865234375, 'learning_rate': 2.5e-06, 'epoch': 0.85}\n",
      "{'loss': 0.4516, 'grad_norm': 7.952181816101074, 'learning_rate': 2.6e-06, 'epoch': 0.88}\n",
      "{'loss': 0.1991, 'grad_norm': 3.4028067588806152, 'learning_rate': 2.7000000000000004e-06, 'epoch': 0.92}\n",
      "{'loss': 0.2352, 'grad_norm': 9.47018814086914, 'learning_rate': 2.8000000000000003e-06, 'epoch': 0.95}\n",
      "{'loss': 0.5794, 'grad_norm': 27.790618896484375, 'learning_rate': 2.9e-06, 'epoch': 0.99}\n"
     ]
    },
    {
     "data": {
      "application/vnd.jupyter.widget-view+json": {
       "model_id": "08238cd9d98d43f6bf050c2ceebd08e3",
       "version_major": 2,
       "version_minor": 0
      },
      "text/plain": [
       "  0%|          | 0/74 [00:00<?, ?it/s]"
      ]
     },
     "metadata": {},
     "output_type": "display_data"
    },
    {
     "name": "stdout",
     "output_type": "stream",
     "text": [
      "{'eval_loss': 0.7901365756988525, 'eval_accuracy': 0.7103918228279387, 'eval_macro_f1': 0.7072302023189222, 'eval_weighted_f1': 0.7085259484291748, 'eval_runtime': 5.2228, 'eval_samples_per_second': 112.391, 'eval_steps_per_second': 14.169, 'epoch': 1.0}\n",
      "{'loss': 0.5111, 'grad_norm': 45.90298080444336, 'learning_rate': 3e-06, 'epoch': 1.02}\n",
      "{'loss': 0.4409, 'grad_norm': 18.731327056884766, 'learning_rate': 3.1000000000000004e-06, 'epoch': 1.05}\n",
      "{'loss': 0.3417, 'grad_norm': 11.094863891601562, 'learning_rate': 3.2000000000000003e-06, 'epoch': 1.09}\n",
      "{'loss': 0.4415, 'grad_norm': 77.6686782836914, 'learning_rate': 3.3000000000000006e-06, 'epoch': 1.12}\n",
      "{'loss': 0.4759, 'grad_norm': 67.05368041992188, 'learning_rate': 3.4000000000000005e-06, 'epoch': 1.16}\n",
      "{'loss': 0.453, 'grad_norm': 6.5480875968933105, 'learning_rate': 3.5e-06, 'epoch': 1.19}\n",
      "{'loss': 0.4803, 'grad_norm': 30.33368492126465, 'learning_rate': 3.6000000000000003e-06, 'epoch': 1.22}\n",
      "{'loss': 0.4648, 'grad_norm': 14.545886039733887, 'learning_rate': 3.7e-06, 'epoch': 1.26}\n",
      "{'loss': 0.3703, 'grad_norm': 28.904699325561523, 'learning_rate': 3.8000000000000005e-06, 'epoch': 1.29}\n",
      "{'loss': 0.346, 'grad_norm': 21.414306640625, 'learning_rate': 3.900000000000001e-06, 'epoch': 1.33}\n",
      "{'loss': 0.478, 'grad_norm': 8.948356628417969, 'learning_rate': 4.000000000000001e-06, 'epoch': 1.36}\n",
      "{'loss': 0.4397, 'grad_norm': 28.049047470092773, 'learning_rate': 4.1e-06, 'epoch': 1.39}\n",
      "{'loss': 0.369, 'grad_norm': 5.264371871948242, 'learning_rate': 4.2000000000000004e-06, 'epoch': 1.43}\n",
      "{'loss': 0.4773, 'grad_norm': 22.400238037109375, 'learning_rate': 4.3e-06, 'epoch': 1.46}\n",
      "{'loss': 0.4406, 'grad_norm': 27.8243408203125, 'learning_rate': 4.4e-06, 'epoch': 1.5}\n",
      "{'loss': 0.4082, 'grad_norm': 27.349451065063477, 'learning_rate': 4.5e-06, 'epoch': 1.53}\n",
      "{'loss': 0.5213, 'grad_norm': 59.43817138671875, 'learning_rate': 4.600000000000001e-06, 'epoch': 1.56}\n",
      "{'loss': 0.7079, 'grad_norm': 128.8487091064453, 'learning_rate': 4.7e-06, 'epoch': 1.6}\n",
      "{'loss': 0.5392, 'grad_norm': 19.949951171875, 'learning_rate': 4.800000000000001e-06, 'epoch': 1.63}\n",
      "{'loss': 0.4888, 'grad_norm': 16.510929107666016, 'learning_rate': 4.9000000000000005e-06, 'epoch': 1.67}\n",
      "{'loss': 0.4222, 'grad_norm': 8.909618377685547, 'learning_rate': 5e-06, 'epoch': 1.7}\n",
      "{'loss': 0.5028, 'grad_norm': 25.668550491333008, 'learning_rate': 4.948453608247423e-06, 'epoch': 1.73}\n",
      "{'loss': 0.4435, 'grad_norm': 18.211633682250977, 'learning_rate': 4.8969072164948455e-06, 'epoch': 1.77}\n",
      "{'loss': 0.3483, 'grad_norm': 16.605745315551758, 'learning_rate': 4.845360824742268e-06, 'epoch': 1.8}\n",
      "{'loss': 0.4951, 'grad_norm': 49.62419891357422, 'learning_rate': 4.7938144329896915e-06, 'epoch': 1.84}\n",
      "{'loss': 0.4088, 'grad_norm': 30.684696197509766, 'learning_rate': 4.742268041237113e-06, 'epoch': 1.87}\n",
      "{'loss': 0.3731, 'grad_norm': 20.17365264892578, 'learning_rate': 4.690721649484537e-06, 'epoch': 1.9}\n",
      "{'loss': 0.6472, 'grad_norm': 65.17243194580078, 'learning_rate': 4.639175257731959e-06, 'epoch': 1.94}\n",
      "{'loss': 0.4916, 'grad_norm': 42.61711883544922, 'learning_rate': 4.587628865979382e-06, 'epoch': 1.97}\n"
     ]
    },
    {
     "data": {
      "application/vnd.jupyter.widget-view+json": {
       "model_id": "05e0e527a543475f938167039ab88300",
       "version_major": 2,
       "version_minor": 0
      },
      "text/plain": [
       "  0%|          | 0/74 [00:00<?, ?it/s]"
      ]
     },
     "metadata": {},
     "output_type": "display_data"
    },
    {
     "name": "stdout",
     "output_type": "stream",
     "text": [
      "{'eval_loss': 0.6337010860443115, 'eval_accuracy': 0.7018739352640545, 'eval_macro_f1': 0.7012879005969881, 'eval_weighted_f1': 0.7007244057248087, 'eval_runtime': 5.0773, 'eval_samples_per_second': 115.612, 'eval_steps_per_second': 14.575, 'epoch': 2.0}\n",
      "{'loss': 0.5023, 'grad_norm': 27.612504959106445, 'learning_rate': 4.536082474226804e-06, 'epoch': 2.01}\n",
      "{'loss': 0.4855, 'grad_norm': 29.66178321838379, 'learning_rate': 4.484536082474228e-06, 'epoch': 2.04}\n",
      "{'loss': 0.411, 'grad_norm': 10.283760070800781, 'learning_rate': 4.4329896907216494e-06, 'epoch': 2.07}\n",
      "{'loss': 0.5299, 'grad_norm': 26.48288345336914, 'learning_rate': 4.381443298969073e-06, 'epoch': 2.11}\n",
      "{'loss': 0.3575, 'grad_norm': 70.8313980102539, 'learning_rate': 4.329896907216495e-06, 'epoch': 2.14}\n",
      "{'loss': 0.3728, 'grad_norm': 37.70305633544922, 'learning_rate': 4.278350515463918e-06, 'epoch': 2.18}\n",
      "{'loss': 0.3327, 'grad_norm': 6.085313320159912, 'learning_rate': 4.2268041237113405e-06, 'epoch': 2.21}\n",
      "{'loss': 0.4828, 'grad_norm': 11.455888748168945, 'learning_rate': 4.175257731958763e-06, 'epoch': 2.24}\n",
      "{'loss': 0.3476, 'grad_norm': 33.42730712890625, 'learning_rate': 4.123711340206186e-06, 'epoch': 2.28}\n",
      "{'loss': 0.3566, 'grad_norm': 21.40252113342285, 'learning_rate': 4.072164948453608e-06, 'epoch': 2.31}\n",
      "{'loss': 0.4542, 'grad_norm': 48.47880935668945, 'learning_rate': 4.020618556701032e-06, 'epoch': 2.35}\n",
      "{'loss': 0.2417, 'grad_norm': 6.770236015319824, 'learning_rate': 3.969072164948453e-06, 'epoch': 2.38}\n",
      "{'loss': 0.4389, 'grad_norm': 40.161468505859375, 'learning_rate': 3.917525773195877e-06, 'epoch': 2.41}\n",
      "{'loss': 0.3659, 'grad_norm': 52.45942306518555, 'learning_rate': 3.865979381443299e-06, 'epoch': 2.45}\n",
      "{'loss': 0.3756, 'grad_norm': 11.033478736877441, 'learning_rate': 3.814432989690722e-06, 'epoch': 2.48}\n",
      "{'loss': 0.3736, 'grad_norm': 74.95616149902344, 'learning_rate': 3.7628865979381445e-06, 'epoch': 2.52}\n",
      "{'loss': 0.3066, 'grad_norm': 1.7066326141357422, 'learning_rate': 3.7113402061855674e-06, 'epoch': 2.55}\n",
      "{'loss': 0.3662, 'grad_norm': 57.92213821411133, 'learning_rate': 3.6597938144329896e-06, 'epoch': 2.59}\n",
      "{'loss': 0.5128, 'grad_norm': 15.085797309875488, 'learning_rate': 3.6082474226804126e-06, 'epoch': 2.62}\n",
      "{'loss': 0.5455, 'grad_norm': 32.18894958496094, 'learning_rate': 3.5567010309278356e-06, 'epoch': 2.65}\n",
      "{'loss': 0.4127, 'grad_norm': 7.606968402862549, 'learning_rate': 3.5051546391752577e-06, 'epoch': 2.69}\n",
      "{'loss': 0.484, 'grad_norm': 60.810123443603516, 'learning_rate': 3.4536082474226807e-06, 'epoch': 2.72}\n",
      "{'loss': 0.423, 'grad_norm': 45.71693420410156, 'learning_rate': 3.4020618556701037e-06, 'epoch': 2.76}\n",
      "{'loss': 0.4897, 'grad_norm': 22.70565414428711, 'learning_rate': 3.350515463917526e-06, 'epoch': 2.79}\n",
      "{'loss': 0.4802, 'grad_norm': 35.849273681640625, 'learning_rate': 3.298969072164949e-06, 'epoch': 2.82}\n",
      "{'loss': 0.4347, 'grad_norm': 20.917953491210938, 'learning_rate': 3.2474226804123714e-06, 'epoch': 2.86}\n",
      "{'loss': 0.3684, 'grad_norm': 59.18212890625, 'learning_rate': 3.195876288659794e-06, 'epoch': 2.89}\n",
      "{'loss': 0.3257, 'grad_norm': 2.758469343185425, 'learning_rate': 3.1443298969072165e-06, 'epoch': 2.93}\n",
      "{'loss': 0.324, 'grad_norm': 22.278018951416016, 'learning_rate': 3.0927835051546395e-06, 'epoch': 2.96}\n",
      "{'loss': 0.6028, 'grad_norm': 5.570077419281006, 'learning_rate': 3.041237113402062e-06, 'epoch': 2.99}\n"
     ]
    },
    {
     "data": {
      "application/vnd.jupyter.widget-view+json": {
       "model_id": "062c0184d81d4d7d8a792cd9d37807ba",
       "version_major": 2,
       "version_minor": 0
      },
      "text/plain": [
       "  0%|          | 0/74 [00:00<?, ?it/s]"
      ]
     },
     "metadata": {},
     "output_type": "display_data"
    },
    {
     "name": "stdout",
     "output_type": "stream",
     "text": [
      "{'eval_loss': 0.6838486194610596, 'eval_accuracy': 0.7103918228279387, 'eval_macro_f1': 0.7098655595096877, 'eval_weighted_f1': 0.7093392961914367, 'eval_runtime': 4.9199, 'eval_samples_per_second': 119.311, 'eval_steps_per_second': 15.041, 'epoch': 3.0}\n",
      "{'loss': 0.3554, 'grad_norm': 19.752498626708984, 'learning_rate': 2.9896907216494846e-06, 'epoch': 3.03}\n",
      "{'loss': 0.4137, 'grad_norm': 13.687132835388184, 'learning_rate': 2.9381443298969076e-06, 'epoch': 3.06}\n",
      "{'loss': 0.1803, 'grad_norm': 6.8308844566345215, 'learning_rate': 2.8865979381443297e-06, 'epoch': 3.1}\n",
      "{'loss': 0.5534, 'grad_norm': 42.67705535888672, 'learning_rate': 2.8350515463917527e-06, 'epoch': 3.13}\n",
      "{'loss': 0.329, 'grad_norm': 18.903921127319336, 'learning_rate': 2.7835051546391757e-06, 'epoch': 3.16}\n",
      "{'loss': 0.4537, 'grad_norm': 25.904035568237305, 'learning_rate': 2.731958762886598e-06, 'epoch': 3.2}\n",
      "{'loss': 0.3251, 'grad_norm': 8.147713661193848, 'learning_rate': 2.680412371134021e-06, 'epoch': 3.23}\n",
      "{'loss': 0.3222, 'grad_norm': 12.81196403503418, 'learning_rate': 2.628865979381444e-06, 'epoch': 3.27}\n",
      "{'loss': 0.4704, 'grad_norm': 37.23992156982422, 'learning_rate': 2.577319587628866e-06, 'epoch': 3.3}\n",
      "{'loss': 0.4045, 'grad_norm': 18.40605354309082, 'learning_rate': 2.525773195876289e-06, 'epoch': 3.33}\n",
      "{'loss': 0.4122, 'grad_norm': 24.4727725982666, 'learning_rate': 2.4742268041237115e-06, 'epoch': 3.37}\n",
      "{'loss': 0.3128, 'grad_norm': 47.348052978515625, 'learning_rate': 2.422680412371134e-06, 'epoch': 3.4}\n",
      "{'loss': 0.2624, 'grad_norm': 9.244100570678711, 'learning_rate': 2.3711340206185566e-06, 'epoch': 3.44}\n",
      "{'loss': 0.3296, 'grad_norm': 0.9819250106811523, 'learning_rate': 2.3195876288659796e-06, 'epoch': 3.47}\n",
      "{'loss': 0.3114, 'grad_norm': 2.302555561065674, 'learning_rate': 2.268041237113402e-06, 'epoch': 3.5}\n",
      "{'loss': 0.29, 'grad_norm': 88.78314971923828, 'learning_rate': 2.2164948453608247e-06, 'epoch': 3.54}\n",
      "{'loss': 0.2214, 'grad_norm': 80.83000946044922, 'learning_rate': 2.1649484536082477e-06, 'epoch': 3.57}\n",
      "{'loss': 0.3005, 'grad_norm': 4.926429271697998, 'learning_rate': 2.1134020618556703e-06, 'epoch': 3.61}\n",
      "{'loss': 0.3064, 'grad_norm': 4.218721866607666, 'learning_rate': 2.061855670103093e-06, 'epoch': 3.64}\n",
      "{'loss': 0.4229, 'grad_norm': 11.057306289672852, 'learning_rate': 2.010309278350516e-06, 'epoch': 3.67}\n",
      "{'loss': 0.2788, 'grad_norm': 2.352571487426758, 'learning_rate': 1.9587628865979384e-06, 'epoch': 3.71}\n",
      "{'loss': 0.4069, 'grad_norm': 60.03603744506836, 'learning_rate': 1.907216494845361e-06, 'epoch': 3.74}\n",
      "{'loss': 0.3862, 'grad_norm': 78.2999496459961, 'learning_rate': 1.8556701030927837e-06, 'epoch': 3.78}\n",
      "{'loss': 0.4001, 'grad_norm': 97.8715591430664, 'learning_rate': 1.8041237113402063e-06, 'epoch': 3.81}\n",
      "{'loss': 0.4951, 'grad_norm': 35.12801742553711, 'learning_rate': 1.7525773195876288e-06, 'epoch': 3.84}\n",
      "{'loss': 0.3742, 'grad_norm': 39.60863494873047, 'learning_rate': 1.7010309278350518e-06, 'epoch': 3.88}\n",
      "{'loss': 0.4235, 'grad_norm': 97.08805847167969, 'learning_rate': 1.6494845360824744e-06, 'epoch': 3.91}\n",
      "{'loss': 0.3944, 'grad_norm': 18.462692260742188, 'learning_rate': 1.597938144329897e-06, 'epoch': 3.95}\n",
      "{'loss': 0.4499, 'grad_norm': 34.062294006347656, 'learning_rate': 1.5463917525773197e-06, 'epoch': 3.98}\n"
     ]
    },
    {
     "data": {
      "application/vnd.jupyter.widget-view+json": {
       "model_id": "590f5d7c57f9488ca9a71a94d8aa4da7",
       "version_major": 2,
       "version_minor": 0
      },
      "text/plain": [
       "  0%|          | 0/74 [00:00<?, ?it/s]"
      ]
     },
     "metadata": {},
     "output_type": "display_data"
    },
    {
     "name": "stdout",
     "output_type": "stream",
     "text": [
      "{'eval_loss': 0.8261647820472717, 'eval_accuracy': 0.7257240204429302, 'eval_macro_f1': 0.7250057468087026, 'eval_weighted_f1': 0.7256043081705589, 'eval_runtime': 4.9347, 'eval_samples_per_second': 118.952, 'eval_steps_per_second': 14.996, 'epoch': 4.0}\n",
      "{'loss': 0.3143, 'grad_norm': 9.614120483398438, 'learning_rate': 1.4948453608247423e-06, 'epoch': 4.01}\n",
      "{'loss': 0.3, 'grad_norm': 74.0417709350586, 'learning_rate': 1.4432989690721649e-06, 'epoch': 4.05}\n",
      "{'loss': 0.383, 'grad_norm': 61.64542770385742, 'learning_rate': 1.3917525773195878e-06, 'epoch': 4.08}\n",
      "{'loss': 0.441, 'grad_norm': 21.30817985534668, 'learning_rate': 1.3402061855670104e-06, 'epoch': 4.12}\n",
      "{'loss': 0.4028, 'grad_norm': 61.586124420166016, 'learning_rate': 1.288659793814433e-06, 'epoch': 4.15}\n",
      "{'loss': 0.2382, 'grad_norm': 16.445781707763672, 'learning_rate': 1.2371134020618557e-06, 'epoch': 4.18}\n",
      "{'loss': 0.2346, 'grad_norm': 82.2523422241211, 'learning_rate': 1.1855670103092783e-06, 'epoch': 4.22}\n",
      "{'loss': 0.4241, 'grad_norm': 43.7142219543457, 'learning_rate': 1.134020618556701e-06, 'epoch': 4.25}\n",
      "{'loss': 0.312, 'grad_norm': 49.28123474121094, 'learning_rate': 1.0824742268041239e-06, 'epoch': 4.29}\n",
      "{'loss': 0.4156, 'grad_norm': 47.40482711791992, 'learning_rate': 1.0309278350515464e-06, 'epoch': 4.32}\n",
      "{'loss': 0.2826, 'grad_norm': 36.26768493652344, 'learning_rate': 9.793814432989692e-07, 'epoch': 4.35}\n",
      "{'loss': 0.3234, 'grad_norm': 22.690858840942383, 'learning_rate': 9.278350515463919e-07, 'epoch': 4.39}\n",
      "{'loss': 0.3457, 'grad_norm': 9.814488410949707, 'learning_rate': 8.762886597938144e-07, 'epoch': 4.42}\n",
      "{'loss': 0.2508, 'grad_norm': 76.90485382080078, 'learning_rate': 8.247422680412372e-07, 'epoch': 4.46}\n",
      "{'loss': 0.3048, 'grad_norm': 50.95838928222656, 'learning_rate': 7.731958762886599e-07, 'epoch': 4.49}\n",
      "{'loss': 0.3183, 'grad_norm': 9.555889129638672, 'learning_rate': 7.216494845360824e-07, 'epoch': 4.52}\n",
      "{'loss': 0.2067, 'grad_norm': 6.430968761444092, 'learning_rate': 6.701030927835052e-07, 'epoch': 4.56}\n",
      "{'loss': 0.3638, 'grad_norm': 46.496341705322266, 'learning_rate': 6.185567010309279e-07, 'epoch': 4.59}\n",
      "{'loss': 0.3162, 'grad_norm': 185.36412048339844, 'learning_rate': 5.670103092783505e-07, 'epoch': 4.63}\n",
      "{'loss': 0.4862, 'grad_norm': 6.820033073425293, 'learning_rate': 5.154639175257732e-07, 'epoch': 4.66}\n",
      "{'loss': 0.334, 'grad_norm': 8.88002872467041, 'learning_rate': 4.6391752577319593e-07, 'epoch': 4.69}\n",
      "{'loss': 0.5312, 'grad_norm': 49.69744873046875, 'learning_rate': 4.123711340206186e-07, 'epoch': 4.73}\n",
      "{'loss': 0.2375, 'grad_norm': 4.135252475738525, 'learning_rate': 3.608247422680412e-07, 'epoch': 4.76}\n",
      "{'loss': 0.3352, 'grad_norm': 62.42238235473633, 'learning_rate': 3.0927835051546394e-07, 'epoch': 4.8}\n",
      "{'loss': 0.3973, 'grad_norm': 62.384979248046875, 'learning_rate': 2.577319587628866e-07, 'epoch': 4.83}\n",
      "{'loss': 0.3678, 'grad_norm': 52.64697265625, 'learning_rate': 2.061855670103093e-07, 'epoch': 4.86}\n",
      "{'loss': 0.3218, 'grad_norm': 94.85028839111328, 'learning_rate': 1.5463917525773197e-07, 'epoch': 4.9}\n",
      "{'loss': 0.4204, 'grad_norm': 52.01206588745117, 'learning_rate': 1.0309278350515465e-07, 'epoch': 4.93}\n",
      "{'loss': 0.2784, 'grad_norm': 10.606231689453125, 'learning_rate': 5.1546391752577325e-08, 'epoch': 4.97}\n",
      "{'loss': 0.3466, 'grad_norm': 1.414665699005127, 'learning_rate': 0.0, 'epoch': 5.0}\n"
     ]
    },
    {
     "data": {
      "application/vnd.jupyter.widget-view+json": {
       "model_id": "d6dbd2f8ef824810857e629770b217ec",
       "version_major": 2,
       "version_minor": 0
      },
      "text/plain": [
       "  0%|          | 0/74 [00:00<?, ?it/s]"
      ]
     },
     "metadata": {},
     "output_type": "display_data"
    },
    {
     "name": "stdout",
     "output_type": "stream",
     "text": [
      "{'eval_loss': 0.8420383334159851, 'eval_accuracy': 0.7189097103918228, 'eval_macro_f1': 0.7188574911830017, 'eval_weighted_f1': 0.7186943061554357, 'eval_runtime': 4.9449, 'eval_samples_per_second': 118.707, 'eval_steps_per_second': 14.965, 'epoch': 5.0}\n",
      "{'train_runtime': 630.529, 'train_samples_per_second': 18.603, 'train_steps_per_second': 2.331, 'train_loss': 0.3941848554578768, 'epoch': 5.0}\n"
     ]
    }
   ],
   "source": [
    "from transformers import TrainingArguments, Trainer\n",
    " # Define the compute_metrics function\n",
    "def compute_metrics(pred):\n",
    "    labels = pred.label_ids\n",
    "    preds = np.argmax(pred.predictions, axis=1)\n",
    "    accuracy = accuracy_score(labels, preds)\n",
    "    macro_f1 = f1_score(labels, preds, average='macro')\n",
    "    weighted_f1 = f1_score(labels, preds, average='weighted')\n",
    "    return {\n",
    "        'accuracy': accuracy,\n",
    "        'macro_f1': macro_f1,\n",
    "        'weighted_f1': weighted_f1\n",
    "    }\n",
    "\n",
    "class TrainMetricsLogger(TrainerCallback):\n",
    "    def on_log(self, args, state, control, logs=None, **kwargs):\n",
    "        if logs is not None:\n",
    "            print(f\"Epoch: {state.epoch}, Training Metrics: {logs}\")\n",
    "\n",
    "training_args = TrainingArguments(\n",
    "    output_dir='./results',\n",
    "    eval_strategy='epoch',     # Evaluate every epoch\n",
    "    num_train_epochs=5,              # Number of epochs\n",
    "    learning_rate=5e-6,\n",
    "    per_device_train_batch_size=8,   # Batch size for training\n",
    "    per_device_eval_batch_size=8,    # Batch size for evaluation\n",
    "    warmup_steps=500,                # Number of warmup steps\n",
    "    weight_decay=0.05,               # Strength of weight decay\n",
    "    logging_dir='./logs',            # Directory for logs\n",
    "    logging_steps=10,\n",
    "    load_best_model_at_end=True,\n",
    "    save_strategy='epoch',\n",
    ")\n",
    " \n",
    "trainer = Trainer(\n",
    "    model=model,\n",
    "    args=training_args,\n",
    "    train_dataset=train_dataset,\n",
    "    eval_dataset=test_dataset,\n",
    "    compute_metrics=compute_metrics,\n",
    ")\n",
    "train_result = trainer.train()"
   ]
  },
  {
   "cell_type": "code",
   "execution_count": 10,
   "metadata": {},
   "outputs": [
    {
     "name": "stderr",
     "output_type": "stream",
     "text": [
      "huggingface/tokenizers: The current process just got forked, after parallelism has already been used. Disabling parallelism to avoid deadlocks...\n",
      "To disable this warning, you can either:\n",
      "\t- Avoid using `tokenizers` before the fork if possible\n",
      "\t- Explicitly set the environment variable TOKENIZERS_PARALLELISM=(true | false)\n"
     ]
    },
    {
     "data": {
      "application/vnd.jupyter.widget-view+json": {
       "model_id": "f2f3ac79616b428383439735f5b0a4c1",
       "version_major": 2,
       "version_minor": 0
      },
      "text/plain": [
       "  0%|          | 0/2569 [00:00<?, ?it/s]"
      ]
     },
     "metadata": {},
     "output_type": "display_data"
    },
    {
     "name": "stdout",
     "output_type": "stream",
     "text": [
      "{'loss': 0.6909, 'grad_norm': 1.379355549812317, 'learning_rate': 1.0000000000000002e-06, 'epoch': 0.03}\n",
      "{'loss': 0.6966, 'grad_norm': 4.241412162780762, 'learning_rate': 2.0000000000000003e-06, 'epoch': 0.05}\n",
      "{'loss': 0.6942, 'grad_norm': 5.781650066375732, 'learning_rate': 3e-06, 'epoch': 0.08}\n",
      "{'loss': 0.6904, 'grad_norm': 4.858850002288818, 'learning_rate': 4.000000000000001e-06, 'epoch': 0.11}\n",
      "{'loss': 0.6932, 'grad_norm': 3.834796190261841, 'learning_rate': 5e-06, 'epoch': 0.14}\n",
      "{'loss': 0.6895, 'grad_norm': 5.216373443603516, 'learning_rate': 6e-06, 'epoch': 0.16}\n",
      "{'loss': 0.6946, 'grad_norm': 2.6693379878997803, 'learning_rate': 7.000000000000001e-06, 'epoch': 0.19}\n",
      "{'loss': 0.6891, 'grad_norm': 3.3522160053253174, 'learning_rate': 8.000000000000001e-06, 'epoch': 0.22}\n",
      "{'loss': 0.6861, 'grad_norm': 4.321838855743408, 'learning_rate': 9e-06, 'epoch': 0.25}\n",
      "{'loss': 0.6945, 'grad_norm': 5.128048419952393, 'learning_rate': 1e-05, 'epoch': 0.27}\n",
      "{'loss': 0.6845, 'grad_norm': 3.634537935256958, 'learning_rate': 1.1000000000000001e-05, 'epoch': 0.3}\n",
      "{'loss': 0.6955, 'grad_norm': 6.1338090896606445, 'learning_rate': 1.2e-05, 'epoch': 0.33}\n",
      "{'loss': 0.6707, 'grad_norm': 5.945174694061279, 'learning_rate': 1.3000000000000001e-05, 'epoch': 0.35}\n",
      "{'loss': 0.706, 'grad_norm': 8.804571151733398, 'learning_rate': 1.4000000000000001e-05, 'epoch': 0.38}\n",
      "{'loss': 0.6988, 'grad_norm': 1.904585599899292, 'learning_rate': 1.5e-05, 'epoch': 0.41}\n",
      "{'loss': 0.6808, 'grad_norm': 7.470136642456055, 'learning_rate': 1.6000000000000003e-05, 'epoch': 0.44}\n",
      "{'loss': 0.6909, 'grad_norm': 14.145379066467285, 'learning_rate': 1.7000000000000003e-05, 'epoch': 0.46}\n",
      "{'loss': 0.7177, 'grad_norm': 23.304744720458984, 'learning_rate': 1.8e-05, 'epoch': 0.49}\n",
      "{'loss': 0.6984, 'grad_norm': 8.189080238342285, 'learning_rate': 1.9e-05, 'epoch': 0.52}\n",
      "{'loss': 0.6845, 'grad_norm': 6.745361328125, 'learning_rate': 2e-05, 'epoch': 0.54}\n",
      "{'loss': 0.7253, 'grad_norm': 9.704972267150879, 'learning_rate': 2.1e-05, 'epoch': 0.57}\n",
      "{'loss': 0.6553, 'grad_norm': 8.937491416931152, 'learning_rate': 2.2000000000000003e-05, 'epoch': 0.6}\n",
      "{'loss': 0.6954, 'grad_norm': 14.044568061828613, 'learning_rate': 2.3000000000000003e-05, 'epoch': 0.63}\n",
      "{'loss': 0.7059, 'grad_norm': 12.421425819396973, 'learning_rate': 2.4e-05, 'epoch': 0.65}\n",
      "{'loss': 0.7664, 'grad_norm': 9.252976417541504, 'learning_rate': 2.5e-05, 'epoch': 0.68}\n",
      "{'loss': 0.6834, 'grad_norm': 9.972119331359863, 'learning_rate': 2.6000000000000002e-05, 'epoch': 0.71}\n",
      "{'loss': 0.6922, 'grad_norm': 3.4673666954040527, 'learning_rate': 2.7000000000000002e-05, 'epoch': 0.74}\n",
      "{'loss': 0.7643, 'grad_norm': 18.92220687866211, 'learning_rate': 2.8000000000000003e-05, 'epoch': 0.76}\n",
      "{'loss': 0.6485, 'grad_norm': 64.4832992553711, 'learning_rate': 2.9e-05, 'epoch': 0.79}\n",
      "{'loss': 0.7518, 'grad_norm': 35.41946792602539, 'learning_rate': 3e-05, 'epoch': 0.82}\n",
      "{'loss': 0.7006, 'grad_norm': 142.52288818359375, 'learning_rate': 3.1e-05, 'epoch': 0.84}\n",
      "{'loss': 0.6949, 'grad_norm': 5.877725601196289, 'learning_rate': 3.2000000000000005e-05, 'epoch': 0.87}\n",
      "{'loss': 0.7216, 'grad_norm': 1.7176939249038696, 'learning_rate': 3.3e-05, 'epoch': 0.9}\n",
      "{'loss': 0.7079, 'grad_norm': 4.894656658172607, 'learning_rate': 3.4000000000000007e-05, 'epoch': 0.93}\n",
      "{'loss': 0.6791, 'grad_norm': 4.2401862144470215, 'learning_rate': 3.5e-05, 'epoch': 0.95}\n",
      "{'loss': 0.7145, 'grad_norm': 3.345646619796753, 'learning_rate': 3.6e-05, 'epoch': 0.98}\n"
     ]
    },
    {
     "data": {
      "application/vnd.jupyter.widget-view+json": {
       "model_id": "980c2fdf06c54349b4c72f6c77117cb9",
       "version_major": 2,
       "version_minor": 0
      },
      "text/plain": [
       "  0%|          | 0/79 [00:00<?, ?it/s]"
      ]
     },
     "metadata": {},
     "output_type": "display_data"
    },
    {
     "name": "stdout",
     "output_type": "stream",
     "text": [
      "{'eval_loss': 0.7043213248252869, 'eval_accuracy': 0.48171701112877585, 'eval_macro_f1': 0.3251072961373391, 'eval_weighted_f1': 0.3132194299828736, 'eval_runtime': 5.3742, 'eval_samples_per_second': 117.04, 'eval_steps_per_second': 14.7, 'epoch': 1.0}\n",
      "{'loss': 0.6889, 'grad_norm': 5.429834842681885, 'learning_rate': 3.7e-05, 'epoch': 1.01}\n",
      "{'loss': 0.6816, 'grad_norm': 2.8305532932281494, 'learning_rate': 3.8e-05, 'epoch': 1.04}\n",
      "{'loss': 0.7067, 'grad_norm': 1.5217540264129639, 'learning_rate': 3.9000000000000006e-05, 'epoch': 1.06}\n",
      "{'loss': 0.7342, 'grad_norm': 3.6228187084198, 'learning_rate': 4e-05, 'epoch': 1.09}\n",
      "{'loss': 0.6985, 'grad_norm': 1.6700778007507324, 'learning_rate': 4.1e-05, 'epoch': 1.12}\n",
      "{'loss': 0.7025, 'grad_norm': 3.565525770187378, 'learning_rate': 4.2e-05, 'epoch': 1.14}\n",
      "{'loss': 0.6971, 'grad_norm': 4.1544389724731445, 'learning_rate': 4.3e-05, 'epoch': 1.17}\n",
      "{'loss': 0.6884, 'grad_norm': 1.777893304824829, 'learning_rate': 4.4000000000000006e-05, 'epoch': 1.2}\n",
      "{'loss': 0.6878, 'grad_norm': 4.368730068206787, 'learning_rate': 4.5e-05, 'epoch': 1.23}\n",
      "{'loss': 0.7126, 'grad_norm': 1.1745177507400513, 'learning_rate': 4.600000000000001e-05, 'epoch': 1.25}\n",
      "{'loss': 0.682, 'grad_norm': 4.346865177154541, 'learning_rate': 4.7e-05, 'epoch': 1.28}\n",
      "{'loss': 0.7125, 'grad_norm': 4.613435745239258, 'learning_rate': 4.8e-05, 'epoch': 1.31}\n",
      "{'loss': 0.6998, 'grad_norm': 5.471408367156982, 'learning_rate': 4.9e-05, 'epoch': 1.34}\n",
      "{'loss': 0.7004, 'grad_norm': 1.7460417747497559, 'learning_rate': 5e-05, 'epoch': 1.36}\n",
      "{'loss': 0.6659, 'grad_norm': 2.003913402557373, 'learning_rate': 4.975833736104398e-05, 'epoch': 1.39}\n",
      "{'loss': 0.7162, 'grad_norm': 1.4611490964889526, 'learning_rate': 4.9516674722087966e-05, 'epoch': 1.42}\n",
      "{'loss': 0.6758, 'grad_norm': 2.3175907135009766, 'learning_rate': 4.927501208313195e-05, 'epoch': 1.44}\n",
      "{'loss': 0.7092, 'grad_norm': 1.8434793949127197, 'learning_rate': 4.903334944417593e-05, 'epoch': 1.47}\n",
      "{'loss': 0.6845, 'grad_norm': 1.4256274700164795, 'learning_rate': 4.8791686805219915e-05, 'epoch': 1.5}\n",
      "{'loss': 0.7848, 'grad_norm': 3.020242214202881, 'learning_rate': 4.8550024166263894e-05, 'epoch': 1.53}\n",
      "{'loss': 0.6884, 'grad_norm': 2.52963924407959, 'learning_rate': 4.8308361527307886e-05, 'epoch': 1.55}\n",
      "{'loss': 0.6938, 'grad_norm': 2.314678192138672, 'learning_rate': 4.8066698888351865e-05, 'epoch': 1.58}\n",
      "{'loss': 0.6846, 'grad_norm': 1.3072339296340942, 'learning_rate': 4.782503624939584e-05, 'epoch': 1.61}\n",
      "{'loss': 0.6912, 'grad_norm': 10.726842880249023, 'learning_rate': 4.758337361043983e-05, 'epoch': 1.63}\n",
      "{'loss': 0.7671, 'grad_norm': 2.8394851684570312, 'learning_rate': 4.734171097148381e-05, 'epoch': 1.66}\n",
      "{'loss': 0.6971, 'grad_norm': 3.9352786540985107, 'learning_rate': 4.710004833252779e-05, 'epoch': 1.69}\n",
      "{'loss': 0.6867, 'grad_norm': 3.3476333618164062, 'learning_rate': 4.685838569357178e-05, 'epoch': 1.72}\n",
      "{'loss': 0.6993, 'grad_norm': 4.3017754554748535, 'learning_rate': 4.6616723054615756e-05, 'epoch': 1.74}\n",
      "{'loss': 0.6809, 'grad_norm': 3.5392348766326904, 'learning_rate': 4.637506041565974e-05, 'epoch': 1.77}\n",
      "{'loss': 0.689, 'grad_norm': 5.617254257202148, 'learning_rate': 4.613339777670373e-05, 'epoch': 1.8}\n",
      "{'loss': 0.6879, 'grad_norm': 2.3801517486572266, 'learning_rate': 4.5891735137747705e-05, 'epoch': 1.83}\n",
      "{'loss': 0.6991, 'grad_norm': 3.870412826538086, 'learning_rate': 4.565007249879169e-05, 'epoch': 1.85}\n",
      "{'loss': 0.7048, 'grad_norm': 3.3170180320739746, 'learning_rate': 4.540840985983567e-05, 'epoch': 1.88}\n",
      "{'loss': 0.7056, 'grad_norm': 1.202242136001587, 'learning_rate': 4.5166747220879654e-05, 'epoch': 1.91}\n",
      "{'loss': 0.704, 'grad_norm': 1.7611968517303467, 'learning_rate': 4.492508458192364e-05, 'epoch': 1.93}\n",
      "{'loss': 0.7328, 'grad_norm': 3.698784112930298, 'learning_rate': 4.468342194296762e-05, 'epoch': 1.96}\n",
      "{'loss': 0.6965, 'grad_norm': 2.164297342300415, 'learning_rate': 4.4441759304011604e-05, 'epoch': 1.99}\n"
     ]
    },
    {
     "data": {
      "application/vnd.jupyter.widget-view+json": {
       "model_id": "c9708dd01b354b80b3b3904004ca2872",
       "version_major": 2,
       "version_minor": 0
      },
      "text/plain": [
       "  0%|          | 0/79 [00:00<?, ?it/s]"
      ]
     },
     "metadata": {},
     "output_type": "display_data"
    },
    {
     "name": "stdout",
     "output_type": "stream",
     "text": [
      "{'eval_loss': 0.6969820857048035, 'eval_accuracy': 0.48171701112877585, 'eval_macro_f1': 0.3251072961373391, 'eval_weighted_f1': 0.3132194299828736, 'eval_runtime': 5.558, 'eval_samples_per_second': 113.17, 'eval_steps_per_second': 14.214, 'epoch': 2.0}\n",
      "{'loss': 0.7047, 'grad_norm': 4.166545391082764, 'learning_rate': 4.420009666505558e-05, 'epoch': 2.02}\n",
      "{'loss': 0.6951, 'grad_norm': 2.5262887477874756, 'learning_rate': 4.395843402609957e-05, 'epoch': 2.04}\n",
      "{'loss': 0.7067, 'grad_norm': 7.318472862243652, 'learning_rate': 4.371677138714355e-05, 'epoch': 2.07}\n",
      "{'loss': 0.6906, 'grad_norm': 1.211690068244934, 'learning_rate': 4.347510874818753e-05, 'epoch': 2.1}\n",
      "{'loss': 0.6635, 'grad_norm': 1.6149747371673584, 'learning_rate': 4.323344610923151e-05, 'epoch': 2.13}\n",
      "{'loss': 0.6887, 'grad_norm': 1.6197994947433472, 'learning_rate': 4.2991783470275495e-05, 'epoch': 2.15}\n",
      "{'loss': 0.6684, 'grad_norm': 4.907434463500977, 'learning_rate': 4.275012083131948e-05, 'epoch': 2.18}\n",
      "{'loss': 0.7153, 'grad_norm': 1.258617877960205, 'learning_rate': 4.2508458192363466e-05, 'epoch': 2.21}\n",
      "{'loss': 0.7007, 'grad_norm': 6.5661516189575195, 'learning_rate': 4.2266795553407444e-05, 'epoch': 2.23}\n",
      "{'loss': 0.7041, 'grad_norm': 2.091583251953125, 'learning_rate': 4.202513291445142e-05, 'epoch': 2.26}\n",
      "{'loss': 0.6808, 'grad_norm': 2.8601672649383545, 'learning_rate': 4.1783470275495415e-05, 'epoch': 2.29}\n",
      "{'loss': 0.6777, 'grad_norm': 2.571831464767456, 'learning_rate': 4.1541807636539393e-05, 'epoch': 2.32}\n",
      "{'loss': 0.6943, 'grad_norm': 2.227774143218994, 'learning_rate': 4.130014499758337e-05, 'epoch': 2.34}\n",
      "{'loss': 0.7339, 'grad_norm': 8.044407844543457, 'learning_rate': 4.105848235862736e-05, 'epoch': 2.37}\n",
      "{'loss': 0.7034, 'grad_norm': 1.7653818130493164, 'learning_rate': 4.081681971967134e-05, 'epoch': 2.4}\n",
      "{'loss': 0.6939, 'grad_norm': 2.8942089080810547, 'learning_rate': 4.057515708071533e-05, 'epoch': 2.43}\n",
      "{'loss': 0.7307, 'grad_norm': 2.65923810005188, 'learning_rate': 4.0333494441759306e-05, 'epoch': 2.45}\n",
      "{'loss': 0.7018, 'grad_norm': 1.310072660446167, 'learning_rate': 4.0091831802803285e-05, 'epoch': 2.48}\n",
      "{'loss': 0.7131, 'grad_norm': 1.604909062385559, 'learning_rate': 3.985016916384727e-05, 'epoch': 2.51}\n",
      "{'loss': 0.6993, 'grad_norm': 1.4106106758117676, 'learning_rate': 3.9608506524891256e-05, 'epoch': 2.53}\n",
      "{'loss': 0.6761, 'grad_norm': 3.6212587356567383, 'learning_rate': 3.9366843885935234e-05, 'epoch': 2.56}\n",
      "{'loss': 0.6947, 'grad_norm': 2.998889207839966, 'learning_rate': 3.912518124697922e-05, 'epoch': 2.59}\n",
      "{'loss': 0.6979, 'grad_norm': 9.53027629852295, 'learning_rate': 3.88835186080232e-05, 'epoch': 2.62}\n",
      "{'loss': 0.6995, 'grad_norm': 9.444174766540527, 'learning_rate': 3.864185596906719e-05, 'epoch': 2.64}\n",
      "{'loss': 0.6948, 'grad_norm': 3.11503005027771, 'learning_rate': 3.840019333011117e-05, 'epoch': 2.67}\n",
      "{'loss': 0.7209, 'grad_norm': 3.074388027191162, 'learning_rate': 3.815853069115515e-05, 'epoch': 2.7}\n",
      "{'loss': 0.6975, 'grad_norm': 2.0427231788635254, 'learning_rate': 3.791686805219913e-05, 'epoch': 2.72}\n",
      "{'loss': 0.6834, 'grad_norm': 6.126590251922607, 'learning_rate': 3.767520541324311e-05, 'epoch': 2.75}\n",
      "{'loss': 0.7085, 'grad_norm': 3.9640121459960938, 'learning_rate': 3.7433542774287096e-05, 'epoch': 2.78}\n",
      "{'loss': 0.7059, 'grad_norm': 3.594906806945801, 'learning_rate': 3.719188013533108e-05, 'epoch': 2.81}\n",
      "{'loss': 0.6882, 'grad_norm': 2.386803150177002, 'learning_rate': 3.695021749637506e-05, 'epoch': 2.83}\n",
      "{'loss': 0.6618, 'grad_norm': 2.2246294021606445, 'learning_rate': 3.6708554857419045e-05, 'epoch': 2.86}\n",
      "{'loss': 0.6987, 'grad_norm': 1.7845004796981812, 'learning_rate': 3.646689221846303e-05, 'epoch': 2.89}\n",
      "{'loss': 0.7113, 'grad_norm': 2.040921688079834, 'learning_rate': 3.622522957950701e-05, 'epoch': 2.92}\n",
      "{'loss': 0.7102, 'grad_norm': 1.7307884693145752, 'learning_rate': 3.5983566940550995e-05, 'epoch': 2.94}\n",
      "{'loss': 0.7027, 'grad_norm': 1.8441718816757202, 'learning_rate': 3.574190430159497e-05, 'epoch': 2.97}\n",
      "{'loss': 0.7076, 'grad_norm': 4.783642292022705, 'learning_rate': 3.550024166263896e-05, 'epoch': 3.0}\n"
     ]
    },
    {
     "data": {
      "application/vnd.jupyter.widget-view+json": {
       "model_id": "2b0bbc2e18e4492eb11f9a832256c96f",
       "version_major": 2,
       "version_minor": 0
      },
      "text/plain": [
       "  0%|          | 0/79 [00:00<?, ?it/s]"
      ]
     },
     "metadata": {},
     "output_type": "display_data"
    },
    {
     "name": "stdout",
     "output_type": "stream",
     "text": [
      "{'eval_loss': 0.6936765909194946, 'eval_accuracy': 0.48171701112877585, 'eval_macro_f1': 0.3251072961373391, 'eval_weighted_f1': 0.3132194299828736, 'eval_runtime': 5.41, 'eval_samples_per_second': 116.267, 'eval_steps_per_second': 14.603, 'epoch': 3.0}\n",
      "{'loss': 0.7036, 'grad_norm': 1.7120044231414795, 'learning_rate': 3.5258579023682944e-05, 'epoch': 3.02}\n",
      "{'loss': 0.6861, 'grad_norm': 1.97427499294281, 'learning_rate': 3.501691638472692e-05, 'epoch': 3.05}\n",
      "{'loss': 0.7011, 'grad_norm': 3.2428500652313232, 'learning_rate': 3.477525374577091e-05, 'epoch': 3.08}\n",
      "{'loss': 0.6966, 'grad_norm': 1.3626618385314941, 'learning_rate': 3.4533591106814886e-05, 'epoch': 3.11}\n",
      "{'loss': 0.7032, 'grad_norm': 1.6909643411636353, 'learning_rate': 3.429192846785887e-05, 'epoch': 3.13}\n",
      "{'loss': 0.6939, 'grad_norm': 2.3950512409210205, 'learning_rate': 3.405026582890286e-05, 'epoch': 3.16}\n",
      "{'loss': 0.7032, 'grad_norm': 4.133870601654053, 'learning_rate': 3.3808603189946835e-05, 'epoch': 3.19}\n",
      "{'loss': 0.6952, 'grad_norm': 2.8809053897857666, 'learning_rate': 3.3566940550990814e-05, 'epoch': 3.22}\n",
      "{'loss': 0.6869, 'grad_norm': 2.75759220123291, 'learning_rate': 3.33252779120348e-05, 'epoch': 3.24}\n",
      "{'loss': 0.7059, 'grad_norm': 3.4587249755859375, 'learning_rate': 3.3083615273078784e-05, 'epoch': 3.27}\n",
      "{'loss': 0.6869, 'grad_norm': 6.056182861328125, 'learning_rate': 3.284195263412276e-05, 'epoch': 3.3}\n",
      "{'loss': 0.7051, 'grad_norm': 3.2643022537231445, 'learning_rate': 3.260028999516675e-05, 'epoch': 3.32}\n",
      "{'loss': 0.7013, 'grad_norm': 1.904244303703308, 'learning_rate': 3.235862735621073e-05, 'epoch': 3.35}\n",
      "{'loss': 0.6963, 'grad_norm': 2.4243974685668945, 'learning_rate': 3.211696471725472e-05, 'epoch': 3.38}\n",
      "{'loss': 0.6718, 'grad_norm': 3.1097612380981445, 'learning_rate': 3.18753020782987e-05, 'epoch': 3.41}\n",
      "{'loss': 0.6786, 'grad_norm': 1.5614919662475586, 'learning_rate': 3.1633639439342676e-05, 'epoch': 3.43}\n",
      "{'loss': 0.7214, 'grad_norm': 2.3970730304718018, 'learning_rate': 3.139197680038666e-05, 'epoch': 3.46}\n",
      "{'loss': 0.71, 'grad_norm': 1.7260278463363647, 'learning_rate': 3.1150314161430647e-05, 'epoch': 3.49}\n",
      "{'loss': 0.6822, 'grad_norm': 1.1898273229599, 'learning_rate': 3.0908651522474625e-05, 'epoch': 3.51}\n",
      "{'loss': 0.6951, 'grad_norm': 2.686004161834717, 'learning_rate': 3.066698888351861e-05, 'epoch': 3.54}\n",
      "{'loss': 0.706, 'grad_norm': 4.265369892120361, 'learning_rate': 3.0425326244562592e-05, 'epoch': 3.57}\n",
      "{'loss': 0.7028, 'grad_norm': 1.86594557762146, 'learning_rate': 3.0183663605606578e-05, 'epoch': 3.6}\n",
      "{'loss': 0.7061, 'grad_norm': 2.7910523414611816, 'learning_rate': 2.9942000966650556e-05, 'epoch': 3.62}\n",
      "{'loss': 0.6925, 'grad_norm': 2.660604476928711, 'learning_rate': 2.9700338327694538e-05, 'epoch': 3.65}\n",
      "{'loss': 0.7033, 'grad_norm': 2.2557456493377686, 'learning_rate': 2.9458675688738523e-05, 'epoch': 3.68}\n",
      "{'loss': 0.6871, 'grad_norm': 1.7864677906036377, 'learning_rate': 2.9217013049782505e-05, 'epoch': 3.71}\n",
      "{'loss': 0.7176, 'grad_norm': 2.6478002071380615, 'learning_rate': 2.8975350410826484e-05, 'epoch': 3.73}\n",
      "{'loss': 0.7197, 'grad_norm': 2.4609737396240234, 'learning_rate': 2.8733687771870473e-05, 'epoch': 3.76}\n",
      "{'loss': 0.6955, 'grad_norm': 1.6135650873184204, 'learning_rate': 2.849202513291445e-05, 'epoch': 3.79}\n",
      "{'loss': 0.6868, 'grad_norm': 2.3872973918914795, 'learning_rate': 2.8250362493958436e-05, 'epoch': 3.81}\n",
      "{'loss': 0.703, 'grad_norm': 2.1278274059295654, 'learning_rate': 2.8008699855002418e-05, 'epoch': 3.84}\n",
      "{'loss': 0.7045, 'grad_norm': 2.0096724033355713, 'learning_rate': 2.77670372160464e-05, 'epoch': 3.87}\n",
      "{'loss': 0.6955, 'grad_norm': 1.6786123514175415, 'learning_rate': 2.7525374577090386e-05, 'epoch': 3.9}\n",
      "{'loss': 0.7094, 'grad_norm': 4.221939563751221, 'learning_rate': 2.7283711938134364e-05, 'epoch': 3.92}\n",
      "{'loss': 0.7005, 'grad_norm': 3.3268930912017822, 'learning_rate': 2.7042049299178346e-05, 'epoch': 3.95}\n",
      "{'loss': 0.6952, 'grad_norm': 1.487180471420288, 'learning_rate': 2.680038666022233e-05, 'epoch': 3.98}\n"
     ]
    },
    {
     "data": {
      "application/vnd.jupyter.widget-view+json": {
       "model_id": "b5ed3561b4d743d3879e7d8e4211fbdb",
       "version_major": 2,
       "version_minor": 0
      },
      "text/plain": [
       "  0%|          | 0/79 [00:00<?, ?it/s]"
      ]
     },
     "metadata": {},
     "output_type": "display_data"
    },
    {
     "name": "stdout",
     "output_type": "stream",
     "text": [
      "{'eval_loss': 0.6952452659606934, 'eval_accuracy': 0.48171701112877585, 'eval_macro_f1': 0.3251072961373391, 'eval_weighted_f1': 0.3132194299828736, 'eval_runtime': 5.4034, 'eval_samples_per_second': 116.408, 'eval_steps_per_second': 14.62, 'epoch': 4.0}\n",
      "{'loss': 0.6923, 'grad_norm': 4.533119201660156, 'learning_rate': 2.6558724021266313e-05, 'epoch': 4.01}\n",
      "{'loss': 0.6813, 'grad_norm': 2.8473126888275146, 'learning_rate': 2.63170613823103e-05, 'epoch': 4.03}\n",
      "{'loss': 0.708, 'grad_norm': 5.444243907928467, 'learning_rate': 2.607539874335428e-05, 'epoch': 4.06}\n",
      "{'loss': 0.706, 'grad_norm': 3.0921249389648438, 'learning_rate': 2.583373610439826e-05, 'epoch': 4.09}\n",
      "{'loss': 0.7146, 'grad_norm': 3.864039182662964, 'learning_rate': 2.5592073465442244e-05, 'epoch': 4.11}\n",
      "{'loss': 0.6942, 'grad_norm': 4.623976230621338, 'learning_rate': 2.5350410826486226e-05, 'epoch': 4.14}\n",
      "{'loss': 0.6977, 'grad_norm': 1.2706986665725708, 'learning_rate': 2.5108748187530208e-05, 'epoch': 4.17}\n",
      "{'loss': 0.6978, 'grad_norm': 2.7540242671966553, 'learning_rate': 2.4867085548574193e-05, 'epoch': 4.2}\n",
      "{'loss': 0.6856, 'grad_norm': 1.6563969850540161, 'learning_rate': 2.4625422909618172e-05, 'epoch': 4.22}\n",
      "{'loss': 0.6975, 'grad_norm': 1.7183301448822021, 'learning_rate': 2.4383760270662157e-05, 'epoch': 4.25}\n",
      "{'loss': 0.6933, 'grad_norm': 2.5777950286865234, 'learning_rate': 2.414209763170614e-05, 'epoch': 4.28}\n",
      "{'loss': 0.6916, 'grad_norm': 3.0154523849487305, 'learning_rate': 2.3900434992750125e-05, 'epoch': 4.31}\n",
      "{'loss': 0.7046, 'grad_norm': 4.313772201538086, 'learning_rate': 2.3658772353794103e-05, 'epoch': 4.33}\n",
      "{'loss': 0.6913, 'grad_norm': 3.7170569896698, 'learning_rate': 2.341710971483809e-05, 'epoch': 4.36}\n",
      "{'loss': 0.6874, 'grad_norm': 5.880749702453613, 'learning_rate': 2.317544707588207e-05, 'epoch': 4.39}\n",
      "{'loss': 0.6921, 'grad_norm': 3.6838390827178955, 'learning_rate': 2.2933784436926052e-05, 'epoch': 4.41}\n",
      "{'loss': 0.6877, 'grad_norm': 7.820354461669922, 'learning_rate': 2.2692121797970034e-05, 'epoch': 4.44}\n",
      "{'loss': 0.6998, 'grad_norm': 1.0743883848190308, 'learning_rate': 2.2450459159014016e-05, 'epoch': 4.47}\n",
      "{'loss': 0.6897, 'grad_norm': 3.222492218017578, 'learning_rate': 2.2208796520058e-05, 'epoch': 4.5}\n",
      "{'loss': 0.69, 'grad_norm': 1.6310653686523438, 'learning_rate': 2.1967133881101983e-05, 'epoch': 4.52}\n",
      "{'loss': 0.6979, 'grad_norm': 4.765735149383545, 'learning_rate': 2.1725471242145965e-05, 'epoch': 4.55}\n",
      "{'loss': 0.6893, 'grad_norm': 2.437720775604248, 'learning_rate': 2.1483808603189947e-05, 'epoch': 4.58}\n",
      "{'loss': 0.7202, 'grad_norm': 4.6633195877075195, 'learning_rate': 2.1242145964233932e-05, 'epoch': 4.6}\n",
      "{'loss': 0.6993, 'grad_norm': 2.9783732891082764, 'learning_rate': 2.1000483325277914e-05, 'epoch': 4.63}\n",
      "{'loss': 0.7035, 'grad_norm': 2.707184076309204, 'learning_rate': 2.0758820686321896e-05, 'epoch': 4.66}\n",
      "{'loss': 0.7055, 'grad_norm': 3.0044283866882324, 'learning_rate': 2.0517158047365878e-05, 'epoch': 4.69}\n",
      "{'loss': 0.6969, 'grad_norm': 1.1044784784317017, 'learning_rate': 2.027549540840986e-05, 'epoch': 4.71}\n",
      "{'loss': 0.7162, 'grad_norm': 2.3788645267486572, 'learning_rate': 2.0033832769453845e-05, 'epoch': 4.74}\n",
      "{'loss': 0.7024, 'grad_norm': 1.7261226177215576, 'learning_rate': 1.9792170130497824e-05, 'epoch': 4.77}\n",
      "{'loss': 0.6982, 'grad_norm': 3.377718687057495, 'learning_rate': 1.955050749154181e-05, 'epoch': 4.8}\n",
      "{'loss': 0.7009, 'grad_norm': 2.7922112941741943, 'learning_rate': 1.930884485258579e-05, 'epoch': 4.82}\n",
      "{'loss': 0.682, 'grad_norm': 4.0846967697143555, 'learning_rate': 1.9067182213629777e-05, 'epoch': 4.85}\n",
      "{'loss': 0.7146, 'grad_norm': 1.743541955947876, 'learning_rate': 1.8825519574673755e-05, 'epoch': 4.88}\n",
      "{'loss': 0.6964, 'grad_norm': 3.0872998237609863, 'learning_rate': 1.858385693571774e-05, 'epoch': 4.9}\n",
      "{'loss': 0.6948, 'grad_norm': 3.187746286392212, 'learning_rate': 1.8342194296761722e-05, 'epoch': 4.93}\n",
      "{'loss': 0.7056, 'grad_norm': 3.414719820022583, 'learning_rate': 1.8100531657805704e-05, 'epoch': 4.96}\n",
      "{'loss': 0.7045, 'grad_norm': 5.338902950286865, 'learning_rate': 1.7858869018849686e-05, 'epoch': 4.99}\n"
     ]
    },
    {
     "data": {
      "application/vnd.jupyter.widget-view+json": {
       "model_id": "c2dac9defe10465189b4552450783ace",
       "version_major": 2,
       "version_minor": 0
      },
      "text/plain": [
       "  0%|          | 0/79 [00:00<?, ?it/s]"
      ]
     },
     "metadata": {},
     "output_type": "display_data"
    },
    {
     "name": "stdout",
     "output_type": "stream",
     "text": [
      "{'eval_loss': 0.6934307217597961, 'eval_accuracy': 0.48171701112877585, 'eval_macro_f1': 0.3251072961373391, 'eval_weighted_f1': 0.3132194299828736, 'eval_runtime': 5.3543, 'eval_samples_per_second': 117.476, 'eval_steps_per_second': 14.755, 'epoch': 5.0}\n",
      "{'loss': 0.6912, 'grad_norm': 3.0488932132720947, 'learning_rate': 1.7617206379893668e-05, 'epoch': 5.01}\n",
      "{'loss': 0.6971, 'grad_norm': 1.274524211883545, 'learning_rate': 1.7375543740937653e-05, 'epoch': 5.04}\n",
      "{'loss': 0.6991, 'grad_norm': 4.0959248542785645, 'learning_rate': 1.7133881101981632e-05, 'epoch': 5.07}\n",
      "{'loss': 0.7011, 'grad_norm': 4.698570251464844, 'learning_rate': 1.6892218463025617e-05, 'epoch': 5.1}\n",
      "{'loss': 0.6932, 'grad_norm': 4.494101047515869, 'learning_rate': 1.66505558240696e-05, 'epoch': 5.12}\n",
      "{'loss': 0.7002, 'grad_norm': 5.745265007019043, 'learning_rate': 1.6408893185113584e-05, 'epoch': 5.15}\n",
      "{'loss': 0.7042, 'grad_norm': 4.651430130004883, 'learning_rate': 1.6167230546157563e-05, 'epoch': 5.18}\n",
      "{'loss': 0.6885, 'grad_norm': 4.295803546905518, 'learning_rate': 1.5925567907201548e-05, 'epoch': 5.2}\n",
      "{'loss': 0.694, 'grad_norm': 3.990816831588745, 'learning_rate': 1.568390526824553e-05, 'epoch': 5.23}\n",
      "{'loss': 0.6929, 'grad_norm': 3.0387492179870605, 'learning_rate': 1.5442242629289512e-05, 'epoch': 5.26}\n",
      "{'loss': 0.6766, 'grad_norm': 1.4550665616989136, 'learning_rate': 1.5200579990333494e-05, 'epoch': 5.29}\n",
      "{'loss': 0.7109, 'grad_norm': 6.803438663482666, 'learning_rate': 1.4958917351377478e-05, 'epoch': 5.31}\n",
      "{'loss': 0.6909, 'grad_norm': 4.367752552032471, 'learning_rate': 1.4717254712421461e-05, 'epoch': 5.34}\n",
      "{'loss': 0.6813, 'grad_norm': 3.49741530418396, 'learning_rate': 1.4475592073465443e-05, 'epoch': 5.37}\n",
      "{'loss': 0.7193, 'grad_norm': 1.4045343399047852, 'learning_rate': 1.4233929434509423e-05, 'epoch': 5.4}\n",
      "{'loss': 0.7049, 'grad_norm': 2.8513283729553223, 'learning_rate': 1.3992266795553407e-05, 'epoch': 5.42}\n",
      "{'loss': 0.6805, 'grad_norm': 3.2000718116760254, 'learning_rate': 1.375060415659739e-05, 'epoch': 5.45}\n",
      "{'loss': 0.7094, 'grad_norm': 1.2442290782928467, 'learning_rate': 1.3508941517641374e-05, 'epoch': 5.48}\n",
      "{'loss': 0.6901, 'grad_norm': 1.403054118156433, 'learning_rate': 1.3267278878685355e-05, 'epoch': 5.5}\n",
      "{'loss': 0.692, 'grad_norm': 1.5404200553894043, 'learning_rate': 1.3025616239729338e-05, 'epoch': 5.53}\n",
      "{'loss': 0.7007, 'grad_norm': 9.233512878417969, 'learning_rate': 1.2783953600773322e-05, 'epoch': 5.56}\n",
      "{'loss': 0.6921, 'grad_norm': 2.494835376739502, 'learning_rate': 1.2542290961817305e-05, 'epoch': 5.59}\n",
      "{'loss': 0.6964, 'grad_norm': 1.05680251121521, 'learning_rate': 1.2300628322861287e-05, 'epoch': 5.61}\n",
      "{'loss': 0.6914, 'grad_norm': 6.7446722984313965, 'learning_rate': 1.205896568390527e-05, 'epoch': 5.64}\n",
      "{'loss': 0.682, 'grad_norm': 3.6985628604888916, 'learning_rate': 1.1817303044949251e-05, 'epoch': 5.67}\n",
      "{'loss': 0.6998, 'grad_norm': 4.887316703796387, 'learning_rate': 1.1575640405993233e-05, 'epoch': 5.69}\n",
      "{'loss': 0.7015, 'grad_norm': 4.111822605133057, 'learning_rate': 1.1333977767037217e-05, 'epoch': 5.72}\n",
      "{'loss': 0.699, 'grad_norm': 1.4705960750579834, 'learning_rate': 1.1092315128081199e-05, 'epoch': 5.75}\n",
      "{'loss': 0.6941, 'grad_norm': 4.0325493812561035, 'learning_rate': 1.0850652489125182e-05, 'epoch': 5.78}\n",
      "{'loss': 0.6992, 'grad_norm': 2.1641786098480225, 'learning_rate': 1.0608989850169164e-05, 'epoch': 5.8}\n",
      "{'loss': 0.7092, 'grad_norm': 1.3505511283874512, 'learning_rate': 1.0367327211213148e-05, 'epoch': 5.83}\n",
      "{'loss': 0.7016, 'grad_norm': 5.1962409019470215, 'learning_rate': 1.012566457225713e-05, 'epoch': 5.86}\n",
      "{'loss': 0.6919, 'grad_norm': 1.9695932865142822, 'learning_rate': 9.884001933301113e-06, 'epoch': 5.89}\n",
      "{'loss': 0.7012, 'grad_norm': 1.2144641876220703, 'learning_rate': 9.642339294345094e-06, 'epoch': 5.91}\n",
      "{'loss': 0.6857, 'grad_norm': 2.012840509414673, 'learning_rate': 9.400676655389077e-06, 'epoch': 5.94}\n",
      "{'loss': 0.7118, 'grad_norm': 2.7759745121002197, 'learning_rate': 9.159014016433059e-06, 'epoch': 5.97}\n",
      "{'loss': 0.7143, 'grad_norm': 3.4881608486175537, 'learning_rate': 8.917351377477043e-06, 'epoch': 5.99}\n"
     ]
    },
    {
     "data": {
      "application/vnd.jupyter.widget-view+json": {
       "model_id": "5fdec2603828495c8b71f826cd7ae1bb",
       "version_major": 2,
       "version_minor": 0
      },
      "text/plain": [
       "  0%|          | 0/79 [00:00<?, ?it/s]"
      ]
     },
     "metadata": {},
     "output_type": "display_data"
    },
    {
     "name": "stdout",
     "output_type": "stream",
     "text": [
      "{'eval_loss': 0.6959190964698792, 'eval_accuracy': 0.48171701112877585, 'eval_macro_f1': 0.3251072961373391, 'eval_weighted_f1': 0.3132194299828736, 'eval_runtime': 5.4147, 'eval_samples_per_second': 116.165, 'eval_steps_per_second': 14.59, 'epoch': 6.0}\n",
      "{'loss': 0.6774, 'grad_norm': 4.26944637298584, 'learning_rate': 8.675688738521025e-06, 'epoch': 6.02}\n",
      "{'loss': 0.7018, 'grad_norm': 4.119719982147217, 'learning_rate': 8.434026099565008e-06, 'epoch': 6.05}\n",
      "{'loss': 0.702, 'grad_norm': 5.241405487060547, 'learning_rate': 8.19236346060899e-06, 'epoch': 6.08}\n",
      "{'loss': 0.6996, 'grad_norm': 4.0984063148498535, 'learning_rate': 7.950700821652974e-06, 'epoch': 6.1}\n",
      "{'loss': 0.6926, 'grad_norm': 1.168696403503418, 'learning_rate': 7.709038182696956e-06, 'epoch': 6.13}\n",
      "{'loss': 0.695, 'grad_norm': 3.9944839477539062, 'learning_rate': 7.4673755437409384e-06, 'epoch': 6.16}\n",
      "{'loss': 0.6979, 'grad_norm': 1.585728645324707, 'learning_rate': 7.22571290478492e-06, 'epoch': 6.19}\n",
      "{'loss': 0.6953, 'grad_norm': 1.148179054260254, 'learning_rate': 6.984050265828904e-06, 'epoch': 6.21}\n",
      "{'loss': 0.7005, 'grad_norm': 2.4142656326293945, 'learning_rate': 6.742387626872886e-06, 'epoch': 6.24}\n",
      "{'loss': 0.6995, 'grad_norm': 1.9008249044418335, 'learning_rate': 6.500724987916869e-06, 'epoch': 6.27}\n",
      "{'loss': 0.6958, 'grad_norm': 8.552019119262695, 'learning_rate': 6.259062348960851e-06, 'epoch': 6.29}\n",
      "{'loss': 0.7041, 'grad_norm': 8.23932933807373, 'learning_rate': 6.017399710004833e-06, 'epoch': 6.32}\n",
      "{'loss': 0.6922, 'grad_norm': 2.977142810821533, 'learning_rate': 5.775737071048816e-06, 'epoch': 6.35}\n",
      "{'loss': 0.6909, 'grad_norm': 2.1348700523376465, 'learning_rate': 5.534074432092799e-06, 'epoch': 6.38}\n",
      "{'loss': 0.6946, 'grad_norm': 2.1246612071990967, 'learning_rate': 5.292411793136781e-06, 'epoch': 6.4}\n",
      "{'loss': 0.6981, 'grad_norm': 2.4288249015808105, 'learning_rate': 5.050749154180764e-06, 'epoch': 6.43}\n",
      "{'loss': 0.7035, 'grad_norm': 4.654022693634033, 'learning_rate': 4.809086515224746e-06, 'epoch': 6.46}\n",
      "{'loss': 0.6913, 'grad_norm': 2.4356849193573, 'learning_rate': 4.567423876268729e-06, 'epoch': 6.49}\n",
      "{'loss': 0.6968, 'grad_norm': 3.6538355350494385, 'learning_rate': 4.325761237312712e-06, 'epoch': 6.51}\n",
      "{'loss': 0.6912, 'grad_norm': 1.1269890069961548, 'learning_rate': 4.084098598356694e-06, 'epoch': 6.54}\n",
      "{'loss': 0.7039, 'grad_norm': 2.58160662651062, 'learning_rate': 3.842435959400677e-06, 'epoch': 6.57}\n",
      "{'loss': 0.6819, 'grad_norm': 4.533185958862305, 'learning_rate': 3.6007733204446594e-06, 'epoch': 6.59}\n",
      "{'loss': 0.7019, 'grad_norm': 3.841679096221924, 'learning_rate': 3.359110681488642e-06, 'epoch': 6.62}\n",
      "{'loss': 0.6985, 'grad_norm': 2.4445407390594482, 'learning_rate': 3.1174480425326245e-06, 'epoch': 6.65}\n",
      "{'loss': 0.6917, 'grad_norm': 2.462052822113037, 'learning_rate': 2.8757854035766072e-06, 'epoch': 6.68}\n",
      "{'loss': 0.6884, 'grad_norm': 2.9527368545532227, 'learning_rate': 2.6341227646205896e-06, 'epoch': 6.7}\n",
      "{'loss': 0.6857, 'grad_norm': 3.8120687007904053, 'learning_rate': 2.3924601256645724e-06, 'epoch': 6.73}\n",
      "{'loss': 0.6938, 'grad_norm': 1.5626585483551025, 'learning_rate': 2.150797486708555e-06, 'epoch': 6.76}\n",
      "{'loss': 0.6971, 'grad_norm': 1.9274238348007202, 'learning_rate': 1.9091348477525375e-06, 'epoch': 6.78}\n",
      "{'loss': 0.6817, 'grad_norm': 2.105361223220825, 'learning_rate': 1.66747220879652e-06, 'epoch': 6.81}\n",
      "{'loss': 0.6914, 'grad_norm': 1.0129895210266113, 'learning_rate': 1.4258095698405028e-06, 'epoch': 6.84}\n",
      "{'loss': 0.6974, 'grad_norm': 1.5486385822296143, 'learning_rate': 1.1841469308844854e-06, 'epoch': 6.87}\n",
      "{'loss': 0.6999, 'grad_norm': 1.231124758720398, 'learning_rate': 9.424842919284679e-07, 'epoch': 6.89}\n",
      "{'loss': 0.7079, 'grad_norm': 4.2961506843566895, 'learning_rate': 7.008216529724506e-07, 'epoch': 6.92}\n",
      "{'loss': 0.6924, 'grad_norm': 2.70238995552063, 'learning_rate': 4.5915901401643303e-07, 'epoch': 6.95}\n",
      "{'loss': 0.6988, 'grad_norm': 1.5817937850952148, 'learning_rate': 2.174963750604157e-07, 'epoch': 6.98}\n"
     ]
    },
    {
     "data": {
      "application/vnd.jupyter.widget-view+json": {
       "model_id": "cbea5a558a08435cb3d29b26b65d123e",
       "version_major": 2,
       "version_minor": 0
      },
      "text/plain": [
       "  0%|          | 0/79 [00:00<?, ?it/s]"
      ]
     },
     "metadata": {},
     "output_type": "display_data"
    },
    {
     "name": "stdout",
     "output_type": "stream",
     "text": [
      "{'eval_loss': 0.6943172216415405, 'eval_accuracy': 0.48171701112877585, 'eval_macro_f1': 0.3251072961373391, 'eval_weighted_f1': 0.3132194299828736, 'eval_runtime': 5.3966, 'eval_samples_per_second': 116.554, 'eval_steps_per_second': 14.639, 'epoch': 7.0}\n",
      "{'train_runtime': 1038.3216, 'train_samples_per_second': 19.773, 'train_steps_per_second': 2.474, 'train_loss': 0.6981403609573168, 'epoch': 7.0}\n"
     ]
    }
   ],
   "source": [
    "from transformers import TrainingArguments, Trainer\n",
    " # Define the compute_metrics function\n",
    "def compute_metrics(pred):\n",
    "    labels = pred.label_ids\n",
    "    preds = np.argmax(pred.predictions, axis=1)\n",
    "    accuracy = accuracy_score(labels, preds)\n",
    "    macro_f1 = f1_score(labels, preds, average='macro')\n",
    "    weighted_f1 = f1_score(labels, preds, average='weighted')\n",
    "    return {\n",
    "        'accuracy': accuracy,\n",
    "        'macro_f1': macro_f1,\n",
    "        'weighted_f1': weighted_f1\n",
    "    }\n",
    "\n",
    "class TrainMetricsLogger(TrainerCallback):\n",
    "    def on_log(self, args, state, control, logs=None, **kwargs):\n",
    "        if logs is not None:\n",
    "            print(f\"Epoch: {state.epoch}, Training Metrics: {logs}\")\n",
    "\n",
    "training_args = TrainingArguments(\n",
    "    output_dir='./results',\n",
    "    eval_strategy='epoch',     # Evaluate every epoch\n",
    "    num_train_epochs=7,              # Number of epochs\n",
    "    per_device_train_batch_size=8,   # Batch size for training\n",
    "    per_device_eval_batch_size=8,    # Batch size for evaluation\n",
    "    warmup_steps=500,                # Number of warmup steps\n",
    "    weight_decay=0.05,               # Strength of weight decay\n",
    "    logging_dir='./logs',            # Directory for logs\n",
    "    logging_steps=10,\n",
    "    load_best_model_at_end=True,\n",
    "    save_strategy='epoch',\n",
    ")\n",
    " \n",
    "trainer = Trainer(\n",
    "    model=model,\n",
    "    args=training_args,\n",
    "    train_dataset=train_dataset,\n",
    "    eval_dataset=test_dataset,\n",
    "    compute_metrics=compute_metrics,\n",
    ")\n",
    "train_result = trainer.train()"
   ]
  },
  {
   "cell_type": "code",
   "execution_count": 8,
   "metadata": {},
   "outputs": [],
   "source": [
    "from transformers import AutoTokenizer\n",
    " \n",
    "import torch\n",
    "import numpy as np\n",
    "from transformers import DistilBertTokenizerFast, DistilBertForSequenceClassification, Trainer, TrainingArguments, TrainerCallback\n",
    "from sklearn.model_selection import train_test_split\n",
    "from datasets import Dataset\n",
    "from sklearn.metrics import accuracy_score, f1_score\n",
    "import matplotlib.pyplot as plt\n",
    "import os\n",
    "from transformers import BertTokenizer, BertForSequenceClassification\n",
    "\n",
    "# Split the data into train and test sets\n",
    "#train_texts, test_texts, train_labels, test_labels = train_test_split(AWM['Text'], AWM['label'], test_size=0.2)\n",
    " \n",
    "\n",
    "train_texts, train_labels,test_texts, test_labels = AWM['Text'], AWM['label'],AWM_val['Text'], AWM_val['label']\n",
    "# Load tokenizer\n",
    "model_name = \"l3cube-pune/malayalam-bert\"\n",
    "tokenizer = BertTokenizer.from_pretrained(model_name)\n",
    " \n",
    "# Tokenize dataset\n",
    "def preprocess_function(examples):\n",
    "    return tokenizer(examples.to_list(), truncation=True, padding=\"max_length\", max_length=128)\n",
    " \n",
    "train_encodings = preprocess_function(train_texts)\n",
    "test_encodings = preprocess_function(test_texts)"
   ]
  },
  {
   "cell_type": "code",
   "execution_count": 9,
   "metadata": {},
   "outputs": [],
   "source": [
    "# Convert to Hugging Face Dataset format, and include 'labels' in the Dataset\n",
    "train_dataset = Dataset.from_dict({\n",
    "    'input_ids': train_encodings['input_ids'],\n",
    "    'attention_mask': train_encodings['attention_mask'],\n",
    "    'labels': train_labels  # Ensure labels are included\n",
    "})\n",
    "\n",
    "test_dataset = Dataset.from_dict({\n",
    "    'input_ids': test_encodings['input_ids'],\n",
    "    'attention_mask': test_encodings['attention_mask'],\n",
    "    'labels': test_labels  # Ensure labels are included\n",
    "})\n"
   ]
  },
  {
   "cell_type": "code",
   "execution_count": 10,
   "metadata": {},
   "outputs": [
    {
     "name": "stderr",
     "output_type": "stream",
     "text": [
      "Some weights of BertForSequenceClassification were not initialized from the model checkpoint at l3cube-pune/malayalam-bert and are newly initialized: ['bert.pooler.dense.bias', 'bert.pooler.dense.weight', 'classifier.bias', 'classifier.weight']\n",
      "You should probably TRAIN this model on a down-stream task to be able to use it for predictions and inference.\n"
     ]
    }
   ],
   "source": [
    " \n",
    "model = BertForSequenceClassification.from_pretrained(model_name, num_labels=2)"
   ]
  },
  {
   "cell_type": "code",
   "execution_count": 11,
   "metadata": {},
   "outputs": [
    {
     "data": {
      "application/vnd.jupyter.widget-view+json": {
       "model_id": "08d547bdeeb24c168e0b62b072c8eb9d",
       "version_major": 2,
       "version_minor": 0
      },
      "text/plain": [
       "  0%|          | 0/3670 [00:00<?, ?it/s]"
      ]
     },
     "metadata": {},
     "output_type": "display_data"
    },
    {
     "name": "stdout",
     "output_type": "stream",
     "text": [
      "{'loss': 0.6938, 'grad_norm': 0.07485142350196838, 'learning_rate': 1.0000000000000002e-06, 'epoch': 0.03}\n",
      "{'loss': 0.6933, 'grad_norm': 0.2428361475467682, 'learning_rate': 2.0000000000000003e-06, 'epoch': 0.05}\n",
      "{'loss': 0.6936, 'grad_norm': 0.46446219086647034, 'learning_rate': 3e-06, 'epoch': 0.08}\n",
      "{'loss': 0.6926, 'grad_norm': 0.46028611063957214, 'learning_rate': 4.000000000000001e-06, 'epoch': 0.11}\n",
      "{'loss': 0.6926, 'grad_norm': 0.45814818143844604, 'learning_rate': 5e-06, 'epoch': 0.14}\n",
      "{'loss': 0.6933, 'grad_norm': 0.4715226888656616, 'learning_rate': 6e-06, 'epoch': 0.16}\n",
      "{'loss': 0.6927, 'grad_norm': 0.24060001969337463, 'learning_rate': 7.000000000000001e-06, 'epoch': 0.19}\n",
      "{'loss': 0.693, 'grad_norm': 0.24683527648448944, 'learning_rate': 8.000000000000001e-06, 'epoch': 0.22}\n",
      "{'loss': 0.6927, 'grad_norm': 0.08412078022956848, 'learning_rate': 9e-06, 'epoch': 0.25}\n",
      "{'loss': 0.6924, 'grad_norm': 0.4609825909137726, 'learning_rate': 1e-05, 'epoch': 0.27}\n",
      "{'loss': 0.6904, 'grad_norm': 0.4580337107181549, 'learning_rate': 1.1000000000000001e-05, 'epoch': 0.3}\n",
      "{'loss': 0.6913, 'grad_norm': 0.24991336464881897, 'learning_rate': 1.2e-05, 'epoch': 0.33}\n",
      "{'loss': 0.6824, 'grad_norm': 0.5509591698646545, 'learning_rate': 1.3000000000000001e-05, 'epoch': 0.35}\n",
      "{'loss': 0.6901, 'grad_norm': 0.6087062954902649, 'learning_rate': 1.4000000000000001e-05, 'epoch': 0.38}\n",
      "{'loss': 0.6847, 'grad_norm': 1.038434386253357, 'learning_rate': 1.5e-05, 'epoch': 0.41}\n",
      "{'loss': 0.682, 'grad_norm': 0.5776454210281372, 'learning_rate': 1.6000000000000003e-05, 'epoch': 0.44}\n",
      "{'loss': 0.6894, 'grad_norm': 0.6552966237068176, 'learning_rate': 1.7000000000000003e-05, 'epoch': 0.46}\n",
      "{'loss': 0.6871, 'grad_norm': 0.6830428838729858, 'learning_rate': 1.8e-05, 'epoch': 0.49}\n",
      "{'loss': 0.683, 'grad_norm': 0.6967211961746216, 'learning_rate': 1.9e-05, 'epoch': 0.52}\n",
      "{'loss': 0.6614, 'grad_norm': 1.368395447731018, 'learning_rate': 2e-05, 'epoch': 0.54}\n",
      "{'loss': 0.6709, 'grad_norm': 1.1417491436004639, 'learning_rate': 2.1e-05, 'epoch': 0.57}\n",
      "{'loss': 0.6567, 'grad_norm': 1.359660029411316, 'learning_rate': 2.2000000000000003e-05, 'epoch': 0.6}\n",
      "{'loss': 0.6736, 'grad_norm': 2.403501510620117, 'learning_rate': 2.3000000000000003e-05, 'epoch': 0.63}\n",
      "{'loss': 0.6732, 'grad_norm': 2.9174234867095947, 'learning_rate': 2.4e-05, 'epoch': 0.65}\n",
      "{'loss': 0.6703, 'grad_norm': 2.87712025642395, 'learning_rate': 2.5e-05, 'epoch': 0.68}\n",
      "{'loss': 0.6503, 'grad_norm': 2.0386955738067627, 'learning_rate': 2.6000000000000002e-05, 'epoch': 0.71}\n",
      "{'loss': 0.6418, 'grad_norm': 1.1189643144607544, 'learning_rate': 2.7000000000000002e-05, 'epoch': 0.74}\n",
      "{'loss': 0.6259, 'grad_norm': 1.2183243036270142, 'learning_rate': 2.8000000000000003e-05, 'epoch': 0.76}\n",
      "{'loss': 0.7011, 'grad_norm': 3.4664294719696045, 'learning_rate': 2.9e-05, 'epoch': 0.79}\n",
      "{'loss': 0.6159, 'grad_norm': 3.8008806705474854, 'learning_rate': 3e-05, 'epoch': 0.82}\n",
      "{'loss': 0.6345, 'grad_norm': 3.7745094299316406, 'learning_rate': 3.1e-05, 'epoch': 0.84}\n",
      "{'loss': 0.6275, 'grad_norm': 2.157297134399414, 'learning_rate': 3.2000000000000005e-05, 'epoch': 0.87}\n",
      "{'loss': 0.6313, 'grad_norm': 0.7187027335166931, 'learning_rate': 3.3e-05, 'epoch': 0.9}\n",
      "{'loss': 0.5916, 'grad_norm': 3.1218676567077637, 'learning_rate': 3.4000000000000007e-05, 'epoch': 0.93}\n",
      "{'loss': 0.6015, 'grad_norm': 5.083074569702148, 'learning_rate': 3.5e-05, 'epoch': 0.95}\n",
      "{'loss': 0.5865, 'grad_norm': 4.674379348754883, 'learning_rate': 3.6e-05, 'epoch': 0.98}\n"
     ]
    },
    {
     "data": {
      "application/vnd.jupyter.widget-view+json": {
       "model_id": "2d652a0c61b948ccaba2d4bcde1fad55",
       "version_major": 2,
       "version_minor": 0
      },
      "text/plain": [
       "  0%|          | 0/79 [00:00<?, ?it/s]"
      ]
     },
     "metadata": {},
     "output_type": "display_data"
    },
    {
     "name": "stdout",
     "output_type": "stream",
     "text": [
      "{'eval_loss': 0.5802101492881775, 'eval_accuracy': 0.7297297297297297, 'eval_macro_f1': 0.7296470469255664, 'eval_weighted_f1': 0.7294741646986792, 'eval_runtime': 5.305, 'eval_samples_per_second': 118.568, 'eval_steps_per_second': 14.892, 'epoch': 1.0}\n",
      "{'loss': 0.5475, 'grad_norm': 0.9835011959075928, 'learning_rate': 3.7e-05, 'epoch': 1.01}\n",
      "{'loss': 0.5319, 'grad_norm': 11.820481300354004, 'learning_rate': 3.8e-05, 'epoch': 1.04}\n",
      "{'loss': 0.5928, 'grad_norm': 1.3014060258865356, 'learning_rate': 3.9000000000000006e-05, 'epoch': 1.06}\n",
      "{'loss': 0.6055, 'grad_norm': 16.292938232421875, 'learning_rate': 4e-05, 'epoch': 1.09}\n",
      "{'loss': 0.5377, 'grad_norm': 11.673066139221191, 'learning_rate': 4.1e-05, 'epoch': 1.12}\n",
      "{'loss': 0.608, 'grad_norm': 17.104536056518555, 'learning_rate': 4.2e-05, 'epoch': 1.14}\n",
      "{'loss': 0.4897, 'grad_norm': 1.3011670112609863, 'learning_rate': 4.3e-05, 'epoch': 1.17}\n",
      "{'loss': 0.5639, 'grad_norm': 1.5209540128707886, 'learning_rate': 4.4000000000000006e-05, 'epoch': 1.2}\n",
      "{'loss': 0.5963, 'grad_norm': 5.2257280349731445, 'learning_rate': 4.5e-05, 'epoch': 1.23}\n",
      "{'loss': 0.4926, 'grad_norm': 5.271824359893799, 'learning_rate': 4.600000000000001e-05, 'epoch': 1.25}\n",
      "{'loss': 0.6189, 'grad_norm': 15.734864234924316, 'learning_rate': 4.7e-05, 'epoch': 1.28}\n",
      "{'loss': 0.6733, 'grad_norm': 5.920312881469727, 'learning_rate': 4.8e-05, 'epoch': 1.31}\n",
      "{'loss': 0.6365, 'grad_norm': 8.687039375305176, 'learning_rate': 4.9e-05, 'epoch': 1.34}\n",
      "{'loss': 0.6847, 'grad_norm': 2.2000210285186768, 'learning_rate': 5e-05, 'epoch': 1.36}\n",
      "{'loss': 0.5809, 'grad_norm': 2.455639600753784, 'learning_rate': 4.98422712933754e-05, 'epoch': 1.39}\n",
      "{'loss': 0.5523, 'grad_norm': 1.1032925844192505, 'learning_rate': 4.968454258675079e-05, 'epoch': 1.42}\n",
      "{'loss': 0.608, 'grad_norm': 4.956822872161865, 'learning_rate': 4.952681388012618e-05, 'epoch': 1.44}\n",
      "{'loss': 0.559, 'grad_norm': 5.75360107421875, 'learning_rate': 4.936908517350158e-05, 'epoch': 1.47}\n",
      "{'loss': 0.5737, 'grad_norm': 13.701231956481934, 'learning_rate': 4.921135646687697e-05, 'epoch': 1.5}\n",
      "{'loss': 0.6884, 'grad_norm': 2.0911011695861816, 'learning_rate': 4.905362776025237e-05, 'epoch': 1.53}\n",
      "{'loss': 0.5277, 'grad_norm': 4.828695297241211, 'learning_rate': 4.889589905362776e-05, 'epoch': 1.55}\n",
      "{'loss': 0.6271, 'grad_norm': 3.184786558151245, 'learning_rate': 4.873817034700316e-05, 'epoch': 1.58}\n",
      "{'loss': 0.5075, 'grad_norm': 15.00644588470459, 'learning_rate': 4.858044164037855e-05, 'epoch': 1.61}\n",
      "{'loss': 0.5474, 'grad_norm': 29.292417526245117, 'learning_rate': 4.842271293375394e-05, 'epoch': 1.63}\n",
      "{'loss': 0.6393, 'grad_norm': 10.435827255249023, 'learning_rate': 4.826498422712934e-05, 'epoch': 1.66}\n",
      "{'loss': 0.5836, 'grad_norm': 3.2187283039093018, 'learning_rate': 4.810725552050474e-05, 'epoch': 1.69}\n",
      "{'loss': 0.5442, 'grad_norm': 1.0877734422683716, 'learning_rate': 4.794952681388013e-05, 'epoch': 1.72}\n",
      "{'loss': 0.5877, 'grad_norm': 6.257583141326904, 'learning_rate': 4.7791798107255527e-05, 'epoch': 1.74}\n",
      "{'loss': 0.6036, 'grad_norm': 13.093274116516113, 'learning_rate': 4.763406940063092e-05, 'epoch': 1.77}\n",
      "{'loss': 0.6038, 'grad_norm': 18.709688186645508, 'learning_rate': 4.747634069400631e-05, 'epoch': 1.8}\n",
      "{'loss': 0.5277, 'grad_norm': 8.399868965148926, 'learning_rate': 4.731861198738171e-05, 'epoch': 1.83}\n",
      "{'loss': 0.5055, 'grad_norm': 7.874057769775391, 'learning_rate': 4.71608832807571e-05, 'epoch': 1.85}\n",
      "{'loss': 0.6095, 'grad_norm': 3.4318861961364746, 'learning_rate': 4.7003154574132496e-05, 'epoch': 1.88}\n",
      "{'loss': 0.6637, 'grad_norm': 3.6138434410095215, 'learning_rate': 4.684542586750789e-05, 'epoch': 1.91}\n",
      "{'loss': 0.5779, 'grad_norm': 6.786665439605713, 'learning_rate': 4.668769716088328e-05, 'epoch': 1.93}\n",
      "{'loss': 0.5733, 'grad_norm': 1.5176798105239868, 'learning_rate': 4.6529968454258676e-05, 'epoch': 1.96}\n",
      "{'loss': 0.6427, 'grad_norm': 3.560089349746704, 'learning_rate': 4.6372239747634074e-05, 'epoch': 1.99}\n"
     ]
    },
    {
     "data": {
      "application/vnd.jupyter.widget-view+json": {
       "model_id": "c5a4b6eface24256ac9a6c2e3f50d243",
       "version_major": 2,
       "version_minor": 0
      },
      "text/plain": [
       "  0%|          | 0/79 [00:00<?, ?it/s]"
      ]
     },
     "metadata": {},
     "output_type": "display_data"
    },
    {
     "name": "stdout",
     "output_type": "stream",
     "text": [
      "{'eval_loss': 0.6022233366966248, 'eval_accuracy': 0.7313195548489666, 'eval_macro_f1': 0.7277523517314326, 'eval_weighted_f1': 0.7266128285133315, 'eval_runtime': 5.3199, 'eval_samples_per_second': 118.236, 'eval_steps_per_second': 14.85, 'epoch': 2.0}\n",
      "{'loss': 0.5388, 'grad_norm': 7.655932903289795, 'learning_rate': 4.6214511041009466e-05, 'epoch': 2.02}\n",
      "{'loss': 0.4138, 'grad_norm': 1.7029006481170654, 'learning_rate': 4.6056782334384864e-05, 'epoch': 2.04}\n",
      "{'loss': 0.483, 'grad_norm': 6.050535202026367, 'learning_rate': 4.5899053627760255e-05, 'epoch': 2.07}\n",
      "{'loss': 0.4745, 'grad_norm': 25.662508010864258, 'learning_rate': 4.5741324921135646e-05, 'epoch': 2.1}\n",
      "{'loss': 0.531, 'grad_norm': 5.138121604919434, 'learning_rate': 4.5583596214511044e-05, 'epoch': 2.13}\n",
      "{'loss': 0.647, 'grad_norm': 1.053073763847351, 'learning_rate': 4.5425867507886435e-05, 'epoch': 2.15}\n",
      "{'loss': 0.6355, 'grad_norm': 4.711266994476318, 'learning_rate': 4.526813880126183e-05, 'epoch': 2.18}\n",
      "{'loss': 0.5562, 'grad_norm': 0.8361782431602478, 'learning_rate': 4.511041009463723e-05, 'epoch': 2.21}\n",
      "{'loss': 0.5676, 'grad_norm': 11.99203872680664, 'learning_rate': 4.4952681388012615e-05, 'epoch': 2.23}\n",
      "{'loss': 0.545, 'grad_norm': 13.81407642364502, 'learning_rate': 4.4794952681388013e-05, 'epoch': 2.26}\n",
      "{'loss': 0.5222, 'grad_norm': 17.70089340209961, 'learning_rate': 4.463722397476341e-05, 'epoch': 2.29}\n",
      "{'loss': 0.4305, 'grad_norm': 7.853304386138916, 'learning_rate': 4.44794952681388e-05, 'epoch': 2.32}\n",
      "{'loss': 0.5257, 'grad_norm': 2.2995054721832275, 'learning_rate': 4.43217665615142e-05, 'epoch': 2.34}\n",
      "{'loss': 0.5126, 'grad_norm': 5.27536678314209, 'learning_rate': 4.416403785488959e-05, 'epoch': 2.37}\n",
      "{'loss': 0.5178, 'grad_norm': 39.2481803894043, 'learning_rate': 4.400630914826498e-05, 'epoch': 2.4}\n",
      "{'loss': 0.6212, 'grad_norm': 13.926227569580078, 'learning_rate': 4.384858044164038e-05, 'epoch': 2.43}\n",
      "{'loss': 0.5999, 'grad_norm': 5.46337890625, 'learning_rate': 4.369085173501577e-05, 'epoch': 2.45}\n",
      "{'loss': 0.4587, 'grad_norm': 4.487376689910889, 'learning_rate': 4.353312302839117e-05, 'epoch': 2.48}\n",
      "{'loss': 0.3912, 'grad_norm': 46.98996353149414, 'learning_rate': 4.337539432176657e-05, 'epoch': 2.51}\n",
      "{'loss': 0.4252, 'grad_norm': 0.6870121359825134, 'learning_rate': 4.321766561514195e-05, 'epoch': 2.53}\n",
      "{'loss': 0.5058, 'grad_norm': 0.40851029753685, 'learning_rate': 4.305993690851735e-05, 'epoch': 2.56}\n",
      "{'loss': 0.5181, 'grad_norm': 4.858425617218018, 'learning_rate': 4.290220820189275e-05, 'epoch': 2.59}\n",
      "{'loss': 0.5939, 'grad_norm': 42.33769989013672, 'learning_rate': 4.274447949526814e-05, 'epoch': 2.62}\n",
      "{'loss': 0.3997, 'grad_norm': 9.667705535888672, 'learning_rate': 4.258675078864354e-05, 'epoch': 2.64}\n",
      "{'loss': 0.3663, 'grad_norm': 2.915194511413574, 'learning_rate': 4.2429022082018936e-05, 'epoch': 2.67}\n",
      "{'loss': 0.453, 'grad_norm': 80.46104431152344, 'learning_rate': 4.227129337539432e-05, 'epoch': 2.7}\n",
      "{'loss': 0.4172, 'grad_norm': 1.5478724241256714, 'learning_rate': 4.211356466876972e-05, 'epoch': 2.72}\n",
      "{'loss': 0.3759, 'grad_norm': 13.532536506652832, 'learning_rate': 4.195583596214511e-05, 'epoch': 2.75}\n",
      "{'loss': 0.5305, 'grad_norm': 14.113700866699219, 'learning_rate': 4.179810725552051e-05, 'epoch': 2.78}\n",
      "{'loss': 0.7014, 'grad_norm': 3.27862548828125, 'learning_rate': 4.1640378548895905e-05, 'epoch': 2.81}\n",
      "{'loss': 0.4689, 'grad_norm': 2.3934481143951416, 'learning_rate': 4.148264984227129e-05, 'epoch': 2.83}\n",
      "{'loss': 0.409, 'grad_norm': 0.7902320027351379, 'learning_rate': 4.132492113564669e-05, 'epoch': 2.86}\n",
      "{'loss': 0.4986, 'grad_norm': 0.9207579493522644, 'learning_rate': 4.1167192429022085e-05, 'epoch': 2.89}\n",
      "{'loss': 0.3712, 'grad_norm': 100.1677474975586, 'learning_rate': 4.1009463722397477e-05, 'epoch': 2.92}\n",
      "{'loss': 0.5535, 'grad_norm': 27.54958724975586, 'learning_rate': 4.0851735015772875e-05, 'epoch': 2.94}\n",
      "{'loss': 0.4718, 'grad_norm': 28.68964958190918, 'learning_rate': 4.069400630914827e-05, 'epoch': 2.97}\n",
      "{'loss': 0.434, 'grad_norm': 2.7450199127197266, 'learning_rate': 4.053627760252366e-05, 'epoch': 3.0}\n"
     ]
    },
    {
     "data": {
      "application/vnd.jupyter.widget-view+json": {
       "model_id": "48e23515a4b8452dbe17a837886560bf",
       "version_major": 2,
       "version_minor": 0
      },
      "text/plain": [
       "  0%|          | 0/79 [00:00<?, ?it/s]"
      ]
     },
     "metadata": {},
     "output_type": "display_data"
    },
    {
     "name": "stdout",
     "output_type": "stream",
     "text": [
      "{'eval_loss': 0.58620285987854, 'eval_accuracy': 0.7488076311605724, 'eval_macro_f1': 0.748756193750632, 'eval_weighted_f1': 0.7486247425918956, 'eval_runtime': 5.3054, 'eval_samples_per_second': 118.557, 'eval_steps_per_second': 14.89, 'epoch': 3.0}\n",
      "{'loss': 0.3683, 'grad_norm': 17.639385223388672, 'learning_rate': 4.0378548895899055e-05, 'epoch': 3.02}\n",
      "{'loss': 0.3595, 'grad_norm': 5.372223377227783, 'learning_rate': 4.022082018927445e-05, 'epoch': 3.05}\n",
      "{'loss': 0.4314, 'grad_norm': 43.130001068115234, 'learning_rate': 4.0063091482649844e-05, 'epoch': 3.08}\n",
      "{'loss': 0.3455, 'grad_norm': 2.6811466217041016, 'learning_rate': 3.990536277602524e-05, 'epoch': 3.11}\n",
      "{'loss': 0.3831, 'grad_norm': 10.276692390441895, 'learning_rate': 3.974763406940063e-05, 'epoch': 3.13}\n",
      "{'loss': 0.4165, 'grad_norm': 0.8663643598556519, 'learning_rate': 3.9589905362776024e-05, 'epoch': 3.16}\n",
      "{'loss': 0.4253, 'grad_norm': 6.636723518371582, 'learning_rate': 3.943217665615142e-05, 'epoch': 3.19}\n",
      "{'loss': 0.3873, 'grad_norm': 7.1368584632873535, 'learning_rate': 3.9274447949526814e-05, 'epoch': 3.22}\n",
      "{'loss': 0.2854, 'grad_norm': 21.348608016967773, 'learning_rate': 3.911671924290221e-05, 'epoch': 3.24}\n",
      "{'loss': 0.5012, 'grad_norm': 13.645233154296875, 'learning_rate': 3.895899053627761e-05, 'epoch': 3.27}\n",
      "{'loss': 0.4082, 'grad_norm': 0.491248220205307, 'learning_rate': 3.8801261829652994e-05, 'epoch': 3.3}\n",
      "{'loss': 0.4189, 'grad_norm': 11.04208755493164, 'learning_rate': 3.864353312302839e-05, 'epoch': 3.32}\n",
      "{'loss': 0.4642, 'grad_norm': 0.39731070399284363, 'learning_rate': 3.848580441640379e-05, 'epoch': 3.35}\n",
      "{'loss': 0.3736, 'grad_norm': 6.703861713409424, 'learning_rate': 3.832807570977918e-05, 'epoch': 3.38}\n",
      "{'loss': 0.4355, 'grad_norm': 2.270012140274048, 'learning_rate': 3.817034700315458e-05, 'epoch': 3.41}\n",
      "{'loss': 0.5853, 'grad_norm': 8.497756958007812, 'learning_rate': 3.801261829652997e-05, 'epoch': 3.43}\n",
      "{'loss': 0.449, 'grad_norm': 1.8421591520309448, 'learning_rate': 3.785488958990536e-05, 'epoch': 3.46}\n",
      "{'loss': 0.3543, 'grad_norm': 1.181898832321167, 'learning_rate': 3.769716088328076e-05, 'epoch': 3.49}\n",
      "{'loss': 0.4828, 'grad_norm': 3.1351945400238037, 'learning_rate': 3.753943217665615e-05, 'epoch': 3.51}\n",
      "{'loss': 0.3903, 'grad_norm': 1.4716556072235107, 'learning_rate': 3.738170347003155e-05, 'epoch': 3.54}\n",
      "{'loss': 0.3472, 'grad_norm': 8.667752265930176, 'learning_rate': 3.7223974763406947e-05, 'epoch': 3.57}\n",
      "{'loss': 0.2796, 'grad_norm': 0.6084568500518799, 'learning_rate': 3.706624605678234e-05, 'epoch': 3.6}\n",
      "{'loss': 0.6138, 'grad_norm': 0.5079913139343262, 'learning_rate': 3.690851735015773e-05, 'epoch': 3.62}\n",
      "{'loss': 0.5519, 'grad_norm': 1.0002731084823608, 'learning_rate': 3.675078864353313e-05, 'epoch': 3.65}\n",
      "{'loss': 0.3644, 'grad_norm': 86.86325073242188, 'learning_rate': 3.659305993690852e-05, 'epoch': 3.68}\n",
      "{'loss': 0.2494, 'grad_norm': 2.0504884719848633, 'learning_rate': 3.6435331230283916e-05, 'epoch': 3.71}\n",
      "{'loss': 0.4195, 'grad_norm': 7.895722389221191, 'learning_rate': 3.627760252365931e-05, 'epoch': 3.73}\n",
      "{'loss': 0.3681, 'grad_norm': 48.47715759277344, 'learning_rate': 3.61198738170347e-05, 'epoch': 3.76}\n",
      "{'loss': 0.4339, 'grad_norm': 2.760348081588745, 'learning_rate': 3.5962145110410096e-05, 'epoch': 3.79}\n",
      "{'loss': 0.5202, 'grad_norm': 13.111486434936523, 'learning_rate': 3.580441640378549e-05, 'epoch': 3.81}\n",
      "{'loss': 0.4394, 'grad_norm': 6.739295482635498, 'learning_rate': 3.5646687697160886e-05, 'epoch': 3.84}\n",
      "{'loss': 0.4588, 'grad_norm': 1.3071823120117188, 'learning_rate': 3.5488958990536284e-05, 'epoch': 3.87}\n",
      "{'loss': 0.4283, 'grad_norm': 0.7256616950035095, 'learning_rate': 3.5331230283911675e-05, 'epoch': 3.9}\n",
      "{'loss': 0.3945, 'grad_norm': 141.31712341308594, 'learning_rate': 3.5173501577287066e-05, 'epoch': 3.92}\n",
      "{'loss': 0.3933, 'grad_norm': 3.0895674228668213, 'learning_rate': 3.5015772870662464e-05, 'epoch': 3.95}\n",
      "{'loss': 0.391, 'grad_norm': 1.853263258934021, 'learning_rate': 3.4858044164037855e-05, 'epoch': 3.98}\n"
     ]
    },
    {
     "data": {
      "application/vnd.jupyter.widget-view+json": {
       "model_id": "29afecce5a634eeca80dd47c909520f9",
       "version_major": 2,
       "version_minor": 0
      },
      "text/plain": [
       "  0%|          | 0/79 [00:00<?, ?it/s]"
      ]
     },
     "metadata": {},
     "output_type": "display_data"
    },
    {
     "name": "stdout",
     "output_type": "stream",
     "text": [
      "{'eval_loss': 0.6039276719093323, 'eval_accuracy': 0.766295707472178, 'eval_macro_f1': 0.7656892632603258, 'eval_weighted_f1': 0.7661251450375947, 'eval_runtime': 5.349, 'eval_samples_per_second': 117.591, 'eval_steps_per_second': 14.769, 'epoch': 4.0}\n",
      "{'loss': 0.4341, 'grad_norm': 0.57317715883255, 'learning_rate': 3.470031545741325e-05, 'epoch': 4.01}\n",
      "{'loss': 0.266, 'grad_norm': 0.7848483920097351, 'learning_rate': 3.4542586750788644e-05, 'epoch': 4.03}\n",
      "{'loss': 0.2961, 'grad_norm': 0.7408035397529602, 'learning_rate': 3.438485804416404e-05, 'epoch': 4.06}\n",
      "{'loss': 0.2521, 'grad_norm': 1.8639110326766968, 'learning_rate': 3.4227129337539433e-05, 'epoch': 4.09}\n",
      "{'loss': 0.1612, 'grad_norm': 0.5623547434806824, 'learning_rate': 3.4069400630914825e-05, 'epoch': 4.11}\n",
      "{'loss': 0.3833, 'grad_norm': 2.9563848972320557, 'learning_rate': 3.391167192429022e-05, 'epoch': 4.14}\n",
      "{'loss': 0.5174, 'grad_norm': 0.7460269331932068, 'learning_rate': 3.375394321766562e-05, 'epoch': 4.17}\n",
      "{'loss': 0.2987, 'grad_norm': 50.56450271606445, 'learning_rate': 3.359621451104101e-05, 'epoch': 4.2}\n",
      "{'loss': 0.3393, 'grad_norm': 0.9255250692367554, 'learning_rate': 3.34384858044164e-05, 'epoch': 4.22}\n",
      "{'loss': 0.3333, 'grad_norm': 0.40971839427948, 'learning_rate': 3.32807570977918e-05, 'epoch': 4.25}\n",
      "{'loss': 0.2258, 'grad_norm': 2.2241978645324707, 'learning_rate': 3.312302839116719e-05, 'epoch': 4.28}\n",
      "{'loss': 0.2729, 'grad_norm': 0.36646848917007446, 'learning_rate': 3.296529968454259e-05, 'epoch': 4.31}\n",
      "{'loss': 0.3345, 'grad_norm': 137.5470428466797, 'learning_rate': 3.280757097791798e-05, 'epoch': 4.33}\n",
      "{'loss': 0.3734, 'grad_norm': 0.3696924149990082, 'learning_rate': 3.264984227129338e-05, 'epoch': 4.36}\n",
      "{'loss': 0.3512, 'grad_norm': 0.4696142077445984, 'learning_rate': 3.249211356466877e-05, 'epoch': 4.39}\n",
      "{'loss': 0.3275, 'grad_norm': 3.0230002403259277, 'learning_rate': 3.233438485804416e-05, 'epoch': 4.41}\n",
      "{'loss': 0.4113, 'grad_norm': 59.9514045715332, 'learning_rate': 3.217665615141956e-05, 'epoch': 4.44}\n",
      "{'loss': 0.264, 'grad_norm': 2.2118947505950928, 'learning_rate': 3.201892744479496e-05, 'epoch': 4.47}\n",
      "{'loss': 0.3355, 'grad_norm': 0.6295592188835144, 'learning_rate': 3.186119873817035e-05, 'epoch': 4.5}\n",
      "{'loss': 0.4391, 'grad_norm': 0.5415889024734497, 'learning_rate': 3.170347003154575e-05, 'epoch': 4.52}\n",
      "{'loss': 0.3142, 'grad_norm': 3.3285226821899414, 'learning_rate': 3.154574132492114e-05, 'epoch': 4.55}\n",
      "{'loss': 0.2946, 'grad_norm': 19.846908569335938, 'learning_rate': 3.138801261829653e-05, 'epoch': 4.58}\n",
      "{'loss': 0.3371, 'grad_norm': 16.910179138183594, 'learning_rate': 3.123028391167193e-05, 'epoch': 4.6}\n",
      "{'loss': 0.2571, 'grad_norm': 0.4416600465774536, 'learning_rate': 3.107255520504732e-05, 'epoch': 4.63}\n",
      "{'loss': 0.2507, 'grad_norm': 1.2387359142303467, 'learning_rate': 3.0914826498422716e-05, 'epoch': 4.66}\n",
      "{'loss': 0.4827, 'grad_norm': 0.7904449105262756, 'learning_rate': 3.075709779179811e-05, 'epoch': 4.69}\n",
      "{'loss': 0.368, 'grad_norm': 2.1371140480041504, 'learning_rate': 3.05993690851735e-05, 'epoch': 4.71}\n",
      "{'loss': 0.301, 'grad_norm': 60.876625061035156, 'learning_rate': 3.0441640378548897e-05, 'epoch': 4.74}\n",
      "{'loss': 0.4561, 'grad_norm': 88.92765045166016, 'learning_rate': 3.028391167192429e-05, 'epoch': 4.77}\n",
      "{'loss': 0.3461, 'grad_norm': 1.7998639345169067, 'learning_rate': 3.0126182965299686e-05, 'epoch': 4.8}\n",
      "{'loss': 0.3092, 'grad_norm': 0.37322109937667847, 'learning_rate': 2.9968454258675084e-05, 'epoch': 4.82}\n",
      "{'loss': 0.2132, 'grad_norm': 6.452200889587402, 'learning_rate': 2.981072555205047e-05, 'epoch': 4.85}\n",
      "{'loss': 0.364, 'grad_norm': 0.9272810220718384, 'learning_rate': 2.9652996845425866e-05, 'epoch': 4.88}\n",
      "{'loss': 0.4023, 'grad_norm': 0.327045738697052, 'learning_rate': 2.9495268138801264e-05, 'epoch': 4.9}\n",
      "{'loss': 0.3372, 'grad_norm': 2.023346424102783, 'learning_rate': 2.933753943217666e-05, 'epoch': 4.93}\n",
      "{'loss': 0.2947, 'grad_norm': 0.36232906579971313, 'learning_rate': 2.9179810725552053e-05, 'epoch': 4.96}\n",
      "{'loss': 0.2632, 'grad_norm': 1.328226923942566, 'learning_rate': 2.9022082018927448e-05, 'epoch': 4.99}\n"
     ]
    },
    {
     "data": {
      "application/vnd.jupyter.widget-view+json": {
       "model_id": "bcfbfc09ddaf47deb1f65441a28e9fd9",
       "version_major": 2,
       "version_minor": 0
      },
      "text/plain": [
       "  0%|          | 0/79 [00:00<?, ?it/s]"
      ]
     },
     "metadata": {},
     "output_type": "display_data"
    },
    {
     "name": "stdout",
     "output_type": "stream",
     "text": [
      "{'eval_loss': 0.6949067115783691, 'eval_accuracy': 0.7647058823529411, 'eval_macro_f1': 0.7624719330475607, 'eval_weighted_f1': 0.7633142418020485, 'eval_runtime': 5.2799, 'eval_samples_per_second': 119.132, 'eval_steps_per_second': 14.963, 'epoch': 5.0}\n",
      "{'loss': 0.2162, 'grad_norm': 0.35985374450683594, 'learning_rate': 2.886435331230284e-05, 'epoch': 5.01}\n",
      "{'loss': 0.264, 'grad_norm': 0.37080973386764526, 'learning_rate': 2.8706624605678234e-05, 'epoch': 5.04}\n",
      "{'loss': 0.0579, 'grad_norm': 0.3652645945549011, 'learning_rate': 2.8548895899053628e-05, 'epoch': 5.07}\n",
      "{'loss': 0.2793, 'grad_norm': 0.9974694848060608, 'learning_rate': 2.8391167192429026e-05, 'epoch': 5.1}\n",
      "{'loss': 0.2811, 'grad_norm': 2.979965925216675, 'learning_rate': 2.823343848580442e-05, 'epoch': 5.12}\n",
      "{'loss': 0.3377, 'grad_norm': 0.34179267287254333, 'learning_rate': 2.807570977917981e-05, 'epoch': 5.15}\n",
      "{'loss': 0.3503, 'grad_norm': 0.3110411763191223, 'learning_rate': 2.7917981072555207e-05, 'epoch': 5.18}\n",
      "{'loss': 0.1914, 'grad_norm': 0.32376739382743835, 'learning_rate': 2.77602523659306e-05, 'epoch': 5.2}\n",
      "{'loss': 0.5336, 'grad_norm': 0.2943739891052246, 'learning_rate': 2.7602523659305996e-05, 'epoch': 5.23}\n",
      "{'loss': 0.2514, 'grad_norm': 0.3281690180301666, 'learning_rate': 2.744479495268139e-05, 'epoch': 5.26}\n",
      "{'loss': 0.2933, 'grad_norm': 0.3581985533237457, 'learning_rate': 2.7287066246056785e-05, 'epoch': 5.29}\n",
      "{'loss': 0.2571, 'grad_norm': 43.359779357910156, 'learning_rate': 2.7129337539432176e-05, 'epoch': 5.31}\n",
      "{'loss': 0.1732, 'grad_norm': 18.05209732055664, 'learning_rate': 2.697160883280757e-05, 'epoch': 5.34}\n",
      "{'loss': 0.1626, 'grad_norm': 1.2373178005218506, 'learning_rate': 2.6813880126182965e-05, 'epoch': 5.37}\n",
      "{'loss': 0.2576, 'grad_norm': 81.02336120605469, 'learning_rate': 2.6656151419558363e-05, 'epoch': 5.4}\n",
      "{'loss': 0.2348, 'grad_norm': 1.5273933410644531, 'learning_rate': 2.6498422712933758e-05, 'epoch': 5.42}\n",
      "{'loss': 0.1743, 'grad_norm': 0.2890777587890625, 'learning_rate': 2.6340694006309152e-05, 'epoch': 5.45}\n",
      "{'loss': 0.1675, 'grad_norm': 0.2578120231628418, 'learning_rate': 2.6182965299684544e-05, 'epoch': 5.48}\n",
      "{'loss': 0.2379, 'grad_norm': 5.694944858551025, 'learning_rate': 2.6025236593059938e-05, 'epoch': 5.5}\n",
      "{'loss': 0.3106, 'grad_norm': 9.92570972442627, 'learning_rate': 2.5867507886435333e-05, 'epoch': 5.53}\n",
      "{'loss': 0.1127, 'grad_norm': 0.3219311237335205, 'learning_rate': 2.5709779179810727e-05, 'epoch': 5.56}\n",
      "{'loss': 0.3848, 'grad_norm': 43.9745979309082, 'learning_rate': 2.5552050473186122e-05, 'epoch': 5.59}\n",
      "{'loss': 0.1915, 'grad_norm': 0.27595242857933044, 'learning_rate': 2.5394321766561513e-05, 'epoch': 5.61}\n",
      "{'loss': 0.2698, 'grad_norm': 0.2776147425174713, 'learning_rate': 2.5236593059936908e-05, 'epoch': 5.64}\n",
      "{'loss': 0.2381, 'grad_norm': 0.2720077335834503, 'learning_rate': 2.5078864353312302e-05, 'epoch': 5.67}\n",
      "{'loss': 0.1222, 'grad_norm': 0.30285707116127014, 'learning_rate': 2.49211356466877e-05, 'epoch': 5.69}\n",
      "{'loss': 0.219, 'grad_norm': 85.07563018798828, 'learning_rate': 2.476340694006309e-05, 'epoch': 5.72}\n",
      "{'loss': 0.2258, 'grad_norm': 0.4528101980686188, 'learning_rate': 2.4605678233438486e-05, 'epoch': 5.75}\n",
      "{'loss': 0.1222, 'grad_norm': 203.50843811035156, 'learning_rate': 2.444794952681388e-05, 'epoch': 5.78}\n",
      "{'loss': 0.2319, 'grad_norm': 0.25585079193115234, 'learning_rate': 2.4290220820189275e-05, 'epoch': 5.8}\n",
      "{'loss': 0.1567, 'grad_norm': 2.482421398162842, 'learning_rate': 2.413249211356467e-05, 'epoch': 5.83}\n",
      "{'loss': 0.325, 'grad_norm': 0.21674911677837372, 'learning_rate': 2.3974763406940064e-05, 'epoch': 5.86}\n",
      "{'loss': 0.2479, 'grad_norm': 0.2371937483549118, 'learning_rate': 2.381703470031546e-05, 'epoch': 5.89}\n",
      "{'loss': 0.2861, 'grad_norm': 0.44563332200050354, 'learning_rate': 2.3659305993690853e-05, 'epoch': 5.91}\n",
      "{'loss': 0.1959, 'grad_norm': 2.2438347339630127, 'learning_rate': 2.3501577287066248e-05, 'epoch': 5.94}\n",
      "{'loss': 0.2178, 'grad_norm': 0.23929385840892792, 'learning_rate': 2.334384858044164e-05, 'epoch': 5.97}\n",
      "{'loss': 0.3297, 'grad_norm': 1.1505526304244995, 'learning_rate': 2.3186119873817037e-05, 'epoch': 5.99}\n"
     ]
    },
    {
     "data": {
      "application/vnd.jupyter.widget-view+json": {
       "model_id": "6106db7d2da34abc81c2fd49a3edfecd",
       "version_major": 2,
       "version_minor": 0
      },
      "text/plain": [
       "  0%|          | 0/79 [00:00<?, ?it/s]"
      ]
     },
     "metadata": {},
     "output_type": "display_data"
    },
    {
     "name": "stdout",
     "output_type": "stream",
     "text": [
      "{'eval_loss': 0.7979719042778015, 'eval_accuracy': 0.753577106518283, 'eval_macro_f1': 0.7534873842279461, 'eval_weighted_f1': 0.7536593519510918, 'eval_runtime': 5.3323, 'eval_samples_per_second': 117.959, 'eval_steps_per_second': 14.815, 'epoch': 6.0}\n",
      "{'loss': 0.2114, 'grad_norm': 0.25831204652786255, 'learning_rate': 2.3028391167192432e-05, 'epoch': 6.02}\n",
      "{'loss': 0.092, 'grad_norm': 0.24020037055015564, 'learning_rate': 2.2870662460567823e-05, 'epoch': 6.05}\n",
      "{'loss': 0.1421, 'grad_norm': 1.0842971801757812, 'learning_rate': 2.2712933753943218e-05, 'epoch': 6.08}\n",
      "{'loss': 0.2064, 'grad_norm': 2.4799087047576904, 'learning_rate': 2.2555205047318616e-05, 'epoch': 6.1}\n",
      "{'loss': 0.1159, 'grad_norm': 0.23052336275577545, 'learning_rate': 2.2397476340694007e-05, 'epoch': 6.13}\n",
      "{'loss': 0.1161, 'grad_norm': 0.976292073726654, 'learning_rate': 2.22397476340694e-05, 'epoch': 6.16}\n",
      "{'loss': 0.1164, 'grad_norm': 0.21004503965377808, 'learning_rate': 2.2082018927444796e-05, 'epoch': 6.19}\n",
      "{'loss': 0.2078, 'grad_norm': 0.20666532218456268, 'learning_rate': 2.192429022082019e-05, 'epoch': 6.21}\n",
      "{'loss': 0.1487, 'grad_norm': 7.645322799682617, 'learning_rate': 2.1766561514195585e-05, 'epoch': 6.24}\n",
      "{'loss': 0.1139, 'grad_norm': 2.0610787868499756, 'learning_rate': 2.1608832807570976e-05, 'epoch': 6.27}\n",
      "{'loss': 0.2096, 'grad_norm': 2.6132466793060303, 'learning_rate': 2.1451104100946374e-05, 'epoch': 6.29}\n",
      "{'loss': 0.1494, 'grad_norm': 0.22726702690124512, 'learning_rate': 2.129337539432177e-05, 'epoch': 6.32}\n",
      "{'loss': 0.0789, 'grad_norm': 116.32971954345703, 'learning_rate': 2.113564668769716e-05, 'epoch': 6.35}\n",
      "{'loss': 0.1612, 'grad_norm': 1.8666173219680786, 'learning_rate': 2.0977917981072555e-05, 'epoch': 6.38}\n",
      "{'loss': 0.0218, 'grad_norm': 0.1656002402305603, 'learning_rate': 2.0820189274447953e-05, 'epoch': 6.4}\n",
      "{'loss': 0.1668, 'grad_norm': 0.23991486430168152, 'learning_rate': 2.0662460567823344e-05, 'epoch': 6.43}\n",
      "{'loss': 0.2107, 'grad_norm': 0.17501300573349, 'learning_rate': 2.0504731861198738e-05, 'epoch': 6.46}\n",
      "{'loss': 0.1179, 'grad_norm': 0.17979158461093903, 'learning_rate': 2.0347003154574136e-05, 'epoch': 6.49}\n",
      "{'loss': 0.021, 'grad_norm': 0.21542143821716309, 'learning_rate': 2.0189274447949527e-05, 'epoch': 6.51}\n",
      "{'loss': 0.1944, 'grad_norm': 69.0526351928711, 'learning_rate': 2.0031545741324922e-05, 'epoch': 6.54}\n",
      "{'loss': 0.1042, 'grad_norm': 0.16955453157424927, 'learning_rate': 1.9873817034700317e-05, 'epoch': 6.57}\n",
      "{'loss': 0.1612, 'grad_norm': 18.96181297302246, 'learning_rate': 1.971608832807571e-05, 'epoch': 6.59}\n",
      "{'loss': 0.2981, 'grad_norm': 0.23195044696331024, 'learning_rate': 1.9558359621451106e-05, 'epoch': 6.62}\n",
      "{'loss': 0.2116, 'grad_norm': 0.15186657011508942, 'learning_rate': 1.9400630914826497e-05, 'epoch': 6.65}\n",
      "{'loss': 0.2043, 'grad_norm': 0.19134391844272614, 'learning_rate': 1.9242902208201895e-05, 'epoch': 6.68}\n",
      "{'loss': 0.258, 'grad_norm': 22.285783767700195, 'learning_rate': 1.908517350157729e-05, 'epoch': 6.7}\n",
      "{'loss': 0.1957, 'grad_norm': 0.16014334559440613, 'learning_rate': 1.892744479495268e-05, 'epoch': 6.73}\n",
      "{'loss': 0.1437, 'grad_norm': 0.15303188562393188, 'learning_rate': 1.8769716088328075e-05, 'epoch': 6.76}\n",
      "{'loss': 0.0871, 'grad_norm': 1.2152024507522583, 'learning_rate': 1.8611987381703473e-05, 'epoch': 6.78}\n",
      "{'loss': 0.3108, 'grad_norm': 9.544301986694336, 'learning_rate': 1.8454258675078864e-05, 'epoch': 6.81}\n",
      "{'loss': 0.1201, 'grad_norm': 0.220297172665596, 'learning_rate': 1.829652996845426e-05, 'epoch': 6.84}\n",
      "{'loss': 0.0235, 'grad_norm': 6.405786037445068, 'learning_rate': 1.8138801261829654e-05, 'epoch': 6.87}\n",
      "{'loss': 0.161, 'grad_norm': 1.2246254682540894, 'learning_rate': 1.7981072555205048e-05, 'epoch': 6.89}\n",
      "{'loss': 0.2121, 'grad_norm': 0.16344358026981354, 'learning_rate': 1.7823343848580443e-05, 'epoch': 6.92}\n",
      "{'loss': 0.2175, 'grad_norm': 5.692233085632324, 'learning_rate': 1.7665615141955837e-05, 'epoch': 6.95}\n",
      "{'loss': 0.1156, 'grad_norm': 0.16134287416934967, 'learning_rate': 1.7507886435331232e-05, 'epoch': 6.98}\n"
     ]
    },
    {
     "data": {
      "application/vnd.jupyter.widget-view+json": {
       "model_id": "f88459d015a342b6966b0b2ad4fab040",
       "version_major": 2,
       "version_minor": 0
      },
      "text/plain": [
       "  0%|          | 0/79 [00:00<?, ?it/s]"
      ]
     },
     "metadata": {},
     "output_type": "display_data"
    },
    {
     "name": "stdout",
     "output_type": "stream",
     "text": [
      "{'eval_loss': 0.9180234670639038, 'eval_accuracy': 0.7599364069952306, 'eval_macro_f1': 0.7593890677684862, 'eval_weighted_f1': 0.7589694410279821, 'eval_runtime': 5.3403, 'eval_samples_per_second': 117.783, 'eval_steps_per_second': 14.793, 'epoch': 7.0}\n",
      "{'loss': 0.1793, 'grad_norm': 19.147619247436523, 'learning_rate': 1.7350157728706627e-05, 'epoch': 7.0}\n",
      "{'loss': 0.2151, 'grad_norm': 1.101269245147705, 'learning_rate': 1.719242902208202e-05, 'epoch': 7.03}\n",
      "{'loss': 0.0528, 'grad_norm': 0.18609066307544708, 'learning_rate': 1.7034700315457412e-05, 'epoch': 7.06}\n",
      "{'loss': 0.1128, 'grad_norm': 0.15809571743011475, 'learning_rate': 1.687697160883281e-05, 'epoch': 7.08}\n",
      "{'loss': 0.0187, 'grad_norm': 0.15578849613666534, 'learning_rate': 1.67192429022082e-05, 'epoch': 7.11}\n",
      "{'loss': 0.0753, 'grad_norm': 0.15045934915542603, 'learning_rate': 1.6561514195583596e-05, 'epoch': 7.14}\n",
      "{'loss': 0.1193, 'grad_norm': 0.1393943428993225, 'learning_rate': 1.640378548895899e-05, 'epoch': 7.17}\n",
      "{'loss': 0.1754, 'grad_norm': 0.14624251425266266, 'learning_rate': 1.6246056782334385e-05, 'epoch': 7.19}\n",
      "{'loss': 0.1706, 'grad_norm': 1.187739372253418, 'learning_rate': 1.608832807570978e-05, 'epoch': 7.22}\n",
      "{'loss': 0.1195, 'grad_norm': 0.170462504029274, 'learning_rate': 1.5930599369085174e-05, 'epoch': 7.25}\n",
      "{'loss': 0.0293, 'grad_norm': 0.16654792428016663, 'learning_rate': 1.577287066246057e-05, 'epoch': 7.28}\n",
      "{'loss': 0.1227, 'grad_norm': 0.1542533040046692, 'learning_rate': 1.5615141955835964e-05, 'epoch': 7.3}\n",
      "{'loss': 0.0682, 'grad_norm': 0.14654792845249176, 'learning_rate': 1.5457413249211358e-05, 'epoch': 7.33}\n",
      "{'loss': 0.0687, 'grad_norm': 0.14673401415348053, 'learning_rate': 1.529968454258675e-05, 'epoch': 7.36}\n",
      "{'loss': 0.1178, 'grad_norm': 0.16357366740703583, 'learning_rate': 1.5141955835962146e-05, 'epoch': 7.38}\n",
      "{'loss': 0.0955, 'grad_norm': 0.177154079079628, 'learning_rate': 1.4984227129337542e-05, 'epoch': 7.41}\n",
      "{'loss': 0.158, 'grad_norm': 0.20378105342388153, 'learning_rate': 1.4826498422712933e-05, 'epoch': 7.44}\n",
      "{'loss': 0.1182, 'grad_norm': 0.13609464466571808, 'learning_rate': 1.466876971608833e-05, 'epoch': 7.47}\n",
      "{'loss': 0.0662, 'grad_norm': 0.15959163010120392, 'learning_rate': 1.4511041009463724e-05, 'epoch': 7.49}\n",
      "{'loss': 0.0397, 'grad_norm': 0.16771595180034637, 'learning_rate': 1.4353312302839117e-05, 'epoch': 7.52}\n",
      "{'loss': 0.2242, 'grad_norm': 1.3079570531845093, 'learning_rate': 1.4195583596214513e-05, 'epoch': 7.55}\n",
      "{'loss': 0.0677, 'grad_norm': 0.14363066852092743, 'learning_rate': 1.4037854889589904e-05, 'epoch': 7.57}\n",
      "{'loss': 0.0613, 'grad_norm': 26.14764976501465, 'learning_rate': 1.38801261829653e-05, 'epoch': 7.6}\n",
      "{'loss': 0.1193, 'grad_norm': 0.3536134362220764, 'learning_rate': 1.3722397476340695e-05, 'epoch': 7.63}\n",
      "{'loss': 0.015, 'grad_norm': 0.128645122051239, 'learning_rate': 1.3564668769716088e-05, 'epoch': 7.66}\n",
      "{'loss': 0.0145, 'grad_norm': 0.19408312439918518, 'learning_rate': 1.3406940063091483e-05, 'epoch': 7.68}\n",
      "{'loss': 0.1195, 'grad_norm': 0.1196359246969223, 'learning_rate': 1.3249211356466879e-05, 'epoch': 7.71}\n",
      "{'loss': 0.1206, 'grad_norm': 0.14508333802223206, 'learning_rate': 1.3091482649842272e-05, 'epoch': 7.74}\n",
      "{'loss': 0.1147, 'grad_norm': 0.13284943997859955, 'learning_rate': 1.2933753943217666e-05, 'epoch': 7.77}\n",
      "{'loss': 0.067, 'grad_norm': 0.12607631087303162, 'learning_rate': 1.2776025236593061e-05, 'epoch': 7.79}\n",
      "{'loss': 0.0672, 'grad_norm': 0.13231948018074036, 'learning_rate': 1.2618296529968454e-05, 'epoch': 7.82}\n",
      "{'loss': 0.1743, 'grad_norm': 0.12071175873279572, 'learning_rate': 1.246056782334385e-05, 'epoch': 7.85}\n",
      "{'loss': 0.0169, 'grad_norm': 0.11831498891115189, 'learning_rate': 1.2302839116719243e-05, 'epoch': 7.87}\n",
      "{'loss': 0.0129, 'grad_norm': 0.1391182690858841, 'learning_rate': 1.2145110410094638e-05, 'epoch': 7.9}\n",
      "{'loss': 0.068, 'grad_norm': 0.10665246099233627, 'learning_rate': 1.1987381703470032e-05, 'epoch': 7.93}\n",
      "{'loss': 0.0125, 'grad_norm': 0.11144673079252243, 'learning_rate': 1.1829652996845427e-05, 'epoch': 7.96}\n",
      "{'loss': 0.2065, 'grad_norm': 1.2989273071289062, 'learning_rate': 1.167192429022082e-05, 'epoch': 7.98}\n"
     ]
    },
    {
     "data": {
      "application/vnd.jupyter.widget-view+json": {
       "model_id": "0a8aebb7167e4e62a03c3daf185122d9",
       "version_major": 2,
       "version_minor": 0
      },
      "text/plain": [
       "  0%|          | 0/79 [00:00<?, ?it/s]"
      ]
     },
     "metadata": {},
     "output_type": "display_data"
    },
    {
     "name": "stdout",
     "output_type": "stream",
     "text": [
      "{'eval_loss': 1.0767096281051636, 'eval_accuracy': 0.7567567567567568, 'eval_macro_f1': 0.754212159521894, 'eval_weighted_f1': 0.7551266241531729, 'eval_runtime': 5.38, 'eval_samples_per_second': 116.914, 'eval_steps_per_second': 14.684, 'epoch': 8.0}\n",
      "{'loss': 0.0195, 'grad_norm': 0.10474923253059387, 'learning_rate': 1.1514195583596216e-05, 'epoch': 8.01}\n",
      "{'loss': 0.1207, 'grad_norm': 0.19335970282554626, 'learning_rate': 1.1356466876971609e-05, 'epoch': 8.04}\n",
      "{'loss': 0.1284, 'grad_norm': 0.10387075692415237, 'learning_rate': 1.1198738170347003e-05, 'epoch': 8.07}\n",
      "{'loss': 0.1031, 'grad_norm': 0.11810702085494995, 'learning_rate': 1.1041009463722398e-05, 'epoch': 8.09}\n",
      "{'loss': 0.05, 'grad_norm': 0.10593099892139435, 'learning_rate': 1.0883280757097793e-05, 'epoch': 8.12}\n",
      "{'loss': 0.1232, 'grad_norm': 0.10517764091491699, 'learning_rate': 1.0725552050473187e-05, 'epoch': 8.15}\n",
      "{'loss': 0.0139, 'grad_norm': 74.88047790527344, 'learning_rate': 1.056782334384858e-05, 'epoch': 8.17}\n",
      "{'loss': 0.0112, 'grad_norm': 0.10509483516216278, 'learning_rate': 1.0410094637223976e-05, 'epoch': 8.2}\n",
      "{'loss': 0.0115, 'grad_norm': 0.10143893212080002, 'learning_rate': 1.0252365930599369e-05, 'epoch': 8.23}\n",
      "{'loss': 0.0158, 'grad_norm': 0.09969107061624527, 'learning_rate': 1.0094637223974764e-05, 'epoch': 8.26}\n",
      "{'loss': 0.0684, 'grad_norm': 0.09967099875211716, 'learning_rate': 9.936908517350158e-06, 'epoch': 8.28}\n",
      "{'loss': 0.0658, 'grad_norm': 0.09538672864437103, 'learning_rate': 9.779179810725553e-06, 'epoch': 8.31}\n",
      "{'loss': 0.1201, 'grad_norm': 0.09358355402946472, 'learning_rate': 9.621451104100947e-06, 'epoch': 8.34}\n",
      "{'loss': 0.1277, 'grad_norm': 0.09315819293260574, 'learning_rate': 9.46372239747634e-06, 'epoch': 8.37}\n",
      "{'loss': 0.122, 'grad_norm': 0.09275206178426743, 'learning_rate': 9.305993690851737e-06, 'epoch': 8.39}\n",
      "{'loss': 0.01, 'grad_norm': 0.1151263415813446, 'learning_rate': 9.14826498422713e-06, 'epoch': 8.42}\n",
      "{'loss': 0.0173, 'grad_norm': 5.9658098220825195, 'learning_rate': 8.990536277602524e-06, 'epoch': 8.45}\n",
      "{'loss': 0.0098, 'grad_norm': 0.09072032570838928, 'learning_rate': 8.832807570977919e-06, 'epoch': 8.47}\n",
      "{'loss': 0.1275, 'grad_norm': 0.09476566314697266, 'learning_rate': 8.675078864353313e-06, 'epoch': 8.5}\n",
      "{'loss': 0.0687, 'grad_norm': 0.0896071270108223, 'learning_rate': 8.517350157728706e-06, 'epoch': 8.53}\n",
      "{'loss': 0.1285, 'grad_norm': 0.09258724749088287, 'learning_rate': 8.3596214511041e-06, 'epoch': 8.56}\n",
      "{'loss': 0.1976, 'grad_norm': 1.3423100709915161, 'learning_rate': 8.201892744479495e-06, 'epoch': 8.58}\n",
      "{'loss': 0.01, 'grad_norm': 0.10339967906475067, 'learning_rate': 8.04416403785489e-06, 'epoch': 8.61}\n",
      "{'loss': 0.0101, 'grad_norm': 0.09924546629190445, 'learning_rate': 7.886435331230284e-06, 'epoch': 8.64}\n",
      "{'loss': 0.0673, 'grad_norm': 0.09066034108400345, 'learning_rate': 7.728706624605679e-06, 'epoch': 8.66}\n",
      "{'loss': 0.0699, 'grad_norm': 0.0993959829211235, 'learning_rate': 7.570977917981073e-06, 'epoch': 8.69}\n",
      "{'loss': 0.1762, 'grad_norm': 0.09332253783941269, 'learning_rate': 7.4132492113564665e-06, 'epoch': 8.72}\n",
      "{'loss': 0.0676, 'grad_norm': 0.09007919579744339, 'learning_rate': 7.255520504731862e-06, 'epoch': 8.75}\n",
      "{'loss': 0.067, 'grad_norm': 0.09268144518136978, 'learning_rate': 7.0977917981072565e-06, 'epoch': 8.77}\n",
      "{'loss': 0.1252, 'grad_norm': 1.397180438041687, 'learning_rate': 6.94006309148265e-06, 'epoch': 8.8}\n",
      "{'loss': 0.1273, 'grad_norm': 0.09543732553720474, 'learning_rate': 6.782334384858044e-06, 'epoch': 8.83}\n",
      "{'loss': 0.2411, 'grad_norm': 0.11818894743919373, 'learning_rate': 6.6246056782334394e-06, 'epoch': 8.86}\n",
      "{'loss': 0.0599, 'grad_norm': 0.10860911756753922, 'learning_rate': 6.466876971608833e-06, 'epoch': 8.88}\n",
      "{'loss': 0.012, 'grad_norm': 0.09557439386844635, 'learning_rate': 6.309148264984227e-06, 'epoch': 8.91}\n",
      "{'loss': 0.066, 'grad_norm': 1.3319013118743896, 'learning_rate': 6.1514195583596215e-06, 'epoch': 8.94}\n",
      "{'loss': 0.0668, 'grad_norm': 1.3572041988372803, 'learning_rate': 5.993690851735016e-06, 'epoch': 8.96}\n",
      "{'loss': 0.0686, 'grad_norm': 0.1136469915509224, 'learning_rate': 5.83596214511041e-06, 'epoch': 8.99}\n"
     ]
    },
    {
     "data": {
      "application/vnd.jupyter.widget-view+json": {
       "model_id": "0f978da81c8c44dabef3d1670a656f28",
       "version_major": 2,
       "version_minor": 0
      },
      "text/plain": [
       "  0%|          | 0/79 [00:00<?, ?it/s]"
      ]
     },
     "metadata": {},
     "output_type": "display_data"
    },
    {
     "name": "stdout",
     "output_type": "stream",
     "text": [
      "{'eval_loss': 1.1089084148406982, 'eval_accuracy': 0.7519872813990461, 'eval_macro_f1': 0.7496325780771587, 'eval_weighted_f1': 0.7505204170345916, 'eval_runtime': 5.3779, 'eval_samples_per_second': 116.96, 'eval_steps_per_second': 14.69, 'epoch': 9.0}\n",
      "{'loss': 0.1301, 'grad_norm': 1.3988842964172363, 'learning_rate': 5.678233438485804e-06, 'epoch': 9.02}\n",
      "{'loss': 0.069, 'grad_norm': 0.09561020135879517, 'learning_rate': 5.520504731861199e-06, 'epoch': 9.05}\n",
      "{'loss': 0.1247, 'grad_norm': 1.3640310764312744, 'learning_rate': 5.3627760252365935e-06, 'epoch': 9.07}\n",
      "{'loss': 0.0673, 'grad_norm': 0.10314536094665527, 'learning_rate': 5.205047318611988e-06, 'epoch': 9.1}\n",
      "{'loss': 0.0601, 'grad_norm': 0.09893060475587845, 'learning_rate': 5.047318611987382e-06, 'epoch': 9.13}\n",
      "{'loss': 0.0106, 'grad_norm': 0.09745735675096512, 'learning_rate': 4.8895899053627764e-06, 'epoch': 9.16}\n",
      "{'loss': 0.0104, 'grad_norm': 0.10037514567375183, 'learning_rate': 4.73186119873817e-06, 'epoch': 9.18}\n",
      "{'loss': 0.1238, 'grad_norm': 0.09450919181108475, 'learning_rate': 4.574132492113565e-06, 'epoch': 9.21}\n",
      "{'loss': 0.1255, 'grad_norm': 0.09769866615533829, 'learning_rate': 4.416403785488959e-06, 'epoch': 9.24}\n",
      "{'loss': 0.0676, 'grad_norm': 0.09940183162689209, 'learning_rate': 4.258675078864353e-06, 'epoch': 9.26}\n",
      "{'loss': 0.0105, 'grad_norm': 0.09805386513471603, 'learning_rate': 4.100946372239748e-06, 'epoch': 9.29}\n",
      "{'loss': 0.1212, 'grad_norm': 0.10697903484106064, 'learning_rate': 3.943217665615142e-06, 'epoch': 9.32}\n",
      "{'loss': 0.1711, 'grad_norm': 1.400679111480713, 'learning_rate': 3.7854889589905364e-06, 'epoch': 9.35}\n",
      "{'loss': 0.0698, 'grad_norm': 0.09826159477233887, 'learning_rate': 3.627760252365931e-06, 'epoch': 9.37}\n",
      "{'loss': 0.0696, 'grad_norm': 26.778709411621094, 'learning_rate': 3.470031545741325e-06, 'epoch': 9.4}\n",
      "{'loss': 0.0118, 'grad_norm': 0.09370709210634232, 'learning_rate': 3.3123028391167197e-06, 'epoch': 9.43}\n",
      "{'loss': 0.0445, 'grad_norm': 0.09456928819417953, 'learning_rate': 3.1545741324921135e-06, 'epoch': 9.46}\n",
      "{'loss': 0.0104, 'grad_norm': 0.09921442717313766, 'learning_rate': 2.996845425867508e-06, 'epoch': 9.48}\n",
      "{'loss': 0.091, 'grad_norm': 0.09666793793439865, 'learning_rate': 2.839116719242902e-06, 'epoch': 9.51}\n",
      "{'loss': 0.0666, 'grad_norm': 0.10021038353443146, 'learning_rate': 2.6813880126182968e-06, 'epoch': 9.54}\n",
      "{'loss': 0.1231, 'grad_norm': 0.09396587312221527, 'learning_rate': 2.523659305993691e-06, 'epoch': 9.56}\n",
      "{'loss': 0.0664, 'grad_norm': 0.10082762688398361, 'learning_rate': 2.365930599369085e-06, 'epoch': 9.59}\n",
      "{'loss': 0.066, 'grad_norm': 0.09809034317731857, 'learning_rate': 2.2082018927444797e-06, 'epoch': 9.62}\n",
      "{'loss': 0.1805, 'grad_norm': 0.09495183825492859, 'learning_rate': 2.050473186119874e-06, 'epoch': 9.65}\n",
      "{'loss': 0.0639, 'grad_norm': 21.262723922729492, 'learning_rate': 1.8927444794952682e-06, 'epoch': 9.67}\n",
      "{'loss': 0.0656, 'grad_norm': 2.1605417728424072, 'learning_rate': 1.7350157728706626e-06, 'epoch': 9.7}\n",
      "{'loss': 0.0191, 'grad_norm': 0.09310587495565414, 'learning_rate': 1.5772870662460567e-06, 'epoch': 9.73}\n",
      "{'loss': 0.0682, 'grad_norm': 0.09550431370735168, 'learning_rate': 1.419558359621451e-06, 'epoch': 9.75}\n",
      "{'loss': 0.0098, 'grad_norm': 0.09043288230895996, 'learning_rate': 1.2618296529968455e-06, 'epoch': 9.78}\n",
      "{'loss': 0.0102, 'grad_norm': 0.10563304275274277, 'learning_rate': 1.1041009463722398e-06, 'epoch': 9.81}\n",
      "{'loss': 0.0941, 'grad_norm': 0.11400856077671051, 'learning_rate': 9.463722397476341e-07, 'epoch': 9.84}\n",
      "{'loss': 0.01, 'grad_norm': 0.1014222726225853, 'learning_rate': 7.886435331230284e-07, 'epoch': 9.86}\n",
      "{'loss': 0.2393, 'grad_norm': 2.7879202365875244, 'learning_rate': 6.309148264984227e-07, 'epoch': 9.89}\n",
      "{'loss': 0.0103, 'grad_norm': 0.0979003980755806, 'learning_rate': 4.7318611987381705e-07, 'epoch': 9.92}\n",
      "{'loss': 0.0102, 'grad_norm': 0.10778860747814178, 'learning_rate': 3.1545741324921137e-07, 'epoch': 9.95}\n",
      "{'loss': 0.0101, 'grad_norm': 0.0912749245762825, 'learning_rate': 1.5772870662460568e-07, 'epoch': 9.97}\n",
      "{'loss': 0.01, 'grad_norm': 0.08580058813095093, 'learning_rate': 0.0, 'epoch': 10.0}\n"
     ]
    },
    {
     "data": {
      "application/vnd.jupyter.widget-view+json": {
       "model_id": "b63934102cc2499389eb18a3c1eb1a64",
       "version_major": 2,
       "version_minor": 0
      },
      "text/plain": [
       "  0%|          | 0/79 [00:00<?, ?it/s]"
      ]
     },
     "metadata": {},
     "output_type": "display_data"
    },
    {
     "name": "stdout",
     "output_type": "stream",
     "text": [
      "{'eval_loss': 1.0670872926712036, 'eval_accuracy': 0.7615262321144675, 'eval_macro_f1': 0.760299378074062, 'eval_weighted_f1': 0.7609264368058247, 'eval_runtime': 5.3238, 'eval_samples_per_second': 118.148, 'eval_steps_per_second': 14.839, 'epoch': 10.0}\n",
      "{'train_runtime': 1369.2955, 'train_samples_per_second': 21.42, 'train_steps_per_second': 2.68, 'train_loss': 0.3127522908232355, 'epoch': 10.0}\n"
     ]
    }
   ],
   "source": [
    "from transformers import TrainingArguments, Trainer\n",
    " # Define the compute_metrics function\n",
    "def compute_metrics(pred):\n",
    "    labels = pred.label_ids\n",
    "    preds = np.argmax(pred.predictions, axis=1)\n",
    "    accuracy = accuracy_score(labels, preds)\n",
    "    macro_f1 = f1_score(labels, preds, average='macro')\n",
    "    weighted_f1 = f1_score(labels, preds, average='weighted')\n",
    "    return {\n",
    "        'accuracy': accuracy,\n",
    "        'macro_f1': macro_f1,\n",
    "        'weighted_f1': weighted_f1\n",
    "    }\n",
    "\n",
    "class TrainMetricsLogger(TrainerCallback):\n",
    "    def on_log(self, args, state, control, logs=None, **kwargs):\n",
    "        if logs is not None:\n",
    "            print(f\"Epoch: {state.epoch}, Training Metrics: {logs}\")\n",
    "\n",
    "training_args = TrainingArguments(\n",
    "    output_dir='./results',\n",
    "    eval_strategy='epoch',     # Evaluate every epoch\n",
    "    num_train_epochs=10,              # Number of epochs\n",
    "    per_device_train_batch_size=8,   # Batch size for training\n",
    "    per_device_eval_batch_size=8,    # Batch size for evaluation\n",
    "    warmup_steps=500,                # Number of warmup steps\n",
    "    weight_decay=0.05,               # Strength of weight decay\n",
    "    logging_dir='./logs',            # Directory for logs\n",
    "    logging_steps=10,\n",
    "    load_best_model_at_end=True,\n",
    "    save_strategy='epoch',\n",
    ")\n",
    " \n",
    "trainer = Trainer(\n",
    "    model=model,\n",
    "    args=training_args,\n",
    "    train_dataset=train_dataset,\n",
    "    eval_dataset=test_dataset,\n",
    "    compute_metrics=compute_metrics,\n",
    ")\n",
    "train_result = trainer.train()"
   ]
  },
  {
   "cell_type": "code",
   "execution_count": null,
   "metadata": {},
   "outputs": [],
   "source": []
  }
 ],
 "metadata": {
  "kernelspec": {
   "display_name": ".venv",
   "language": "python",
   "name": "python3"
  },
  "language_info": {
   "codemirror_mode": {
    "name": "ipython",
    "version": 3
   },
   "file_extension": ".py",
   "mimetype": "text/x-python",
   "name": "python",
   "nbconvert_exporter": "python",
   "pygments_lexer": "ipython3",
   "version": "3.9.6"
  }
 },
 "nbformat": 4,
 "nbformat_minor": 2
}
