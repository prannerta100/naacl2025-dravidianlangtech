{
 "cells": [
  {
   "cell_type": "code",
   "execution_count": 1,
   "metadata": {},
   "outputs": [
    {
     "data": {
      "text/plain": [
       "640"
      ]
     },
     "execution_count": 1,
     "metadata": {},
     "output_type": "execute_result"
    }
   ],
   "source": [
    "import pandas as pd \n",
    "AWM = pd.read_csv('/Users/5036365/Documents/Dravidian Lang Tech Data/misogyny/train-malayalam/train.csv')\n",
    "len(AWM)"
   ]
  },
  {
   "cell_type": "code",
   "execution_count": 2,
   "metadata": {},
   "outputs": [
    {
     "data": {
      "text/plain": [
       "160"
      ]
     },
     "execution_count": 2,
     "metadata": {},
     "output_type": "execute_result"
    }
   ],
   "source": [
    "AWM_val = pd.read_csv('/Users/5036365/Documents/Dravidian Lang Tech Data/misogyny/dev-malayalam/dev.csv')\n",
    "len(AWM_val)"
   ]
  },
  {
   "cell_type": "code",
   "execution_count": 3,
   "metadata": {},
   "outputs": [
    {
     "data": {
      "text/plain": [
       "Index(['image_id', 'labels', 'transcriptions'], dtype='object')"
      ]
     },
     "execution_count": 3,
     "metadata": {},
     "output_type": "execute_result"
    }
   ],
   "source": [
    "AWM.columns"
   ]
  },
  {
   "cell_type": "code",
   "execution_count": 4,
   "metadata": {},
   "outputs": [
    {
     "data": {
      "text/plain": [
       "labels\n",
       "0    381\n",
       "1    259\n",
       "Name: count, dtype: int64"
      ]
     },
     "execution_count": 4,
     "metadata": {},
     "output_type": "execute_result"
    }
   ],
   "source": [
    "AWM['labels'].value_counts()"
   ]
  },
  {
   "cell_type": "code",
   "execution_count": 5,
   "metadata": {},
   "outputs": [
    {
     "data": {
      "text/plain": [
       "632"
      ]
     },
     "execution_count": 5,
     "metadata": {},
     "output_type": "execute_result"
    }
   ],
   "source": [
    "AWM['transcriptions'].nunique()"
   ]
  },
  {
   "cell_type": "code",
   "execution_count": 6,
   "metadata": {},
   "outputs": [],
   "source": [
    "AWM = AWM.drop_duplicates(subset=['transcriptions'])\n",
    "AWM = AWM.reset_index()"
   ]
  },
  {
   "cell_type": "code",
   "execution_count": 7,
   "metadata": {},
   "outputs": [
    {
     "name": "stderr",
     "output_type": "stream",
     "text": [
      "/Users/5036365/Documents/text-recommendation/.venv/lib/python3.9/site-packages/urllib3/__init__.py:35: NotOpenSSLWarning: urllib3 v2 only supports OpenSSL 1.1.1+, currently the 'ssl' module is compiled with 'LibreSSL 2.8.3'. See: https://github.com/urllib3/urllib3/issues/3020\n",
      "  warnings.warn(\n"
     ]
    }
   ],
   "source": [
    "from transformers import AutoTokenizer\n",
    " \n",
    "import torch\n",
    "import numpy as np\n",
    "from transformers import DistilBertTokenizerFast, DistilBertForSequenceClassification, Trainer, TrainingArguments, TrainerCallback\n",
    "from sklearn.model_selection import train_test_split\n",
    "from datasets import Dataset\n",
    "from sklearn.metrics import accuracy_score, f1_score\n",
    "import matplotlib.pyplot as plt\n",
    "import os\n",
    "\n",
    "# Split the data into train and test sets\n",
    "#train_texts, test_texts, train_labels, test_labels = train_test_split(AWM['Text'], AWM['label'], test_size=0.2)\n",
    " \n",
    "\n",
    "train_texts, train_labels,test_texts, test_labels = AWM['transcriptions'], AWM['labels'],AWM_val['transcriptions'], AWM_val['labels']\n",
    "# Load tokenizer\n",
    "model_name = \"xlm-roberta-base\"\n",
    "tokenizer = AutoTokenizer.from_pretrained(model_name)\n",
    " \n",
    "# Tokenize dataset\n",
    "def preprocess_function(examples):\n",
    "    return tokenizer(examples.to_list(), truncation=True, padding=\"max_length\", max_length=128)\n",
    " \n",
    "train_encodings = preprocess_function(train_texts)\n",
    "test_encodings = preprocess_function(test_texts)"
   ]
  },
  {
   "cell_type": "code",
   "execution_count": 8,
   "metadata": {},
   "outputs": [],
   "source": [
    "# Convert to Hugging Face Dataset format, and include 'labels' in the Dataset\n",
    "train_dataset = Dataset.from_dict({\n",
    "    'input_ids': train_encodings['input_ids'],\n",
    "    'attention_mask': train_encodings['attention_mask'],\n",
    "    'labels': train_labels  # Ensure labels are included\n",
    "})\n",
    "\n",
    "test_dataset = Dataset.from_dict({\n",
    "    'input_ids': test_encodings['input_ids'],\n",
    "    'attention_mask': test_encodings['attention_mask'],\n",
    "    'labels': test_labels  # Ensure labels are included\n",
    "})\n"
   ]
  },
  {
   "cell_type": "code",
   "execution_count": 11,
   "metadata": {},
   "outputs": [
    {
     "name": "stderr",
     "output_type": "stream",
     "text": [
      "Some weights of XLMRobertaForSequenceClassification were not initialized from the model checkpoint at xlm-roberta-base and are newly initialized: ['classifier.dense.bias', 'classifier.dense.weight', 'classifier.out_proj.bias', 'classifier.out_proj.weight']\n",
      "You should probably TRAIN this model on a down-stream task to be able to use it for predictions and inference.\n"
     ]
    }
   ],
   "source": [
    "from transformers import AutoModelForSequenceClassification\n",
    " \n",
    "model = AutoModelForSequenceClassification.from_pretrained(model_name, num_labels=2)"
   ]
  },
  {
   "cell_type": "code",
   "execution_count": 12,
   "metadata": {},
   "outputs": [
    {
     "name": "stderr",
     "output_type": "stream",
     "text": [
      "huggingface/tokenizers: The current process just got forked, after parallelism has already been used. Disabling parallelism to avoid deadlocks...\n",
      "To disable this warning, you can either:\n",
      "\t- Avoid using `tokenizers` before the fork if possible\n",
      "\t- Explicitly set the environment variable TOKENIZERS_PARALLELISM=(true | false)\n"
     ]
    },
    {
     "data": {
      "application/vnd.jupyter.widget-view+json": {
       "model_id": "520dc476c06f49c2a574aeff83b57fc3",
       "version_major": 2,
       "version_minor": 0
      },
      "text/plain": [
       "  0%|          | 0/800 [00:00<?, ?it/s]"
      ]
     },
     "metadata": {},
     "output_type": "display_data"
    },
    {
     "name": "stdout",
     "output_type": "stream",
     "text": [
      "{'loss': 0.7159, 'grad_norm': 3.5516719818115234, 'learning_rate': 1.0000000000000001e-07, 'epoch': 0.12}\n",
      "{'loss': 0.7224, 'grad_norm': 3.2044010162353516, 'learning_rate': 2.0000000000000002e-07, 'epoch': 0.25}\n",
      "{'loss': 0.6997, 'grad_norm': 2.6323001384735107, 'learning_rate': 3.0000000000000004e-07, 'epoch': 0.38}\n",
      "{'loss': 0.7023, 'grad_norm': 2.1803183555603027, 'learning_rate': 4.0000000000000003e-07, 'epoch': 0.5}\n",
      "{'loss': 0.7105, 'grad_norm': 1.2324211597442627, 'learning_rate': 5.000000000000001e-07, 'epoch': 0.62}\n",
      "{'loss': 0.7066, 'grad_norm': 3.393435478210449, 'learning_rate': 6.000000000000001e-07, 'epoch': 0.75}\n",
      "{'loss': 0.7187, 'grad_norm': 2.9859845638275146, 'learning_rate': 7.000000000000001e-07, 'epoch': 0.88}\n",
      "{'loss': 0.7029, 'grad_norm': 2.8239495754241943, 'learning_rate': 8.000000000000001e-07, 'epoch': 1.0}\n"
     ]
    },
    {
     "data": {
      "application/vnd.jupyter.widget-view+json": {
       "model_id": "8fd2306bf81d4125a418d5efb1463e82",
       "version_major": 2,
       "version_minor": 0
      },
      "text/plain": [
       "  0%|          | 0/20 [00:00<?, ?it/s]"
      ]
     },
     "metadata": {},
     "output_type": "display_data"
    },
    {
     "name": "stdout",
     "output_type": "stream",
     "text": [
      "{'eval_loss': 0.7031892538070679, 'eval_accuracy': 0.39375, 'eval_macro_f1': 0.2825112107623318, 'eval_weighted_f1': 0.22247757847533628, 'eval_runtime': 1.4025, 'eval_samples_per_second': 114.078, 'eval_steps_per_second': 14.26, 'epoch': 1.0}\n",
      "{'loss': 0.6909, 'grad_norm': 2.3745648860931396, 'learning_rate': 9.000000000000001e-07, 'epoch': 1.12}\n",
      "{'loss': 0.6961, 'grad_norm': 1.328694224357605, 'learning_rate': 1.0000000000000002e-06, 'epoch': 1.25}\n",
      "{'loss': 0.6998, 'grad_norm': 2.0456035137176514, 'learning_rate': 1.1e-06, 'epoch': 1.38}\n",
      "{'loss': 0.6759, 'grad_norm': 7.160404682159424, 'learning_rate': 1.2000000000000002e-06, 'epoch': 1.5}\n",
      "{'loss': 0.6781, 'grad_norm': 4.182975769042969, 'learning_rate': 1.3e-06, 'epoch': 1.62}\n",
      "{'loss': 0.6913, 'grad_norm': 8.42760181427002, 'learning_rate': 1.4000000000000001e-06, 'epoch': 1.75}\n",
      "{'loss': 0.6528, 'grad_norm': 5.943810939788818, 'learning_rate': 1.5e-06, 'epoch': 1.88}\n",
      "{'loss': 0.6915, 'grad_norm': 7.6463541984558105, 'learning_rate': 1.6000000000000001e-06, 'epoch': 2.0}\n"
     ]
    },
    {
     "data": {
      "application/vnd.jupyter.widget-view+json": {
       "model_id": "119fe782e77e4c12a5d8f0b8d4feaefc",
       "version_major": 2,
       "version_minor": 0
      },
      "text/plain": [
       "  0%|          | 0/20 [00:00<?, ?it/s]"
      ]
     },
     "metadata": {},
     "output_type": "display_data"
    },
    {
     "name": "stdout",
     "output_type": "stream",
     "text": [
      "{'eval_loss': 0.6602177023887634, 'eval_accuracy': 0.65625, 'eval_macro_f1': 0.5454310656542176, 'eval_weighted_f1': 0.593125290562529, 'eval_runtime': 1.3798, 'eval_samples_per_second': 115.961, 'eval_steps_per_second': 14.495, 'epoch': 2.0}\n",
      "{'loss': 0.6276, 'grad_norm': 12.977790832519531, 'learning_rate': 1.7000000000000002e-06, 'epoch': 2.12}\n",
      "{'loss': 0.6847, 'grad_norm': 24.63018798828125, 'learning_rate': 1.8000000000000001e-06, 'epoch': 2.25}\n",
      "{'loss': 0.6918, 'grad_norm': 12.98182487487793, 'learning_rate': 1.9000000000000002e-06, 'epoch': 2.38}\n",
      "{'loss': 0.6595, 'grad_norm': 5.561987400054932, 'learning_rate': 2.0000000000000003e-06, 'epoch': 2.5}\n",
      "{'loss': 0.6395, 'grad_norm': 8.798998832702637, 'learning_rate': 2.1000000000000002e-06, 'epoch': 2.62}\n",
      "{'loss': 0.6237, 'grad_norm': 5.9188923835754395, 'learning_rate': 2.2e-06, 'epoch': 2.75}\n",
      "{'loss': 0.6603, 'grad_norm': 6.69082498550415, 'learning_rate': 2.3000000000000004e-06, 'epoch': 2.88}\n",
      "{'loss': 0.6229, 'grad_norm': 7.244647026062012, 'learning_rate': 2.4000000000000003e-06, 'epoch': 3.0}\n"
     ]
    },
    {
     "data": {
      "application/vnd.jupyter.widget-view+json": {
       "model_id": "ddd92762d3df4d7484fbc6a4530a4207",
       "version_major": 2,
       "version_minor": 0
      },
      "text/plain": [
       "  0%|          | 0/20 [00:00<?, ?it/s]"
      ]
     },
     "metadata": {},
     "output_type": "display_data"
    },
    {
     "name": "stdout",
     "output_type": "stream",
     "text": [
      "{'eval_loss': 0.6465991735458374, 'eval_accuracy': 0.61875, 'eval_macro_f1': 0.4242227597191906, 'eval_weighted_f1': 0.49534024541324995, 'eval_runtime': 1.3611, 'eval_samples_per_second': 117.551, 'eval_steps_per_second': 14.694, 'epoch': 3.0}\n",
      "{'loss': 0.6156, 'grad_norm': 10.228544235229492, 'learning_rate': 2.5e-06, 'epoch': 3.12}\n",
      "{'loss': 0.6305, 'grad_norm': 81.98004150390625, 'learning_rate': 2.6e-06, 'epoch': 3.25}\n",
      "{'loss': 0.6399, 'grad_norm': 7.170615196228027, 'learning_rate': 2.7000000000000004e-06, 'epoch': 3.38}\n",
      "{'loss': 0.5565, 'grad_norm': 14.796989440917969, 'learning_rate': 2.8000000000000003e-06, 'epoch': 3.5}\n",
      "{'loss': 0.6073, 'grad_norm': 11.473143577575684, 'learning_rate': 2.9e-06, 'epoch': 3.62}\n",
      "{'loss': 0.5868, 'grad_norm': 18.772809982299805, 'learning_rate': 3e-06, 'epoch': 3.75}\n",
      "{'loss': 0.5906, 'grad_norm': 7.757752895355225, 'learning_rate': 3.1000000000000004e-06, 'epoch': 3.88}\n",
      "{'loss': 0.6365, 'grad_norm': 18.722227096557617, 'learning_rate': 3.2000000000000003e-06, 'epoch': 4.0}\n"
     ]
    },
    {
     "data": {
      "application/vnd.jupyter.widget-view+json": {
       "model_id": "99b4759fc49348ee8718063d05a60a07",
       "version_major": 2,
       "version_minor": 0
      },
      "text/plain": [
       "  0%|          | 0/20 [00:00<?, ?it/s]"
      ]
     },
     "metadata": {},
     "output_type": "display_data"
    },
    {
     "name": "stdout",
     "output_type": "stream",
     "text": [
      "{'eval_loss': 0.5944028496742249, 'eval_accuracy': 0.75625, 'eval_macro_f1': 0.7408530254578678, 'eval_weighted_f1': 0.7542760289048549, 'eval_runtime': 1.5586, 'eval_samples_per_second': 102.656, 'eval_steps_per_second': 12.832, 'epoch': 4.0}\n",
      "{'loss': 0.5882, 'grad_norm': 11.228681564331055, 'learning_rate': 3.3000000000000006e-06, 'epoch': 4.12}\n",
      "{'loss': 0.5317, 'grad_norm': 12.378722190856934, 'learning_rate': 3.4000000000000005e-06, 'epoch': 4.25}\n",
      "{'loss': 0.5736, 'grad_norm': 12.142085075378418, 'learning_rate': 3.5e-06, 'epoch': 4.38}\n",
      "{'loss': 0.525, 'grad_norm': 8.80094051361084, 'learning_rate': 3.6000000000000003e-06, 'epoch': 4.5}\n",
      "{'loss': 0.4729, 'grad_norm': 9.103739738464355, 'learning_rate': 3.7e-06, 'epoch': 4.62}\n",
      "{'loss': 0.4676, 'grad_norm': 10.708056449890137, 'learning_rate': 3.8000000000000005e-06, 'epoch': 4.75}\n",
      "{'loss': 0.5139, 'grad_norm': 66.60507202148438, 'learning_rate': 3.900000000000001e-06, 'epoch': 4.88}\n",
      "{'loss': 0.57, 'grad_norm': 39.997413635253906, 'learning_rate': 4.000000000000001e-06, 'epoch': 5.0}\n"
     ]
    },
    {
     "data": {
      "application/vnd.jupyter.widget-view+json": {
       "model_id": "86e6b73f1de9491ab50a5dea95648d6b",
       "version_major": 2,
       "version_minor": 0
      },
      "text/plain": [
       "  0%|          | 0/20 [00:00<?, ?it/s]"
      ]
     },
     "metadata": {},
     "output_type": "display_data"
    },
    {
     "name": "stdout",
     "output_type": "stream",
     "text": [
      "{'eval_loss': 0.6293457746505737, 'eval_accuracy': 0.675, 'eval_macro_f1': 0.6747967479674797, 'eval_weighted_f1': 0.6765243902439024, 'eval_runtime': 1.3218, 'eval_samples_per_second': 121.047, 'eval_steps_per_second': 15.131, 'epoch': 5.0}\n",
      "{'loss': 0.4804, 'grad_norm': 17.725168228149414, 'learning_rate': 4.1e-06, 'epoch': 5.12}\n",
      "{'loss': 0.5201, 'grad_norm': 47.36823654174805, 'learning_rate': 4.2000000000000004e-06, 'epoch': 5.25}\n",
      "{'loss': 0.4018, 'grad_norm': 13.00272274017334, 'learning_rate': 4.3e-06, 'epoch': 5.38}\n",
      "{'loss': 0.4065, 'grad_norm': 24.987642288208008, 'learning_rate': 4.4e-06, 'epoch': 5.5}\n",
      "{'loss': 0.4384, 'grad_norm': 21.643779754638672, 'learning_rate': 4.5e-06, 'epoch': 5.62}\n",
      "{'loss': 0.5092, 'grad_norm': 10.991813659667969, 'learning_rate': 4.600000000000001e-06, 'epoch': 5.75}\n",
      "{'loss': 0.4268, 'grad_norm': 12.644248962402344, 'learning_rate': 4.7e-06, 'epoch': 5.88}\n",
      "{'loss': 0.4445, 'grad_norm': 31.440181732177734, 'learning_rate': 4.800000000000001e-06, 'epoch': 6.0}\n"
     ]
    },
    {
     "data": {
      "application/vnd.jupyter.widget-view+json": {
       "model_id": "d82e6a7beb9f404291be69ef7dd38d15",
       "version_major": 2,
       "version_minor": 0
      },
      "text/plain": [
       "  0%|          | 0/20 [00:00<?, ?it/s]"
      ]
     },
     "metadata": {},
     "output_type": "display_data"
    },
    {
     "name": "stdout",
     "output_type": "stream",
     "text": [
      "{'eval_loss': 0.6205899119377136, 'eval_accuracy': 0.66875, 'eval_macro_f1': 0.6658128078817734, 'eval_weighted_f1': 0.6724704433497537, 'eval_runtime': 1.3448, 'eval_samples_per_second': 118.978, 'eval_steps_per_second': 14.872, 'epoch': 6.0}\n",
      "{'loss': 0.5121, 'grad_norm': 28.852340698242188, 'learning_rate': 4.9000000000000005e-06, 'epoch': 6.12}\n",
      "{'loss': 0.345, 'grad_norm': 32.71036148071289, 'learning_rate': 5e-06, 'epoch': 6.25}\n",
      "{'loss': 0.4205, 'grad_norm': 7.5038299560546875, 'learning_rate': 4.833333333333333e-06, 'epoch': 6.38}\n",
      "{'loss': 0.3826, 'grad_norm': 63.2082405090332, 'learning_rate': 4.666666666666667e-06, 'epoch': 6.5}\n",
      "{'loss': 0.3281, 'grad_norm': 4.699801921844482, 'learning_rate': 4.5e-06, 'epoch': 6.62}\n",
      "{'loss': 0.3377, 'grad_norm': 3.742380142211914, 'learning_rate': 4.333333333333334e-06, 'epoch': 6.75}\n",
      "{'loss': 0.3539, 'grad_norm': 4.3082499504089355, 'learning_rate': 4.166666666666667e-06, 'epoch': 6.88}\n",
      "{'loss': 0.3793, 'grad_norm': 67.6938247680664, 'learning_rate': 4.000000000000001e-06, 'epoch': 7.0}\n"
     ]
    },
    {
     "data": {
      "application/vnd.jupyter.widget-view+json": {
       "model_id": "4ba950e73a684b8c92e908048ec5858c",
       "version_major": 2,
       "version_minor": 0
      },
      "text/plain": [
       "  0%|          | 0/20 [00:00<?, ?it/s]"
      ]
     },
     "metadata": {},
     "output_type": "display_data"
    },
    {
     "name": "stdout",
     "output_type": "stream",
     "text": [
      "{'eval_loss': 0.8053374290466309, 'eval_accuracy': 0.7, 'eval_macro_f1': 0.6992481203007519, 'eval_weighted_f1': 0.7024436090225564, 'eval_runtime': 1.3005, 'eval_samples_per_second': 123.029, 'eval_steps_per_second': 15.379, 'epoch': 7.0}\n",
      "{'loss': 0.3599, 'grad_norm': 5.9806599617004395, 'learning_rate': 3.833333333333334e-06, 'epoch': 7.12}\n",
      "{'loss': 0.2857, 'grad_norm': 55.26237487792969, 'learning_rate': 3.6666666666666666e-06, 'epoch': 7.25}\n",
      "{'loss': 0.4269, 'grad_norm': 2.81998872756958, 'learning_rate': 3.5e-06, 'epoch': 7.38}\n",
      "{'loss': 0.3493, 'grad_norm': 18.19121551513672, 'learning_rate': 3.3333333333333333e-06, 'epoch': 7.5}\n",
      "{'loss': 0.3264, 'grad_norm': 50.2600212097168, 'learning_rate': 3.1666666666666667e-06, 'epoch': 7.62}\n",
      "{'loss': 0.3085, 'grad_norm': 14.745567321777344, 'learning_rate': 3e-06, 'epoch': 7.75}\n",
      "{'loss': 0.3869, 'grad_norm': 8.107440948486328, 'learning_rate': 2.8333333333333335e-06, 'epoch': 7.88}\n",
      "{'loss': 0.228, 'grad_norm': 13.496105194091797, 'learning_rate': 2.666666666666667e-06, 'epoch': 8.0}\n"
     ]
    },
    {
     "data": {
      "application/vnd.jupyter.widget-view+json": {
       "model_id": "4d2203d860ec4eaca7236a8f20c2fd96",
       "version_major": 2,
       "version_minor": 0
      },
      "text/plain": [
       "  0%|          | 0/20 [00:00<?, ?it/s]"
      ]
     },
     "metadata": {},
     "output_type": "display_data"
    },
    {
     "name": "stdout",
     "output_type": "stream",
     "text": [
      "{'eval_loss': 0.7630288004875183, 'eval_accuracy': 0.73125, 'eval_macro_f1': 0.7255793546328427, 'eval_weighted_f1': 0.7339620477842926, 'eval_runtime': 1.3716, 'eval_samples_per_second': 116.652, 'eval_steps_per_second': 14.582, 'epoch': 8.0}\n",
      "{'loss': 0.3114, 'grad_norm': 21.581546783447266, 'learning_rate': 2.5e-06, 'epoch': 8.12}\n",
      "{'loss': 0.168, 'grad_norm': 20.375988006591797, 'learning_rate': 2.3333333333333336e-06, 'epoch': 8.25}\n",
      "{'loss': 0.3832, 'grad_norm': 71.0948486328125, 'learning_rate': 2.166666666666667e-06, 'epoch': 8.38}\n",
      "{'loss': 0.2531, 'grad_norm': 32.17427444458008, 'learning_rate': 2.0000000000000003e-06, 'epoch': 8.5}\n",
      "{'loss': 0.3431, 'grad_norm': 5.899667263031006, 'learning_rate': 1.8333333333333333e-06, 'epoch': 8.62}\n",
      "{'loss': 0.4439, 'grad_norm': 69.28955078125, 'learning_rate': 1.6666666666666667e-06, 'epoch': 8.75}\n",
      "{'loss': 0.3019, 'grad_norm': 8.161149978637695, 'learning_rate': 1.5e-06, 'epoch': 8.88}\n",
      "{'loss': 0.3572, 'grad_norm': 1.7894833087921143, 'learning_rate': 1.3333333333333334e-06, 'epoch': 9.0}\n"
     ]
    },
    {
     "data": {
      "application/vnd.jupyter.widget-view+json": {
       "model_id": "d48eb9af1a3844d194d4aeb82de12eb1",
       "version_major": 2,
       "version_minor": 0
      },
      "text/plain": [
       "  0%|          | 0/20 [00:00<?, ?it/s]"
      ]
     },
     "metadata": {},
     "output_type": "display_data"
    },
    {
     "name": "stdout",
     "output_type": "stream",
     "text": [
      "{'eval_loss': 0.7870129346847534, 'eval_accuracy': 0.725, 'eval_macro_f1': 0.7186700767263428, 'eval_weighted_f1': 0.7276374680306906, 'eval_runtime': 1.3667, 'eval_samples_per_second': 117.072, 'eval_steps_per_second': 14.634, 'epoch': 9.0}\n",
      "{'loss': 0.3502, 'grad_norm': 47.56480026245117, 'learning_rate': 1.1666666666666668e-06, 'epoch': 9.12}\n",
      "{'loss': 0.3661, 'grad_norm': 68.46880340576172, 'learning_rate': 1.0000000000000002e-06, 'epoch': 9.25}\n",
      "{'loss': 0.2057, 'grad_norm': 3.247373580932617, 'learning_rate': 8.333333333333333e-07, 'epoch': 9.38}\n",
      "{'loss': 0.2772, 'grad_norm': 50.52203369140625, 'learning_rate': 6.666666666666667e-07, 'epoch': 9.5}\n",
      "{'loss': 0.2511, 'grad_norm': 15.838977813720703, 'learning_rate': 5.000000000000001e-07, 'epoch': 9.62}\n",
      "{'loss': 0.3188, 'grad_norm': 9.75171184539795, 'learning_rate': 3.3333333333333335e-07, 'epoch': 9.75}\n",
      "{'loss': 0.1455, 'grad_norm': 8.756784439086914, 'learning_rate': 1.6666666666666668e-07, 'epoch': 9.88}\n",
      "{'loss': 0.3527, 'grad_norm': 11.733071327209473, 'learning_rate': 0.0, 'epoch': 10.0}\n"
     ]
    },
    {
     "data": {
      "application/vnd.jupyter.widget-view+json": {
       "model_id": "b24ff76c426f45c2954aabbe7a2c80ad",
       "version_major": 2,
       "version_minor": 0
      },
      "text/plain": [
       "  0%|          | 0/20 [00:00<?, ?it/s]"
      ]
     },
     "metadata": {},
     "output_type": "display_data"
    },
    {
     "name": "stdout",
     "output_type": "stream",
     "text": [
      "{'eval_loss': 0.7994685173034668, 'eval_accuracy': 0.725, 'eval_macro_f1': 0.717541325629915, 'eval_weighted_f1': 0.7272949767292569, 'eval_runtime': 1.3976, 'eval_samples_per_second': 114.479, 'eval_steps_per_second': 14.31, 'epoch': 10.0}\n",
      "{'train_runtime': 358.6133, 'train_samples_per_second': 17.847, 'train_steps_per_second': 2.231, 'train_loss': 0.4957415705919266, 'epoch': 10.0}\n"
     ]
    }
   ],
   "source": [
    "from transformers import TrainingArguments, Trainer\n",
    " # Define the compute_metrics function\n",
    "def compute_metrics(pred):\n",
    "    labels = pred.label_ids\n",
    "    preds = np.argmax(pred.predictions, axis=1)\n",
    "    accuracy = accuracy_score(labels, preds)\n",
    "    macro_f1 = f1_score(labels, preds, average='macro')\n",
    "    weighted_f1 = f1_score(labels, preds, average='weighted')\n",
    "    return {\n",
    "        'accuracy': accuracy,\n",
    "        'macro_f1': macro_f1,\n",
    "        'weighted_f1': weighted_f1\n",
    "    }\n",
    "\n",
    "class TrainMetricsLogger(TrainerCallback):\n",
    "    def on_log(self, args, state, control, logs=None, **kwargs):\n",
    "        if logs is not None:\n",
    "            print(f\"Epoch: {state.epoch}, Training Metrics: {logs}\")\n",
    "\n",
    "training_args = TrainingArguments(\n",
    "    output_dir='./results',\n",
    "    eval_strategy='epoch',     # Evaluate every epoch\n",
    "    num_train_epochs=10,              # Number of epochs\n",
    "    learning_rate=5e-6,\n",
    "    per_device_train_batch_size=8,   # Batch size for training\n",
    "    per_device_eval_batch_size=8,    # Batch size for evaluation\n",
    "    warmup_steps=500,                # Number of warmup steps\n",
    "    weight_decay=0.05,               # Strength of weight decay\n",
    "    logging_dir='./logs',            # Directory for logs\n",
    "    logging_steps=10,\n",
    "    load_best_model_at_end=True,\n",
    "    save_strategy='epoch',\n",
    ")\n",
    " \n",
    "trainer = Trainer(\n",
    "    model=model,\n",
    "    args=training_args,\n",
    "    train_dataset=train_dataset,\n",
    "    eval_dataset=test_dataset,\n",
    "    compute_metrics=compute_metrics,\n",
    ")\n",
    "train_result = trainer.train()"
   ]
  },
  {
   "cell_type": "code",
   "execution_count": 13,
   "metadata": {},
   "outputs": [
    {
     "data": {
      "application/vnd.jupyter.widget-view+json": {
       "model_id": "41cea36e824c4fd08ee5ad0aa81827b7",
       "version_major": 2,
       "version_minor": 0
      },
      "text/plain": [
       "  0%|          | 0/400 [00:00<?, ?it/s]"
      ]
     },
     "metadata": {},
     "output_type": "display_data"
    },
    {
     "name": "stdout",
     "output_type": "stream",
     "text": [
      "{'loss': 0.5491, 'grad_norm': 10.275177955627441, 'learning_rate': 1.0000000000000002e-06, 'epoch': 0.25}\n",
      "{'loss': 0.5738, 'grad_norm': 7.985166072845459, 'learning_rate': 2.0000000000000003e-06, 'epoch': 0.5}\n",
      "{'loss': 0.5791, 'grad_norm': 7.087610721588135, 'learning_rate': 3e-06, 'epoch': 0.75}\n",
      "{'loss': 0.5254, 'grad_norm': 13.750337600708008, 'learning_rate': 4.000000000000001e-06, 'epoch': 1.0}\n"
     ]
    },
    {
     "data": {
      "application/vnd.jupyter.widget-view+json": {
       "model_id": "e38ab7a8c30743bf9cbfb48b05ae5194",
       "version_major": 2,
       "version_minor": 0
      },
      "text/plain": [
       "  0%|          | 0/10 [00:00<?, ?it/s]"
      ]
     },
     "metadata": {},
     "output_type": "display_data"
    },
    {
     "name": "stdout",
     "output_type": "stream",
     "text": [
      "{'eval_loss': 0.5623343586921692, 'eval_accuracy': 0.775, 'eval_macro_f1': 0.758348716227555, 'eval_weighted_f1': 0.7718283269004866, 'eval_runtime': 1.3104, 'eval_samples_per_second': 122.096, 'eval_steps_per_second': 7.631, 'epoch': 1.0}\n",
      "{'loss': 0.4999, 'grad_norm': 13.740409851074219, 'learning_rate': 5e-06, 'epoch': 1.25}\n",
      "{'loss': 0.5083, 'grad_norm': 24.48983383178711, 'learning_rate': 6e-06, 'epoch': 1.5}\n",
      "{'loss': 0.5443, 'grad_norm': 21.156694412231445, 'learning_rate': 7.000000000000001e-06, 'epoch': 1.75}\n",
      "{'loss': 0.5039, 'grad_norm': 29.844383239746094, 'learning_rate': 8.000000000000001e-06, 'epoch': 2.0}\n"
     ]
    },
    {
     "data": {
      "application/vnd.jupyter.widget-view+json": {
       "model_id": "6685b7551a33481d85d1222cc3ed5b6e",
       "version_major": 2,
       "version_minor": 0
      },
      "text/plain": [
       "  0%|          | 0/10 [00:00<?, ?it/s]"
      ]
     },
     "metadata": {},
     "output_type": "display_data"
    },
    {
     "name": "stdout",
     "output_type": "stream",
     "text": [
      "{'eval_loss': 0.5287507176399231, 'eval_accuracy': 0.7875, 'eval_macro_f1': 0.768352921137796, 'eval_weighted_f1': 0.7825051098620337, 'eval_runtime': 1.2851, 'eval_samples_per_second': 124.505, 'eval_steps_per_second': 7.782, 'epoch': 2.0}\n",
      "{'loss': 0.4583, 'grad_norm': 24.723316192626953, 'learning_rate': 9e-06, 'epoch': 2.25}\n",
      "{'loss': 0.5003, 'grad_norm': 13.701349258422852, 'learning_rate': 1e-05, 'epoch': 2.5}\n",
      "{'loss': 0.4143, 'grad_norm': 15.243842124938965, 'learning_rate': 1.1000000000000001e-05, 'epoch': 2.75}\n",
      "{'loss': 0.4285, 'grad_norm': 16.646839141845703, 'learning_rate': 1.2e-05, 'epoch': 3.0}\n"
     ]
    },
    {
     "data": {
      "application/vnd.jupyter.widget-view+json": {
       "model_id": "6cbf9eac41a544efb68d2ddc4f0c76ac",
       "version_major": 2,
       "version_minor": 0
      },
      "text/plain": [
       "  0%|          | 0/10 [00:00<?, ?it/s]"
      ]
     },
     "metadata": {},
     "output_type": "display_data"
    },
    {
     "name": "stdout",
     "output_type": "stream",
     "text": [
      "{'eval_loss': 0.54552161693573, 'eval_accuracy': 0.71875, 'eval_macro_f1': 0.7117117117117118, 'eval_weighted_f1': 0.7212837837837838, 'eval_runtime': 1.2771, 'eval_samples_per_second': 125.284, 'eval_steps_per_second': 7.83, 'epoch': 3.0}\n",
      "{'loss': 0.3735, 'grad_norm': 14.514019966125488, 'learning_rate': 1.3000000000000001e-05, 'epoch': 3.25}\n",
      "{'loss': 0.3272, 'grad_norm': 41.418209075927734, 'learning_rate': 1.4000000000000001e-05, 'epoch': 3.5}\n",
      "{'loss': 0.3392, 'grad_norm': 15.881916046142578, 'learning_rate': 1.5e-05, 'epoch': 3.75}\n",
      "{'loss': 0.4426, 'grad_norm': 16.428939819335938, 'learning_rate': 1.6000000000000003e-05, 'epoch': 4.0}\n"
     ]
    },
    {
     "data": {
      "application/vnd.jupyter.widget-view+json": {
       "model_id": "d29099cf3b22495e951b3aa3bc7180e2",
       "version_major": 2,
       "version_minor": 0
      },
      "text/plain": [
       "  0%|          | 0/10 [00:00<?, ?it/s]"
      ]
     },
     "metadata": {},
     "output_type": "display_data"
    },
    {
     "name": "stdout",
     "output_type": "stream",
     "text": [
      "{'eval_loss': 0.7061473727226257, 'eval_accuracy': 0.66875, 'eval_macro_f1': 0.6686335039662381, 'eval_weighted_f1': 0.6699537923488726, 'eval_runtime': 1.3186, 'eval_samples_per_second': 121.343, 'eval_steps_per_second': 7.584, 'epoch': 4.0}\n",
      "{'loss': 0.3366, 'grad_norm': 19.55482292175293, 'learning_rate': 1.7000000000000003e-05, 'epoch': 4.25}\n",
      "{'loss': 0.2585, 'grad_norm': 30.03812599182129, 'learning_rate': 1.8e-05, 'epoch': 4.5}\n",
      "{'loss': 0.3256, 'grad_norm': 18.452299118041992, 'learning_rate': 1.9e-05, 'epoch': 4.75}\n",
      "{'loss': 0.3237, 'grad_norm': 23.509862899780273, 'learning_rate': 2e-05, 'epoch': 5.0}\n"
     ]
    },
    {
     "data": {
      "application/vnd.jupyter.widget-view+json": {
       "model_id": "9cf2ceee402e49e0951accf907ea8044",
       "version_major": 2,
       "version_minor": 0
      },
      "text/plain": [
       "  0%|          | 0/10 [00:00<?, ?it/s]"
      ]
     },
     "metadata": {},
     "output_type": "display_data"
    },
    {
     "name": "stdout",
     "output_type": "stream",
     "text": [
      "{'eval_loss': 0.7562122344970703, 'eval_accuracy': 0.7375, 'eval_macro_f1': 0.736842105263158, 'eval_weighted_f1': 0.7396381578947369, 'eval_runtime': 1.291, 'eval_samples_per_second': 123.939, 'eval_steps_per_second': 7.746, 'epoch': 5.0}\n",
      "{'loss': 0.3081, 'grad_norm': 16.851675033569336, 'learning_rate': 2.1e-05, 'epoch': 5.25}\n",
      "{'loss': 0.2502, 'grad_norm': 4.694599628448486, 'learning_rate': 2.2000000000000003e-05, 'epoch': 5.5}\n",
      "{'loss': 0.2131, 'grad_norm': 39.07694625854492, 'learning_rate': 2.3000000000000003e-05, 'epoch': 5.75}\n",
      "{'loss': 0.2834, 'grad_norm': 110.89900207519531, 'learning_rate': 2.4e-05, 'epoch': 6.0}\n"
     ]
    },
    {
     "data": {
      "application/vnd.jupyter.widget-view+json": {
       "model_id": "1a76e4583aae482fa21c3f9f0748a8e2",
       "version_major": 2,
       "version_minor": 0
      },
      "text/plain": [
       "  0%|          | 0/10 [00:00<?, ?it/s]"
      ]
     },
     "metadata": {},
     "output_type": "display_data"
    },
    {
     "name": "stdout",
     "output_type": "stream",
     "text": [
      "{'eval_loss': 0.9077261686325073, 'eval_accuracy': 0.75, 'eval_macro_f1': 0.7467953790156671, 'eval_weighted_f1': 0.7528485519860737, 'eval_runtime': 1.299, 'eval_samples_per_second': 123.172, 'eval_steps_per_second': 7.698, 'epoch': 6.0}\n",
      "{'loss': 0.2091, 'grad_norm': 10.444242477416992, 'learning_rate': 2.5e-05, 'epoch': 6.25}\n",
      "{'loss': 0.1901, 'grad_norm': 17.983081817626953, 'learning_rate': 2.6000000000000002e-05, 'epoch': 6.5}\n",
      "{'loss': 0.1362, 'grad_norm': 12.682918548583984, 'learning_rate': 2.7000000000000002e-05, 'epoch': 6.75}\n",
      "{'loss': 0.2344, 'grad_norm': 12.85401725769043, 'learning_rate': 2.8000000000000003e-05, 'epoch': 7.0}\n"
     ]
    },
    {
     "data": {
      "application/vnd.jupyter.widget-view+json": {
       "model_id": "79b2e946c4b14898b5026fe30d4d0439",
       "version_major": 2,
       "version_minor": 0
      },
      "text/plain": [
       "  0%|          | 0/10 [00:00<?, ?it/s]"
      ]
     },
     "metadata": {},
     "output_type": "display_data"
    },
    {
     "name": "stdout",
     "output_type": "stream",
     "text": [
      "{'eval_loss': 1.1557468175888062, 'eval_accuracy': 0.775, 'eval_macro_f1': 0.76, 'eval_weighted_f1': 0.7727499999999999, 'eval_runtime': 1.2671, 'eval_samples_per_second': 126.268, 'eval_steps_per_second': 7.892, 'epoch': 7.0}\n",
      "{'loss': 0.2338, 'grad_norm': 85.31645202636719, 'learning_rate': 2.9e-05, 'epoch': 7.25}\n",
      "{'loss': 0.44, 'grad_norm': 74.87035369873047, 'learning_rate': 3e-05, 'epoch': 7.5}\n",
      "{'loss': 0.316, 'grad_norm': 34.51276779174805, 'learning_rate': 3.1e-05, 'epoch': 7.75}\n",
      "{'loss': 0.1342, 'grad_norm': 5.129641532897949, 'learning_rate': 3.2000000000000005e-05, 'epoch': 8.0}\n"
     ]
    },
    {
     "data": {
      "application/vnd.jupyter.widget-view+json": {
       "model_id": "28ceb417ac1f4f6eb89c36fc57a09abc",
       "version_major": 2,
       "version_minor": 0
      },
      "text/plain": [
       "  0%|          | 0/10 [00:00<?, ?it/s]"
      ]
     },
     "metadata": {},
     "output_type": "display_data"
    },
    {
     "name": "stdout",
     "output_type": "stream",
     "text": [
      "{'eval_loss': 0.8911710977554321, 'eval_accuracy': 0.78125, 'eval_macro_f1': 0.7757757757757757, 'eval_weighted_f1': 0.7832207207207208, 'eval_runtime': 1.2981, 'eval_samples_per_second': 123.261, 'eval_steps_per_second': 7.704, 'epoch': 8.0}\n",
      "{'loss': 0.0812, 'grad_norm': 1.328125238418579, 'learning_rate': 3.3e-05, 'epoch': 8.25}\n",
      "{'loss': 0.237, 'grad_norm': 14.304564476013184, 'learning_rate': 3.4000000000000007e-05, 'epoch': 8.5}\n",
      "{'loss': 0.1622, 'grad_norm': 25.417861938476562, 'learning_rate': 3.5e-05, 'epoch': 8.75}\n",
      "{'loss': 0.401, 'grad_norm': 29.40496826171875, 'learning_rate': 3.6e-05, 'epoch': 9.0}\n"
     ]
    },
    {
     "data": {
      "application/vnd.jupyter.widget-view+json": {
       "model_id": "69e7df86a70c46649bbabc3db688a08c",
       "version_major": 2,
       "version_minor": 0
      },
      "text/plain": [
       "  0%|          | 0/10 [00:00<?, ?it/s]"
      ]
     },
     "metadata": {},
     "output_type": "display_data"
    },
    {
     "name": "stdout",
     "output_type": "stream",
     "text": [
      "{'eval_loss': 0.6801835894584656, 'eval_accuracy': 0.80625, 'eval_macro_f1': 0.800570946081782, 'eval_weighted_f1': 0.8077223473121306, 'eval_runtime': 1.3552, 'eval_samples_per_second': 118.064, 'eval_steps_per_second': 7.379, 'epoch': 9.0}\n",
      "{'loss': 0.1879, 'grad_norm': 166.05685424804688, 'learning_rate': 3.7e-05, 'epoch': 9.25}\n",
      "{'loss': 0.1109, 'grad_norm': 1.318762183189392, 'learning_rate': 3.8e-05, 'epoch': 9.5}\n",
      "{'loss': 0.2646, 'grad_norm': 11.164958953857422, 'learning_rate': 3.9000000000000006e-05, 'epoch': 9.75}\n",
      "{'loss': 0.2247, 'grad_norm': 0.19682539999485016, 'learning_rate': 4e-05, 'epoch': 10.0}\n"
     ]
    },
    {
     "data": {
      "application/vnd.jupyter.widget-view+json": {
       "model_id": "7387f342cf0a4f31ad34f6baf31a9c54",
       "version_major": 2,
       "version_minor": 0
      },
      "text/plain": [
       "  0%|          | 0/10 [00:00<?, ?it/s]"
      ]
     },
     "metadata": {},
     "output_type": "display_data"
    },
    {
     "name": "stdout",
     "output_type": "stream",
     "text": [
      "{'eval_loss': 1.1271089315414429, 'eval_accuracy': 0.775, 'eval_macro_f1': 0.7698209718670077, 'eval_weighted_f1': 0.7771579283887469, 'eval_runtime': 1.3144, 'eval_samples_per_second': 121.731, 'eval_steps_per_second': 7.608, 'epoch': 10.0}\n",
      "{'train_runtime': 275.3088, 'train_samples_per_second': 23.247, 'train_steps_per_second': 1.453, 'train_loss': 0.3357498075067997, 'epoch': 10.0}\n"
     ]
    }
   ],
   "source": [
    "from transformers import TrainingArguments, Trainer\n",
    " # Define the compute_metrics function\n",
    "def compute_metrics(pred):\n",
    "    labels = pred.label_ids\n",
    "    preds = np.argmax(pred.predictions, axis=1)\n",
    "    accuracy = accuracy_score(labels, preds)\n",
    "    macro_f1 = f1_score(labels, preds, average='macro')\n",
    "    weighted_f1 = f1_score(labels, preds, average='weighted')\n",
    "    return {\n",
    "        'accuracy': accuracy,\n",
    "        'macro_f1': macro_f1,\n",
    "        'weighted_f1': weighted_f1\n",
    "    }\n",
    "\n",
    "class TrainMetricsLogger(TrainerCallback):\n",
    "    def on_log(self, args, state, control, logs=None, **kwargs):\n",
    "        if logs is not None:\n",
    "            print(f\"Epoch: {state.epoch}, Training Metrics: {logs}\")\n",
    "\n",
    "training_args = TrainingArguments(\n",
    "    output_dir='./results',\n",
    "    eval_strategy='epoch',     # Evaluate every epoch\n",
    "    num_train_epochs=10,              # Number of epochs\n",
    "    per_device_train_batch_size=16,   # Batch size for training\n",
    "    per_device_eval_batch_size=16,    # Batch size for evaluation\n",
    "    warmup_steps=500,                # Number of warmup steps\n",
    "    weight_decay=0.05,               # Strength of weight decay\n",
    "    logging_dir='./logs',            # Directory for logs\n",
    "    logging_steps=10,\n",
    "    load_best_model_at_end=True,\n",
    "    save_strategy='epoch',\n",
    ")\n",
    " \n",
    "trainer = Trainer(\n",
    "    model=model,\n",
    "    args=training_args,\n",
    "    train_dataset=train_dataset,\n",
    "    eval_dataset=test_dataset,\n",
    "    compute_metrics=compute_metrics,\n",
    ")\n",
    "train_result = trainer.train()"
   ]
  },
  {
   "cell_type": "code",
   "execution_count": 7,
   "metadata": {},
   "outputs": [
    {
     "name": "stderr",
     "output_type": "stream",
     "text": [
      "/Users/5036365/Documents/text-recommendation/.venv/lib/python3.9/site-packages/urllib3/__init__.py:35: NotOpenSSLWarning: urllib3 v2 only supports OpenSSL 1.1.1+, currently the 'ssl' module is compiled with 'LibreSSL 2.8.3'. See: https://github.com/urllib3/urllib3/issues/3020\n",
      "  warnings.warn(\n"
     ]
    }
   ],
   "source": [
    "from transformers import AutoTokenizer\n",
    " \n",
    "import torch\n",
    "import numpy as np\n",
    "from transformers import DistilBertTokenizerFast, DistilBertForSequenceClassification, Trainer, TrainingArguments, TrainerCallback\n",
    "from sklearn.model_selection import train_test_split\n",
    "from datasets import Dataset\n",
    "from sklearn.metrics import accuracy_score, f1_score\n",
    "import matplotlib.pyplot as plt\n",
    "import os\n",
    "from transformers import BertTokenizer, BertForSequenceClassification\n",
    "\n",
    "# Split the data into train and test sets\n",
    "#train_texts, test_texts, train_labels, test_labels = train_test_split(AWM['Text'], AWM['label'], test_size=0.2)\n",
    " \n",
    "\n",
    "train_texts, train_labels,test_texts, test_labels = AWM['transcriptions'], AWM['labels'],AWM_val['transcriptions'], AWM_val['labels']\n",
    "# Load tokenizer\n",
    "model_name = \"l3cube-pune/malayalam-bert\"\n",
    "tokenizer = BertTokenizer.from_pretrained(model_name)\n",
    " \n",
    "# Tokenize dataset\n",
    "def preprocess_function(examples):\n",
    "    return tokenizer(examples.to_list(), truncation=True, padding=\"max_length\", max_length=128)\n",
    " \n",
    "train_encodings = preprocess_function(train_texts)\n",
    "test_encodings = preprocess_function(test_texts)"
   ]
  },
  {
   "cell_type": "code",
   "execution_count": 8,
   "metadata": {},
   "outputs": [],
   "source": [
    "# Convert to Hugging Face Dataset format, and include 'labels' in the Dataset\n",
    "train_dataset = Dataset.from_dict({\n",
    "    'input_ids': train_encodings['input_ids'],\n",
    "    'attention_mask': train_encodings['attention_mask'],\n",
    "    'labels': train_labels  # Ensure labels are included\n",
    "})\n",
    "\n",
    "test_dataset = Dataset.from_dict({\n",
    "    'input_ids': test_encodings['input_ids'],\n",
    "    'attention_mask': test_encodings['attention_mask'],\n",
    "    'labels': test_labels  # Ensure labels are included\n",
    "})\n"
   ]
  },
  {
   "cell_type": "code",
   "execution_count": 9,
   "metadata": {},
   "outputs": [
    {
     "name": "stderr",
     "output_type": "stream",
     "text": [
      "Some weights of BertForSequenceClassification were not initialized from the model checkpoint at l3cube-pune/malayalam-bert and are newly initialized: ['bert.pooler.dense.bias', 'bert.pooler.dense.weight', 'classifier.bias', 'classifier.weight']\n",
      "You should probably TRAIN this model on a down-stream task to be able to use it for predictions and inference.\n"
     ]
    }
   ],
   "source": [
    " \n",
    "model = BertForSequenceClassification.from_pretrained(model_name, num_labels=2)"
   ]
  },
  {
   "cell_type": "code",
   "execution_count": 10,
   "metadata": {},
   "outputs": [
    {
     "data": {
      "application/vnd.jupyter.widget-view+json": {
       "model_id": "fb761cfdb9a84c9f827e8ba10b358d1e",
       "version_major": 2,
       "version_minor": 0
      },
      "text/plain": [
       "  0%|          | 0/790 [00:00<?, ?it/s]"
      ]
     },
     "metadata": {},
     "output_type": "display_data"
    },
    {
     "name": "stdout",
     "output_type": "stream",
     "text": [
      "{'loss': 0.6934, 'grad_norm': 0.24948449432849884, 'learning_rate': 1.0000000000000002e-06, 'epoch': 0.13}\n",
      "{'loss': 0.6934, 'grad_norm': 0.4617324769496918, 'learning_rate': 2.0000000000000003e-06, 'epoch': 0.25}\n",
      "{'loss': 0.6932, 'grad_norm': 0.08503407984972, 'learning_rate': 3e-06, 'epoch': 0.38}\n",
      "{'loss': 0.6929, 'grad_norm': 0.23755939304828644, 'learning_rate': 4.000000000000001e-06, 'epoch': 0.51}\n",
      "{'loss': 0.6927, 'grad_norm': 0.24050067365169525, 'learning_rate': 5e-06, 'epoch': 0.63}\n",
      "{'loss': 0.6924, 'grad_norm': 0.08457814902067184, 'learning_rate': 6e-06, 'epoch': 0.76}\n",
      "{'loss': 0.6911, 'grad_norm': 0.2601985037326813, 'learning_rate': 7.000000000000001e-06, 'epoch': 0.89}\n"
     ]
    },
    {
     "data": {
      "application/vnd.jupyter.widget-view+json": {
       "model_id": "2ff75ee88cf540cdb9443802e5e8cfc9",
       "version_major": 2,
       "version_minor": 0
      },
      "text/plain": [
       "  0%|          | 0/20 [00:00<?, ?it/s]"
      ]
     },
     "metadata": {},
     "output_type": "display_data"
    },
    {
     "name": "stdout",
     "output_type": "stream",
     "text": [
      "{'eval_loss': 0.6884125471115112, 'eval_accuracy': 0.60625, 'eval_macro_f1': 0.377431906614786, 'eval_weighted_f1': 0.45763618677042806, 'eval_runtime': 1.3897, 'eval_samples_per_second': 115.135, 'eval_steps_per_second': 14.392, 'epoch': 1.0}\n",
      "{'loss': 0.6892, 'grad_norm': 0.2505854368209839, 'learning_rate': 8.000000000000001e-06, 'epoch': 1.01}\n",
      "{'loss': 0.6837, 'grad_norm': 0.5139064192771912, 'learning_rate': 9e-06, 'epoch': 1.14}\n",
      "{'loss': 0.6795, 'grad_norm': 0.5908999443054199, 'learning_rate': 1e-05, 'epoch': 1.27}\n",
      "{'loss': 0.66, 'grad_norm': 0.6277580857276917, 'learning_rate': 1.1000000000000001e-05, 'epoch': 1.39}\n",
      "{'loss': 0.6577, 'grad_norm': 0.5389516949653625, 'learning_rate': 1.2e-05, 'epoch': 1.52}\n",
      "{'loss': 0.6619, 'grad_norm': 0.8741613626480103, 'learning_rate': 1.3000000000000001e-05, 'epoch': 1.65}\n",
      "{'loss': 0.6491, 'grad_norm': 1.0870167016983032, 'learning_rate': 1.4000000000000001e-05, 'epoch': 1.77}\n",
      "{'loss': 0.6329, 'grad_norm': 1.0668222904205322, 'learning_rate': 1.5e-05, 'epoch': 1.9}\n"
     ]
    },
    {
     "data": {
      "application/vnd.jupyter.widget-view+json": {
       "model_id": "8275ac29a5b84d2ca2dbc9863e0b4b43",
       "version_major": 2,
       "version_minor": 0
      },
      "text/plain": [
       "  0%|          | 0/20 [00:00<?, ?it/s]"
      ]
     },
     "metadata": {},
     "output_type": "display_data"
    },
    {
     "name": "stdout",
     "output_type": "stream",
     "text": [
      "{'eval_loss': 0.629693865776062, 'eval_accuracy': 0.675, 'eval_macro_f1': 0.5429575917380796, 'eval_weighted_f1': 0.5951604043067457, 'eval_runtime': 1.4081, 'eval_samples_per_second': 113.628, 'eval_steps_per_second': 14.204, 'epoch': 2.0}\n",
      "{'loss': 0.6424, 'grad_norm': 1.3785604238510132, 'learning_rate': 1.6000000000000003e-05, 'epoch': 2.03}\n",
      "{'loss': 0.609, 'grad_norm': 2.3732240200042725, 'learning_rate': 1.7000000000000003e-05, 'epoch': 2.15}\n",
      "{'loss': 0.5787, 'grad_norm': 3.537667989730835, 'learning_rate': 1.8e-05, 'epoch': 2.28}\n",
      "{'loss': 0.5526, 'grad_norm': 1.1114362478256226, 'learning_rate': 1.9e-05, 'epoch': 2.41}\n",
      "{'loss': 0.579, 'grad_norm': 6.0669474601745605, 'learning_rate': 2e-05, 'epoch': 2.53}\n",
      "{'loss': 0.526, 'grad_norm': 5.6150803565979, 'learning_rate': 2.1e-05, 'epoch': 2.66}\n",
      "{'loss': 0.4951, 'grad_norm': 6.988227844238281, 'learning_rate': 2.2000000000000003e-05, 'epoch': 2.78}\n",
      "{'loss': 0.4714, 'grad_norm': 4.610678672790527, 'learning_rate': 2.3000000000000003e-05, 'epoch': 2.91}\n"
     ]
    },
    {
     "data": {
      "application/vnd.jupyter.widget-view+json": {
       "model_id": "504f0a1f8a874f8ca107c55972ad8e65",
       "version_major": 2,
       "version_minor": 0
      },
      "text/plain": [
       "  0%|          | 0/20 [00:00<?, ?it/s]"
      ]
     },
     "metadata": {},
     "output_type": "display_data"
    },
    {
     "name": "stdout",
     "output_type": "stream",
     "text": [
      "{'eval_loss': 0.5179322957992554, 'eval_accuracy': 0.79375, 'eval_macro_f1': 0.7867442142251302, 'eval_weighted_f1': 0.7949578940991155, 'eval_runtime': 1.3832, 'eval_samples_per_second': 115.675, 'eval_steps_per_second': 14.459, 'epoch': 3.0}\n",
      "{'loss': 0.4569, 'grad_norm': 9.711134910583496, 'learning_rate': 2.4e-05, 'epoch': 3.04}\n",
      "{'loss': 0.3703, 'grad_norm': 0.8828966617584229, 'learning_rate': 2.5e-05, 'epoch': 3.16}\n",
      "{'loss': 0.3262, 'grad_norm': 0.8216806054115295, 'learning_rate': 2.6000000000000002e-05, 'epoch': 3.29}\n",
      "{'loss': 0.4316, 'grad_norm': 1.2356775999069214, 'learning_rate': 2.7000000000000002e-05, 'epoch': 3.42}\n",
      "{'loss': 0.3088, 'grad_norm': 11.626940727233887, 'learning_rate': 2.8000000000000003e-05, 'epoch': 3.54}\n",
      "{'loss': 0.3425, 'grad_norm': 8.394546508789062, 'learning_rate': 2.9e-05, 'epoch': 3.67}\n",
      "{'loss': 0.322, 'grad_norm': 1.128577709197998, 'learning_rate': 3e-05, 'epoch': 3.8}\n",
      "{'loss': 0.2489, 'grad_norm': 1.8033990859985352, 'learning_rate': 3.1e-05, 'epoch': 3.92}\n"
     ]
    },
    {
     "data": {
      "application/vnd.jupyter.widget-view+json": {
       "model_id": "8533f1504c4445059930ceef371cc037",
       "version_major": 2,
       "version_minor": 0
      },
      "text/plain": [
       "  0%|          | 0/20 [00:00<?, ?it/s]"
      ]
     },
     "metadata": {},
     "output_type": "display_data"
    },
    {
     "name": "stdout",
     "output_type": "stream",
     "text": [
      "{'eval_loss': 0.5156551003456116, 'eval_accuracy': 0.79375, 'eval_macro_f1': 0.7857055887008402, 'eval_weighted_f1': 0.7945284914160478, 'eval_runtime': 1.4233, 'eval_samples_per_second': 112.417, 'eval_steps_per_second': 14.052, 'epoch': 4.0}\n",
      "{'loss': 0.19, 'grad_norm': 0.841144323348999, 'learning_rate': 3.2000000000000005e-05, 'epoch': 4.05}\n",
      "{'loss': 0.1607, 'grad_norm': 0.49572545289993286, 'learning_rate': 3.3e-05, 'epoch': 4.18}\n",
      "{'loss': 0.1454, 'grad_norm': 0.43698447942733765, 'learning_rate': 3.4000000000000007e-05, 'epoch': 4.3}\n",
      "{'loss': 0.2279, 'grad_norm': 0.3885098099708557, 'learning_rate': 3.5e-05, 'epoch': 4.43}\n",
      "{'loss': 0.0971, 'grad_norm': 0.4649065434932709, 'learning_rate': 3.6e-05, 'epoch': 4.56}\n",
      "{'loss': 0.1063, 'grad_norm': 5.365305423736572, 'learning_rate': 3.7e-05, 'epoch': 4.68}\n",
      "{'loss': 0.2526, 'grad_norm': 7.695383548736572, 'learning_rate': 3.8e-05, 'epoch': 4.81}\n",
      "{'loss': 0.166, 'grad_norm': 5.302908897399902, 'learning_rate': 3.9000000000000006e-05, 'epoch': 4.94}\n"
     ]
    },
    {
     "data": {
      "application/vnd.jupyter.widget-view+json": {
       "model_id": "3649f1466f5341718c1ac82a2437029c",
       "version_major": 2,
       "version_minor": 0
      },
      "text/plain": [
       "  0%|          | 0/20 [00:00<?, ?it/s]"
      ]
     },
     "metadata": {},
     "output_type": "display_data"
    },
    {
     "name": "stdout",
     "output_type": "stream",
     "text": [
      "{'eval_loss': 0.6274874806404114, 'eval_accuracy': 0.7875, 'eval_macro_f1': 0.7761685319289007, 'eval_weighted_f1': 0.7868704739960501, 'eval_runtime': 1.427, 'eval_samples_per_second': 112.123, 'eval_steps_per_second': 14.015, 'epoch': 5.0}\n",
      "{'loss': 0.2449, 'grad_norm': 0.8689872026443481, 'learning_rate': 4e-05, 'epoch': 5.06}\n",
      "{'loss': 0.1004, 'grad_norm': 13.132722854614258, 'learning_rate': 4.1e-05, 'epoch': 5.19}\n",
      "{'loss': 0.1372, 'grad_norm': 143.44581604003906, 'learning_rate': 4.2e-05, 'epoch': 5.32}\n",
      "{'loss': 0.1608, 'grad_norm': 0.24250449240207672, 'learning_rate': 4.3e-05, 'epoch': 5.44}\n",
      "{'loss': 0.2159, 'grad_norm': 0.20628900825977325, 'learning_rate': 4.4000000000000006e-05, 'epoch': 5.57}\n",
      "{'loss': 0.0265, 'grad_norm': 0.1767731010913849, 'learning_rate': 4.5e-05, 'epoch': 5.7}\n",
      "{'loss': 0.2068, 'grad_norm': 3.970503568649292, 'learning_rate': 4.600000000000001e-05, 'epoch': 5.82}\n",
      "{'loss': 0.2034, 'grad_norm': 0.6526020765304565, 'learning_rate': 4.7e-05, 'epoch': 5.95}\n"
     ]
    },
    {
     "data": {
      "application/vnd.jupyter.widget-view+json": {
       "model_id": "a57d16269cdd4b11af86a720fee2909a",
       "version_major": 2,
       "version_minor": 0
      },
      "text/plain": [
       "  0%|          | 0/20 [00:00<?, ?it/s]"
      ]
     },
     "metadata": {},
     "output_type": "display_data"
    },
    {
     "name": "stdout",
     "output_type": "stream",
     "text": [
      "{'eval_loss': 0.8370733261108398, 'eval_accuracy': 0.76875, 'eval_macro_f1': 0.7646965300687627, 'eval_weighted_f1': 0.7712592909098135, 'eval_runtime': 1.412, 'eval_samples_per_second': 113.318, 'eval_steps_per_second': 14.165, 'epoch': 6.0}\n",
      "{'loss': 0.0435, 'grad_norm': 29.771312713623047, 'learning_rate': 4.8e-05, 'epoch': 6.08}\n",
      "{'loss': 0.1576, 'grad_norm': 0.1425931602716446, 'learning_rate': 4.9e-05, 'epoch': 6.2}\n",
      "{'loss': 0.0696, 'grad_norm': 0.17085155844688416, 'learning_rate': 5e-05, 'epoch': 6.33}\n",
      "{'loss': 0.0176, 'grad_norm': 0.1429956555366516, 'learning_rate': 4.827586206896552e-05, 'epoch': 6.46}\n",
      "{'loss': 0.1006, 'grad_norm': 131.41058349609375, 'learning_rate': 4.655172413793104e-05, 'epoch': 6.58}\n",
      "{'loss': 0.1927, 'grad_norm': 0.10636679083108902, 'learning_rate': 4.482758620689655e-05, 'epoch': 6.71}\n",
      "{'loss': 0.1237, 'grad_norm': 0.1793067306280136, 'learning_rate': 4.3103448275862066e-05, 'epoch': 6.84}\n",
      "{'loss': 0.0126, 'grad_norm': 0.11548082530498505, 'learning_rate': 4.1379310344827587e-05, 'epoch': 6.96}\n"
     ]
    },
    {
     "data": {
      "application/vnd.jupyter.widget-view+json": {
       "model_id": "d034763460684289822244bac843e1d2",
       "version_major": 2,
       "version_minor": 0
      },
      "text/plain": [
       "  0%|          | 0/20 [00:00<?, ?it/s]"
      ]
     },
     "metadata": {},
     "output_type": "display_data"
    },
    {
     "name": "stdout",
     "output_type": "stream",
     "text": [
      "{'eval_loss': 0.912906289100647, 'eval_accuracy': 0.7875, 'eval_macro_f1': 0.7853535353535352, 'eval_weighted_f1': 0.7899147727272726, 'eval_runtime': 1.4085, 'eval_samples_per_second': 113.592, 'eval_steps_per_second': 14.199, 'epoch': 7.0}\n",
      "{'loss': 0.1155, 'grad_norm': 0.09436507523059845, 'learning_rate': 3.965517241379311e-05, 'epoch': 7.09}\n",
      "{'loss': 0.1844, 'grad_norm': 0.10370096564292908, 'learning_rate': 3.793103448275862e-05, 'epoch': 7.22}\n",
      "{'loss': 0.0609, 'grad_norm': 0.09530524164438248, 'learning_rate': 3.620689655172414e-05, 'epoch': 7.34}\n",
      "{'loss': 0.011, 'grad_norm': 0.10507930815219879, 'learning_rate': 3.4482758620689657e-05, 'epoch': 7.47}\n",
      "{'loss': 0.0088, 'grad_norm': 0.07754937559366226, 'learning_rate': 3.275862068965517e-05, 'epoch': 7.59}\n",
      "{'loss': 0.0105, 'grad_norm': 0.07396123558282852, 'learning_rate': 3.103448275862069e-05, 'epoch': 7.72}\n",
      "{'loss': 0.0078, 'grad_norm': 0.07262949645519257, 'learning_rate': 2.9310344827586206e-05, 'epoch': 7.85}\n",
      "{'loss': 0.0717, 'grad_norm': 0.06573864072561264, 'learning_rate': 2.7586206896551727e-05, 'epoch': 7.97}\n"
     ]
    },
    {
     "data": {
      "application/vnd.jupyter.widget-view+json": {
       "model_id": "c12f4ca912094207bdbd95f2a49ad14a",
       "version_major": 2,
       "version_minor": 0
      },
      "text/plain": [
       "  0%|          | 0/20 [00:00<?, ?it/s]"
      ]
     },
     "metadata": {},
     "output_type": "display_data"
    },
    {
     "name": "stdout",
     "output_type": "stream",
     "text": [
      "{'eval_loss': 0.9701939821243286, 'eval_accuracy': 0.8, 'eval_macro_f1': 0.7953964194373402, 'eval_weighted_f1': 0.8019181585677749, 'eval_runtime': 1.3892, 'eval_samples_per_second': 115.174, 'eval_steps_per_second': 14.397, 'epoch': 8.0}\n",
      "{'loss': 0.0066, 'grad_norm': 0.07300256937742233, 'learning_rate': 2.5862068965517244e-05, 'epoch': 8.1}\n",
      "{'loss': 0.0063, 'grad_norm': 0.05681227892637253, 'learning_rate': 2.413793103448276e-05, 'epoch': 8.23}\n",
      "{'loss': 0.0061, 'grad_norm': 0.14075367152690887, 'learning_rate': 2.2413793103448276e-05, 'epoch': 8.35}\n",
      "{'loss': 0.0058, 'grad_norm': 0.05322113633155823, 'learning_rate': 2.0689655172413793e-05, 'epoch': 8.48}\n",
      "{'loss': 0.0055, 'grad_norm': 0.06095152720808983, 'learning_rate': 1.896551724137931e-05, 'epoch': 8.61}\n",
      "{'loss': 0.0053, 'grad_norm': 0.5879468321800232, 'learning_rate': 1.7241379310344828e-05, 'epoch': 8.73}\n",
      "{'loss': 0.0051, 'grad_norm': 0.05100762099027634, 'learning_rate': 1.5517241379310346e-05, 'epoch': 8.86}\n",
      "{'loss': 0.0723, 'grad_norm': 0.04845309630036354, 'learning_rate': 1.3793103448275863e-05, 'epoch': 8.99}\n"
     ]
    },
    {
     "data": {
      "application/vnd.jupyter.widget-view+json": {
       "model_id": "b4b28e7d298843b08c1ab6bcad58009d",
       "version_major": 2,
       "version_minor": 0
      },
      "text/plain": [
       "  0%|          | 0/20 [00:00<?, ?it/s]"
      ]
     },
     "metadata": {},
     "output_type": "display_data"
    },
    {
     "name": "stdout",
     "output_type": "stream",
     "text": [
      "{'eval_loss': 1.0263177156448364, 'eval_accuracy': 0.79375, 'eval_macro_f1': 0.7885885885885886, 'eval_weighted_f1': 0.7956081081081081, 'eval_runtime': 1.3766, 'eval_samples_per_second': 116.232, 'eval_steps_per_second': 14.529, 'epoch': 9.0}\n",
      "{'loss': 0.1354, 'grad_norm': 0.06488047540187836, 'learning_rate': 1.206896551724138e-05, 'epoch': 9.11}\n",
      "{'loss': 0.005, 'grad_norm': 0.050644032657146454, 'learning_rate': 1.0344827586206897e-05, 'epoch': 9.24}\n",
      "{'loss': 0.071, 'grad_norm': 0.05173572525382042, 'learning_rate': 8.620689655172414e-06, 'epoch': 9.37}\n",
      "{'loss': 0.0051, 'grad_norm': 0.05438721552491188, 'learning_rate': 6.896551724137932e-06, 'epoch': 9.49}\n",
      "{'loss': 0.0049, 'grad_norm': 0.04680320993065834, 'learning_rate': 5.172413793103448e-06, 'epoch': 9.62}\n",
      "{'loss': 0.0048, 'grad_norm': 0.05012199655175209, 'learning_rate': 3.448275862068966e-06, 'epoch': 9.75}\n",
      "{'loss': 0.0049, 'grad_norm': 0.048814721405506134, 'learning_rate': 1.724137931034483e-06, 'epoch': 9.87}\n",
      "{'loss': 0.0049, 'grad_norm': 0.04847007244825363, 'learning_rate': 0.0, 'epoch': 10.0}\n"
     ]
    },
    {
     "data": {
      "application/vnd.jupyter.widget-view+json": {
       "model_id": "2892803f24d24ab88331e14d8bcdcd59",
       "version_major": 2,
       "version_minor": 0
      },
      "text/plain": [
       "  0%|          | 0/20 [00:00<?, ?it/s]"
      ]
     },
     "metadata": {},
     "output_type": "display_data"
    },
    {
     "name": "stdout",
     "output_type": "stream",
     "text": [
      "{'eval_loss': 0.9885454177856445, 'eval_accuracy': 0.81875, 'eval_macro_f1': 0.8125934003796599, 'eval_weighted_f1': 0.8198114826931621, 'eval_runtime': 1.4072, 'eval_samples_per_second': 113.702, 'eval_steps_per_second': 14.213, 'epoch': 10.0}\n",
      "{'train_runtime': 324.8987, 'train_samples_per_second': 19.452, 'train_steps_per_second': 2.432, 'train_loss': 0.27347213508018964, 'epoch': 10.0}\n"
     ]
    }
   ],
   "source": [
    "from transformers import TrainingArguments, Trainer\n",
    " # Define the compute_metrics function\n",
    "def compute_metrics(pred):\n",
    "    labels = pred.label_ids\n",
    "    preds = np.argmax(pred.predictions, axis=1)\n",
    "    accuracy = accuracy_score(labels, preds)\n",
    "    macro_f1 = f1_score(labels, preds, average='macro')\n",
    "    weighted_f1 = f1_score(labels, preds, average='weighted')\n",
    "    return {\n",
    "        'accuracy': accuracy,\n",
    "        'macro_f1': macro_f1,\n",
    "        'weighted_f1': weighted_f1\n",
    "    }\n",
    "\n",
    "class TrainMetricsLogger(TrainerCallback):\n",
    "    def on_log(self, args, state, control, logs=None, **kwargs):\n",
    "        if logs is not None:\n",
    "            print(f\"Epoch: {state.epoch}, Training Metrics: {logs}\")\n",
    "\n",
    "training_args = TrainingArguments(\n",
    "    output_dir='./results',\n",
    "    eval_strategy='epoch',     # Evaluate every epoch\n",
    "    num_train_epochs=10,              # Number of epochs\n",
    "    per_device_train_batch_size=8,   # Batch size for training\n",
    "    per_device_eval_batch_size=8,    # Batch size for evaluation\n",
    "    warmup_steps=500,                # Number of warmup steps\n",
    "    weight_decay=0.05,               # Strength of weight decay\n",
    "    logging_dir='./logs',            # Directory for logs\n",
    "    logging_steps=10,\n",
    "    load_best_model_at_end=True,\n",
    "    save_strategy='epoch',\n",
    ")\n",
    " \n",
    "trainer = Trainer(\n",
    "    model=model,\n",
    "    args=training_args,\n",
    "    train_dataset=train_dataset,\n",
    "    eval_dataset=test_dataset,\n",
    "    compute_metrics=compute_metrics,\n",
    ")\n",
    "train_result = trainer.train()"
   ]
  },
  {
   "cell_type": "code",
   "execution_count": 11,
   "metadata": {},
   "outputs": [
    {
     "data": {
      "application/vnd.jupyter.widget-view+json": {
       "model_id": "f8d0634928764e8f9bd2d5829c10b4e3",
       "version_major": 2,
       "version_minor": 0
      },
      "text/plain": [
       "  0%|          | 0/1580 [00:00<?, ?it/s]"
      ]
     },
     "metadata": {},
     "output_type": "display_data"
    },
    {
     "name": "stdout",
     "output_type": "stream",
     "text": [
      "{'loss': 0.128, 'grad_norm': 0.6564546823501587, 'learning_rate': 1.0000000000000002e-06, 'epoch': 0.06}\n",
      "{'loss': 0.2372, 'grad_norm': 0.5993016958236694, 'learning_rate': 2.0000000000000003e-06, 'epoch': 0.13}\n",
      "{'loss': 0.1448, 'grad_norm': 3.769517183303833, 'learning_rate': 3e-06, 'epoch': 0.19}\n",
      "{'loss': 0.1272, 'grad_norm': 1.7521510124206543, 'learning_rate': 4.000000000000001e-06, 'epoch': 0.25}\n",
      "{'loss': 0.135, 'grad_norm': 0.6707231998443604, 'learning_rate': 5e-06, 'epoch': 0.32}\n",
      "{'loss': 0.2238, 'grad_norm': 7.000926971435547, 'learning_rate': 6e-06, 'epoch': 0.38}\n",
      "{'loss': 0.1217, 'grad_norm': 0.6378626823425293, 'learning_rate': 7.000000000000001e-06, 'epoch': 0.44}\n",
      "{'loss': 0.1657, 'grad_norm': 0.8278731107711792, 'learning_rate': 8.000000000000001e-06, 'epoch': 0.51}\n",
      "{'loss': 0.22, 'grad_norm': 0.6149020791053772, 'learning_rate': 9e-06, 'epoch': 0.57}\n",
      "{'loss': 0.1631, 'grad_norm': 0.5099255442619324, 'learning_rate': 1e-05, 'epoch': 0.63}\n",
      "{'loss': 0.1041, 'grad_norm': 0.5005773305892944, 'learning_rate': 1.1000000000000001e-05, 'epoch': 0.7}\n",
      "{'loss': 0.0983, 'grad_norm': 0.4827883243560791, 'learning_rate': 1.2e-05, 'epoch': 0.76}\n",
      "{'loss': 0.0887, 'grad_norm': 0.47178488969802856, 'learning_rate': 1.3000000000000001e-05, 'epoch': 0.82}\n",
      "{'loss': 0.1457, 'grad_norm': 0.43795475363731384, 'learning_rate': 1.4000000000000001e-05, 'epoch': 0.89}\n",
      "{'loss': 0.1537, 'grad_norm': 0.41580840945243835, 'learning_rate': 1.5e-05, 'epoch': 0.95}\n"
     ]
    },
    {
     "data": {
      "application/vnd.jupyter.widget-view+json": {
       "model_id": "1089373a5c5b4af291bd4a2ef5797c83",
       "version_major": 2,
       "version_minor": 0
      },
      "text/plain": [
       "  0%|          | 0/40 [00:00<?, ?it/s]"
      ]
     },
     "metadata": {},
     "output_type": "display_data"
    },
    {
     "name": "stdout",
     "output_type": "stream",
     "text": [
      "{'eval_loss': 0.5982922315597534, 'eval_accuracy': 0.7875, 'eval_macro_f1': 0.7797570850202429, 'eval_weighted_f1': 0.7885323886639677, 'eval_runtime': 1.5718, 'eval_samples_per_second': 101.795, 'eval_steps_per_second': 25.449, 'epoch': 1.0}\n",
      "{'loss': 0.143, 'grad_norm': 0.42859432101249695, 'learning_rate': 1.6000000000000003e-05, 'epoch': 1.01}\n",
      "{'loss': 0.0732, 'grad_norm': 0.46448010206222534, 'learning_rate': 1.7000000000000003e-05, 'epoch': 1.08}\n",
      "{'loss': 0.1273, 'grad_norm': 0.3940146565437317, 'learning_rate': 1.8e-05, 'epoch': 1.14}\n",
      "{'loss': 0.06, 'grad_norm': 0.3577873110771179, 'learning_rate': 1.9e-05, 'epoch': 1.2}\n",
      "{'loss': 0.0555, 'grad_norm': 0.3156800866127014, 'learning_rate': 2e-05, 'epoch': 1.27}\n",
      "{'loss': 0.0493, 'grad_norm': 0.32305166125297546, 'learning_rate': 2.1e-05, 'epoch': 1.33}\n",
      "{'loss': 0.0436, 'grad_norm': 0.3015062212944031, 'learning_rate': 2.2000000000000003e-05, 'epoch': 1.39}\n",
      "{'loss': 0.1301, 'grad_norm': 3.7693095207214355, 'learning_rate': 2.3000000000000003e-05, 'epoch': 1.46}\n",
      "{'loss': 0.0398, 'grad_norm': 0.23468148708343506, 'learning_rate': 2.4e-05, 'epoch': 1.52}\n",
      "{'loss': 0.4045, 'grad_norm': 0.2511634826660156, 'learning_rate': 2.5e-05, 'epoch': 1.58}\n",
      "{'loss': 0.2156, 'grad_norm': 0.22827646136283875, 'learning_rate': 2.6000000000000002e-05, 'epoch': 1.65}\n",
      "{'loss': 0.2992, 'grad_norm': 2.1960766315460205, 'learning_rate': 2.7000000000000002e-05, 'epoch': 1.71}\n",
      "{'loss': 0.034, 'grad_norm': 0.26936808228492737, 'learning_rate': 2.8000000000000003e-05, 'epoch': 1.77}\n",
      "{'loss': 0.1545, 'grad_norm': 835.2999267578125, 'learning_rate': 2.9e-05, 'epoch': 1.84}\n",
      "{'loss': 0.1191, 'grad_norm': 0.19761325418949127, 'learning_rate': 3e-05, 'epoch': 1.9}\n",
      "{'loss': 0.2754, 'grad_norm': 0.8637542724609375, 'learning_rate': 3.1e-05, 'epoch': 1.96}\n"
     ]
    },
    {
     "data": {
      "application/vnd.jupyter.widget-view+json": {
       "model_id": "dcc67ed2684c4c7390e0f8af904df68b",
       "version_major": 2,
       "version_minor": 0
      },
      "text/plain": [
       "  0%|          | 0/40 [00:00<?, ?it/s]"
      ]
     },
     "metadata": {},
     "output_type": "display_data"
    },
    {
     "name": "stdout",
     "output_type": "stream",
     "text": [
      "{'eval_loss': 0.6208317875862122, 'eval_accuracy': 0.8375, 'eval_macro_f1': 0.8266666666666667, 'eval_weighted_f1': 0.835875, 'eval_runtime': 1.6027, 'eval_samples_per_second': 99.829, 'eval_steps_per_second': 24.957, 'epoch': 2.0}\n",
      "{'loss': 0.2992, 'grad_norm': 0.1868491917848587, 'learning_rate': 3.2000000000000005e-05, 'epoch': 2.03}\n",
      "{'loss': 0.1085, 'grad_norm': 79.32491302490234, 'learning_rate': 3.3e-05, 'epoch': 2.09}\n",
      "{'loss': 0.4094, 'grad_norm': 2.343507766723633, 'learning_rate': 3.4000000000000007e-05, 'epoch': 2.15}\n",
      "{'loss': 0.2701, 'grad_norm': 0.1840515285730362, 'learning_rate': 3.5e-05, 'epoch': 2.22}\n",
      "{'loss': 0.13, 'grad_norm': 112.07310485839844, 'learning_rate': 3.6e-05, 'epoch': 2.28}\n",
      "{'loss': 0.0235, 'grad_norm': 33.82252883911133, 'learning_rate': 3.7e-05, 'epoch': 2.34}\n",
      "{'loss': 0.0356, 'grad_norm': 0.14122429490089417, 'learning_rate': 3.8e-05, 'epoch': 2.41}\n",
      "{'loss': 0.1088, 'grad_norm': 0.13266319036483765, 'learning_rate': 3.9000000000000006e-05, 'epoch': 2.47}\n",
      "{'loss': 0.2193, 'grad_norm': 0.13599741458892822, 'learning_rate': 4e-05, 'epoch': 2.53}\n",
      "{'loss': 0.1204, 'grad_norm': 0.37646302580833435, 'learning_rate': 4.1e-05, 'epoch': 2.59}\n",
      "{'loss': 0.1219, 'grad_norm': 0.13429240882396698, 'learning_rate': 4.2e-05, 'epoch': 2.66}\n",
      "{'loss': 0.6542, 'grad_norm': 9.111074447631836, 'learning_rate': 4.3e-05, 'epoch': 2.72}\n",
      "{'loss': 0.4332, 'grad_norm': 64.12158203125, 'learning_rate': 4.4000000000000006e-05, 'epoch': 2.78}\n",
      "{'loss': 0.1925, 'grad_norm': 221.52720642089844, 'learning_rate': 4.5e-05, 'epoch': 2.85}\n",
      "{'loss': 0.1916, 'grad_norm': 0.5546169281005859, 'learning_rate': 4.600000000000001e-05, 'epoch': 2.91}\n",
      "{'loss': 0.2334, 'grad_norm': 0.09746895730495453, 'learning_rate': 4.7e-05, 'epoch': 2.97}\n"
     ]
    },
    {
     "data": {
      "application/vnd.jupyter.widget-view+json": {
       "model_id": "5f969452f7224e42a71265bbef7ff3f6",
       "version_major": 2,
       "version_minor": 0
      },
      "text/plain": [
       "  0%|          | 0/40 [00:00<?, ?it/s]"
      ]
     },
     "metadata": {},
     "output_type": "display_data"
    },
    {
     "name": "stdout",
     "output_type": "stream",
     "text": [
      "{'eval_loss': 1.141164779663086, 'eval_accuracy': 0.74375, 'eval_macro_f1': 0.7400847894132097, 'eval_weighted_f1': 0.7466435873053607, 'eval_runtime': 1.5812, 'eval_samples_per_second': 101.191, 'eval_steps_per_second': 25.298, 'epoch': 3.0}\n",
      "{'loss': 0.0118, 'grad_norm': 0.10273338854312897, 'learning_rate': 4.8e-05, 'epoch': 3.04}\n",
      "{'loss': 0.1208, 'grad_norm': 1.6995409727096558, 'learning_rate': 4.9e-05, 'epoch': 3.1}\n",
      "{'loss': 0.0099, 'grad_norm': 0.08353647589683533, 'learning_rate': 5e-05, 'epoch': 3.16}\n",
      "{'loss': 0.0092, 'grad_norm': 0.8024054169654846, 'learning_rate': 4.9537037037037035e-05, 'epoch': 3.23}\n",
      "{'loss': 0.1332, 'grad_norm': 8.717897415161133, 'learning_rate': 4.9074074074074075e-05, 'epoch': 3.29}\n",
      "{'loss': 0.0072, 'grad_norm': 0.08317797631025314, 'learning_rate': 4.8611111111111115e-05, 'epoch': 3.35}\n",
      "{'loss': 0.1328, 'grad_norm': 0.06881138682365417, 'learning_rate': 4.814814814814815e-05, 'epoch': 3.42}\n",
      "{'loss': 0.1158, 'grad_norm': 383.9463195800781, 'learning_rate': 4.768518518518519e-05, 'epoch': 3.48}\n",
      "{'loss': 0.3374, 'grad_norm': 3.8108749389648438, 'learning_rate': 4.722222222222222e-05, 'epoch': 3.54}\n",
      "{'loss': 0.1203, 'grad_norm': 0.06233056262135506, 'learning_rate': 4.675925925925926e-05, 'epoch': 3.61}\n",
      "{'loss': 0.8242, 'grad_norm': 0.10688715428113937, 'learning_rate': 4.62962962962963e-05, 'epoch': 3.67}\n",
      "{'loss': 0.5937, 'grad_norm': 11.511261940002441, 'learning_rate': 4.5833333333333334e-05, 'epoch': 3.73}\n",
      "{'loss': 0.1872, 'grad_norm': 53.029998779296875, 'learning_rate': 4.5370370370370374e-05, 'epoch': 3.8}\n",
      "{'loss': 0.1339, 'grad_norm': 23.40306282043457, 'learning_rate': 4.490740740740741e-05, 'epoch': 3.86}\n",
      "{'loss': 0.3469, 'grad_norm': 0.09012389183044434, 'learning_rate': 4.4444444444444447e-05, 'epoch': 3.92}\n",
      "{'loss': 0.3262, 'grad_norm': 0.10376466810703278, 'learning_rate': 4.3981481481481486e-05, 'epoch': 3.99}\n"
     ]
    },
    {
     "data": {
      "application/vnd.jupyter.widget-view+json": {
       "model_id": "2b9f0736fa444f0c967d7c9c1165587b",
       "version_major": 2,
       "version_minor": 0
      },
      "text/plain": [
       "  0%|          | 0/40 [00:00<?, ?it/s]"
      ]
     },
     "metadata": {},
     "output_type": "display_data"
    },
    {
     "name": "stdout",
     "output_type": "stream",
     "text": [
      "{'eval_loss': 0.8507553339004517, 'eval_accuracy': 0.8125, 'eval_macro_f1': 0.8012916045702931, 'eval_weighted_f1': 0.8113201689021361, 'eval_runtime': 1.6256, 'eval_samples_per_second': 98.428, 'eval_steps_per_second': 24.607, 'epoch': 4.0}\n",
      "{'loss': 0.5244, 'grad_norm': 0.15949207544326782, 'learning_rate': 4.351851851851852e-05, 'epoch': 4.05}\n",
      "{'loss': 0.1727, 'grad_norm': 0.1510382443666458, 'learning_rate': 4.305555555555556e-05, 'epoch': 4.11}\n",
      "{'loss': 0.0078, 'grad_norm': 0.0856136754155159, 'learning_rate': 4.259259259259259e-05, 'epoch': 4.18}\n",
      "{'loss': 0.4725, 'grad_norm': 118.9256362915039, 'learning_rate': 4.212962962962963e-05, 'epoch': 4.24}\n",
      "{'loss': 0.3219, 'grad_norm': 0.08268090337514877, 'learning_rate': 4.166666666666667e-05, 'epoch': 4.3}\n",
      "{'loss': 0.0082, 'grad_norm': 0.07228437811136246, 'learning_rate': 4.1203703703703705e-05, 'epoch': 4.37}\n",
      "{'loss': 0.2361, 'grad_norm': 0.09852169454097748, 'learning_rate': 4.074074074074074e-05, 'epoch': 4.43}\n",
      "{'loss': 0.1023, 'grad_norm': 38.866722106933594, 'learning_rate': 4.027777777777778e-05, 'epoch': 4.49}\n",
      "{'loss': 0.1366, 'grad_norm': 0.0965634435415268, 'learning_rate': 3.981481481481482e-05, 'epoch': 4.56}\n",
      "{'loss': 0.0088, 'grad_norm': 0.0880102589726448, 'learning_rate': 3.935185185185186e-05, 'epoch': 4.62}\n",
      "{'loss': 0.0064, 'grad_norm': 0.08173905313014984, 'learning_rate': 3.888888888888889e-05, 'epoch': 4.68}\n",
      "{'loss': 0.1417, 'grad_norm': 0.05827488750219345, 'learning_rate': 3.8425925925925924e-05, 'epoch': 4.75}\n",
      "{'loss': 0.0057, 'grad_norm': 0.049775492399930954, 'learning_rate': 3.7962962962962964e-05, 'epoch': 4.81}\n",
      "{'loss': 0.006, 'grad_norm': 0.6238094568252563, 'learning_rate': 3.7500000000000003e-05, 'epoch': 4.87}\n",
      "{'loss': 0.1325, 'grad_norm': 51.8835334777832, 'learning_rate': 3.7037037037037037e-05, 'epoch': 4.94}\n",
      "{'loss': 0.1452, 'grad_norm': 0.04859473928809166, 'learning_rate': 3.6574074074074076e-05, 'epoch': 5.0}\n"
     ]
    },
    {
     "data": {
      "application/vnd.jupyter.widget-view+json": {
       "model_id": "2db5ff0b7fae4e349280d9f99bf103e0",
       "version_major": 2,
       "version_minor": 0
      },
      "text/plain": [
       "  0%|          | 0/40 [00:00<?, ?it/s]"
      ]
     },
     "metadata": {},
     "output_type": "display_data"
    },
    {
     "name": "stdout",
     "output_type": "stream",
     "text": [
      "{'eval_loss': 1.285974144935608, 'eval_accuracy': 0.75625, 'eval_macro_f1': 0.7546301757697298, 'eval_weighted_f1': 0.7588666391412057, 'eval_runtime': 1.6447, 'eval_samples_per_second': 97.283, 'eval_steps_per_second': 24.321, 'epoch': 5.0}\n",
      "{'loss': 0.0153, 'grad_norm': 0.0606478750705719, 'learning_rate': 3.611111111111111e-05, 'epoch': 5.06}\n",
      "{'loss': 0.0281, 'grad_norm': 0.043045055121183395, 'learning_rate': 3.564814814814815e-05, 'epoch': 5.13}\n",
      "{'loss': 0.0581, 'grad_norm': 0.04294808581471443, 'learning_rate': 3.518518518518519e-05, 'epoch': 5.19}\n",
      "{'loss': 0.2472, 'grad_norm': 0.04192442074418068, 'learning_rate': 3.472222222222222e-05, 'epoch': 5.25}\n",
      "{'loss': 0.0039, 'grad_norm': 0.04239721968770027, 'learning_rate': 3.425925925925926e-05, 'epoch': 5.32}\n",
      "{'loss': 0.0037, 'grad_norm': 0.03911018371582031, 'learning_rate': 3.3796296296296295e-05, 'epoch': 5.38}\n",
      "{'loss': 0.0039, 'grad_norm': 0.059386514127254486, 'learning_rate': 3.3333333333333335e-05, 'epoch': 5.44}\n",
      "{'loss': 0.1395, 'grad_norm': 0.04112246632575989, 'learning_rate': 3.2870370370370375e-05, 'epoch': 5.51}\n",
      "{'loss': 0.1017, 'grad_norm': 0.03461997210979462, 'learning_rate': 3.240740740740741e-05, 'epoch': 5.57}\n",
      "{'loss': 0.2748, 'grad_norm': 0.03598460182547569, 'learning_rate': 3.194444444444444e-05, 'epoch': 5.63}\n",
      "{'loss': 0.0034, 'grad_norm': 0.23317915201187134, 'learning_rate': 3.148148148148148e-05, 'epoch': 5.7}\n",
      "{'loss': 0.0034, 'grad_norm': 0.03496895730495453, 'learning_rate': 3.101851851851852e-05, 'epoch': 5.76}\n",
      "{'loss': 0.0032, 'grad_norm': 0.03860553726553917, 'learning_rate': 3.055555555555556e-05, 'epoch': 5.82}\n",
      "{'loss': 0.1418, 'grad_norm': 0.029779698699712753, 'learning_rate': 3.0092592592592593e-05, 'epoch': 5.89}\n",
      "{'loss': 0.0031, 'grad_norm': 0.03338569030165672, 'learning_rate': 2.962962962962963e-05, 'epoch': 5.95}\n"
     ]
    },
    {
     "data": {
      "application/vnd.jupyter.widget-view+json": {
       "model_id": "c434faef5b094f09a0947c35a7165fde",
       "version_major": 2,
       "version_minor": 0
      },
      "text/plain": [
       "  0%|          | 0/40 [00:00<?, ?it/s]"
      ]
     },
     "metadata": {},
     "output_type": "display_data"
    },
    {
     "name": "stdout",
     "output_type": "stream",
     "text": [
      "{'eval_loss': 1.0476007461547852, 'eval_accuracy': 0.8125, 'eval_macro_f1': 0.8046875, 'eval_weighted_f1': 0.81298828125, 'eval_runtime': 1.6214, 'eval_samples_per_second': 98.681, 'eval_steps_per_second': 24.67, 'epoch': 6.0}\n",
      "{'loss': 0.003, 'grad_norm': 0.032976482063531876, 'learning_rate': 2.916666666666667e-05, 'epoch': 6.01}\n",
      "{'loss': 0.0028, 'grad_norm': 0.03850369527935982, 'learning_rate': 2.8703703703703706e-05, 'epoch': 6.08}\n",
      "{'loss': 0.3142, 'grad_norm': 0.0700889527797699, 'learning_rate': 2.824074074074074e-05, 'epoch': 6.14}\n",
      "{'loss': 0.0028, 'grad_norm': 0.026987165212631226, 'learning_rate': 2.777777777777778e-05, 'epoch': 6.2}\n",
      "{'loss': 0.1374, 'grad_norm': 0.10112931579351425, 'learning_rate': 2.7314814814814816e-05, 'epoch': 6.27}\n",
      "{'loss': 0.0026, 'grad_norm': 0.028125055134296417, 'learning_rate': 2.6851851851851855e-05, 'epoch': 6.33}\n",
      "{'loss': 0.1549, 'grad_norm': 0.02960011549293995, 'learning_rate': 2.6388888888888892e-05, 'epoch': 6.39}\n",
      "{'loss': 0.0029, 'grad_norm': 0.03606570139527321, 'learning_rate': 2.5925925925925925e-05, 'epoch': 6.46}\n",
      "{'loss': 0.0027, 'grad_norm': 0.02915525622665882, 'learning_rate': 2.5462962962962965e-05, 'epoch': 6.52}\n",
      "{'loss': 0.0026, 'grad_norm': 0.025930803269147873, 'learning_rate': 2.5e-05, 'epoch': 6.58}\n",
      "{'loss': 0.0026, 'grad_norm': 0.03233785927295685, 'learning_rate': 2.4537037037037038e-05, 'epoch': 6.65}\n",
      "{'loss': 0.0404, 'grad_norm': 0.026547471061348915, 'learning_rate': 2.4074074074074074e-05, 'epoch': 6.71}\n",
      "{'loss': 0.0024, 'grad_norm': 0.027554577216506004, 'learning_rate': 2.361111111111111e-05, 'epoch': 6.77}\n",
      "{'loss': 0.0023, 'grad_norm': 0.026128381490707397, 'learning_rate': 2.314814814814815e-05, 'epoch': 6.84}\n",
      "{'loss': 0.0021, 'grad_norm': 0.023987067863345146, 'learning_rate': 2.2685185185185187e-05, 'epoch': 6.9}\n",
      "{'loss': 0.0022, 'grad_norm': 0.02430693432688713, 'learning_rate': 2.2222222222222223e-05, 'epoch': 6.96}\n"
     ]
    },
    {
     "data": {
      "application/vnd.jupyter.widget-view+json": {
       "model_id": "efc490806d474242aaaf86c844f74648",
       "version_major": 2,
       "version_minor": 0
      },
      "text/plain": [
       "  0%|          | 0/40 [00:00<?, ?it/s]"
      ]
     },
     "metadata": {},
     "output_type": "display_data"
    },
    {
     "name": "stdout",
     "output_type": "stream",
     "text": [
      "{'eval_loss': 1.1301767826080322, 'eval_accuracy': 0.81875, 'eval_macro_f1': 0.8134373366571509, 'eval_weighted_f1': 0.820127357162961, 'eval_runtime': 1.5975, 'eval_samples_per_second': 100.158, 'eval_steps_per_second': 25.04, 'epoch': 7.0}\n",
      "{'loss': 0.002, 'grad_norm': 0.0211328212171793, 'learning_rate': 2.175925925925926e-05, 'epoch': 7.03}\n",
      "{'loss': 0.002, 'grad_norm': 0.02260695770382881, 'learning_rate': 2.1296296296296296e-05, 'epoch': 7.09}\n",
      "{'loss': 0.0019, 'grad_norm': 0.020979536697268486, 'learning_rate': 2.0833333333333336e-05, 'epoch': 7.15}\n",
      "{'loss': 0.0018, 'grad_norm': 0.019594043493270874, 'learning_rate': 2.037037037037037e-05, 'epoch': 7.22}\n",
      "{'loss': 0.1417, 'grad_norm': 0.020567642524838448, 'learning_rate': 1.990740740740741e-05, 'epoch': 7.28}\n",
      "{'loss': 0.0018, 'grad_norm': 0.01983264461159706, 'learning_rate': 1.9444444444444445e-05, 'epoch': 7.34}\n",
      "{'loss': 0.0018, 'grad_norm': 0.03523281589150429, 'learning_rate': 1.8981481481481482e-05, 'epoch': 7.41}\n",
      "{'loss': 0.1563, 'grad_norm': 0.02742292732000351, 'learning_rate': 1.8518518518518518e-05, 'epoch': 7.47}\n",
      "{'loss': 0.0018, 'grad_norm': 0.019197426736354828, 'learning_rate': 1.8055555555555555e-05, 'epoch': 7.53}\n",
      "{'loss': 0.0018, 'grad_norm': 0.018736958503723145, 'learning_rate': 1.7592592592592595e-05, 'epoch': 7.59}\n",
      "{'loss': 0.0017, 'grad_norm': 0.02012280561029911, 'learning_rate': 1.712962962962963e-05, 'epoch': 7.66}\n",
      "{'loss': 0.0015, 'grad_norm': 0.02233315445482731, 'learning_rate': 1.6666666666666667e-05, 'epoch': 7.72}\n",
      "{'loss': 0.0015, 'grad_norm': 0.01708860695362091, 'learning_rate': 1.6203703703703704e-05, 'epoch': 7.78}\n",
      "{'loss': 0.0015, 'grad_norm': 0.01775013469159603, 'learning_rate': 1.574074074074074e-05, 'epoch': 7.85}\n",
      "{'loss': 0.0016, 'grad_norm': 0.02615460567176342, 'learning_rate': 1.527777777777778e-05, 'epoch': 7.91}\n",
      "{'loss': 0.0016, 'grad_norm': 0.019280655309557915, 'learning_rate': 1.4814814814814815e-05, 'epoch': 7.97}\n"
     ]
    },
    {
     "data": {
      "application/vnd.jupyter.widget-view+json": {
       "model_id": "3192ba7daf8a4088b79d2d25d079ad75",
       "version_major": 2,
       "version_minor": 0
      },
      "text/plain": [
       "  0%|          | 0/40 [00:00<?, ?it/s]"
      ]
     },
     "metadata": {},
     "output_type": "display_data"
    },
    {
     "name": "stdout",
     "output_type": "stream",
     "text": [
      "{'eval_loss': 1.013304352760315, 'eval_accuracy': 0.84375, 'eval_macro_f1': 0.837655749015788, 'eval_weighted_f1': 0.8443397662242786, 'eval_runtime': 1.6357, 'eval_samples_per_second': 97.815, 'eval_steps_per_second': 24.454, 'epoch': 8.0}\n",
      "{'loss': 0.0016, 'grad_norm': 0.017357761040329933, 'learning_rate': 1.4351851851851853e-05, 'epoch': 8.04}\n",
      "{'loss': 0.0014, 'grad_norm': 0.016289303079247475, 'learning_rate': 1.388888888888889e-05, 'epoch': 8.1}\n",
      "{'loss': 0.0014, 'grad_norm': 0.016514286398887634, 'learning_rate': 1.3425925925925928e-05, 'epoch': 8.16}\n",
      "{'loss': 0.0014, 'grad_norm': 0.02285444550216198, 'learning_rate': 1.2962962962962962e-05, 'epoch': 8.23}\n",
      "{'loss': 0.0014, 'grad_norm': 0.01806597039103508, 'learning_rate': 1.25e-05, 'epoch': 8.29}\n",
      "{'loss': 0.0015, 'grad_norm': 0.018767623230814934, 'learning_rate': 1.2037037037037037e-05, 'epoch': 8.35}\n",
      "{'loss': 0.0013, 'grad_norm': 0.016672920435667038, 'learning_rate': 1.1574074074074075e-05, 'epoch': 8.42}\n",
      "{'loss': 0.0014, 'grad_norm': 0.017962051555514336, 'learning_rate': 1.1111111111111112e-05, 'epoch': 8.48}\n",
      "{'loss': 0.0014, 'grad_norm': 0.014633000828325748, 'learning_rate': 1.0648148148148148e-05, 'epoch': 8.54}\n",
      "{'loss': 0.0013, 'grad_norm': 0.013706686906516552, 'learning_rate': 1.0185185185185185e-05, 'epoch': 8.61}\n",
      "{'loss': 0.0015, 'grad_norm': 0.01560603454709053, 'learning_rate': 9.722222222222223e-06, 'epoch': 8.67}\n",
      "{'loss': 0.0014, 'grad_norm': 0.015725241973996162, 'learning_rate': 9.259259259259259e-06, 'epoch': 8.73}\n",
      "{'loss': 0.0012, 'grad_norm': 0.013839304447174072, 'learning_rate': 8.796296296296297e-06, 'epoch': 8.8}\n",
      "{'loss': 0.0013, 'grad_norm': 0.018279096111655235, 'learning_rate': 8.333333333333334e-06, 'epoch': 8.86}\n",
      "{'loss': 0.0012, 'grad_norm': 0.014315172098577023, 'learning_rate': 7.87037037037037e-06, 'epoch': 8.92}\n",
      "{'loss': 0.0014, 'grad_norm': 0.015135305933654308, 'learning_rate': 7.4074074074074075e-06, 'epoch': 8.99}\n"
     ]
    },
    {
     "data": {
      "application/vnd.jupyter.widget-view+json": {
       "model_id": "ef62faf6e7804ee181e20ca5c7d3f017",
       "version_major": 2,
       "version_minor": 0
      },
      "text/plain": [
       "  0%|          | 0/40 [00:00<?, ?it/s]"
      ]
     },
     "metadata": {},
     "output_type": "display_data"
    },
    {
     "name": "stdout",
     "output_type": "stream",
     "text": [
      "{'eval_loss': 1.069270133972168, 'eval_accuracy': 0.8375, 'eval_macro_f1': 0.8315789473684211, 'eval_weighted_f1': 0.8382894736842106, 'eval_runtime': 1.6118, 'eval_samples_per_second': 99.265, 'eval_steps_per_second': 24.816, 'epoch': 9.0}\n",
      "{'loss': 0.0012, 'grad_norm': 0.015817783772945404, 'learning_rate': 6.944444444444445e-06, 'epoch': 9.05}\n",
      "{'loss': 0.0013, 'grad_norm': 0.015209618955850601, 'learning_rate': 6.481481481481481e-06, 'epoch': 9.11}\n",
      "{'loss': 0.0011, 'grad_norm': 0.013071810826659203, 'learning_rate': 6.0185185185185185e-06, 'epoch': 9.18}\n",
      "{'loss': 0.0012, 'grad_norm': 0.014737587422132492, 'learning_rate': 5.555555555555556e-06, 'epoch': 9.24}\n",
      "{'loss': 0.0013, 'grad_norm': 0.013790599070489407, 'learning_rate': 5.092592592592592e-06, 'epoch': 9.3}\n",
      "{'loss': 0.0011, 'grad_norm': 0.013815181329846382, 'learning_rate': 4.6296296296296296e-06, 'epoch': 9.37}\n",
      "{'loss': 0.0011, 'grad_norm': 0.012853747233748436, 'learning_rate': 4.166666666666667e-06, 'epoch': 9.43}\n",
      "{'loss': 0.0013, 'grad_norm': 0.01344818901270628, 'learning_rate': 3.7037037037037037e-06, 'epoch': 9.49}\n",
      "{'loss': 0.0012, 'grad_norm': 0.015303955413401127, 'learning_rate': 3.2407407407407406e-06, 'epoch': 9.56}\n",
      "{'loss': 0.0012, 'grad_norm': 0.014638783410191536, 'learning_rate': 2.777777777777778e-06, 'epoch': 9.62}\n",
      "{'loss': 0.0012, 'grad_norm': 0.015418981201946735, 'learning_rate': 2.3148148148148148e-06, 'epoch': 9.68}\n",
      "{'loss': 0.0013, 'grad_norm': 0.016836224123835564, 'learning_rate': 1.8518518518518519e-06, 'epoch': 9.75}\n",
      "{'loss': 0.0013, 'grad_norm': 0.014512836933135986, 'learning_rate': 1.388888888888889e-06, 'epoch': 9.81}\n",
      "{'loss': 0.0011, 'grad_norm': 0.013631714507937431, 'learning_rate': 9.259259259259259e-07, 'epoch': 9.87}\n",
      "{'loss': 0.0012, 'grad_norm': 0.014563322067260742, 'learning_rate': 4.6296296296296297e-07, 'epoch': 9.94}\n",
      "{'loss': 0.0012, 'grad_norm': 0.01701662875711918, 'learning_rate': 0.0, 'epoch': 10.0}\n"
     ]
    },
    {
     "data": {
      "application/vnd.jupyter.widget-view+json": {
       "model_id": "11667c2941aa4b4daee26791952e185e",
       "version_major": 2,
       "version_minor": 0
      },
      "text/plain": [
       "  0%|          | 0/40 [00:00<?, ?it/s]"
      ]
     },
     "metadata": {},
     "output_type": "display_data"
    },
    {
     "name": "stdout",
     "output_type": "stream",
     "text": [
      "{'eval_loss': 1.1403220891952515, 'eval_accuracy': 0.825, 'eval_macro_f1': 0.819471308833011, 'eval_weighted_f1': 0.8261847195357834, 'eval_runtime': 1.6195, 'eval_samples_per_second': 98.798, 'eval_steps_per_second': 24.7, 'epoch': 10.0}\n",
      "{'train_runtime': 485.9254, 'train_samples_per_second': 13.006, 'train_steps_per_second': 3.252, 'train_loss': 0.10091292235021822, 'epoch': 10.0}\n"
     ]
    }
   ],
   "source": [
    "from transformers import TrainingArguments, Trainer\n",
    " # Define the compute_metrics function\n",
    "def compute_metrics(pred):\n",
    "    labels = pred.label_ids\n",
    "    preds = np.argmax(pred.predictions, axis=1)\n",
    "    accuracy = accuracy_score(labels, preds)\n",
    "    macro_f1 = f1_score(labels, preds, average='macro')\n",
    "    weighted_f1 = f1_score(labels, preds, average='weighted')\n",
    "    return {\n",
    "        'accuracy': accuracy,\n",
    "        'macro_f1': macro_f1,\n",
    "        'weighted_f1': weighted_f1\n",
    "    }\n",
    "\n",
    "class TrainMetricsLogger(TrainerCallback):\n",
    "    def on_log(self, args, state, control, logs=None, **kwargs):\n",
    "        if logs is not None:\n",
    "            print(f\"Epoch: {state.epoch}, Training Metrics: {logs}\")\n",
    "\n",
    "training_args = TrainingArguments(\n",
    "    output_dir='./results',\n",
    "    eval_strategy='epoch',     # Evaluate every epoch\n",
    "    num_train_epochs=10,              # Number of epochs\n",
    "    per_device_train_batch_size=4,   # Batch size for training\n",
    "    per_device_eval_batch_size=4,    # Batch size for evaluation\n",
    "    warmup_steps=500,                # Number of warmup steps\n",
    "    weight_decay=0.05,               # Strength of weight decay\n",
    "    logging_dir='./logs',            # Directory for logs\n",
    "    logging_steps=10,\n",
    "    load_best_model_at_end=True,\n",
    "    save_strategy='epoch',\n",
    ")\n",
    " \n",
    "trainer = Trainer(\n",
    "    model=model,\n",
    "    args=training_args,\n",
    "    train_dataset=train_dataset,\n",
    "    eval_dataset=test_dataset,\n",
    "    compute_metrics=compute_metrics,\n",
    ")\n",
    "train_result = trainer.train()"
   ]
  },
  {
   "cell_type": "code",
   "execution_count": null,
   "metadata": {},
   "outputs": [],
   "source": []
  }
 ],
 "metadata": {
  "kernelspec": {
   "display_name": ".venv",
   "language": "python",
   "name": "python3"
  },
  "language_info": {
   "codemirror_mode": {
    "name": "ipython",
    "version": 3
   },
   "file_extension": ".py",
   "mimetype": "text/x-python",
   "name": "python",
   "nbconvert_exporter": "python",
   "pygments_lexer": "ipython3",
   "version": "3.9.6"
  }
 },
 "nbformat": 4,
 "nbformat_minor": 2
}
