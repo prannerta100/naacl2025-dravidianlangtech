{
 "cells": [
  {
   "cell_type": "code",
   "execution_count": null,
   "id": "e20b3036-47c7-46e6-a77c-1d573cfb337d",
   "metadata": {
    "tags": []
   },
   "outputs": [],
   "source": [
    "import pandas as pd\n",
    "\n",
    "import matplotlib.pyplot as plt\n",
    "\n",
    "from sklearn.model_selection import train_test_split\n",
    "from sklearn.metrics import precision_score, recall_score, f1_score, accuracy_score\n",
    "\n",
    "import torch\n",
    "from torch.utils.data import Dataset, DataLoader\n",
    "from torch.optim.lr_scheduler import ExponentialLR\n",
    "\n",
    "from transformers import (\n",
    "    AutoTokenizer,\n",
    "    AutoModelForSequenceClassification\n",
    ")\n",
    "\n",
    "device = torch.device(\"cuda:0\" if torch.cuda.is_available() else \"cpu\")\n",
    "torch.cuda.empty_cache()"
   ]
  },
  {
   "cell_type": "code",
   "execution_count": null,
   "id": "b23bc16f-d401-4488-9ffa-406304d38109",
   "metadata": {
    "tags": []
   },
   "outputs": [],
   "source": [
    "MODEL = 'gpt2'\n",
    "# MODEL = \"l3cube-pune/tamil-bert\"\n",
    "# MODEL = \"l3cube-pune/malayalam-bert\"\n",
    "# MODEL = \"google-bert/bert-base-multilingual-uncased\"\n",
    "\n",
    "model = AutoModelForSequenceClassification.from_pretrained(MODEL, num_labels=2)\n",
    "\n",
    "tokenizer = AutoTokenizer.from_pretrained(MODEL)\n",
    "model.to(device)\n",
    "\n",
    "tokenizer.pad_token = tokenizer.eos_token\n",
    "model.config.pad_token_id = model.config.eos_token_id"
   ]
  },
  {
   "cell_type": "markdown",
   "id": "3775a368-fe53-4990-8827-c4c0dbe1a2e9",
   "metadata": {
    "tags": []
   },
   "source": [
    "### Dataloader"
   ]
  },
  {
   "cell_type": "code",
   "execution_count": null,
   "id": "2a139e04-7163-4026-807c-ffdb8394e03a",
   "metadata": {
    "tags": []
   },
   "outputs": [],
   "source": [
    "# df = pd.read_csv(\"./tam_training_data_hum_ai.csv\")\n",
    "df = pd.read_csv(\"./mal_training_data_hum_ai.csv\")\n",
    "\n",
    "df[\"LABEL\"] = (df[\"LABEL\"].apply(lambda x: 1 if x == \"AI\" else 0))\n",
    "df.LABEL.value_counts()"
   ]
  },
  {
   "cell_type": "code",
   "execution_count": null,
   "id": "d5cc80c2-67ea-4317-9bc1-5786ecf38a9b",
   "metadata": {
    "tags": []
   },
   "outputs": [],
   "source": [
    "train_texts, test_texts, train_labels, test_labels = train_test_split(\n",
    "    df['DATA'].tolist(),  \n",
    "    df['LABEL'].tolist(),     \n",
    "    test_size=0.2,     \n",
    "    random_state=42\n",
    ")\n",
    "\n",
    "print(f\"Training set size: {len(train_texts)}\")\n",
    "print(f\"Test set size: {len(test_texts)}\")"
   ]
  },
  {
   "cell_type": "code",
   "execution_count": null,
   "id": "ef6853ee-de48-4bf3-83be-b72da2cdc4f4",
   "metadata": {
    "tags": []
   },
   "outputs": [],
   "source": [
    "class TextDataset(Dataset):\n",
    "    def __init__(self, texts, labels, tokenizer, max_length):\n",
    "        self.texts = texts\n",
    "        self.labels = labels\n",
    "        self.tokenizer = tokenizer\n",
    "        self.max_length = max_length\n",
    "\n",
    "    def __len__(self):\n",
    "        return len(self.texts)\n",
    "\n",
    "    def __getitem__(self, item):\n",
    "        text = self.texts[item]\n",
    "        label = self.labels[item]\n",
    "        label = int(label)\n",
    "\n",
    "        encoding = self.tokenizer.encode_plus(\n",
    "            text,\n",
    "            add_special_tokens=True,\n",
    "            max_length=self.max_length,\n",
    "            padding='max_length',\n",
    "            truncation=True,\n",
    "            return_attention_mask=True,\n",
    "            return_tensors='pt'\n",
    "        )\n",
    "\n",
    "        return {\n",
    "            'input_ids': encoding['input_ids'].flatten(),\n",
    "            'attention_mask': encoding['attention_mask'].flatten(),\n",
    "            'labels': torch.tensor(label, dtype=torch.long)\n",
    "        }\n",
    "\n",
    "\n",
    "max_length = 256\n",
    "train_dataset = TextDataset(train_texts, train_labels, tokenizer, max_length)\n",
    "test_dataset = TextDataset(test_texts, test_labels, tokenizer, max_length)\n",
    "\n",
    "\n",
    "batch_size = 32\n",
    "train_dataloader = DataLoader(train_dataset, batch_size=batch_size, shuffle=True)\n",
    "test_dataloader = DataLoader(test_dataset, batch_size=batch_size)\n",
    "\n",
    "for batch in train_dataloader:\n",
    "    print(batch)\n",
    "    break"
   ]
  },
  {
   "cell_type": "markdown",
   "id": "cc6c4808",
   "metadata": {},
   "source": [
    "### Utils"
   ]
  },
  {
   "cell_type": "code",
   "execution_count": null,
   "id": "1ba0cc73",
   "metadata": {},
   "outputs": [],
   "source": [
    "sentence_lengths = df['DATA'].apply(lambda x: len(tokenizer.encode(x, add_special_tokens=True)))\n",
    "\n",
    "plt.figure(figsize=(10, 6))\n",
    "plt.hist(sentence_lengths, bins=50, color='skyblue', edgecolor='black')\n",
    "plt.title('Distribution of Sentence Lengths')\n",
    "plt.xlabel('Sentence Length')\n",
    "plt.ylabel('Frequency')\n",
    "plt.show()\n",
    "\n",
    "print(f\"Max sentence length: {max(sentence_lengths)}\")\n",
    "print(f\"Median sentence length: {sentence_lengths.median()}\")\n",
    "print(f\"Mean sentence length: {sentence_lengths.mean()}\")\n",
    "print(f\"90th percentile sentence length: {pd.Series(sentence_lengths).quantile(0.9)}\")\n"
   ]
  },
  {
   "cell_type": "code",
   "execution_count": null,
   "id": "18f2a8a8",
   "metadata": {},
   "outputs": [],
   "source": [
    "def compute_metrics(preds, labels):\n",
    "    preds = preds.flatten()\n",
    "    labels = labels.flatten()\n",
    "\n",
    "    accuracy = accuracy_score(labels.cpu(), preds.cpu())\n",
    "    precision = precision_score(labels.cpu(), preds.cpu(), average='binary')  # For binary classification\n",
    "    recall = recall_score(labels.cpu(), preds.cpu(), average='binary')\n",
    "    f1 = f1_score(labels.cpu(), preds.cpu(), average='binary')\n",
    "\n",
    "    return accuracy, precision, recall, f1\n",
    "\n",
    "\n",
    "def calc_and_print_metrics(model, dataloader):    \n",
    "    model.eval()\n",
    "\n",
    "    test_preds = []\n",
    "    test_labels = []\n",
    "\n",
    "    with torch.no_grad():\n",
    "        for batch in dataloader:\n",
    "            input_ids = batch['input_ids'].to(device)\n",
    "            attention_mask = batch['attention_mask'].to(device)\n",
    "            labels = batch['labels'].to(device)\n",
    "\n",
    "            outputs = model(input_ids=input_ids, attention_mask=attention_mask, labels=labels)\n",
    "            logits = outputs.logits\n",
    "\n",
    "            preds = torch.argmax(logits, dim=-1)\n",
    "\n",
    "            test_preds.extend(preds.cpu().numpy())\n",
    "            test_labels.extend(labels.cpu().numpy())\n",
    "\n",
    "    accuracy, precision, recall, f1 = compute_metrics(torch.tensor(test_preds), torch.tensor(test_labels))\n",
    "\n",
    "    print(f\"Accuracy: {accuracy:.4f}\")\n",
    "    print(f\"Precision: {precision:.4f}\")\n",
    "    print(f\"Recall: {recall:.4f}\")\n",
    "    print(f\"F1-Score: {f1:.4f}\")"
   ]
  },
  {
   "cell_type": "markdown",
   "id": "14da81f9-a9f1-42dd-a7c2-01f2df24a22d",
   "metadata": {
    "tags": []
   },
   "source": [
    "### Training"
   ]
  },
  {
   "cell_type": "code",
   "execution_count": null,
   "id": "7a84e640-fea9-456d-86d9-ab71244d675d",
   "metadata": {
    "tags": []
   },
   "outputs": [],
   "source": [
    "optimizer = torch.optim.AdamW(model.parameters(), lr=5e-5)\n",
    "scheduler = ExponentialLR(optimizer, gamma=0.9)\n",
    "\n",
    "lr_history = []\n",
    "\n",
    "for epoch in range(15):\n",
    "    model.train()\n",
    "    total_loss = 0\n",
    "    all_preds = []\n",
    "    all_labels = []\n",
    "\n",
    "    for batch in train_dataloader:\n",
    "        optimizer.zero_grad()\n",
    "\n",
    "        input_ids = batch['input_ids'].to(device)\n",
    "        attention_mask = batch['attention_mask'].to(device)\n",
    "        labels = batch['labels'].to(device)\n",
    "\n",
    "        outputs = model(input_ids=input_ids, attention_mask=attention_mask, labels=labels)\n",
    "        loss = outputs.loss\n",
    "        logits = outputs.logits\n",
    "\n",
    "        loss.backward()\n",
    "        optimizer.step()\n",
    "\n",
    "        total_loss += loss.item()\n",
    "\n",
    "        # the label with the highest probability\n",
    "        preds = torch.argmax(logits, dim=-1)\n",
    "\n",
    "        all_preds.extend(preds.cpu().numpy())\n",
    "        all_labels.extend(labels.cpu().numpy())\n",
    "\n",
    "    scheduler.step()\n",
    "    lr_history.append(optimizer.param_groups[0]['lr'])\n",
    "\n",
    "    avg_loss = total_loss / len(train_dataloader)\n",
    "    accuracy, precision, recall, f1 = compute_metrics(torch.tensor(all_preds), torch.tensor(all_labels))\n",
    "\n",
    "    print(f\"Epoch {epoch+1}\")\n",
    "    print(f\"Average Training Loss: {avg_loss:.4f}\")\n",
    "    print(f\"Accuracy: {accuracy:.4f}, Precision: {precision:.4f}, Recall: {recall:.4f}, F1: {f1:.4f}\")\n",
    "\n",
    "    print(\"------ on test dataset ------\")\n",
    "    calc_and_print_metrics(model, test_dataloader)\n",
    "    print(\"\\n\")"
   ]
  }
 ],
 "metadata": {
  "kernelspec": {
   "display_name": "Python 3 (ipykernel)",
   "language": "python",
   "name": "python3"
  },
  "language_info": {
   "codemirror_mode": {
    "name": "ipython",
    "version": 3
   },
   "file_extension": ".py",
   "mimetype": "text/x-python",
   "name": "python",
   "nbconvert_exporter": "python",
   "pygments_lexer": "ipython3",
   "version": "3.9.7"
  }
 },
 "nbformat": 4,
 "nbformat_minor": 5
}
