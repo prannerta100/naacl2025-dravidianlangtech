{
 "cells": [
  {
   "cell_type": "code",
   "execution_count": 1,
   "metadata": {},
   "outputs": [
    {
     "data": {
      "text/plain": [
       "1136"
      ]
     },
     "execution_count": 1,
     "metadata": {},
     "output_type": "execute_result"
    }
   ],
   "source": [
    "import pandas as pd \n",
    "AWM = pd.read_csv('/Users/5036365/Documents/Dravidian Lang Tech Data/misogyny/train-tamil/train.csv')\n",
    "len(AWM)"
   ]
  },
  {
   "cell_type": "code",
   "execution_count": 2,
   "metadata": {},
   "outputs": [
    {
     "data": {
      "text/plain": [
       "284"
      ]
     },
     "execution_count": 2,
     "metadata": {},
     "output_type": "execute_result"
    }
   ],
   "source": [
    "AWM_val = pd.read_csv('/Users/5036365/Documents/Dravidian Lang Tech Data/misogyny/dev-tamil/dev.csv')\n",
    "len(AWM_val)"
   ]
  },
  {
   "cell_type": "code",
   "execution_count": 3,
   "metadata": {},
   "outputs": [
    {
     "data": {
      "text/plain": [
       "Index(['image_id', 'labels', 'transcriptions'], dtype='object')"
      ]
     },
     "execution_count": 3,
     "metadata": {},
     "output_type": "execute_result"
    }
   ],
   "source": [
    "AWM.columns"
   ]
  },
  {
   "cell_type": "code",
   "execution_count": 25,
   "metadata": {},
   "outputs": [
    {
     "data": {
      "text/plain": [
       "labels\n",
       "0    816\n",
       "1    285\n",
       "Name: count, dtype: int64"
      ]
     },
     "execution_count": 25,
     "metadata": {},
     "output_type": "execute_result"
    }
   ],
   "source": [
    "AWM['labels'].value_counts()"
   ]
  },
  {
   "cell_type": "code",
   "execution_count": null,
   "metadata": {},
   "outputs": [],
   "source": [
    "AWM = AWM.drop_duplicates(subset=['transcriptions'])\n",
    "AWM = AWM.reset_index()"
   ]
  },
  {
   "cell_type": "code",
   "execution_count": null,
   "metadata": {},
   "outputs": [],
   "source": []
  },
  {
   "cell_type": "code",
   "execution_count": 24,
   "metadata": {},
   "outputs": [
    {
     "data": {
      "text/plain": [
       "1101"
      ]
     },
     "execution_count": 24,
     "metadata": {},
     "output_type": "execute_result"
    }
   ],
   "source": [
    "AWM['transcriptions'].nunique()"
   ]
  },
  {
   "cell_type": "code",
   "execution_count": 26,
   "metadata": {},
   "outputs": [],
   "source": [
    "from transformers import AutoTokenizer\n",
    " \n",
    "import torch\n",
    "import numpy as np\n",
    "from transformers import DistilBertTokenizerFast, DistilBertForSequenceClassification, Trainer, TrainingArguments, TrainerCallback\n",
    "from sklearn.model_selection import train_test_split\n",
    "from datasets import Dataset\n",
    "from sklearn.metrics import accuracy_score, f1_score\n",
    "import matplotlib.pyplot as plt\n",
    "import os\n",
    "\n",
    "# Split the data into train and test sets\n",
    "#train_texts, test_texts, train_labels, test_labels = train_test_split(AWM['Text'], AWM['label'], test_size=0.2)\n",
    " \n",
    "\n",
    "train_texts, train_labels,test_texts, test_labels = AWM['transcriptions'], AWM['labels'],AWM_val['transcriptions'], AWM_val['labels']\n",
    "# Load tokenizer\n",
    "model_name = \"xlm-roberta-base\"\n",
    "tokenizer = AutoTokenizer.from_pretrained(model_name)\n",
    " \n",
    "# Tokenize dataset\n",
    "def preprocess_function(examples):\n",
    "    return tokenizer(examples.to_list(), truncation=True, padding=\"max_length\", max_length=128)\n",
    " \n",
    "train_encodings = preprocess_function(train_texts)\n",
    "test_encodings = preprocess_function(test_texts)"
   ]
  },
  {
   "cell_type": "code",
   "execution_count": 27,
   "metadata": {},
   "outputs": [],
   "source": [
    "# Convert to Hugging Face Dataset format, and include 'labels' in the Dataset\n",
    "train_dataset = Dataset.from_dict({\n",
    "    'input_ids': train_encodings['input_ids'],\n",
    "    'attention_mask': train_encodings['attention_mask'],\n",
    "    'labels': train_labels  # Ensure labels are included\n",
    "})\n",
    "\n",
    "test_dataset = Dataset.from_dict({\n",
    "    'input_ids': test_encodings['input_ids'],\n",
    "    'attention_mask': test_encodings['attention_mask'],\n",
    "    'labels': test_labels  # Ensure labels are included\n",
    "})\n"
   ]
  },
  {
   "cell_type": "code",
   "execution_count": 28,
   "metadata": {},
   "outputs": [
    {
     "name": "stderr",
     "output_type": "stream",
     "text": [
      "Some weights of XLMRobertaForSequenceClassification were not initialized from the model checkpoint at xlm-roberta-base and are newly initialized: ['classifier.dense.bias', 'classifier.dense.weight', 'classifier.out_proj.bias', 'classifier.out_proj.weight']\n",
      "You should probably TRAIN this model on a down-stream task to be able to use it for predictions and inference.\n"
     ]
    }
   ],
   "source": [
    "from transformers import AutoModelForSequenceClassification\n",
    " \n",
    "model = AutoModelForSequenceClassification.from_pretrained(model_name, num_labels=2)"
   ]
  },
  {
   "cell_type": "code",
   "execution_count": null,
   "metadata": {},
   "outputs": [
    {
     "name": "stderr",
     "output_type": "stream",
     "text": [
      "huggingface/tokenizers: The current process just got forked, after parallelism has already been used. Disabling parallelism to avoid deadlocks...\n",
      "To disable this warning, you can either:\n",
      "\t- Avoid using `tokenizers` before the fork if possible\n",
      "\t- Explicitly set the environment variable TOKENIZERS_PARALLELISM=(true | false)\n"
     ]
    },
    {
     "data": {
      "application/vnd.jupyter.widget-view+json": {
       "model_id": "1a5c27698bb74227a933bba951d728d2",
       "version_major": 2,
       "version_minor": 0
      },
      "text/plain": [
       "  0%|          | 0/1420 [00:00<?, ?it/s]"
      ]
     },
     "metadata": {},
     "output_type": "display_data"
    },
    {
     "name": "stdout",
     "output_type": "stream",
     "text": [
      "{'loss': 0.6737, 'grad_norm': 3.0111374855041504, 'learning_rate': 1.0000000000000001e-07, 'epoch': 0.07}\n",
      "{'loss': 0.6699, 'grad_norm': 4.334657669067383, 'learning_rate': 2.0000000000000002e-07, 'epoch': 0.14}\n",
      "{'loss': 0.66, 'grad_norm': 4.714353084564209, 'learning_rate': 3.0000000000000004e-07, 'epoch': 0.21}\n",
      "{'loss': 0.6623, 'grad_norm': 2.572345495223999, 'learning_rate': 4.0000000000000003e-07, 'epoch': 0.28}\n",
      "{'loss': 0.6641, 'grad_norm': 7.274855136871338, 'learning_rate': 5.000000000000001e-07, 'epoch': 0.35}\n",
      "{'loss': 0.6687, 'grad_norm': 7.082417964935303, 'learning_rate': 6.000000000000001e-07, 'epoch': 0.42}\n",
      "{'loss': 0.6612, 'grad_norm': 5.601582050323486, 'learning_rate': 7.000000000000001e-07, 'epoch': 0.49}\n",
      "{'loss': 0.6541, 'grad_norm': 2.1957602500915527, 'learning_rate': 8.000000000000001e-07, 'epoch': 0.56}\n",
      "{'loss': 0.6472, 'grad_norm': 2.088592290878296, 'learning_rate': 9.000000000000001e-07, 'epoch': 0.63}\n",
      "{'loss': 0.6462, 'grad_norm': 2.455136775970459, 'learning_rate': 1.0000000000000002e-06, 'epoch': 0.7}\n",
      "{'loss': 0.6448, 'grad_norm': 6.6698102951049805, 'learning_rate': 1.1e-06, 'epoch': 0.77}\n",
      "{'loss': 0.6883, 'grad_norm': 4.157451152801514, 'learning_rate': 1.2000000000000002e-06, 'epoch': 0.85}\n",
      "{'loss': 0.6351, 'grad_norm': 3.99127197265625, 'learning_rate': 1.3e-06, 'epoch': 0.92}\n",
      "{'loss': 0.6639, 'grad_norm': 4.101184368133545, 'learning_rate': 1.4000000000000001e-06, 'epoch': 0.99}\n"
     ]
    },
    {
     "data": {
      "application/vnd.jupyter.widget-view+json": {
       "model_id": "919528e2bb0f4d2f97438a89ecca16c9",
       "version_major": 2,
       "version_minor": 0
      },
      "text/plain": [
       "  0%|          | 0/36 [00:00<?, ?it/s]"
      ]
     },
     "metadata": {},
     "output_type": "display_data"
    },
    {
     "name": "stdout",
     "output_type": "stream",
     "text": [
      "{'eval_loss': 0.639799177646637, 'eval_accuracy': 0.7394366197183099, 'eval_macro_f1': 0.4251012145748988, 'eval_weighted_f1': 0.6286708102868221, 'eval_runtime': 2.8742, 'eval_samples_per_second': 98.809, 'eval_steps_per_second': 12.525, 'epoch': 1.0}\n",
      "{'loss': 0.6566, 'grad_norm': 7.977200508117676, 'learning_rate': 1.5e-06, 'epoch': 1.06}\n",
      "{'loss': 0.6512, 'grad_norm': 9.064903259277344, 'learning_rate': 1.6000000000000001e-06, 'epoch': 1.13}\n",
      "{'loss': 0.6243, 'grad_norm': 18.37721061706543, 'learning_rate': 1.7000000000000002e-06, 'epoch': 1.2}\n",
      "{'loss': 0.562, 'grad_norm': 8.3906888961792, 'learning_rate': 1.8000000000000001e-06, 'epoch': 1.27}\n",
      "{'loss': 0.5555, 'grad_norm': 11.768756866455078, 'learning_rate': 1.9000000000000002e-06, 'epoch': 1.34}\n",
      "{'loss': 0.496, 'grad_norm': 24.788227081298828, 'learning_rate': 2.0000000000000003e-06, 'epoch': 1.41}\n",
      "{'loss': 0.664, 'grad_norm': 184.870361328125, 'learning_rate': 2.1000000000000002e-06, 'epoch': 1.48}\n",
      "{'loss': 0.5877, 'grad_norm': 15.23786449432373, 'learning_rate': 2.2e-06, 'epoch': 1.55}\n",
      "{'loss': 0.6202, 'grad_norm': 6.644692420959473, 'learning_rate': 2.3000000000000004e-06, 'epoch': 1.62}\n",
      "{'loss': 0.583, 'grad_norm': 8.959622383117676, 'learning_rate': 2.4000000000000003e-06, 'epoch': 1.69}\n",
      "{'loss': 0.5593, 'grad_norm': 6.21746301651001, 'learning_rate': 2.5e-06, 'epoch': 1.76}\n",
      "{'loss': 0.4334, 'grad_norm': 5.975607395172119, 'learning_rate': 2.6e-06, 'epoch': 1.83}\n",
      "{'loss': 0.5523, 'grad_norm': 9.715100288391113, 'learning_rate': 2.7000000000000004e-06, 'epoch': 1.9}\n",
      "{'loss': 0.5599, 'grad_norm': 46.328460693359375, 'learning_rate': 2.8000000000000003e-06, 'epoch': 1.97}\n"
     ]
    },
    {
     "data": {
      "application/vnd.jupyter.widget-view+json": {
       "model_id": "1bb7dd7e1f154e6a86c89b0e983671f8",
       "version_major": 2,
       "version_minor": 0
      },
      "text/plain": [
       "  0%|          | 0/36 [00:00<?, ?it/s]"
      ]
     },
     "metadata": {},
     "output_type": "display_data"
    },
    {
     "name": "stdout",
     "output_type": "stream",
     "text": [
      "{'eval_loss': 0.538317859172821, 'eval_accuracy': 0.7394366197183099, 'eval_macro_f1': 0.4251012145748988, 'eval_weighted_f1': 0.6286708102868221, 'eval_runtime': 2.4403, 'eval_samples_per_second': 116.378, 'eval_steps_per_second': 14.752, 'epoch': 2.0}\n",
      "{'loss': 0.5629, 'grad_norm': 10.882567405700684, 'learning_rate': 2.9e-06, 'epoch': 2.04}\n",
      "{'loss': 0.5536, 'grad_norm': 5.286141395568848, 'learning_rate': 3e-06, 'epoch': 2.11}\n",
      "{'loss': 0.5573, 'grad_norm': 8.314350128173828, 'learning_rate': 3.1000000000000004e-06, 'epoch': 2.18}\n",
      "{'loss': 0.4989, 'grad_norm': 10.583358764648438, 'learning_rate': 3.2000000000000003e-06, 'epoch': 2.25}\n",
      "{'loss': 0.5752, 'grad_norm': 16.866849899291992, 'learning_rate': 3.3000000000000006e-06, 'epoch': 2.32}\n",
      "{'loss': 0.4803, 'grad_norm': 21.888830184936523, 'learning_rate': 3.4000000000000005e-06, 'epoch': 2.39}\n",
      "{'loss': 0.4869, 'grad_norm': 13.67200756072998, 'learning_rate': 3.5e-06, 'epoch': 2.46}\n",
      "{'loss': 0.6575, 'grad_norm': 7.832342147827148, 'learning_rate': 3.6000000000000003e-06, 'epoch': 2.54}\n",
      "{'loss': 0.4883, 'grad_norm': 7.078479766845703, 'learning_rate': 3.7e-06, 'epoch': 2.61}\n",
      "{'loss': 0.4441, 'grad_norm': 14.960500717163086, 'learning_rate': 3.8000000000000005e-06, 'epoch': 2.68}\n",
      "{'loss': 0.6199, 'grad_norm': 16.696468353271484, 'learning_rate': 3.900000000000001e-06, 'epoch': 2.75}\n",
      "{'loss': 0.5385, 'grad_norm': 11.890228271484375, 'learning_rate': 4.000000000000001e-06, 'epoch': 2.82}\n",
      "{'loss': 0.4794, 'grad_norm': 6.546630382537842, 'learning_rate': 4.1e-06, 'epoch': 2.89}\n",
      "{'loss': 0.5633, 'grad_norm': 13.08533000946045, 'learning_rate': 4.2000000000000004e-06, 'epoch': 2.96}\n"
     ]
    },
    {
     "data": {
      "application/vnd.jupyter.widget-view+json": {
       "model_id": "e9ffdeb0c14f4ca8b9836e434613df21",
       "version_major": 2,
       "version_minor": 0
      },
      "text/plain": [
       "  0%|          | 0/36 [00:00<?, ?it/s]"
      ]
     },
     "metadata": {},
     "output_type": "display_data"
    },
    {
     "name": "stdout",
     "output_type": "stream",
     "text": [
      "{'eval_loss': 0.5863807201385498, 'eval_accuracy': 0.7394366197183099, 'eval_macro_f1': 0.4251012145748988, 'eval_weighted_f1': 0.6286708102868221, 'eval_runtime': 2.4968, 'eval_samples_per_second': 113.747, 'eval_steps_per_second': 14.419, 'epoch': 3.0}\n",
      "{'loss': 0.6701, 'grad_norm': 11.014925003051758, 'learning_rate': 4.3e-06, 'epoch': 3.03}\n",
      "{'loss': 0.4314, 'grad_norm': 7.7395219802856445, 'learning_rate': 4.4e-06, 'epoch': 3.1}\n",
      "{'loss': 0.5364, 'grad_norm': 9.062710762023926, 'learning_rate': 4.5e-06, 'epoch': 3.17}\n",
      "{'loss': 0.5255, 'grad_norm': 23.400365829467773, 'learning_rate': 4.600000000000001e-06, 'epoch': 3.24}\n",
      "{'loss': 0.5099, 'grad_norm': 20.29924201965332, 'learning_rate': 4.7e-06, 'epoch': 3.31}\n",
      "{'loss': 0.6111, 'grad_norm': 94.87073516845703, 'learning_rate': 4.800000000000001e-06, 'epoch': 3.38}\n",
      "{'loss': 0.5632, 'grad_norm': 8.204845428466797, 'learning_rate': 4.9000000000000005e-06, 'epoch': 3.45}\n",
      "{'loss': 0.4766, 'grad_norm': 13.316458702087402, 'learning_rate': 5e-06, 'epoch': 3.52}\n",
      "{'loss': 0.492, 'grad_norm': 5.984498977661133, 'learning_rate': 4.945652173913044e-06, 'epoch': 3.59}\n",
      "{'loss': 0.4924, 'grad_norm': 8.53229808807373, 'learning_rate': 4.891304347826087e-06, 'epoch': 3.66}\n",
      "{'loss': 0.4182, 'grad_norm': 4.480849266052246, 'learning_rate': 4.836956521739131e-06, 'epoch': 3.73}\n",
      "{'loss': 0.4968, 'grad_norm': 14.202061653137207, 'learning_rate': 4.782608695652174e-06, 'epoch': 3.8}\n",
      "{'loss': 0.5039, 'grad_norm': 15.463680267333984, 'learning_rate': 4.728260869565218e-06, 'epoch': 3.87}\n",
      "{'loss': 0.4588, 'grad_norm': 5.689357757568359, 'learning_rate': 4.673913043478261e-06, 'epoch': 3.94}\n"
     ]
    },
    {
     "data": {
      "application/vnd.jupyter.widget-view+json": {
       "model_id": "14e4763f1b424fd1968fc2504dc9b302",
       "version_major": 2,
       "version_minor": 0
      },
      "text/plain": [
       "  0%|          | 0/36 [00:00<?, ?it/s]"
      ]
     },
     "metadata": {},
     "output_type": "display_data"
    },
    {
     "name": "stdout",
     "output_type": "stream",
     "text": [
      "{'eval_loss': 0.5136252045631409, 'eval_accuracy': 0.7394366197183099, 'eval_macro_f1': 0.4251012145748988, 'eval_weighted_f1': 0.6286708102868221, 'eval_runtime': 2.4771, 'eval_samples_per_second': 114.652, 'eval_steps_per_second': 14.533, 'epoch': 4.0}\n",
      "{'loss': 0.5027, 'grad_norm': 6.375857353210449, 'learning_rate': 4.619565217391305e-06, 'epoch': 4.01}\n",
      "{'loss': 0.5606, 'grad_norm': 9.214520454406738, 'learning_rate': 4.565217391304348e-06, 'epoch': 4.08}\n",
      "{'loss': 0.3994, 'grad_norm': 5.157006740570068, 'learning_rate': 4.510869565217392e-06, 'epoch': 4.15}\n",
      "{'loss': 0.4226, 'grad_norm': 55.30393981933594, 'learning_rate': 4.456521739130435e-06, 'epoch': 4.23}\n",
      "{'loss': 0.4496, 'grad_norm': 6.003309726715088, 'learning_rate': 4.402173913043479e-06, 'epoch': 4.3}\n",
      "{'loss': 0.584, 'grad_norm': 23.7686767578125, 'learning_rate': 4.347826086956522e-06, 'epoch': 4.37}\n",
      "{'loss': 0.4414, 'grad_norm': 5.306049346923828, 'learning_rate': 4.293478260869566e-06, 'epoch': 4.44}\n",
      "{'loss': 0.4229, 'grad_norm': 7.023008346557617, 'learning_rate': 4.239130434782609e-06, 'epoch': 4.51}\n",
      "{'loss': 0.4936, 'grad_norm': 24.20926284790039, 'learning_rate': 4.184782608695653e-06, 'epoch': 4.58}\n",
      "{'loss': 0.4602, 'grad_norm': 17.25675392150879, 'learning_rate': 4.130434782608696e-06, 'epoch': 4.65}\n",
      "{'loss': 0.5568, 'grad_norm': 44.34174728393555, 'learning_rate': 4.07608695652174e-06, 'epoch': 4.72}\n",
      "{'loss': 0.4329, 'grad_norm': 3.658337354660034, 'learning_rate': 4.021739130434783e-06, 'epoch': 4.79}\n",
      "{'loss': 0.5159, 'grad_norm': 14.849563598632812, 'learning_rate': 3.967391304347827e-06, 'epoch': 4.86}\n",
      "{'loss': 0.4066, 'grad_norm': 5.590519905090332, 'learning_rate': 3.91304347826087e-06, 'epoch': 4.93}\n",
      "{'loss': 0.5091, 'grad_norm': 9.151453018188477, 'learning_rate': 3.8586956521739136e-06, 'epoch': 5.0}\n"
     ]
    },
    {
     "data": {
      "application/vnd.jupyter.widget-view+json": {
       "model_id": "4fc756d548fd4180b8b5227f89995918",
       "version_major": 2,
       "version_minor": 0
      },
      "text/plain": [
       "  0%|          | 0/36 [00:00<?, ?it/s]"
      ]
     },
     "metadata": {},
     "output_type": "display_data"
    },
    {
     "name": "stdout",
     "output_type": "stream",
     "text": [
      "{'eval_loss': 0.4958806037902832, 'eval_accuracy': 0.7394366197183099, 'eval_macro_f1': 0.4251012145748988, 'eval_weighted_f1': 0.6286708102868221, 'eval_runtime': 2.4558, 'eval_samples_per_second': 115.643, 'eval_steps_per_second': 14.659, 'epoch': 5.0}\n",
      "{'loss': 0.398, 'grad_norm': 7.831844329833984, 'learning_rate': 3.804347826086957e-06, 'epoch': 5.07}\n",
      "{'loss': 0.3864, 'grad_norm': 18.429309844970703, 'learning_rate': 3.7500000000000005e-06, 'epoch': 5.14}\n",
      "{'loss': 0.4675, 'grad_norm': 24.639196395874023, 'learning_rate': 3.6956521739130436e-06, 'epoch': 5.21}\n",
      "{'loss': 0.4109, 'grad_norm': 15.278572082519531, 'learning_rate': 3.6413043478260875e-06, 'epoch': 5.28}\n",
      "{'loss': 0.4191, 'grad_norm': 20.547237396240234, 'learning_rate': 3.5869565217391305e-06, 'epoch': 5.35}\n",
      "{'loss': 0.4089, 'grad_norm': 2.582641839981079, 'learning_rate': 3.5326086956521745e-06, 'epoch': 5.42}\n",
      "{'loss': 0.3996, 'grad_norm': 8.257894515991211, 'learning_rate': 3.4782608695652175e-06, 'epoch': 5.49}\n",
      "{'loss': 0.3483, 'grad_norm': 11.320895195007324, 'learning_rate': 3.4239130434782614e-06, 'epoch': 5.56}\n",
      "{'loss': 0.3822, 'grad_norm': 8.515377044677734, 'learning_rate': 3.3695652173913045e-06, 'epoch': 5.63}\n",
      "{'loss': 0.3769, 'grad_norm': 13.544079780578613, 'learning_rate': 3.315217391304348e-06, 'epoch': 5.7}\n",
      "{'loss': 0.6507, 'grad_norm': 32.05116271972656, 'learning_rate': 3.2608695652173914e-06, 'epoch': 5.77}\n",
      "{'loss': 0.4399, 'grad_norm': 19.29572105407715, 'learning_rate': 3.206521739130435e-06, 'epoch': 5.85}\n",
      "{'loss': 0.3581, 'grad_norm': 28.330900192260742, 'learning_rate': 3.152173913043479e-06, 'epoch': 5.92}\n",
      "{'loss': 0.6013, 'grad_norm': 23.68462562561035, 'learning_rate': 3.097826086956522e-06, 'epoch': 5.99}\n"
     ]
    },
    {
     "data": {
      "application/vnd.jupyter.widget-view+json": {
       "model_id": "7c2fa26f14b64b9f94653f139bc4690d",
       "version_major": 2,
       "version_minor": 0
      },
      "text/plain": [
       "  0%|          | 0/36 [00:00<?, ?it/s]"
      ]
     },
     "metadata": {},
     "output_type": "display_data"
    },
    {
     "name": "stdout",
     "output_type": "stream",
     "text": [
      "{'eval_loss': 0.584483802318573, 'eval_accuracy': 0.7535211267605634, 'eval_macro_f1': 0.5752136752136752, 'eval_weighted_f1': 0.7070061394005056, 'eval_runtime': 2.3776, 'eval_samples_per_second': 119.446, 'eval_steps_per_second': 15.141, 'epoch': 6.0}\n",
      "{'loss': 0.5992, 'grad_norm': 5.696368217468262, 'learning_rate': 3.043478260869566e-06, 'epoch': 6.06}\n",
      "{'loss': 0.4125, 'grad_norm': 26.31462860107422, 'learning_rate': 2.989130434782609e-06, 'epoch': 6.13}\n",
      "{'loss': 0.3478, 'grad_norm': 21.88316535949707, 'learning_rate': 2.9347826086956528e-06, 'epoch': 6.2}\n",
      "{'loss': 0.4801, 'grad_norm': 18.34671401977539, 'learning_rate': 2.880434782608696e-06, 'epoch': 6.27}\n",
      "{'loss': 0.3445, 'grad_norm': 10.081511497497559, 'learning_rate': 2.8260869565217393e-06, 'epoch': 6.34}\n",
      "{'loss': 0.3468, 'grad_norm': 25.63180160522461, 'learning_rate': 2.771739130434783e-06, 'epoch': 6.41}\n",
      "{'loss': 0.4245, 'grad_norm': 42.750736236572266, 'learning_rate': 2.7173913043478263e-06, 'epoch': 6.48}\n",
      "{'loss': 0.2973, 'grad_norm': 8.261234283447266, 'learning_rate': 2.6630434782608698e-06, 'epoch': 6.55}\n",
      "{'loss': 0.3724, 'grad_norm': 22.961259841918945, 'learning_rate': 2.6086956521739132e-06, 'epoch': 6.62}\n",
      "{'loss': 0.2926, 'grad_norm': 19.557727813720703, 'learning_rate': 2.554347826086957e-06, 'epoch': 6.69}\n",
      "{'loss': 0.3209, 'grad_norm': 17.34474754333496, 'learning_rate': 2.5e-06, 'epoch': 6.76}\n",
      "{'loss': 0.3267, 'grad_norm': 3.5865325927734375, 'learning_rate': 2.4456521739130437e-06, 'epoch': 6.83}\n",
      "{'loss': 0.2916, 'grad_norm': 54.80250549316406, 'learning_rate': 2.391304347826087e-06, 'epoch': 6.9}\n",
      "{'loss': 0.4254, 'grad_norm': 52.94200897216797, 'learning_rate': 2.3369565217391307e-06, 'epoch': 6.97}\n"
     ]
    },
    {
     "data": {
      "application/vnd.jupyter.widget-view+json": {
       "model_id": "92a3563bd422478db31e2016036097c1",
       "version_major": 2,
       "version_minor": 0
      },
      "text/plain": [
       "  0%|          | 0/36 [00:00<?, ?it/s]"
      ]
     },
     "metadata": {},
     "output_type": "display_data"
    },
    {
     "name": "stdout",
     "output_type": "stream",
     "text": [
      "{'eval_loss': 0.6143537163734436, 'eval_accuracy': 0.75, 'eval_macro_f1': 0.6550508938499701, 'eval_weighted_f1': 0.7417158497989906, 'eval_runtime': 2.6092, 'eval_samples_per_second': 108.846, 'eval_steps_per_second': 13.797, 'epoch': 7.0}\n",
      "{'loss': 0.3227, 'grad_norm': 11.355110168457031, 'learning_rate': 2.282608695652174e-06, 'epoch': 7.04}\n",
      "{'loss': 0.4197, 'grad_norm': 19.184856414794922, 'learning_rate': 2.2282608695652176e-06, 'epoch': 7.11}\n",
      "{'loss': 0.4955, 'grad_norm': 34.06118392944336, 'learning_rate': 2.173913043478261e-06, 'epoch': 7.18}\n",
      "{'loss': 0.3845, 'grad_norm': 55.225067138671875, 'learning_rate': 2.1195652173913046e-06, 'epoch': 7.25}\n",
      "{'loss': 0.4108, 'grad_norm': 43.19248962402344, 'learning_rate': 2.065217391304348e-06, 'epoch': 7.32}\n",
      "{'loss': 0.4526, 'grad_norm': 35.446529388427734, 'learning_rate': 2.0108695652173916e-06, 'epoch': 7.39}\n",
      "{'loss': 0.25, 'grad_norm': 13.218721389770508, 'learning_rate': 1.956521739130435e-06, 'epoch': 7.46}\n",
      "{'loss': 0.3424, 'grad_norm': 23.178775787353516, 'learning_rate': 1.9021739130434785e-06, 'epoch': 7.54}\n",
      "{'loss': 0.3729, 'grad_norm': 19.498939514160156, 'learning_rate': 1.8478260869565218e-06, 'epoch': 7.61}\n",
      "{'loss': 0.3149, 'grad_norm': 4.382473945617676, 'learning_rate': 1.7934782608695653e-06, 'epoch': 7.68}\n",
      "{'loss': 0.3005, 'grad_norm': 18.068790435791016, 'learning_rate': 1.7391304347826088e-06, 'epoch': 7.75}\n",
      "{'loss': 0.2774, 'grad_norm': 8.850504875183105, 'learning_rate': 1.6847826086956522e-06, 'epoch': 7.82}\n",
      "{'loss': 0.4282, 'grad_norm': 57.564186096191406, 'learning_rate': 1.6304347826086957e-06, 'epoch': 7.89}\n",
      "{'loss': 0.1944, 'grad_norm': 29.818288803100586, 'learning_rate': 1.5760869565217394e-06, 'epoch': 7.96}\n"
     ]
    },
    {
     "data": {
      "application/vnd.jupyter.widget-view+json": {
       "model_id": "0fcff09441da4101a119536436ac2bfe",
       "version_major": 2,
       "version_minor": 0
      },
      "text/plain": [
       "  0%|          | 0/36 [00:00<?, ?it/s]"
      ]
     },
     "metadata": {},
     "output_type": "display_data"
    },
    {
     "name": "stdout",
     "output_type": "stream",
     "text": [
      "{'eval_loss': 0.6781708002090454, 'eval_accuracy': 0.7535211267605634, 'eval_macro_f1': 0.6389131066550421, 'eval_weighted_f1': 0.7363299237447352, 'eval_runtime': 2.6044, 'eval_samples_per_second': 109.047, 'eval_steps_per_second': 13.823, 'epoch': 8.0}\n",
      "{'loss': 0.42, 'grad_norm': 36.83182144165039, 'learning_rate': 1.521739130434783e-06, 'epoch': 8.03}\n",
      "{'loss': 0.2809, 'grad_norm': 26.89448356628418, 'learning_rate': 1.4673913043478264e-06, 'epoch': 8.1}\n",
      "{'loss': 0.3889, 'grad_norm': 57.375328063964844, 'learning_rate': 1.4130434782608697e-06, 'epoch': 8.17}\n",
      "{'loss': 0.323, 'grad_norm': 18.257061004638672, 'learning_rate': 1.3586956521739131e-06, 'epoch': 8.24}\n",
      "{'loss': 0.3049, 'grad_norm': 35.98467254638672, 'learning_rate': 1.3043478260869566e-06, 'epoch': 8.31}\n",
      "{'loss': 0.3537, 'grad_norm': 46.766746520996094, 'learning_rate': 1.25e-06, 'epoch': 8.38}\n",
      "{'loss': 0.2098, 'grad_norm': 4.087879657745361, 'learning_rate': 1.1956521739130436e-06, 'epoch': 8.45}\n",
      "{'loss': 0.2605, 'grad_norm': 35.05426025390625, 'learning_rate': 1.141304347826087e-06, 'epoch': 8.52}\n",
      "{'loss': 0.2782, 'grad_norm': 36.37978744506836, 'learning_rate': 1.0869565217391306e-06, 'epoch': 8.59}\n",
      "{'loss': 0.3464, 'grad_norm': 1.589587926864624, 'learning_rate': 1.032608695652174e-06, 'epoch': 8.66}\n",
      "{'loss': 0.3604, 'grad_norm': 15.44749927520752, 'learning_rate': 9.782608695652175e-07, 'epoch': 8.73}\n",
      "{'loss': 0.339, 'grad_norm': 20.020891189575195, 'learning_rate': 9.239130434782609e-07, 'epoch': 8.8}\n",
      "{'loss': 0.3442, 'grad_norm': 30.714374542236328, 'learning_rate': 8.695652173913044e-07, 'epoch': 8.87}\n",
      "{'loss': 0.3009, 'grad_norm': 108.65230560302734, 'learning_rate': 8.152173913043479e-07, 'epoch': 8.94}\n"
     ]
    },
    {
     "data": {
      "application/vnd.jupyter.widget-view+json": {
       "model_id": "8c6b7ce2ef074be1b5b61164976f4896",
       "version_major": 2,
       "version_minor": 0
      },
      "text/plain": [
       "  0%|          | 0/36 [00:00<?, ?it/s]"
      ]
     },
     "metadata": {},
     "output_type": "display_data"
    },
    {
     "name": "stdout",
     "output_type": "stream",
     "text": [
      "{'eval_loss': 0.6663820743560791, 'eval_accuracy': 0.7570422535211268, 'eval_macro_f1': 0.6713789807314987, 'eval_weighted_f1': 0.7517252227962533, 'eval_runtime': 2.3534, 'eval_samples_per_second': 120.675, 'eval_steps_per_second': 15.297, 'epoch': 9.0}\n",
      "{'loss': 0.2828, 'grad_norm': 43.95911407470703, 'learning_rate': 7.608695652173914e-07, 'epoch': 9.01}\n",
      "{'loss': 0.2951, 'grad_norm': 32.72504806518555, 'learning_rate': 7.065217391304348e-07, 'epoch': 9.08}\n",
      "{'loss': 0.3067, 'grad_norm': 26.530223846435547, 'learning_rate': 6.521739130434783e-07, 'epoch': 9.15}\n",
      "{'loss': 0.2254, 'grad_norm': 6.565260887145996, 'learning_rate': 5.978260869565218e-07, 'epoch': 9.23}\n",
      "{'loss': 0.3086, 'grad_norm': 62.43011474609375, 'learning_rate': 5.434782608695653e-07, 'epoch': 9.3}\n",
      "{'loss': 0.3097, 'grad_norm': 7.8002448081970215, 'learning_rate': 4.891304347826088e-07, 'epoch': 9.37}\n",
      "{'loss': 0.2687, 'grad_norm': 31.50235939025879, 'learning_rate': 4.347826086956522e-07, 'epoch': 9.44}\n",
      "{'loss': 0.3596, 'grad_norm': 1.5524663925170898, 'learning_rate': 3.804347826086957e-07, 'epoch': 9.51}\n",
      "{'loss': 0.3305, 'grad_norm': 72.97088623046875, 'learning_rate': 3.2608695652173915e-07, 'epoch': 9.58}\n",
      "{'loss': 0.456, 'grad_norm': 30.595029830932617, 'learning_rate': 2.7173913043478264e-07, 'epoch': 9.65}\n",
      "{'loss': 0.2945, 'grad_norm': 20.187225341796875, 'learning_rate': 2.173913043478261e-07, 'epoch': 9.72}\n",
      "{'loss': 0.2718, 'grad_norm': 27.461782455444336, 'learning_rate': 1.6304347826086958e-07, 'epoch': 9.79}\n",
      "{'loss': 0.2476, 'grad_norm': 6.366275787353516, 'learning_rate': 1.0869565217391305e-07, 'epoch': 9.86}\n",
      "{'loss': 0.268, 'grad_norm': 71.18550109863281, 'learning_rate': 5.4347826086956524e-08, 'epoch': 9.93}\n",
      "{'loss': 0.3611, 'grad_norm': 82.85686492919922, 'learning_rate': 0.0, 'epoch': 10.0}\n"
     ]
    },
    {
     "data": {
      "application/vnd.jupyter.widget-view+json": {
       "model_id": "c99f9c1f612d42188cb027c30ca301a2",
       "version_major": 2,
       "version_minor": 0
      },
      "text/plain": [
       "  0%|          | 0/36 [00:00<?, ?it/s]"
      ]
     },
     "metadata": {},
     "output_type": "display_data"
    },
    {
     "name": "stdout",
     "output_type": "stream",
     "text": [
      "{'eval_loss': 0.7094165086746216, 'eval_accuracy': 0.7605633802816901, 'eval_macro_f1': 0.6712962962962963, 'eval_weighted_f1': 0.7533255086071987, 'eval_runtime': 2.4652, 'eval_samples_per_second': 115.203, 'eval_steps_per_second': 14.603, 'epoch': 10.0}\n",
      "{'train_runtime': 616.9336, 'train_samples_per_second': 18.414, 'train_steps_per_second': 2.302, 'train_loss': 0.45484812452759543, 'epoch': 10.0}\n"
     ]
    }
   ],
   "source": [
    "from transformers import TrainingArguments, Trainer\n",
    " # Define the compute_metrics function\n",
    "def compute_metrics(pred):\n",
    "    labels = pred.label_ids\n",
    "    preds = np.argmax(pred.predictions, axis=1)\n",
    "    accuracy = accuracy_score(labels, preds)\n",
    "    macro_f1 = f1_score(labels, preds, average='macro')\n",
    "    weighted_f1 = f1_score(labels, preds, average='weighted')\n",
    "    return {\n",
    "        'accuracy': accuracy,\n",
    "        'macro_f1': macro_f1,\n",
    "        'weighted_f1': weighted_f1\n",
    "    }\n",
    "\n",
    "class TrainMetricsLogger(TrainerCallback):\n",
    "    def on_log(self, args, state, control, logs=None, **kwargs):\n",
    "        if logs is not None:\n",
    "            print(f\"Epoch: {state.epoch}, Training Metrics: {logs}\")\n",
    "\n",
    "training_args = TrainingArguments(\n",
    "    output_dir='./results',\n",
    "    eval_strategy='epoch',     # Evaluate every epoch\n",
    "    num_train_epochs=10,              # Number of epochs\n",
    "    per_device_train_batch_size=8,   # Batch size for training\n",
    "    per_device_eval_batch_size=8,    # Batch size for evaluation\n",
    "    warmup_steps=500,                # Number of warmup steps\n",
    "    weight_decay=0.05,               # Strength of weight decay\n",
    "    logging_dir='./logs',            # Directory for logs\n",
    "    logging_steps=10,\n",
    "    load_best_model_at_end=True,\n",
    "    save_strategy='epoch',\n",
    ")\n",
    " \n",
    "trainer = Trainer(\n",
    "    model=model,\n",
    "    args=training_args,\n",
    "    train_dataset=train_dataset,\n",
    "    eval_dataset=test_dataset,\n",
    "    compute_metrics=compute_metrics,\n",
    ")\n",
    "train_result = trainer.train()"
   ]
  },
  {
   "cell_type": "code",
   "execution_count": 14,
   "metadata": {},
   "outputs": [
    {
     "data": {
      "application/vnd.jupyter.widget-view+json": {
       "model_id": "6f831bad66164a7a9e50ecc8b693c242",
       "version_major": 2,
       "version_minor": 0
      },
      "text/plain": [
       "tokenizer_config.json:   0%|          | 0.00/450 [00:00<?, ?B/s]"
      ]
     },
     "metadata": {},
     "output_type": "display_data"
    },
    {
     "data": {
      "application/vnd.jupyter.widget-view+json": {
       "model_id": "0afbec70f6d64a2391cc531491ae56b5",
       "version_major": 2,
       "version_minor": 0
      },
      "text/plain": [
       "vocab.txt:   0%|          | 0.00/3.16M [00:00<?, ?B/s]"
      ]
     },
     "metadata": {},
     "output_type": "display_data"
    },
    {
     "data": {
      "application/vnd.jupyter.widget-view+json": {
       "model_id": "a5d2a7a59ff44545b40765be478bca13",
       "version_major": 2,
       "version_minor": 0
      },
      "text/plain": [
       "special_tokens_map.json:   0%|          | 0.00/125 [00:00<?, ?B/s]"
      ]
     },
     "metadata": {},
     "output_type": "display_data"
    },
    {
     "data": {
      "application/vnd.jupyter.widget-view+json": {
       "model_id": "b64862d0889449dab8e867e65fcc91d4",
       "version_major": 2,
       "version_minor": 0
      },
      "text/plain": [
       "tokenizer.json:   0%|          | 0.00/6.41M [00:00<?, ?B/s]"
      ]
     },
     "metadata": {},
     "output_type": "display_data"
    }
   ],
   "source": [
    "from transformers import AutoTokenizer\n",
    " \n",
    "import torch\n",
    "import numpy as np\n",
    "from transformers import DistilBertTokenizerFast, DistilBertForSequenceClassification, Trainer, TrainingArguments, TrainerCallback\n",
    "from sklearn.model_selection import train_test_split\n",
    "from datasets import Dataset\n",
    "from sklearn.metrics import accuracy_score, f1_score\n",
    "import matplotlib.pyplot as plt\n",
    "import os\n",
    "from transformers import BertTokenizer, BertForSequenceClassification\n",
    "\n",
    "# Split the data into train and test sets\n",
    "#train_texts, test_texts, train_labels, test_labels = train_test_split(AWM['Text'], AWM['label'], test_size=0.2)\n",
    " \n",
    "\n",
    "train_texts, train_labels,test_texts, test_labels = AWM['transcriptions'], AWM['labels'],AWM_val['transcriptions'], AWM_val['labels']\n",
    "# Load tokenizer\n",
    "model_name = \"l3cube-pune/tamil-bert\"\n",
    "tokenizer = BertTokenizer.from_pretrained(model_name)\n",
    " \n",
    "# Tokenize dataset\n",
    "def preprocess_function(examples):\n",
    "    return tokenizer(examples.to_list(), truncation=True, padding=\"max_length\", max_length=128)\n",
    " \n",
    "train_encodings = preprocess_function(train_texts)\n",
    "test_encodings = preprocess_function(test_texts)"
   ]
  },
  {
   "cell_type": "code",
   "execution_count": 15,
   "metadata": {},
   "outputs": [],
   "source": [
    "# Convert to Hugging Face Dataset format, and include 'labels' in the Dataset\n",
    "train_dataset = Dataset.from_dict({\n",
    "    'input_ids': train_encodings['input_ids'],\n",
    "    'attention_mask': train_encodings['attention_mask'],\n",
    "    'labels': train_labels  # Ensure labels are included\n",
    "})\n",
    "\n",
    "test_dataset = Dataset.from_dict({\n",
    "    'input_ids': test_encodings['input_ids'],\n",
    "    'attention_mask': test_encodings['attention_mask'],\n",
    "    'labels': test_labels  # Ensure labels are included\n",
    "})\n"
   ]
  },
  {
   "cell_type": "code",
   "execution_count": 16,
   "metadata": {},
   "outputs": [
    {
     "data": {
      "application/vnd.jupyter.widget-view+json": {
       "model_id": "f042539b52f24eaea4a9e886104e51db",
       "version_major": 2,
       "version_minor": 0
      },
      "text/plain": [
       "config.json:   0%|          | 0.00/660 [00:00<?, ?B/s]"
      ]
     },
     "metadata": {},
     "output_type": "display_data"
    },
    {
     "data": {
      "application/vnd.jupyter.widget-view+json": {
       "model_id": "99fa2bc91a17439495a716b66bc5b3e7",
       "version_major": 2,
       "version_minor": 0
      },
      "text/plain": [
       "model.safetensors:   0%|          | 0.00/951M [00:00<?, ?B/s]"
      ]
     },
     "metadata": {},
     "output_type": "display_data"
    },
    {
     "name": "stderr",
     "output_type": "stream",
     "text": [
      "Some weights of BertForSequenceClassification were not initialized from the model checkpoint at l3cube-pune/tamil-bert and are newly initialized: ['bert.pooler.dense.bias', 'bert.pooler.dense.weight', 'classifier.bias', 'classifier.weight']\n",
      "You should probably TRAIN this model on a down-stream task to be able to use it for predictions and inference.\n"
     ]
    }
   ],
   "source": [
    " \n",
    "model = BertForSequenceClassification.from_pretrained(model_name, num_labels=2)"
   ]
  },
  {
   "cell_type": "code",
   "execution_count": 18,
   "metadata": {},
   "outputs": [
    {
     "data": {
      "application/vnd.jupyter.widget-view+json": {
       "model_id": "771098cd61bb4bd9b772284022fee11c",
       "version_major": 2,
       "version_minor": 0
      },
      "text/plain": [
       "  0%|          | 0/2840 [00:00<?, ?it/s]"
      ]
     },
     "metadata": {},
     "output_type": "display_data"
    },
    {
     "name": "stdout",
     "output_type": "stream",
     "text": [
      "{'loss': 0.4404, 'grad_norm': 6.413241863250732, 'learning_rate': 1.0000000000000002e-06, 'epoch': 0.04}\n",
      "{'loss': 0.4689, 'grad_norm': 2.517507791519165, 'learning_rate': 2.0000000000000003e-06, 'epoch': 0.07}\n",
      "{'loss': 0.368, 'grad_norm': 0.858818769454956, 'learning_rate': 3e-06, 'epoch': 0.11}\n",
      "{'loss': 0.3734, 'grad_norm': 0.8494640588760376, 'learning_rate': 4.000000000000001e-06, 'epoch': 0.14}\n",
      "{'loss': 0.2918, 'grad_norm': 2.7057077884674072, 'learning_rate': 5e-06, 'epoch': 0.18}\n",
      "{'loss': 0.48, 'grad_norm': 0.7819114327430725, 'learning_rate': 6e-06, 'epoch': 0.21}\n",
      "{'loss': 0.3225, 'grad_norm': 2.4913268089294434, 'learning_rate': 7.000000000000001e-06, 'epoch': 0.25}\n",
      "{'loss': 0.6181, 'grad_norm': 0.8023355603218079, 'learning_rate': 8.000000000000001e-06, 'epoch': 0.28}\n",
      "{'loss': 0.4943, 'grad_norm': 0.687935471534729, 'learning_rate': 9e-06, 'epoch': 0.32}\n",
      "{'loss': 0.4017, 'grad_norm': 0.6818622350692749, 'learning_rate': 1e-05, 'epoch': 0.35}\n",
      "{'loss': 0.3953, 'grad_norm': 1.0329768657684326, 'learning_rate': 1.1000000000000001e-05, 'epoch': 0.39}\n",
      "{'loss': 0.3504, 'grad_norm': 0.662785530090332, 'learning_rate': 1.2e-05, 'epoch': 0.42}\n",
      "{'loss': 0.4702, 'grad_norm': 10.771195411682129, 'learning_rate': 1.3000000000000001e-05, 'epoch': 0.46}\n",
      "{'loss': 0.5524, 'grad_norm': 0.701911985874176, 'learning_rate': 1.4000000000000001e-05, 'epoch': 0.49}\n",
      "{'loss': 0.3785, 'grad_norm': 56.07172393798828, 'learning_rate': 1.5e-05, 'epoch': 0.53}\n",
      "{'loss': 0.5347, 'grad_norm': 0.9405412673950195, 'learning_rate': 1.6000000000000003e-05, 'epoch': 0.56}\n",
      "{'loss': 0.2906, 'grad_norm': 1.0964089632034302, 'learning_rate': 1.7000000000000003e-05, 'epoch': 0.6}\n",
      "{'loss': 0.5593, 'grad_norm': 3.2242281436920166, 'learning_rate': 1.8e-05, 'epoch': 0.63}\n",
      "{'loss': 0.4289, 'grad_norm': 0.7117118239402771, 'learning_rate': 1.9e-05, 'epoch': 0.67}\n",
      "{'loss': 0.4182, 'grad_norm': 22.240659713745117, 'learning_rate': 2e-05, 'epoch': 0.7}\n",
      "{'loss': 0.5067, 'grad_norm': 0.7392394542694092, 'learning_rate': 2.1e-05, 'epoch': 0.74}\n",
      "{'loss': 0.3007, 'grad_norm': 14.140996932983398, 'learning_rate': 2.2000000000000003e-05, 'epoch': 0.77}\n",
      "{'loss': 0.3586, 'grad_norm': 0.5875927209854126, 'learning_rate': 2.3000000000000003e-05, 'epoch': 0.81}\n",
      "{'loss': 0.5485, 'grad_norm': 1.02913236618042, 'learning_rate': 2.4e-05, 'epoch': 0.85}\n",
      "{'loss': 0.3469, 'grad_norm': 0.6010504961013794, 'learning_rate': 2.5e-05, 'epoch': 0.88}\n",
      "{'loss': 0.3008, 'grad_norm': 1.445155143737793, 'learning_rate': 2.6000000000000002e-05, 'epoch': 0.92}\n",
      "{'loss': 0.4375, 'grad_norm': 1.7720975875854492, 'learning_rate': 2.7000000000000002e-05, 'epoch': 0.95}\n",
      "{'loss': 0.3365, 'grad_norm': 210.02406311035156, 'learning_rate': 2.8000000000000003e-05, 'epoch': 0.99}\n"
     ]
    },
    {
     "data": {
      "application/vnd.jupyter.widget-view+json": {
       "model_id": "0b379fa51dc0410580b02853e2981e88",
       "version_major": 2,
       "version_minor": 0
      },
      "text/plain": [
       "  0%|          | 0/71 [00:00<?, ?it/s]"
      ]
     },
     "metadata": {},
     "output_type": "display_data"
    },
    {
     "name": "stdout",
     "output_type": "stream",
     "text": [
      "{'eval_loss': 0.593526303768158, 'eval_accuracy': 0.6936619718309859, 'eval_macro_f1': 0.6679701673049788, 'eval_weighted_f1': 0.7121990966155732, 'eval_runtime': 2.7479, 'eval_samples_per_second': 103.352, 'eval_steps_per_second': 25.838, 'epoch': 1.0}\n",
      "{'loss': 0.4117, 'grad_norm': 1.148139238357544, 'learning_rate': 2.9e-05, 'epoch': 1.02}\n",
      "{'loss': 0.4089, 'grad_norm': 42.216129302978516, 'learning_rate': 3e-05, 'epoch': 1.06}\n",
      "{'loss': 0.4305, 'grad_norm': 0.5749794244766235, 'learning_rate': 3.1e-05, 'epoch': 1.09}\n",
      "{'loss': 0.6265, 'grad_norm': 2.114341974258423, 'learning_rate': 3.2000000000000005e-05, 'epoch': 1.13}\n",
      "{'loss': 0.4143, 'grad_norm': 13.98011589050293, 'learning_rate': 3.3e-05, 'epoch': 1.16}\n",
      "{'loss': 0.439, 'grad_norm': 1.2539098262786865, 'learning_rate': 3.4000000000000007e-05, 'epoch': 1.2}\n",
      "{'loss': 0.4067, 'grad_norm': 0.8559134006500244, 'learning_rate': 3.5e-05, 'epoch': 1.23}\n",
      "{'loss': 0.5199, 'grad_norm': 1.3065237998962402, 'learning_rate': 3.6e-05, 'epoch': 1.27}\n",
      "{'loss': 0.3743, 'grad_norm': 0.612785816192627, 'learning_rate': 3.7e-05, 'epoch': 1.3}\n",
      "{'loss': 0.3931, 'grad_norm': 0.5603073835372925, 'learning_rate': 3.8e-05, 'epoch': 1.34}\n",
      "{'loss': 0.4282, 'grad_norm': 1.9345601797103882, 'learning_rate': 3.9000000000000006e-05, 'epoch': 1.37}\n",
      "{'loss': 0.5451, 'grad_norm': 2.59521484375, 'learning_rate': 4e-05, 'epoch': 1.41}\n",
      "{'loss': 0.6714, 'grad_norm': 1.5541479587554932, 'learning_rate': 4.1e-05, 'epoch': 1.44}\n",
      "{'loss': 0.4645, 'grad_norm': 232.25306701660156, 'learning_rate': 4.2e-05, 'epoch': 1.48}\n",
      "{'loss': 0.5733, 'grad_norm': 0.8501886129379272, 'learning_rate': 4.3e-05, 'epoch': 1.51}\n",
      "{'loss': 0.3886, 'grad_norm': 1.6603974103927612, 'learning_rate': 4.4000000000000006e-05, 'epoch': 1.55}\n",
      "{'loss': 0.6402, 'grad_norm': 1.796258568763733, 'learning_rate': 4.5e-05, 'epoch': 1.58}\n",
      "{'loss': 0.6454, 'grad_norm': 1.2945636510849, 'learning_rate': 4.600000000000001e-05, 'epoch': 1.62}\n",
      "{'loss': 0.5705, 'grad_norm': 2.4125921726226807, 'learning_rate': 4.7e-05, 'epoch': 1.65}\n",
      "{'loss': 0.514, 'grad_norm': 0.4053358733654022, 'learning_rate': 4.8e-05, 'epoch': 1.69}\n",
      "{'loss': 0.6465, 'grad_norm': 1.8880521059036255, 'learning_rate': 4.9e-05, 'epoch': 1.73}\n",
      "{'loss': 0.4781, 'grad_norm': 0.3412333130836487, 'learning_rate': 5e-05, 'epoch': 1.76}\n",
      "{'loss': 0.3902, 'grad_norm': 0.4741540253162384, 'learning_rate': 4.978632478632479e-05, 'epoch': 1.8}\n",
      "{'loss': 0.4068, 'grad_norm': 0.7322597503662109, 'learning_rate': 4.9572649572649575e-05, 'epoch': 1.83}\n",
      "{'loss': 0.6264, 'grad_norm': 0.7492791414260864, 'learning_rate': 4.935897435897436e-05, 'epoch': 1.87}\n",
      "{'loss': 0.5765, 'grad_norm': 0.5451292991638184, 'learning_rate': 4.9145299145299147e-05, 'epoch': 1.9}\n",
      "{'loss': 0.4044, 'grad_norm': 0.8041594624519348, 'learning_rate': 4.893162393162393e-05, 'epoch': 1.94}\n",
      "{'loss': 0.6291, 'grad_norm': 4.731166839599609, 'learning_rate': 4.871794871794872e-05, 'epoch': 1.97}\n"
     ]
    },
    {
     "data": {
      "application/vnd.jupyter.widget-view+json": {
       "model_id": "f29907b535ca4be081619cd28adb14f9",
       "version_major": 2,
       "version_minor": 0
      },
      "text/plain": [
       "  0%|          | 0/71 [00:00<?, ?it/s]"
      ]
     },
     "metadata": {},
     "output_type": "display_data"
    },
    {
     "name": "stdout",
     "output_type": "stream",
     "text": [
      "{'eval_loss': 0.6249517202377319, 'eval_accuracy': 0.75, 'eval_macro_f1': 0.5512629353510626, 'eval_weighted_f1': 0.6942695003894513, 'eval_runtime': 2.746, 'eval_samples_per_second': 103.425, 'eval_steps_per_second': 25.856, 'epoch': 2.0}\n",
      "{'loss': 0.2873, 'grad_norm': 0.6995053291320801, 'learning_rate': 4.8504273504273505e-05, 'epoch': 2.01}\n",
      "{'loss': 0.4948, 'grad_norm': 0.7520188093185425, 'learning_rate': 4.829059829059829e-05, 'epoch': 2.04}\n",
      "{'loss': 0.3417, 'grad_norm': 0.6404756307601929, 'learning_rate': 4.8076923076923084e-05, 'epoch': 2.08}\n",
      "{'loss': 0.2369, 'grad_norm': 0.5878735184669495, 'learning_rate': 4.786324786324787e-05, 'epoch': 2.11}\n",
      "{'loss': 0.4904, 'grad_norm': 1.25528085231781, 'learning_rate': 4.764957264957265e-05, 'epoch': 2.15}\n",
      "{'loss': 0.6946, 'grad_norm': 4.580114841461182, 'learning_rate': 4.7435897435897435e-05, 'epoch': 2.18}\n",
      "{'loss': 0.4102, 'grad_norm': 1.2388569116592407, 'learning_rate': 4.722222222222222e-05, 'epoch': 2.22}\n",
      "{'loss': 0.7258, 'grad_norm': 0.8066937327384949, 'learning_rate': 4.700854700854701e-05, 'epoch': 2.25}\n",
      "{'loss': 0.5322, 'grad_norm': 1.4840588569641113, 'learning_rate': 4.67948717948718e-05, 'epoch': 2.29}\n",
      "{'loss': 0.5086, 'grad_norm': 0.5107324719429016, 'learning_rate': 4.6581196581196586e-05, 'epoch': 2.32}\n",
      "{'loss': 0.379, 'grad_norm': 1.1682194471359253, 'learning_rate': 4.636752136752137e-05, 'epoch': 2.36}\n",
      "{'loss': 0.4489, 'grad_norm': 1.1770600080490112, 'learning_rate': 4.615384615384616e-05, 'epoch': 2.39}\n",
      "{'loss': 0.3667, 'grad_norm': 0.7306963205337524, 'learning_rate': 4.594017094017094e-05, 'epoch': 2.43}\n",
      "{'loss': 0.458, 'grad_norm': 0.5832909345626831, 'learning_rate': 4.572649572649573e-05, 'epoch': 2.46}\n",
      "{'loss': 0.5181, 'grad_norm': 3.296515703201294, 'learning_rate': 4.5512820512820516e-05, 'epoch': 2.5}\n",
      "{'loss': 0.3457, 'grad_norm': 1.0442144870758057, 'learning_rate': 4.52991452991453e-05, 'epoch': 2.54}\n",
      "{'loss': 0.355, 'grad_norm': 0.5426563620567322, 'learning_rate': 4.508547008547009e-05, 'epoch': 2.57}\n",
      "{'loss': 0.2685, 'grad_norm': 0.4624731242656708, 'learning_rate': 4.4871794871794874e-05, 'epoch': 2.61}\n",
      "{'loss': 0.5989, 'grad_norm': 1.5343735218048096, 'learning_rate': 4.465811965811966e-05, 'epoch': 2.64}\n",
      "{'loss': 0.1442, 'grad_norm': 0.4613744020462036, 'learning_rate': 4.4444444444444447e-05, 'epoch': 2.68}\n",
      "{'loss': 0.4045, 'grad_norm': 0.40358972549438477, 'learning_rate': 4.423076923076923e-05, 'epoch': 2.71}\n",
      "{'loss': 0.2012, 'grad_norm': 0.41308385133743286, 'learning_rate': 4.401709401709402e-05, 'epoch': 2.75}\n",
      "{'loss': 0.4822, 'grad_norm': 2.5213160514831543, 'learning_rate': 4.3803418803418805e-05, 'epoch': 2.78}\n",
      "{'loss': 0.4135, 'grad_norm': 0.44051048159599304, 'learning_rate': 4.358974358974359e-05, 'epoch': 2.82}\n",
      "{'loss': 0.5452, 'grad_norm': 1.5397509336471558, 'learning_rate': 4.337606837606838e-05, 'epoch': 2.85}\n",
      "{'loss': 0.2637, 'grad_norm': 0.44568029046058655, 'learning_rate': 4.316239316239317e-05, 'epoch': 2.89}\n",
      "{'loss': 0.2517, 'grad_norm': 0.4497744143009186, 'learning_rate': 4.294871794871795e-05, 'epoch': 2.92}\n",
      "{'loss': 0.6549, 'grad_norm': 0.4811179041862488, 'learning_rate': 4.2735042735042735e-05, 'epoch': 2.96}\n",
      "{'loss': 0.6261, 'grad_norm': 2.8181869983673096, 'learning_rate': 4.252136752136752e-05, 'epoch': 2.99}\n"
     ]
    },
    {
     "data": {
      "application/vnd.jupyter.widget-view+json": {
       "model_id": "d0e222be5f8842b19e0e56a21b5de7ff",
       "version_major": 2,
       "version_minor": 0
      },
      "text/plain": [
       "  0%|          | 0/71 [00:00<?, ?it/s]"
      ]
     },
     "metadata": {},
     "output_type": "display_data"
    },
    {
     "name": "stdout",
     "output_type": "stream",
     "text": [
      "{'eval_loss': 0.6527116894721985, 'eval_accuracy': 0.7253521126760564, 'eval_macro_f1': 0.6338028169014085, 'eval_weighted_f1': 0.7214838325729023, 'eval_runtime': 2.7754, 'eval_samples_per_second': 102.327, 'eval_steps_per_second': 25.582, 'epoch': 3.0}\n",
      "{'loss': 0.4143, 'grad_norm': 1.1214810609817505, 'learning_rate': 4.230769230769231e-05, 'epoch': 3.03}\n",
      "{'loss': 0.3787, 'grad_norm': 1.195989727973938, 'learning_rate': 4.209401709401709e-05, 'epoch': 3.06}\n",
      "{'loss': 0.4201, 'grad_norm': 1.3661507368087769, 'learning_rate': 4.1880341880341886e-05, 'epoch': 3.1}\n",
      "{'loss': 0.4579, 'grad_norm': 0.4827416241168976, 'learning_rate': 4.166666666666667e-05, 'epoch': 3.13}\n",
      "{'loss': 0.6677, 'grad_norm': 1.5183402299880981, 'learning_rate': 4.145299145299146e-05, 'epoch': 3.17}\n",
      "{'loss': 0.6091, 'grad_norm': 1.9532527923583984, 'learning_rate': 4.123931623931624e-05, 'epoch': 3.2}\n",
      "{'loss': 0.3944, 'grad_norm': 1.234491229057312, 'learning_rate': 4.1025641025641023e-05, 'epoch': 3.24}\n",
      "{'loss': 0.3422, 'grad_norm': 0.5511916875839233, 'learning_rate': 4.0811965811965816e-05, 'epoch': 3.27}\n",
      "{'loss': 0.4394, 'grad_norm': 0.5465931296348572, 'learning_rate': 4.05982905982906e-05, 'epoch': 3.31}\n",
      "{'loss': 0.3162, 'grad_norm': 0.6544682383537292, 'learning_rate': 4.038461538461539e-05, 'epoch': 3.35}\n",
      "{'loss': 0.5367, 'grad_norm': 0.8673223257064819, 'learning_rate': 4.0170940170940174e-05, 'epoch': 3.38}\n",
      "{'loss': 0.6193, 'grad_norm': 0.6631832122802734, 'learning_rate': 3.995726495726496e-05, 'epoch': 3.42}\n",
      "{'loss': 0.5544, 'grad_norm': 0.7132949233055115, 'learning_rate': 3.974358974358974e-05, 'epoch': 3.45}\n",
      "{'loss': 0.2901, 'grad_norm': 1.8540860414505005, 'learning_rate': 3.952991452991453e-05, 'epoch': 3.49}\n",
      "{'loss': 0.3887, 'grad_norm': 1.7581300735473633, 'learning_rate': 3.931623931623932e-05, 'epoch': 3.52}\n",
      "{'loss': 0.1698, 'grad_norm': 1.2593562602996826, 'learning_rate': 3.9102564102564105e-05, 'epoch': 3.56}\n",
      "{'loss': 0.219, 'grad_norm': 1.3259989023208618, 'learning_rate': 3.888888888888889e-05, 'epoch': 3.59}\n",
      "{'loss': 0.3475, 'grad_norm': 1.3257547616958618, 'learning_rate': 3.867521367521368e-05, 'epoch': 3.63}\n",
      "{'loss': 0.3772, 'grad_norm': 0.47590094804763794, 'learning_rate': 3.846153846153846e-05, 'epoch': 3.66}\n",
      "{'loss': 0.5118, 'grad_norm': 1.324110746383667, 'learning_rate': 3.824786324786325e-05, 'epoch': 3.7}\n",
      "{'loss': 0.1921, 'grad_norm': 0.48580020666122437, 'learning_rate': 3.8034188034188035e-05, 'epoch': 3.73}\n",
      "{'loss': 0.2934, 'grad_norm': 0.49613386392593384, 'learning_rate': 3.782051282051282e-05, 'epoch': 3.77}\n",
      "{'loss': 0.4985, 'grad_norm': 3.172189235687256, 'learning_rate': 3.760683760683761e-05, 'epoch': 3.8}\n",
      "{'loss': 0.337, 'grad_norm': 0.6318879127502441, 'learning_rate': 3.739316239316239e-05, 'epoch': 3.84}\n",
      "{'loss': 0.2685, 'grad_norm': 0.4593377411365509, 'learning_rate': 3.717948717948718e-05, 'epoch': 3.87}\n",
      "{'loss': 0.502, 'grad_norm': 0.47599345445632935, 'learning_rate': 3.696581196581197e-05, 'epoch': 3.91}\n",
      "{'loss': 0.3516, 'grad_norm': 0.6102325320243835, 'learning_rate': 3.675213675213676e-05, 'epoch': 3.94}\n",
      "{'loss': 0.4572, 'grad_norm': 0.5076838135719299, 'learning_rate': 3.653846153846154e-05, 'epoch': 3.98}\n"
     ]
    },
    {
     "data": {
      "application/vnd.jupyter.widget-view+json": {
       "model_id": "795d32d022254c81b5804553ae42a956",
       "version_major": 2,
       "version_minor": 0
      },
      "text/plain": [
       "  0%|          | 0/71 [00:00<?, ?it/s]"
      ]
     },
     "metadata": {},
     "output_type": "display_data"
    },
    {
     "name": "stdout",
     "output_type": "stream",
     "text": [
      "{'eval_loss': 0.7080602645874023, 'eval_accuracy': 0.7464788732394366, 'eval_macro_f1': 0.5698056046452916, 'eval_weighted_f1': 0.7018251899683889, 'eval_runtime': 2.7516, 'eval_samples_per_second': 103.214, 'eval_steps_per_second': 25.804, 'epoch': 4.0}\n",
      "{'loss': 0.4547, 'grad_norm': 2.1879935264587402, 'learning_rate': 3.6324786324786323e-05, 'epoch': 4.01}\n",
      "{'loss': 0.4571, 'grad_norm': 1.224920392036438, 'learning_rate': 3.611111111111111e-05, 'epoch': 4.05}\n",
      "{'loss': 0.3916, 'grad_norm': 0.7231188416481018, 'learning_rate': 3.58974358974359e-05, 'epoch': 4.08}\n",
      "{'loss': 0.1743, 'grad_norm': 0.6882250308990479, 'learning_rate': 3.568376068376069e-05, 'epoch': 4.12}\n",
      "{'loss': 0.1552, 'grad_norm': 0.5300357341766357, 'learning_rate': 3.5470085470085474e-05, 'epoch': 4.15}\n",
      "{'loss': 0.4624, 'grad_norm': 0.4920300841331482, 'learning_rate': 3.525641025641026e-05, 'epoch': 4.19}\n",
      "{'loss': 0.4062, 'grad_norm': 0.48992183804512024, 'learning_rate': 3.504273504273504e-05, 'epoch': 4.23}\n",
      "{'loss': 0.3279, 'grad_norm': 0.5245000123977661, 'learning_rate': 3.4829059829059826e-05, 'epoch': 4.26}\n",
      "{'loss': 0.3329, 'grad_norm': 1.3467563390731812, 'learning_rate': 3.461538461538462e-05, 'epoch': 4.3}\n",
      "{'loss': 0.2765, 'grad_norm': 0.5835220217704773, 'learning_rate': 3.4401709401709405e-05, 'epoch': 4.33}\n",
      "{'loss': 0.4534, 'grad_norm': 1.3015077114105225, 'learning_rate': 3.418803418803419e-05, 'epoch': 4.37}\n",
      "{'loss': 0.2703, 'grad_norm': 0.5796969532966614, 'learning_rate': 3.397435897435898e-05, 'epoch': 4.4}\n",
      "{'loss': 0.275, 'grad_norm': 0.5250393152236938, 'learning_rate': 3.376068376068376e-05, 'epoch': 4.44}\n",
      "{'loss': 0.4013, 'grad_norm': 0.5062838792800903, 'learning_rate': 3.354700854700855e-05, 'epoch': 4.47}\n",
      "{'loss': 0.4656, 'grad_norm': 0.5349021553993225, 'learning_rate': 3.3333333333333335e-05, 'epoch': 4.51}\n",
      "{'loss': 0.3989, 'grad_norm': 3.290116310119629, 'learning_rate': 3.311965811965812e-05, 'epoch': 4.54}\n",
      "{'loss': 0.2563, 'grad_norm': 0.471819669008255, 'learning_rate': 3.290598290598291e-05, 'epoch': 4.58}\n",
      "{'loss': 0.327, 'grad_norm': 1.4410480260849, 'learning_rate': 3.269230769230769e-05, 'epoch': 4.61}\n",
      "{'loss': 0.3875, 'grad_norm': 0.48299574851989746, 'learning_rate': 3.247863247863248e-05, 'epoch': 4.65}\n",
      "{'loss': 0.4674, 'grad_norm': 0.5189655423164368, 'learning_rate': 3.2264957264957265e-05, 'epoch': 4.68}\n",
      "{'loss': 0.4333, 'grad_norm': 1.2562452554702759, 'learning_rate': 3.205128205128206e-05, 'epoch': 4.72}\n",
      "{'loss': 0.2109, 'grad_norm': 1.384077548980713, 'learning_rate': 3.183760683760684e-05, 'epoch': 4.75}\n",
      "{'loss': 0.3248, 'grad_norm': 0.4960390627384186, 'learning_rate': 3.162393162393162e-05, 'epoch': 4.79}\n",
      "{'loss': 0.3334, 'grad_norm': 0.4623791575431824, 'learning_rate': 3.141025641025641e-05, 'epoch': 4.82}\n",
      "{'loss': 0.6477, 'grad_norm': 3.0424230098724365, 'learning_rate': 3.1196581196581195e-05, 'epoch': 4.86}\n",
      "{'loss': 0.2686, 'grad_norm': 0.49698445200920105, 'learning_rate': 3.098290598290599e-05, 'epoch': 4.89}\n",
      "{'loss': 0.3821, 'grad_norm': 0.5327638983726501, 'learning_rate': 3.0769230769230774e-05, 'epoch': 4.93}\n",
      "{'loss': 0.3273, 'grad_norm': 1.2226804494857788, 'learning_rate': 3.055555555555556e-05, 'epoch': 4.96}\n",
      "{'loss': 0.4986, 'grad_norm': 1.3005988597869873, 'learning_rate': 3.034188034188034e-05, 'epoch': 5.0}\n"
     ]
    },
    {
     "data": {
      "application/vnd.jupyter.widget-view+json": {
       "model_id": "f40464a059814b29ba2531b51e933cb7",
       "version_major": 2,
       "version_minor": 0
      },
      "text/plain": [
       "  0%|          | 0/71 [00:00<?, ?it/s]"
      ]
     },
     "metadata": {},
     "output_type": "display_data"
    },
    {
     "name": "stdout",
     "output_type": "stream",
     "text": [
      "{'eval_loss': 0.621349573135376, 'eval_accuracy': 0.7711267605633803, 'eval_macro_f1': 0.6740301248432837, 'eval_weighted_f1': 0.7592245923138201, 'eval_runtime': 2.7507, 'eval_samples_per_second': 103.245, 'eval_steps_per_second': 25.811, 'epoch': 5.0}\n",
      "{'loss': 0.2737, 'grad_norm': 0.6349967122077942, 'learning_rate': 3.012820512820513e-05, 'epoch': 5.04}\n",
      "{'loss': 0.2152, 'grad_norm': 0.6810178160667419, 'learning_rate': 2.9914529914529915e-05, 'epoch': 5.07}\n",
      "{'loss': 0.3274, 'grad_norm': 0.5886568427085876, 'learning_rate': 2.97008547008547e-05, 'epoch': 5.11}\n",
      "{'loss': 0.434, 'grad_norm': 2.3057491779327393, 'learning_rate': 2.948717948717949e-05, 'epoch': 5.14}\n",
      "{'loss': 0.2647, 'grad_norm': 0.5746212005615234, 'learning_rate': 2.9273504273504277e-05, 'epoch': 5.18}\n",
      "{'loss': 0.6381, 'grad_norm': 3.0252742767333984, 'learning_rate': 2.9059829059829063e-05, 'epoch': 5.21}\n",
      "{'loss': 0.3899, 'grad_norm': 0.5270459651947021, 'learning_rate': 2.8846153846153845e-05, 'epoch': 5.25}\n",
      "{'loss': 0.1528, 'grad_norm': 0.6114040017127991, 'learning_rate': 2.863247863247863e-05, 'epoch': 5.28}\n",
      "{'loss': 0.4488, 'grad_norm': 0.5324055552482605, 'learning_rate': 2.8418803418803418e-05, 'epoch': 5.32}\n",
      "{'loss': 0.3843, 'grad_norm': 0.6197054386138916, 'learning_rate': 2.8205128205128207e-05, 'epoch': 5.35}\n",
      "{'loss': 0.2111, 'grad_norm': 0.6330815553665161, 'learning_rate': 2.7991452991452993e-05, 'epoch': 5.39}\n",
      "{'loss': 0.3841, 'grad_norm': 0.49479740858078003, 'learning_rate': 2.777777777777778e-05, 'epoch': 5.42}\n",
      "{'loss': 0.4437, 'grad_norm': 1.279594898223877, 'learning_rate': 2.756410256410257e-05, 'epoch': 5.46}\n",
      "{'loss': 0.2053, 'grad_norm': 0.5707853436470032, 'learning_rate': 2.7350427350427355e-05, 'epoch': 5.49}\n",
      "{'loss': 0.2628, 'grad_norm': 0.46289631724357605, 'learning_rate': 2.7136752136752137e-05, 'epoch': 5.53}\n",
      "{'loss': 0.2695, 'grad_norm': 0.44116225838661194, 'learning_rate': 2.6923076923076923e-05, 'epoch': 5.56}\n",
      "{'loss': 0.3294, 'grad_norm': 0.4393431544303894, 'learning_rate': 2.670940170940171e-05, 'epoch': 5.6}\n",
      "{'loss': 0.5935, 'grad_norm': 0.4235056936740875, 'learning_rate': 2.64957264957265e-05, 'epoch': 5.63}\n",
      "{'loss': 0.5302, 'grad_norm': 1.3796197175979614, 'learning_rate': 2.6282051282051285e-05, 'epoch': 5.67}\n",
      "{'loss': 0.3199, 'grad_norm': 1.6382123231887817, 'learning_rate': 2.606837606837607e-05, 'epoch': 5.7}\n",
      "{'loss': 0.6282, 'grad_norm': 3.0915374755859375, 'learning_rate': 2.5854700854700857e-05, 'epoch': 5.74}\n",
      "{'loss': 0.572, 'grad_norm': 4.774185657501221, 'learning_rate': 2.564102564102564e-05, 'epoch': 5.77}\n",
      "{'loss': 0.3854, 'grad_norm': 1.233479380607605, 'learning_rate': 2.5427350427350426e-05, 'epoch': 5.81}\n",
      "{'loss': 0.4401, 'grad_norm': 0.6235816478729248, 'learning_rate': 2.5213675213675215e-05, 'epoch': 5.85}\n",
      "{'loss': 0.4983, 'grad_norm': 0.6330077648162842, 'learning_rate': 2.5e-05, 'epoch': 5.88}\n",
      "{'loss': 0.3798, 'grad_norm': 0.5252053737640381, 'learning_rate': 2.4786324786324787e-05, 'epoch': 5.92}\n",
      "{'loss': 0.5619, 'grad_norm': 1.1531081199645996, 'learning_rate': 2.4572649572649573e-05, 'epoch': 5.95}\n",
      "{'loss': 0.2132, 'grad_norm': 0.5515047311782837, 'learning_rate': 2.435897435897436e-05, 'epoch': 5.99}\n"
     ]
    },
    {
     "data": {
      "application/vnd.jupyter.widget-view+json": {
       "model_id": "d9753ad748c34d9994f595d84f8b85ea",
       "version_major": 2,
       "version_minor": 0
      },
      "text/plain": [
       "  0%|          | 0/71 [00:00<?, ?it/s]"
      ]
     },
     "metadata": {},
     "output_type": "display_data"
    },
    {
     "name": "stdout",
     "output_type": "stream",
     "text": [
      "{'eval_loss': 0.6825453042984009, 'eval_accuracy': 0.7464788732394366, 'eval_macro_f1': 0.6519607843137255, 'eval_weighted_f1': 0.7388152444076221, 'eval_runtime': 2.7352, 'eval_samples_per_second': 103.833, 'eval_steps_per_second': 25.958, 'epoch': 6.0}\n",
      "{'loss': 0.4911, 'grad_norm': 0.5368196964263916, 'learning_rate': 2.4145299145299145e-05, 'epoch': 6.02}\n",
      "{'loss': 0.4446, 'grad_norm': 0.6500634551048279, 'learning_rate': 2.3931623931623935e-05, 'epoch': 6.06}\n",
      "{'loss': 0.4897, 'grad_norm': 0.5671225190162659, 'learning_rate': 2.3717948717948718e-05, 'epoch': 6.09}\n",
      "{'loss': 0.4301, 'grad_norm': 1.1174280643463135, 'learning_rate': 2.3504273504273504e-05, 'epoch': 6.13}\n",
      "{'loss': 0.4276, 'grad_norm': 0.9521540999412537, 'learning_rate': 2.3290598290598293e-05, 'epoch': 6.16}\n",
      "{'loss': 0.4322, 'grad_norm': 0.74467933177948, 'learning_rate': 2.307692307692308e-05, 'epoch': 6.2}\n",
      "{'loss': 0.5811, 'grad_norm': 0.7710802555084229, 'learning_rate': 2.2863247863247865e-05, 'epoch': 6.23}\n",
      "{'loss': 0.4263, 'grad_norm': 0.8278703689575195, 'learning_rate': 2.264957264957265e-05, 'epoch': 6.27}\n",
      "{'loss': 0.3249, 'grad_norm': 0.8041580319404602, 'learning_rate': 2.2435897435897437e-05, 'epoch': 6.3}\n",
      "{'loss': 0.47, 'grad_norm': 1.0919228792190552, 'learning_rate': 2.2222222222222223e-05, 'epoch': 6.34}\n",
      "{'loss': 0.3786, 'grad_norm': 0.7730742692947388, 'learning_rate': 2.200854700854701e-05, 'epoch': 6.37}\n",
      "{'loss': 0.4308, 'grad_norm': 0.7333970665931702, 'learning_rate': 2.1794871794871795e-05, 'epoch': 6.41}\n",
      "{'loss': 0.329, 'grad_norm': 0.706831693649292, 'learning_rate': 2.1581196581196585e-05, 'epoch': 6.44}\n",
      "{'loss': 0.4333, 'grad_norm': 1.0722026824951172, 'learning_rate': 2.1367521367521368e-05, 'epoch': 6.48}\n",
      "{'loss': 0.3271, 'grad_norm': 0.5305407643318176, 'learning_rate': 2.1153846153846154e-05, 'epoch': 6.51}\n",
      "{'loss': 0.4893, 'grad_norm': 1.0479155778884888, 'learning_rate': 2.0940170940170943e-05, 'epoch': 6.55}\n",
      "{'loss': 0.1615, 'grad_norm': 0.558973491191864, 'learning_rate': 2.072649572649573e-05, 'epoch': 6.58}\n",
      "{'loss': 0.4387, 'grad_norm': 0.632571816444397, 'learning_rate': 2.0512820512820512e-05, 'epoch': 6.62}\n",
      "{'loss': 0.4288, 'grad_norm': 1.2719401121139526, 'learning_rate': 2.02991452991453e-05, 'epoch': 6.65}\n",
      "{'loss': 0.326, 'grad_norm': 0.5255101323127747, 'learning_rate': 2.0085470085470087e-05, 'epoch': 6.69}\n",
      "{'loss': 0.3843, 'grad_norm': 0.5413649678230286, 'learning_rate': 1.987179487179487e-05, 'epoch': 6.73}\n",
      "{'loss': 0.3858, 'grad_norm': 0.6239060759544373, 'learning_rate': 1.965811965811966e-05, 'epoch': 6.76}\n",
      "{'loss': 0.2138, 'grad_norm': 0.5222557783126831, 'learning_rate': 1.9444444444444445e-05, 'epoch': 6.8}\n",
      "{'loss': 0.3799, 'grad_norm': 0.637981653213501, 'learning_rate': 1.923076923076923e-05, 'epoch': 6.83}\n",
      "{'loss': 0.3236, 'grad_norm': 0.618183434009552, 'learning_rate': 1.9017094017094017e-05, 'epoch': 6.87}\n",
      "{'loss': 0.2688, 'grad_norm': 0.5143545269966125, 'learning_rate': 1.8803418803418804e-05, 'epoch': 6.9}\n",
      "{'loss': 0.4485, 'grad_norm': 1.2020667791366577, 'learning_rate': 1.858974358974359e-05, 'epoch': 6.94}\n",
      "{'loss': 0.4384, 'grad_norm': 0.5329639315605164, 'learning_rate': 1.837606837606838e-05, 'epoch': 6.97}\n"
     ]
    },
    {
     "data": {
      "application/vnd.jupyter.widget-view+json": {
       "model_id": "8e0070d969374519973c4c2daabc4fb4",
       "version_major": 2,
       "version_minor": 0
      },
      "text/plain": [
       "  0%|          | 0/71 [00:00<?, ?it/s]"
      ]
     },
     "metadata": {},
     "output_type": "display_data"
    },
    {
     "name": "stdout",
     "output_type": "stream",
     "text": [
      "{'eval_loss': 0.6527484655380249, 'eval_accuracy': 0.7605633802816901, 'eval_macro_f1': 0.6363088512241055, 'eval_weighted_f1': 0.7381077425001991, 'eval_runtime': 2.8119, 'eval_samples_per_second': 101.0, 'eval_steps_per_second': 25.25, 'epoch': 7.0}\n",
      "{'loss': 0.265, 'grad_norm': 2.7979941368103027, 'learning_rate': 1.8162393162393162e-05, 'epoch': 7.01}\n",
      "{'loss': 0.388, 'grad_norm': 1.2049450874328613, 'learning_rate': 1.794871794871795e-05, 'epoch': 7.04}\n",
      "{'loss': 0.5529, 'grad_norm': 0.6259092688560486, 'learning_rate': 1.7735042735042737e-05, 'epoch': 7.08}\n",
      "{'loss': 0.4364, 'grad_norm': 1.134787917137146, 'learning_rate': 1.752136752136752e-05, 'epoch': 7.11}\n",
      "{'loss': 0.4889, 'grad_norm': 0.6554080843925476, 'learning_rate': 1.730769230769231e-05, 'epoch': 7.15}\n",
      "{'loss': 0.3272, 'grad_norm': 1.2239058017730713, 'learning_rate': 1.7094017094017095e-05, 'epoch': 7.18}\n",
      "{'loss': 0.2156, 'grad_norm': 1.388608694076538, 'learning_rate': 1.688034188034188e-05, 'epoch': 7.22}\n",
      "{'loss': 0.3784, 'grad_norm': 1.2596105337142944, 'learning_rate': 1.6666666666666667e-05, 'epoch': 7.25}\n",
      "{'loss': 0.3775, 'grad_norm': 0.6363971829414368, 'learning_rate': 1.6452991452991454e-05, 'epoch': 7.29}\n",
      "{'loss': 0.2714, 'grad_norm': 1.1888957023620605, 'learning_rate': 1.623931623931624e-05, 'epoch': 7.32}\n",
      "{'loss': 0.4379, 'grad_norm': 0.5366232991218567, 'learning_rate': 1.602564102564103e-05, 'epoch': 7.36}\n",
      "{'loss': 0.4429, 'grad_norm': 2.845466136932373, 'learning_rate': 1.581196581196581e-05, 'epoch': 7.39}\n",
      "{'loss': 0.2667, 'grad_norm': 0.6250709891319275, 'learning_rate': 1.5598290598290598e-05, 'epoch': 7.43}\n",
      "{'loss': 0.3257, 'grad_norm': 1.1505305767059326, 'learning_rate': 1.5384615384615387e-05, 'epoch': 7.46}\n",
      "{'loss': 0.323, 'grad_norm': 1.299222707748413, 'learning_rate': 1.517094017094017e-05, 'epoch': 7.5}\n",
      "{'loss': 0.3284, 'grad_norm': 0.6290304064750671, 'learning_rate': 1.4957264957264958e-05, 'epoch': 7.54}\n",
      "{'loss': 0.3253, 'grad_norm': 0.6705002784729004, 'learning_rate': 1.4743589743589745e-05, 'epoch': 7.57}\n",
      "{'loss': 0.2666, 'grad_norm': 0.5392885208129883, 'learning_rate': 1.4529914529914531e-05, 'epoch': 7.61}\n",
      "{'loss': 0.3898, 'grad_norm': 0.5264593958854675, 'learning_rate': 1.4316239316239316e-05, 'epoch': 7.64}\n",
      "{'loss': 0.1504, 'grad_norm': 0.4855113923549652, 'learning_rate': 1.4102564102564104e-05, 'epoch': 7.68}\n",
      "{'loss': 0.1504, 'grad_norm': 0.5790446400642395, 'learning_rate': 1.388888888888889e-05, 'epoch': 7.71}\n",
      "{'loss': 0.2647, 'grad_norm': 1.2467119693756104, 'learning_rate': 1.3675213675213677e-05, 'epoch': 7.75}\n",
      "{'loss': 0.3899, 'grad_norm': 0.4700865149497986, 'learning_rate': 1.3461538461538462e-05, 'epoch': 7.78}\n",
      "{'loss': 0.393, 'grad_norm': 0.4854620099067688, 'learning_rate': 1.324786324786325e-05, 'epoch': 7.82}\n",
      "{'loss': 0.2628, 'grad_norm': 0.5509068965911865, 'learning_rate': 1.3034188034188035e-05, 'epoch': 7.85}\n",
      "{'loss': 0.3932, 'grad_norm': 0.45922818779945374, 'learning_rate': 1.282051282051282e-05, 'epoch': 7.89}\n",
      "{'loss': 0.268, 'grad_norm': 0.5510480403900146, 'learning_rate': 1.2606837606837608e-05, 'epoch': 7.92}\n",
      "{'loss': 0.1445, 'grad_norm': 1.5840990543365479, 'learning_rate': 1.2393162393162394e-05, 'epoch': 7.96}\n",
      "{'loss': 0.2024, 'grad_norm': 0.5149228572845459, 'learning_rate': 1.217948717948718e-05, 'epoch': 7.99}\n"
     ]
    },
    {
     "data": {
      "application/vnd.jupyter.widget-view+json": {
       "model_id": "8122ebaee4644edabeedd1f6f3dac7c2",
       "version_major": 2,
       "version_minor": 0
      },
      "text/plain": [
       "  0%|          | 0/71 [00:00<?, ?it/s]"
      ]
     },
     "metadata": {},
     "output_type": "display_data"
    },
    {
     "name": "stdout",
     "output_type": "stream",
     "text": [
      "{'eval_loss': 0.6954302787780762, 'eval_accuracy': 0.7640845070422535, 'eval_macro_f1': 0.6347442172953258, 'eval_weighted_f1': 0.7388287108194806, 'eval_runtime': 2.7488, 'eval_samples_per_second': 103.318, 'eval_steps_per_second': 25.829, 'epoch': 8.0}\n",
      "{'loss': 0.4587, 'grad_norm': 0.43548423051834106, 'learning_rate': 1.1965811965811967e-05, 'epoch': 8.03}\n",
      "{'loss': 0.2033, 'grad_norm': 0.44193974137306213, 'learning_rate': 1.1752136752136752e-05, 'epoch': 8.06}\n",
      "{'loss': 0.4704, 'grad_norm': 0.44843289256095886, 'learning_rate': 1.153846153846154e-05, 'epoch': 8.1}\n",
      "{'loss': 0.3987, 'grad_norm': 1.4923994541168213, 'learning_rate': 1.1324786324786326e-05, 'epoch': 8.13}\n",
      "{'loss': 0.2632, 'grad_norm': 3.0547890663146973, 'learning_rate': 1.1111111111111112e-05, 'epoch': 8.17}\n",
      "{'loss': 0.3894, 'grad_norm': 0.5018665194511414, 'learning_rate': 1.0897435897435898e-05, 'epoch': 8.2}\n",
      "{'loss': 0.4569, 'grad_norm': 0.49662941694259644, 'learning_rate': 1.0683760683760684e-05, 'epoch': 8.24}\n",
      "{'loss': 0.2661, 'grad_norm': 1.420305848121643, 'learning_rate': 1.0470085470085471e-05, 'epoch': 8.27}\n",
      "{'loss': 0.3936, 'grad_norm': 1.4378849267959595, 'learning_rate': 1.0256410256410256e-05, 'epoch': 8.31}\n",
      "{'loss': 0.3342, 'grad_norm': 0.5166414976119995, 'learning_rate': 1.0042735042735044e-05, 'epoch': 8.35}\n",
      "{'loss': 0.2705, 'grad_norm': 0.5279664397239685, 'learning_rate': 9.82905982905983e-06, 'epoch': 8.38}\n",
      "{'loss': 0.2644, 'grad_norm': 0.44053927063941956, 'learning_rate': 9.615384615384616e-06, 'epoch': 8.42}\n",
      "{'loss': 0.332, 'grad_norm': 0.5306661128997803, 'learning_rate': 9.401709401709402e-06, 'epoch': 8.45}\n",
      "{'loss': 0.2054, 'grad_norm': 0.4268200695514679, 'learning_rate': 9.18803418803419e-06, 'epoch': 8.49}\n",
      "{'loss': 0.3337, 'grad_norm': 0.5049910545349121, 'learning_rate': 8.974358974358976e-06, 'epoch': 8.52}\n",
      "{'loss': 0.2649, 'grad_norm': 0.5083473324775696, 'learning_rate': 8.76068376068376e-06, 'epoch': 8.56}\n",
      "{'loss': 0.2034, 'grad_norm': 1.4459437131881714, 'learning_rate': 8.547008547008548e-06, 'epoch': 8.59}\n",
      "{'loss': 0.2026, 'grad_norm': 0.4264169931411743, 'learning_rate': 8.333333333333334e-06, 'epoch': 8.63}\n",
      "{'loss': 0.3982, 'grad_norm': 0.49501222372055054, 'learning_rate': 8.11965811965812e-06, 'epoch': 8.66}\n",
      "{'loss': 0.3367, 'grad_norm': 0.491617351770401, 'learning_rate': 7.905982905982906e-06, 'epoch': 8.7}\n",
      "{'loss': 0.3955, 'grad_norm': 0.42869964241981506, 'learning_rate': 7.692307692307694e-06, 'epoch': 8.73}\n",
      "{'loss': 0.2033, 'grad_norm': 0.42594626545906067, 'learning_rate': 7.478632478632479e-06, 'epoch': 8.77}\n",
      "{'loss': 0.4614, 'grad_norm': 1.6187565326690674, 'learning_rate': 7.264957264957266e-06, 'epoch': 8.8}\n",
      "{'loss': 0.2, 'grad_norm': 2.7599539756774902, 'learning_rate': 7.051282051282052e-06, 'epoch': 8.84}\n",
      "{'loss': 0.4668, 'grad_norm': 0.42348942160606384, 'learning_rate': 6.837606837606839e-06, 'epoch': 8.87}\n",
      "{'loss': 0.2367, 'grad_norm': 0.4983322322368622, 'learning_rate': 6.623931623931625e-06, 'epoch': 8.91}\n",
      "{'loss': 0.1988, 'grad_norm': 0.4856037497520447, 'learning_rate': 6.41025641025641e-06, 'epoch': 8.94}\n",
      "{'loss': 0.4012, 'grad_norm': 0.41587716341018677, 'learning_rate': 6.196581196581197e-06, 'epoch': 8.98}\n"
     ]
    },
    {
     "data": {
      "application/vnd.jupyter.widget-view+json": {
       "model_id": "509e5be4a1b34943a84847bd25793866",
       "version_major": 2,
       "version_minor": 0
      },
      "text/plain": [
       "  0%|          | 0/71 [00:00<?, ?it/s]"
      ]
     },
     "metadata": {},
     "output_type": "display_data"
    },
    {
     "name": "stdout",
     "output_type": "stream",
     "text": [
      "{'eval_loss': 0.7159718871116638, 'eval_accuracy': 0.7640845070422535, 'eval_macro_f1': 0.6347442172953258, 'eval_weighted_f1': 0.7388287108194806, 'eval_runtime': 2.7965, 'eval_samples_per_second': 101.557, 'eval_steps_per_second': 25.389, 'epoch': 9.0}\n",
      "{'loss': 0.2008, 'grad_norm': 0.4929856061935425, 'learning_rate': 5.982905982905984e-06, 'epoch': 9.01}\n",
      "{'loss': 0.2013, 'grad_norm': 0.49437931180000305, 'learning_rate': 5.76923076923077e-06, 'epoch': 9.05}\n",
      "{'loss': 0.2025, 'grad_norm': 0.40032726526260376, 'learning_rate': 5.555555555555556e-06, 'epoch': 9.08}\n",
      "{'loss': 0.2685, 'grad_norm': 0.4163222908973694, 'learning_rate': 5.341880341880342e-06, 'epoch': 9.12}\n",
      "{'loss': 0.3317, 'grad_norm': 0.43761348724365234, 'learning_rate': 5.128205128205128e-06, 'epoch': 9.15}\n",
      "{'loss': 0.1998, 'grad_norm': 1.7084722518920898, 'learning_rate': 4.914529914529915e-06, 'epoch': 9.19}\n",
      "{'loss': 0.5418, 'grad_norm': 1.6345511674880981, 'learning_rate': 4.700854700854701e-06, 'epoch': 9.23}\n",
      "{'loss': 0.2708, 'grad_norm': 0.4188671410083771, 'learning_rate': 4.487179487179488e-06, 'epoch': 9.26}\n",
      "{'loss': 0.4077, 'grad_norm': 0.40313127636909485, 'learning_rate': 4.273504273504274e-06, 'epoch': 9.3}\n",
      "{'loss': 0.2689, 'grad_norm': 0.40843695402145386, 'learning_rate': 4.05982905982906e-06, 'epoch': 9.33}\n",
      "{'loss': 0.0633, 'grad_norm': 0.41502389311790466, 'learning_rate': 3.846153846153847e-06, 'epoch': 9.37}\n",
      "{'loss': 0.5523, 'grad_norm': 0.4104599356651306, 'learning_rate': 3.632478632478633e-06, 'epoch': 9.4}\n",
      "{'loss': 0.2668, 'grad_norm': 0.4037921130657196, 'learning_rate': 3.4188034188034193e-06, 'epoch': 9.44}\n",
      "{'loss': 0.3364, 'grad_norm': 0.46432480216026306, 'learning_rate': 3.205128205128205e-06, 'epoch': 9.47}\n",
      "{'loss': 0.1999, 'grad_norm': 0.4656565189361572, 'learning_rate': 2.991452991452992e-06, 'epoch': 9.51}\n",
      "{'loss': 0.4787, 'grad_norm': 1.6678574085235596, 'learning_rate': 2.777777777777778e-06, 'epoch': 9.54}\n",
      "{'loss': 0.4044, 'grad_norm': 1.554401159286499, 'learning_rate': 2.564102564102564e-06, 'epoch': 9.58}\n",
      "{'loss': 0.4718, 'grad_norm': 1.7754698991775513, 'learning_rate': 2.3504273504273504e-06, 'epoch': 9.61}\n",
      "{'loss': 0.4078, 'grad_norm': 6.68256139755249, 'learning_rate': 2.136752136752137e-06, 'epoch': 9.65}\n",
      "{'loss': 0.3379, 'grad_norm': 0.4608653485774994, 'learning_rate': 1.9230769230769234e-06, 'epoch': 9.68}\n",
      "{'loss': 0.1322, 'grad_norm': 0.39582255482673645, 'learning_rate': 1.7094017094017097e-06, 'epoch': 9.72}\n",
      "{'loss': 0.1993, 'grad_norm': 0.4206220507621765, 'learning_rate': 1.495726495726496e-06, 'epoch': 9.75}\n",
      "{'loss': 0.3328, 'grad_norm': 0.3986828327178955, 'learning_rate': 1.282051282051282e-06, 'epoch': 9.79}\n",
      "{'loss': 0.2706, 'grad_norm': 1.607761263847351, 'learning_rate': 1.0683760683760685e-06, 'epoch': 9.82}\n",
      "{'loss': 0.3376, 'grad_norm': 1.4999414682388306, 'learning_rate': 8.547008547008548e-07, 'epoch': 9.86}\n",
      "{'loss': 0.2714, 'grad_norm': 0.40335118770599365, 'learning_rate': 6.41025641025641e-07, 'epoch': 9.89}\n",
      "{'loss': 0.335, 'grad_norm': 1.541373610496521, 'learning_rate': 4.273504273504274e-07, 'epoch': 9.93}\n",
      "{'loss': 0.1309, 'grad_norm': 1.5566461086273193, 'learning_rate': 2.136752136752137e-07, 'epoch': 9.96}\n",
      "{'loss': 0.3357, 'grad_norm': 0.4458586871623993, 'learning_rate': 0.0, 'epoch': 10.0}\n"
     ]
    },
    {
     "data": {
      "application/vnd.jupyter.widget-view+json": {
       "model_id": "a376295d8d714cc9a8df020aaa4bbcae",
       "version_major": 2,
       "version_minor": 0
      },
      "text/plain": [
       "  0%|          | 0/71 [00:00<?, ?it/s]"
      ]
     },
     "metadata": {},
     "output_type": "display_data"
    },
    {
     "name": "stdout",
     "output_type": "stream",
     "text": [
      "{'eval_loss': 0.7489249110221863, 'eval_accuracy': 0.7570422535211268, 'eval_macro_f1': 0.6188660896625499, 'eval_weighted_f1': 0.7287605825559209, 'eval_runtime': 2.7498, 'eval_samples_per_second': 103.28, 'eval_steps_per_second': 25.82, 'epoch': 10.0}\n",
      "{'train_runtime': 811.3114, 'train_samples_per_second': 14.002, 'train_steps_per_second': 3.501, 'train_loss': 0.3846003410891748, 'epoch': 10.0}\n"
     ]
    }
   ],
   "source": [
    "from transformers import TrainingArguments, Trainer\n",
    " # Define the compute_metrics function\n",
    "def compute_metrics(pred):\n",
    "    labels = pred.label_ids\n",
    "    preds = np.argmax(pred.predictions, axis=1)\n",
    "    accuracy = accuracy_score(labels, preds)\n",
    "    macro_f1 = f1_score(labels, preds, average='macro')\n",
    "    weighted_f1 = f1_score(labels, preds, average='weighted')\n",
    "    return {\n",
    "        'accuracy': accuracy,\n",
    "        'macro_f1': macro_f1,\n",
    "        'weighted_f1': weighted_f1\n",
    "    }\n",
    "\n",
    "class TrainMetricsLogger(TrainerCallback):\n",
    "    def on_log(self, args, state, control, logs=None, **kwargs):\n",
    "        if logs is not None:\n",
    "            print(f\"Epoch: {state.epoch}, Training Metrics: {logs}\")\n",
    "\n",
    "training_args = TrainingArguments(\n",
    "    output_dir='./results',\n",
    "    eval_strategy='epoch',     # Evaluate every epoch\n",
    "    num_train_epochs=10,              # Number of epochs\n",
    "    per_device_train_batch_size=4,   # Batch size for training\n",
    "    per_device_eval_batch_size=4,    # Batch size for evaluation\n",
    "    warmup_steps=500,                # Number of warmup steps\n",
    "    weight_decay=0.05,               # Strength of weight decay\n",
    "    logging_dir='./logs',            # Directory for logs\n",
    "    logging_steps=10,\n",
    "    load_best_model_at_end=True,\n",
    "    save_strategy='epoch',\n",
    ")\n",
    " \n",
    "trainer = Trainer(\n",
    "    model=model,\n",
    "    args=training_args,\n",
    "    train_dataset=train_dataset,\n",
    "    eval_dataset=test_dataset,\n",
    "    compute_metrics=compute_metrics,\n",
    ")\n",
    "train_result = trainer.train()"
   ]
  },
  {
   "cell_type": "code",
   "execution_count": null,
   "metadata": {},
   "outputs": [
    {
     "data": {
      "application/vnd.jupyter.widget-view+json": {
       "model_id": "6c1045f5461d42759117d9e9ccaf1c54",
       "version_major": 2,
       "version_minor": 0
      },
      "text/plain": [
       "  0%|          | 0/5680 [00:00<?, ?it/s]"
      ]
     },
     "metadata": {},
     "output_type": "display_data"
    },
    {
     "name": "stdout",
     "output_type": "stream",
     "text": [
      "{'loss': 0.3253, 'grad_norm': 9.137367248535156, 'learning_rate': 1.0000000000000002e-06, 'epoch': 0.02}\n",
      "{'loss': 0.4579, 'grad_norm': 3.7114157676696777, 'learning_rate': 2.0000000000000003e-06, 'epoch': 0.04}\n",
      "{'loss': 0.5434, 'grad_norm': 265.4037780761719, 'learning_rate': 3e-06, 'epoch': 0.05}\n",
      "{'loss': 0.3108, 'grad_norm': 31.866313934326172, 'learning_rate': 4.000000000000001e-06, 'epoch': 0.07}\n",
      "{'loss': 0.3842, 'grad_norm': 1.8123210668563843, 'learning_rate': 5e-06, 'epoch': 0.09}\n",
      "{'loss': 0.3337, 'grad_norm': 0.5322614312171936, 'learning_rate': 6e-06, 'epoch': 0.11}\n",
      "{'loss': 0.339, 'grad_norm': 10.101898193359375, 'learning_rate': 7.000000000000001e-06, 'epoch': 0.12}\n",
      "{'loss': 0.4126, 'grad_norm': 14.117105484008789, 'learning_rate': 8.000000000000001e-06, 'epoch': 0.14}\n",
      "{'loss': 0.2356, 'grad_norm': 0.5121042132377625, 'learning_rate': 9e-06, 'epoch': 0.16}\n",
      "{'loss': 0.4076, 'grad_norm': 0.49489864706993103, 'learning_rate': 1e-05, 'epoch': 0.18}\n",
      "{'loss': 0.5278, 'grad_norm': 0.4875406324863434, 'learning_rate': 1.1000000000000001e-05, 'epoch': 0.19}\n",
      "{'loss': 0.291, 'grad_norm': 0.6658226251602173, 'learning_rate': 1.2e-05, 'epoch': 0.21}\n",
      "{'loss': 0.2897, 'grad_norm': 0.4615168571472168, 'learning_rate': 1.3000000000000001e-05, 'epoch': 0.23}\n",
      "{'loss': 0.2545, 'grad_norm': 37.28959274291992, 'learning_rate': 1.4000000000000001e-05, 'epoch': 0.25}\n",
      "{'loss': 0.4089, 'grad_norm': 0.4336106479167938, 'learning_rate': 1.5e-05, 'epoch': 0.26}\n",
      "{'loss': 0.643, 'grad_norm': 2.3610727787017822, 'learning_rate': 1.6000000000000003e-05, 'epoch': 0.28}\n",
      "{'loss': 0.4889, 'grad_norm': 0.45887404680252075, 'learning_rate': 1.7000000000000003e-05, 'epoch': 0.3}\n",
      "{'loss': 0.3565, 'grad_norm': 0.44239696860313416, 'learning_rate': 1.8e-05, 'epoch': 0.32}\n",
      "{'loss': 0.34, 'grad_norm': 3.2677865028381348, 'learning_rate': 1.9e-05, 'epoch': 0.33}\n",
      "{'loss': 0.6285, 'grad_norm': 14.780540466308594, 'learning_rate': 2e-05, 'epoch': 0.35}\n",
      "{'loss': 0.1288, 'grad_norm': 0.4190502464771271, 'learning_rate': 2.1e-05, 'epoch': 0.37}\n",
      "{'loss': 0.4056, 'grad_norm': 0.37725183367729187, 'learning_rate': 2.2000000000000003e-05, 'epoch': 0.39}\n",
      "{'loss': 0.2175, 'grad_norm': 0.3652862310409546, 'learning_rate': 2.3000000000000003e-05, 'epoch': 0.4}\n",
      "{'loss': 0.3362, 'grad_norm': 0.3446524739265442, 'learning_rate': 2.4e-05, 'epoch': 0.42}\n",
      "{'loss': 0.9457, 'grad_norm': 95.59693145751953, 'learning_rate': 2.5e-05, 'epoch': 0.44}\n",
      "{'loss': 0.5789, 'grad_norm': 24.221399307250977, 'learning_rate': 2.6000000000000002e-05, 'epoch': 0.46}\n",
      "{'loss': 0.5495, 'grad_norm': 12.134559631347656, 'learning_rate': 2.7000000000000002e-05, 'epoch': 0.48}\n",
      "{'loss': 0.6582, 'grad_norm': 0.3422068953514099, 'learning_rate': 2.8000000000000003e-05, 'epoch': 0.49}\n",
      "{'loss': 0.3531, 'grad_norm': 0.3435037136077881, 'learning_rate': 2.9e-05, 'epoch': 0.51}\n",
      "{'loss': 0.3812, 'grad_norm': 3.796266794204712, 'learning_rate': 3e-05, 'epoch': 0.53}\n",
      "{'loss': 0.7847, 'grad_norm': 0.5142565965652466, 'learning_rate': 3.1e-05, 'epoch': 0.55}\n",
      "{'loss': 0.669, 'grad_norm': 0.42379525303840637, 'learning_rate': 3.2000000000000005e-05, 'epoch': 0.56}\n",
      "{'loss': 0.3298, 'grad_norm': 0.5028480291366577, 'learning_rate': 3.3e-05, 'epoch': 0.58}\n",
      "{'loss': 0.2074, 'grad_norm': 8.021843910217285, 'learning_rate': 3.4000000000000007e-05, 'epoch': 0.6}\n",
      "{'loss': 0.4508, 'grad_norm': 0.47159498929977417, 'learning_rate': 3.5e-05, 'epoch': 0.62}\n",
      "{'loss': 0.8678, 'grad_norm': 67.20096588134766, 'learning_rate': 3.6e-05, 'epoch': 0.63}\n",
      "{'loss': 0.0539, 'grad_norm': 0.48471081256866455, 'learning_rate': 3.7e-05, 'epoch': 0.65}\n",
      "{'loss': 0.5968, 'grad_norm': 2345.120849609375, 'learning_rate': 3.8e-05, 'epoch': 0.67}\n",
      "{'loss': 0.6154, 'grad_norm': 0.3874085545539856, 'learning_rate': 3.9000000000000006e-05, 'epoch': 0.69}\n",
      "{'loss': 0.5467, 'grad_norm': 4.1756110191345215, 'learning_rate': 4e-05, 'epoch': 0.7}\n",
      "{'loss': 0.8518, 'grad_norm': 4.544377326965332, 'learning_rate': 4.1e-05, 'epoch': 0.72}\n",
      "{'loss': 0.5626, 'grad_norm': 0.43724963068962097, 'learning_rate': 4.2e-05, 'epoch': 0.74}\n",
      "{'loss': 0.3825, 'grad_norm': 0.25009438395500183, 'learning_rate': 4.3e-05, 'epoch': 0.76}\n",
      "{'loss': 1.0103, 'grad_norm': 6.4177703857421875, 'learning_rate': 4.4000000000000006e-05, 'epoch': 0.77}\n",
      "{'loss': 0.5476, 'grad_norm': 3.0403683185577393, 'learning_rate': 4.5e-05, 'epoch': 0.79}\n",
      "{'loss': 0.4649, 'grad_norm': 0.2700846493244171, 'learning_rate': 4.600000000000001e-05, 'epoch': 0.81}\n",
      "{'loss': 0.5923, 'grad_norm': 0.26352459192276, 'learning_rate': 4.7e-05, 'epoch': 0.83}\n",
      "{'loss': 0.9127, 'grad_norm': 0.47282880544662476, 'learning_rate': 4.8e-05, 'epoch': 0.85}\n",
      "{'loss': 0.3308, 'grad_norm': 0.5041155815124512, 'learning_rate': 4.9e-05, 'epoch': 0.86}\n",
      "{'loss': 0.218, 'grad_norm': 0.4382304549217224, 'learning_rate': 5e-05, 'epoch': 0.88}\n",
      "{'loss': 0.3851, 'grad_norm': 4.223702907562256, 'learning_rate': 4.99034749034749e-05, 'epoch': 0.9}\n",
      "{'loss': 0.4179, 'grad_norm': 4.403580665588379, 'learning_rate': 4.980694980694981e-05, 'epoch': 0.92}\n",
      "{'loss': 0.7064, 'grad_norm': 0.26879504323005676, 'learning_rate': 4.971042471042471e-05, 'epoch': 0.93}\n",
      "{'loss': 0.6879, 'grad_norm': 8.393710136413574, 'learning_rate': 4.961389961389962e-05, 'epoch': 0.95}\n",
      "{'loss': 0.3091, 'grad_norm': 0.25128790736198425, 'learning_rate': 4.951737451737452e-05, 'epoch': 0.97}\n",
      "{'loss': 0.5633, 'grad_norm': 0.3402899503707886, 'learning_rate': 4.9420849420849425e-05, 'epoch': 0.99}\n"
     ]
    },
    {
     "data": {
      "application/vnd.jupyter.widget-view+json": {
       "model_id": "d13a4622627540b3be6bd2766a14cfb5",
       "version_major": 2,
       "version_minor": 0
      },
      "text/plain": [
       "  0%|          | 0/142 [00:00<?, ?it/s]"
      ]
     },
     "metadata": {},
     "output_type": "display_data"
    },
    {
     "name": "stdout",
     "output_type": "stream",
     "text": [
      "{'eval_loss': 0.8192501664161682, 'eval_accuracy': 0.7570422535211268, 'eval_macro_f1': 0.6576938529529932, 'eval_weighted_f1': 0.7460035423468896, 'eval_runtime': 3.4879, 'eval_samples_per_second': 81.424, 'eval_steps_per_second': 40.712, 'epoch': 1.0}\n",
      "{'loss': 0.152, 'grad_norm': 0.3092503547668457, 'learning_rate': 4.9324324324324325e-05, 'epoch': 1.0}\n",
      "{'loss': 0.6488, 'grad_norm': 0.2214561253786087, 'learning_rate': 4.922779922779923e-05, 'epoch': 1.02}\n",
      "{'loss': 0.5544, 'grad_norm': 3.992719888687134, 'learning_rate': 4.913127413127413e-05, 'epoch': 1.04}\n",
      "{'loss': 0.1642, 'grad_norm': 384.7154846191406, 'learning_rate': 4.903474903474904e-05, 'epoch': 1.06}\n",
      "{'loss': 1.1704, 'grad_norm': 2403.698974609375, 'learning_rate': 4.893822393822394e-05, 'epoch': 1.07}\n",
      "{'loss': 0.2502, 'grad_norm': 1.139636516571045, 'learning_rate': 4.884169884169885e-05, 'epoch': 1.09}\n",
      "{'loss': 1.3168, 'grad_norm': 9.800310134887695, 'learning_rate': 4.874517374517375e-05, 'epoch': 1.11}\n",
      "{'loss': 0.8823, 'grad_norm': 3.6715493202209473, 'learning_rate': 4.8648648648648654e-05, 'epoch': 1.13}\n",
      "{'loss': 0.2373, 'grad_norm': 4.55019998550415, 'learning_rate': 4.8552123552123555e-05, 'epoch': 1.14}\n",
      "{'loss': 0.2332, 'grad_norm': 0.358952134847641, 'learning_rate': 4.8455598455598455e-05, 'epoch': 1.16}\n",
      "{'loss': 0.4051, 'grad_norm': 0.22144998610019684, 'learning_rate': 4.835907335907336e-05, 'epoch': 1.18}\n",
      "{'loss': 0.3542, 'grad_norm': 0.3343087136745453, 'learning_rate': 4.826254826254826e-05, 'epoch': 1.2}\n",
      "{'loss': 0.41, 'grad_norm': 4.6968536376953125, 'learning_rate': 4.816602316602317e-05, 'epoch': 1.21}\n",
      "{'loss': 0.6704, 'grad_norm': 0.23197238147258759, 'learning_rate': 4.806949806949807e-05, 'epoch': 1.23}\n",
      "{'loss': 0.5262, 'grad_norm': 0.24480444192886353, 'learning_rate': 4.797297297297298e-05, 'epoch': 1.25}\n",
      "{'loss': 0.5222, 'grad_norm': 4.370904922485352, 'learning_rate': 4.787644787644788e-05, 'epoch': 1.27}\n",
      "{'loss': 0.6394, 'grad_norm': 0.3918927311897278, 'learning_rate': 4.7779922779922784e-05, 'epoch': 1.29}\n",
      "{'loss': 0.4487, 'grad_norm': 0.2764344811439514, 'learning_rate': 4.7683397683397685e-05, 'epoch': 1.3}\n",
      "{'loss': 0.3376, 'grad_norm': 0.26492443680763245, 'learning_rate': 4.758687258687259e-05, 'epoch': 1.32}\n",
      "{'loss': 0.7405, 'grad_norm': 0.2478911131620407, 'learning_rate': 4.749034749034749e-05, 'epoch': 1.34}\n",
      "{'loss': 0.3865, 'grad_norm': 0.2724917232990265, 'learning_rate': 4.73938223938224e-05, 'epoch': 1.36}\n",
      "{'loss': 0.6674, 'grad_norm': 4.258379936218262, 'learning_rate': 4.72972972972973e-05, 'epoch': 1.37}\n",
      "{'loss': 0.3585, 'grad_norm': 0.29417330026626587, 'learning_rate': 4.72007722007722e-05, 'epoch': 1.39}\n",
      "{'loss': 0.8522, 'grad_norm': 0.4472288191318512, 'learning_rate': 4.710424710424711e-05, 'epoch': 1.41}\n",
      "{'loss': 1.0494, 'grad_norm': 8.720860481262207, 'learning_rate': 4.700772200772201e-05, 'epoch': 1.43}\n",
      "{'loss': 0.7617, 'grad_norm': 34.59882736206055, 'learning_rate': 4.6911196911196914e-05, 'epoch': 1.44}\n",
      "{'loss': 0.5501, 'grad_norm': 0.7675930261611938, 'learning_rate': 4.6814671814671815e-05, 'epoch': 1.46}\n",
      "{'loss': 0.3184, 'grad_norm': 0.6694961786270142, 'learning_rate': 4.671814671814672e-05, 'epoch': 1.48}\n",
      "{'loss': 0.5805, 'grad_norm': 3.529677391052246, 'learning_rate': 4.662162162162162e-05, 'epoch': 1.5}\n",
      "{'loss': 0.4344, 'grad_norm': 5.180275917053223, 'learning_rate': 4.652509652509653e-05, 'epoch': 1.51}\n",
      "{'loss': 0.8767, 'grad_norm': 0.7814306616783142, 'learning_rate': 4.642857142857143e-05, 'epoch': 1.53}\n",
      "{'loss': 0.3641, 'grad_norm': 0.3202584385871887, 'learning_rate': 4.6332046332046336e-05, 'epoch': 1.55}\n",
      "{'loss': 0.6292, 'grad_norm': 4.006636619567871, 'learning_rate': 4.623552123552124e-05, 'epoch': 1.57}\n",
      "{'loss': 0.3938, 'grad_norm': 4.175660133361816, 'learning_rate': 4.6138996138996144e-05, 'epoch': 1.58}\n",
      "{'loss': 1.0665, 'grad_norm': 0.3126184344291687, 'learning_rate': 4.6042471042471044e-05, 'epoch': 1.6}\n",
      "{'loss': 0.3726, 'grad_norm': 0.34942561388015747, 'learning_rate': 4.594594594594595e-05, 'epoch': 1.62}\n",
      "{'loss': 0.6952, 'grad_norm': 6.922040939331055, 'learning_rate': 4.584942084942085e-05, 'epoch': 1.64}\n",
      "{'loss': 0.6662, 'grad_norm': 5.213819980621338, 'learning_rate': 4.575289575289575e-05, 'epoch': 1.65}\n",
      "{'loss': 0.548, 'grad_norm': 0.31719979643821716, 'learning_rate': 4.565637065637066e-05, 'epoch': 1.67}\n",
      "{'loss': 0.2124, 'grad_norm': 2.5477635860443115, 'learning_rate': 4.555984555984556e-05, 'epoch': 1.69}\n",
      "{'loss': 0.8896, 'grad_norm': 0.3150305151939392, 'learning_rate': 4.5463320463320466e-05, 'epoch': 1.71}\n",
      "{'loss': 0.4496, 'grad_norm': 0.4225807785987854, 'learning_rate': 4.536679536679537e-05, 'epoch': 1.73}\n",
      "{'loss': 0.3297, 'grad_norm': 0.2982095181941986, 'learning_rate': 4.5270270270270274e-05, 'epoch': 1.74}\n",
      "{'loss': 0.7172, 'grad_norm': 0.2761509120464325, 'learning_rate': 4.5173745173745174e-05, 'epoch': 1.76}\n",
      "{'loss': 0.3693, 'grad_norm': 4.384847164154053, 'learning_rate': 4.507722007722008e-05, 'epoch': 1.78}\n",
      "{'loss': 0.2076, 'grad_norm': 0.396095335483551, 'learning_rate': 4.498069498069498e-05, 'epoch': 1.8}\n",
      "{'loss': 0.8322, 'grad_norm': 0.28596922755241394, 'learning_rate': 4.488416988416989e-05, 'epoch': 1.81}\n",
      "{'loss': 0.2068, 'grad_norm': 0.3011714518070221, 'learning_rate': 4.478764478764479e-05, 'epoch': 1.83}\n",
      "{'loss': 0.8653, 'grad_norm': 0.3098193109035492, 'learning_rate': 4.4691119691119696e-05, 'epoch': 1.85}\n",
      "{'loss': 0.8486, 'grad_norm': 3.941072702407837, 'learning_rate': 4.4594594594594596e-05, 'epoch': 1.87}\n",
      "{'loss': 0.9323, 'grad_norm': 3.541172742843628, 'learning_rate': 4.4498069498069503e-05, 'epoch': 1.88}\n",
      "{'loss': 0.3408, 'grad_norm': 0.5284663438796997, 'learning_rate': 4.4401544401544404e-05, 'epoch': 1.9}\n",
      "{'loss': 0.3392, 'grad_norm': 0.46983903646469116, 'learning_rate': 4.4305019305019304e-05, 'epoch': 1.92}\n",
      "{'loss': 0.3543, 'grad_norm': 3.677781820297241, 'learning_rate': 4.420849420849421e-05, 'epoch': 1.94}\n",
      "{'loss': 0.3555, 'grad_norm': 3.8158769607543945, 'learning_rate': 4.411196911196911e-05, 'epoch': 1.95}\n",
      "{'loss': 0.9618, 'grad_norm': 4.08042049407959, 'learning_rate': 4.401544401544402e-05, 'epoch': 1.97}\n",
      "{'loss': 0.334, 'grad_norm': 0.43463754653930664, 'learning_rate': 4.391891891891892e-05, 'epoch': 1.99}\n"
     ]
    },
    {
     "data": {
      "application/vnd.jupyter.widget-view+json": {
       "model_id": "1474a30c92cc499597ada6314f24d3f1",
       "version_major": 2,
       "version_minor": 0
      },
      "text/plain": [
       "  0%|          | 0/142 [00:00<?, ?it/s]"
      ]
     },
     "metadata": {},
     "output_type": "display_data"
    },
    {
     "name": "stdout",
     "output_type": "stream",
     "text": [
      "{'eval_loss': 0.7793384790420532, 'eval_accuracy': 0.7570422535211268, 'eval_macro_f1': 0.5485520768539637, 'eval_weighted_f1': 0.6954674345054361, 'eval_runtime': 3.4437, 'eval_samples_per_second': 82.469, 'eval_steps_per_second': 41.234, 'epoch': 2.0}\n",
      "{'loss': 0.35, 'grad_norm': 0.40115734934806824, 'learning_rate': 4.3822393822393826e-05, 'epoch': 2.01}\n",
      "{'loss': 1.0772, 'grad_norm': 3.5652613639831543, 'learning_rate': 4.3725868725868726e-05, 'epoch': 2.02}\n",
      "{'loss': 0.6166, 'grad_norm': 0.5764255523681641, 'learning_rate': 4.3629343629343633e-05, 'epoch': 2.04}\n",
      "{'loss': 0.4722, 'grad_norm': 3.4196693897247314, 'learning_rate': 4.3532818532818534e-05, 'epoch': 2.06}\n",
      "{'loss': 0.3398, 'grad_norm': 0.49825620651245117, 'learning_rate': 4.343629343629344e-05, 'epoch': 2.08}\n",
      "{'loss': 0.3449, 'grad_norm': 4.249502182006836, 'learning_rate': 4.333976833976834e-05, 'epoch': 2.1}\n",
      "{'loss': 0.0536, 'grad_norm': 0.9079659581184387, 'learning_rate': 4.324324324324325e-05, 'epoch': 2.11}\n",
      "{'loss': 0.5164, 'grad_norm': 0.34000781178474426, 'learning_rate': 4.314671814671815e-05, 'epoch': 2.13}\n",
      "{'loss': 0.68, 'grad_norm': 0.33209192752838135, 'learning_rate': 4.305019305019305e-05, 'epoch': 2.15}\n",
      "{'loss': 0.6208, 'grad_norm': 8276.7333984375, 'learning_rate': 4.2953667953667956e-05, 'epoch': 2.17}\n",
      "{'loss': 0.4955, 'grad_norm': 4.024929046630859, 'learning_rate': 4.2857142857142856e-05, 'epoch': 2.18}\n",
      "{'loss': 0.3417, 'grad_norm': 0.3623824417591095, 'learning_rate': 4.276061776061776e-05, 'epoch': 2.2}\n",
      "{'loss': 0.2041, 'grad_norm': 0.383097380399704, 'learning_rate': 4.2664092664092664e-05, 'epoch': 2.22}\n",
      "{'loss': 0.5385, 'grad_norm': 4.183520793914795, 'learning_rate': 4.256756756756757e-05, 'epoch': 2.24}\n",
      "{'loss': 0.8396, 'grad_norm': 4.462717533111572, 'learning_rate': 4.247104247104247e-05, 'epoch': 2.25}\n",
      "{'loss': 0.5253, 'grad_norm': 0.3508572280406952, 'learning_rate': 4.237451737451738e-05, 'epoch': 2.27}\n",
      "{'loss': 0.3632, 'grad_norm': 4.152165412902832, 'learning_rate': 4.227799227799228e-05, 'epoch': 2.29}\n",
      "{'loss': 0.5124, 'grad_norm': 0.4775351881980896, 'learning_rate': 4.2181467181467186e-05, 'epoch': 2.31}\n",
      "{'loss': 0.3616, 'grad_norm': 4.0407280921936035, 'learning_rate': 4.2084942084942086e-05, 'epoch': 2.32}\n",
      "{'loss': 0.5247, 'grad_norm': 0.3347851037979126, 'learning_rate': 4.198841698841699e-05, 'epoch': 2.34}\n",
      "{'loss': 0.3547, 'grad_norm': 0.3293738067150116, 'learning_rate': 4.189189189189189e-05, 'epoch': 2.36}\n",
      "{'loss': 0.6588, 'grad_norm': 0.31463608145713806, 'learning_rate': 4.17953667953668e-05, 'epoch': 2.38}\n",
      "{'loss': 0.8501, 'grad_norm': 0.29275789856910706, 'learning_rate': 4.16988416988417e-05, 'epoch': 2.39}\n",
      "{'loss': 0.2044, 'grad_norm': 0.3116810917854309, 'learning_rate': 4.16023166023166e-05, 'epoch': 2.41}\n",
      "{'loss': 0.1804, 'grad_norm': 0.30115705728530884, 'learning_rate': 4.150579150579151e-05, 'epoch': 2.43}\n",
      "{'loss': 0.5534, 'grad_norm': 0.26764115691185, 'learning_rate': 4.140926640926641e-05, 'epoch': 2.45}\n",
      "{'loss': 0.3923, 'grad_norm': 4.477583885192871, 'learning_rate': 4.1312741312741316e-05, 'epoch': 2.46}\n",
      "{'loss': 0.5525, 'grad_norm': 0.26107537746429443, 'learning_rate': 4.1216216216216216e-05, 'epoch': 2.48}\n",
      "{'loss': 0.8894, 'grad_norm': 0.3024337589740753, 'learning_rate': 4.111969111969112e-05, 'epoch': 2.5}\n",
      "{'loss': 0.3775, 'grad_norm': 0.4436575174331665, 'learning_rate': 4.102316602316602e-05, 'epoch': 2.52}\n",
      "{'loss': 0.6964, 'grad_norm': 4.133901596069336, 'learning_rate': 4.092664092664093e-05, 'epoch': 2.54}\n",
      "{'loss': 0.2054, 'grad_norm': 0.3956490457057953, 'learning_rate': 4.083011583011583e-05, 'epoch': 2.55}\n",
      "{'loss': 0.0376, 'grad_norm': 0.31891804933547974, 'learning_rate': 4.073359073359074e-05, 'epoch': 2.57}\n",
      "{'loss': 0.6998, 'grad_norm': 0.310254842042923, 'learning_rate': 4.063706563706564e-05, 'epoch': 2.59}\n",
      "{'loss': 0.2055, 'grad_norm': 0.292548805475235, 'learning_rate': 4.0540540540540545e-05, 'epoch': 2.61}\n",
      "{'loss': 0.1945, 'grad_norm': 0.25547564029693604, 'learning_rate': 4.0444015444015446e-05, 'epoch': 2.62}\n",
      "{'loss': 1.0934, 'grad_norm': 4.503073692321777, 'learning_rate': 4.034749034749035e-05, 'epoch': 2.64}\n",
      "{'loss': 0.0307, 'grad_norm': 0.26409733295440674, 'learning_rate': 4.025096525096525e-05, 'epoch': 2.66}\n",
      "{'loss': 0.2055, 'grad_norm': 0.24668841063976288, 'learning_rate': 4.015444015444015e-05, 'epoch': 2.68}\n",
      "{'loss': 0.5854, 'grad_norm': 4.712408542633057, 'learning_rate': 4.005791505791506e-05, 'epoch': 2.69}\n",
      "{'loss': 1.3007, 'grad_norm': 0.2678629755973816, 'learning_rate': 3.996138996138996e-05, 'epoch': 2.71}\n",
      "{'loss': 0.5461, 'grad_norm': 0.30626145005226135, 'learning_rate': 3.986486486486487e-05, 'epoch': 2.73}\n",
      "{'loss': 0.8552, 'grad_norm': 4.362904071807861, 'learning_rate': 3.976833976833977e-05, 'epoch': 2.75}\n",
      "{'loss': 1.1559, 'grad_norm': 0.4104209840297699, 'learning_rate': 3.9671814671814675e-05, 'epoch': 2.76}\n",
      "{'loss': 0.6284, 'grad_norm': 3.9809701442718506, 'learning_rate': 3.9575289575289576e-05, 'epoch': 2.78}\n",
      "{'loss': 0.3407, 'grad_norm': 0.5313155651092529, 'learning_rate': 3.947876447876448e-05, 'epoch': 2.8}\n",
      "{'loss': 1.036, 'grad_norm': 0.4941677451133728, 'learning_rate': 3.938223938223938e-05, 'epoch': 2.82}\n",
      "{'loss': 0.5985, 'grad_norm': 0.5088478326797485, 'learning_rate': 3.928571428571429e-05, 'epoch': 2.83}\n",
      "{'loss': 0.6044, 'grad_norm': 3.749181032180786, 'learning_rate': 3.918918918918919e-05, 'epoch': 2.85}\n",
      "{'loss': 0.6037, 'grad_norm': 0.5447032451629639, 'learning_rate': 3.90926640926641e-05, 'epoch': 2.87}\n",
      "{'loss': 0.4572, 'grad_norm': 0.5087583065032959, 'learning_rate': 3.8996138996139e-05, 'epoch': 2.89}\n",
      "{'loss': 0.4824, 'grad_norm': 0.4250268042087555, 'learning_rate': 3.8899613899613905e-05, 'epoch': 2.9}\n",
      "{'loss': 0.0488, 'grad_norm': 25.190673828125, 'learning_rate': 3.8803088803088805e-05, 'epoch': 2.92}\n",
      "{'loss': 1.1666, 'grad_norm': 0.3302954137325287, 'learning_rate': 3.8706563706563705e-05, 'epoch': 2.94}\n",
      "{'loss': 0.3579, 'grad_norm': 0.35700327157974243, 'learning_rate': 3.861003861003861e-05, 'epoch': 2.96}\n",
      "{'loss': 0.5075, 'grad_norm': 4.260964870452881, 'learning_rate': 3.851351351351351e-05, 'epoch': 2.98}\n",
      "{'loss': 0.9763, 'grad_norm': 0.42302584648132324, 'learning_rate': 3.841698841698842e-05, 'epoch': 2.99}\n"
     ]
    },
    {
     "data": {
      "application/vnd.jupyter.widget-view+json": {
       "model_id": "13d48878164543d58fad221eea5e44ae",
       "version_major": 2,
       "version_minor": 0
      },
      "text/plain": [
       "  0%|          | 0/142 [00:00<?, ?it/s]"
      ]
     },
     "metadata": {},
     "output_type": "display_data"
    },
    {
     "name": "stdout",
     "output_type": "stream",
     "text": [
      "{'eval_loss': 0.801895022392273, 'eval_accuracy': 0.7535211267605634, 'eval_macro_f1': 0.520409147930136, 'eval_weighted_f1': 0.6805264667227527, 'eval_runtime': 3.4021, 'eval_samples_per_second': 83.478, 'eval_steps_per_second': 41.739, 'epoch': 3.0}\n",
      "{'loss': 0.4946, 'grad_norm': 0.42303466796875, 'learning_rate': 3.832046332046332e-05, 'epoch': 3.01}\n",
      "{'loss': 1.0663, 'grad_norm': 0.44701239466667175, 'learning_rate': 3.822393822393823e-05, 'epoch': 3.03}\n",
      "{'loss': 0.4788, 'grad_norm': 0.5118004679679871, 'learning_rate': 3.812741312741313e-05, 'epoch': 3.05}\n",
      "{'loss': 1.1237, 'grad_norm': 0.5994166731834412, 'learning_rate': 3.8030888030888035e-05, 'epoch': 3.06}\n",
      "{'loss': 0.3243, 'grad_norm': 3.3380625247955322, 'learning_rate': 3.7934362934362935e-05, 'epoch': 3.08}\n",
      "{'loss': 0.069, 'grad_norm': 0.5004478096961975, 'learning_rate': 3.783783783783784e-05, 'epoch': 3.1}\n",
      "{'loss': 0.3401, 'grad_norm': 0.39324086904525757, 'learning_rate': 3.774131274131274e-05, 'epoch': 3.12}\n",
      "{'loss': 0.6538, 'grad_norm': 0.3932064473628998, 'learning_rate': 3.764478764478765e-05, 'epoch': 3.13}\n",
      "{'loss': 1.2659, 'grad_norm': 3.971635341644287, 'learning_rate': 3.754826254826255e-05, 'epoch': 3.15}\n",
      "{'loss': 0.6364, 'grad_norm': 0.4728727638721466, 'learning_rate': 3.745173745173745e-05, 'epoch': 3.17}\n",
      "{'loss': 0.7637, 'grad_norm': 3.6411750316619873, 'learning_rate': 3.735521235521236e-05, 'epoch': 3.19}\n",
      "{'loss': 1.281, 'grad_norm': 7.536044597625732, 'learning_rate': 3.725868725868726e-05, 'epoch': 3.2}\n",
      "{'loss': 0.2047, 'grad_norm': 0.5820788741111755, 'learning_rate': 3.7162162162162165e-05, 'epoch': 3.22}\n",
      "{'loss': 0.7081, 'grad_norm': 3.4145538806915283, 'learning_rate': 3.7065637065637065e-05, 'epoch': 3.24}\n",
      "{'loss': 0.336, 'grad_norm': 3.507246732711792, 'learning_rate': 3.696911196911197e-05, 'epoch': 3.26}\n",
      "{'loss': 0.4655, 'grad_norm': 0.5016547441482544, 'learning_rate': 3.687258687258687e-05, 'epoch': 3.27}\n",
      "{'loss': 0.62, 'grad_norm': 3.778057336807251, 'learning_rate': 3.677606177606178e-05, 'epoch': 3.29}\n",
      "{'loss': 0.7629, 'grad_norm': 0.5168792605400085, 'learning_rate': 3.667953667953668e-05, 'epoch': 3.31}\n",
      "{'loss': 0.7232, 'grad_norm': 3.376163959503174, 'learning_rate': 3.658301158301159e-05, 'epoch': 3.33}\n",
      "{'loss': 0.7035, 'grad_norm': 3.3640904426574707, 'learning_rate': 3.648648648648649e-05, 'epoch': 3.35}\n",
      "{'loss': 0.5683, 'grad_norm': 3.1683852672576904, 'learning_rate': 3.6389961389961394e-05, 'epoch': 3.36}\n",
      "{'loss': 1.145, 'grad_norm': 3.023730754852295, 'learning_rate': 3.6293436293436295e-05, 'epoch': 3.38}\n",
      "{'loss': 0.933, 'grad_norm': 6.279591083526611, 'learning_rate': 3.61969111969112e-05, 'epoch': 3.4}\n",
      "{'loss': 0.5094, 'grad_norm': 2.4689536094665527, 'learning_rate': 3.61003861003861e-05, 'epoch': 3.42}\n",
      "{'loss': 0.7628, 'grad_norm': 1.1285542249679565, 'learning_rate': 3.6003861003861e-05, 'epoch': 3.43}\n",
      "{'loss': 0.5901, 'grad_norm': 2.2497496604919434, 'learning_rate': 3.590733590733591e-05, 'epoch': 3.45}\n",
      "{'loss': 0.2523, 'grad_norm': 0.9622857570648193, 'learning_rate': 3.581081081081081e-05, 'epoch': 3.47}\n",
      "{'loss': 0.4431, 'grad_norm': 3.501781702041626, 'learning_rate': 3.571428571428572e-05, 'epoch': 3.49}\n",
      "{'loss': 0.5575, 'grad_norm': 0.6344366073608398, 'learning_rate': 3.561776061776062e-05, 'epoch': 3.5}\n",
      "{'loss': 0.8371, 'grad_norm': 3.392721176147461, 'learning_rate': 3.5521235521235524e-05, 'epoch': 3.52}\n",
      "{'loss': 0.5748, 'grad_norm': 0.6763331294059753, 'learning_rate': 3.5424710424710425e-05, 'epoch': 3.54}\n",
      "{'loss': 0.5608, 'grad_norm': 0.6652598977088928, 'learning_rate': 3.532818532818533e-05, 'epoch': 3.56}\n",
      "{'loss': 0.7863, 'grad_norm': 3.1262032985687256, 'learning_rate': 3.523166023166023e-05, 'epoch': 3.57}\n",
      "{'loss': 0.5916, 'grad_norm': 3.7861034870147705, 'learning_rate': 3.513513513513514e-05, 'epoch': 3.59}\n",
      "{'loss': 0.5614, 'grad_norm': 0.6550523042678833, 'learning_rate': 3.503861003861004e-05, 'epoch': 3.61}\n",
      "{'loss': 0.5813, 'grad_norm': 3.7098548412323, 'learning_rate': 3.4942084942084947e-05, 'epoch': 3.63}\n",
      "{'loss': 0.4372, 'grad_norm': 0.6786627173423767, 'learning_rate': 3.484555984555985e-05, 'epoch': 3.64}\n",
      "{'loss': 0.3181, 'grad_norm': 0.4156443476676941, 'learning_rate': 3.4749034749034754e-05, 'epoch': 3.66}\n",
      "{'loss': 0.5748, 'grad_norm': 0.5822462439537048, 'learning_rate': 3.4652509652509654e-05, 'epoch': 3.68}\n",
      "{'loss': 0.2005, 'grad_norm': 0.36728641390800476, 'learning_rate': 3.4555984555984555e-05, 'epoch': 3.7}\n",
      "{'loss': 0.4848, 'grad_norm': 0.4775342345237732, 'learning_rate': 3.445945945945946e-05, 'epoch': 3.71}\n",
      "{'loss': 0.0545, 'grad_norm': 0.41586193442344666, 'learning_rate': 3.436293436293436e-05, 'epoch': 3.73}\n",
      "{'loss': 0.6529, 'grad_norm': 3.970412254333496, 'learning_rate': 3.426640926640927e-05, 'epoch': 3.75}\n",
      "{'loss': 0.352, 'grad_norm': 0.3120269477367401, 'learning_rate': 3.416988416988417e-05, 'epoch': 3.77}\n",
      "{'loss': 0.3524, 'grad_norm': 0.35878679156303406, 'learning_rate': 3.4073359073359077e-05, 'epoch': 3.79}\n",
      "{'loss': 0.6785, 'grad_norm': 8.615264892578125, 'learning_rate': 3.397683397683398e-05, 'epoch': 3.8}\n",
      "{'loss': 0.6578, 'grad_norm': 4.140091896057129, 'learning_rate': 3.3880308880308884e-05, 'epoch': 3.82}\n",
      "{'loss': 0.3431, 'grad_norm': 0.29984328150749207, 'learning_rate': 3.3783783783783784e-05, 'epoch': 3.84}\n",
      "{'loss': 0.3498, 'grad_norm': 4.101772785186768, 'learning_rate': 3.368725868725869e-05, 'epoch': 3.86}\n",
      "{'loss': 0.2024, 'grad_norm': 0.35383179783821106, 'learning_rate': 3.359073359073359e-05, 'epoch': 3.87}\n",
      "{'loss': 0.6777, 'grad_norm': 0.26294848322868347, 'learning_rate': 3.34942084942085e-05, 'epoch': 3.89}\n",
      "{'loss': 0.3642, 'grad_norm': 0.365488201379776, 'learning_rate': 3.33976833976834e-05, 'epoch': 3.91}\n",
      "{'loss': 0.8409, 'grad_norm': 0.36401957273483276, 'learning_rate': 3.33011583011583e-05, 'epoch': 3.93}\n",
      "{'loss': 0.1785, 'grad_norm': 0.26766958832740784, 'learning_rate': 3.3204633204633207e-05, 'epoch': 3.94}\n",
      "{'loss': 0.204, 'grad_norm': 0.26412737369537354, 'learning_rate': 3.310810810810811e-05, 'epoch': 3.96}\n",
      "{'loss': 0.8695, 'grad_norm': 0.33796244859695435, 'learning_rate': 3.3011583011583014e-05, 'epoch': 3.98}\n",
      "{'loss': 0.0357, 'grad_norm': 0.3332357108592987, 'learning_rate': 3.2915057915057914e-05, 'epoch': 4.0}\n"
     ]
    },
    {
     "data": {
      "application/vnd.jupyter.widget-view+json": {
       "model_id": "8f1b1f5bcc414743b912ba40fee24fce",
       "version_major": 2,
       "version_minor": 0
      },
      "text/plain": [
       "  0%|          | 0/142 [00:00<?, ?it/s]"
      ]
     },
     "metadata": {},
     "output_type": "display_data"
    },
    {
     "name": "stdout",
     "output_type": "stream",
     "text": [
      "{'eval_loss': 0.792500913143158, 'eval_accuracy': 0.7816901408450704, 'eval_macro_f1': 0.7089201877934272, 'eval_weighted_f1': 0.7786153540964095, 'eval_runtime': 3.4303, 'eval_samples_per_second': 82.791, 'eval_steps_per_second': 41.395, 'epoch': 4.0}\n",
      "{'loss': 0.526, 'grad_norm': 0.2808656394481659, 'learning_rate': 3.281853281853282e-05, 'epoch': 4.01}\n",
      "{'loss': 0.2083, 'grad_norm': 0.29318514466285706, 'learning_rate': 3.272200772200772e-05, 'epoch': 4.03}\n",
      "{'loss': 0.7347, 'grad_norm': 4.465024948120117, 'learning_rate': 3.262548262548263e-05, 'epoch': 4.05}\n",
      "{'loss': 0.5385, 'grad_norm': 4.470506191253662, 'learning_rate': 3.252895752895753e-05, 'epoch': 4.07}\n",
      "{'loss': 0.5505, 'grad_norm': 0.28512582182884216, 'learning_rate': 3.2432432432432436e-05, 'epoch': 4.08}\n",
      "{'loss': 0.0353, 'grad_norm': 0.2929425835609436, 'learning_rate': 3.2335907335907337e-05, 'epoch': 4.1}\n",
      "{'loss': 0.0322, 'grad_norm': 0.23241084814071655, 'learning_rate': 3.2239382239382244e-05, 'epoch': 4.12}\n",
      "{'loss': 0.2136, 'grad_norm': 0.2111351042985916, 'learning_rate': 3.2142857142857144e-05, 'epoch': 4.14}\n",
      "{'loss': 0.1996, 'grad_norm': 0.22175338864326477, 'learning_rate': 3.204633204633205e-05, 'epoch': 4.15}\n",
      "{'loss': 0.3981, 'grad_norm': 4.8962883949279785, 'learning_rate': 3.194980694980695e-05, 'epoch': 4.17}\n",
      "{'loss': 0.4068, 'grad_norm': 0.2114357054233551, 'learning_rate': 3.185328185328185e-05, 'epoch': 4.19}\n",
      "{'loss': 0.4098, 'grad_norm': 4.8836212158203125, 'learning_rate': 3.175675675675676e-05, 'epoch': 4.21}\n",
      "{'loss': 0.0222, 'grad_norm': 0.2055591642856598, 'learning_rate': 3.166023166023166e-05, 'epoch': 4.23}\n",
      "{'loss': 0.2171, 'grad_norm': 0.19257651269435883, 'learning_rate': 3.1563706563706566e-05, 'epoch': 4.24}\n",
      "{'loss': 0.5939, 'grad_norm': 0.20105253159999847, 'learning_rate': 3.1467181467181466e-05, 'epoch': 4.26}\n",
      "{'loss': 0.4, 'grad_norm': 0.19923707842826843, 'learning_rate': 3.1370656370656374e-05, 'epoch': 4.28}\n",
      "{'loss': 0.9595, 'grad_norm': 4.792506694793701, 'learning_rate': 3.1274131274131274e-05, 'epoch': 4.3}\n",
      "{'loss': 0.5871, 'grad_norm': 0.2433331459760666, 'learning_rate': 3.117760617760618e-05, 'epoch': 4.31}\n",
      "{'loss': 0.0263, 'grad_norm': 0.2313464730978012, 'learning_rate': 3.108108108108108e-05, 'epoch': 4.33}\n",
      "{'loss': 0.9148, 'grad_norm': 0.2300206869840622, 'learning_rate': 3.098455598455599e-05, 'epoch': 4.35}\n",
      "{'loss': 0.3894, 'grad_norm': 0.240993469953537, 'learning_rate': 3.088803088803089e-05, 'epoch': 4.37}\n",
      "{'loss': 0.5657, 'grad_norm': 0.22924646735191345, 'learning_rate': 3.0791505791505796e-05, 'epoch': 4.38}\n",
      "{'loss': 0.5452, 'grad_norm': 0.27042025327682495, 'learning_rate': 3.0694980694980696e-05, 'epoch': 4.4}\n",
      "{'loss': 0.2054, 'grad_norm': 0.2584189474582672, 'learning_rate': 3.05984555984556e-05, 'epoch': 4.42}\n",
      "{'loss': 0.2105, 'grad_norm': 0.2432735413312912, 'learning_rate': 3.0501930501930504e-05, 'epoch': 4.44}\n",
      "{'loss': 0.0269, 'grad_norm': 0.23625996708869934, 'learning_rate': 3.0405405405405407e-05, 'epoch': 4.45}\n",
      "{'loss': 0.589, 'grad_norm': 0.22882908582687378, 'learning_rate': 3.030888030888031e-05, 'epoch': 4.47}\n",
      "{'loss': 0.943, 'grad_norm': 4.723205089569092, 'learning_rate': 3.0212355212355215e-05, 'epoch': 4.49}\n",
      "{'loss': 0.2082, 'grad_norm': 0.2668505609035492, 'learning_rate': 3.011583011583012e-05, 'epoch': 4.51}\n",
      "{'loss': 0.5596, 'grad_norm': 0.24304735660552979, 'learning_rate': 3.0019305019305022e-05, 'epoch': 4.52}\n",
      "{'loss': 0.3902, 'grad_norm': 4.660501480102539, 'learning_rate': 2.9922779922779926e-05, 'epoch': 4.54}\n",
      "{'loss': 0.3847, 'grad_norm': 4.682770729064941, 'learning_rate': 2.982625482625483e-05, 'epoch': 4.56}\n",
      "{'loss': 0.3663, 'grad_norm': 0.21793310344219208, 'learning_rate': 2.9729729729729733e-05, 'epoch': 4.58}\n",
      "{'loss': 0.3823, 'grad_norm': 0.21039126813411713, 'learning_rate': 2.9633204633204637e-05, 'epoch': 4.6}\n",
      "{'loss': 0.3762, 'grad_norm': 4.734742164611816, 'learning_rate': 2.953667953667954e-05, 'epoch': 4.61}\n",
      "{'loss': 0.5396, 'grad_norm': 0.2201813906431198, 'learning_rate': 2.9440154440154444e-05, 'epoch': 4.63}\n",
      "{'loss': 0.7437, 'grad_norm': 0.23778864741325378, 'learning_rate': 2.9343629343629348e-05, 'epoch': 4.65}\n",
      "{'loss': 0.8978, 'grad_norm': 0.46125710010528564, 'learning_rate': 2.9247104247104252e-05, 'epoch': 4.67}\n",
      "{'loss': 0.3969, 'grad_norm': 0.26000288128852844, 'learning_rate': 2.915057915057915e-05, 'epoch': 4.68}\n",
      "{'loss': 0.3343, 'grad_norm': 4.417995929718018, 'learning_rate': 2.9054054054054052e-05, 'epoch': 4.7}\n",
      "{'loss': 0.8246, 'grad_norm': 6.9661383628845215, 'learning_rate': 2.8957528957528956e-05, 'epoch': 4.72}\n",
      "{'loss': 0.4319, 'grad_norm': 0.2291397899389267, 'learning_rate': 2.886100386100386e-05, 'epoch': 4.74}\n",
      "{'loss': 0.8333, 'grad_norm': 4.489661693572998, 'learning_rate': 2.8764478764478763e-05, 'epoch': 4.75}\n",
      "{'loss': 0.799, 'grad_norm': 0.28073304891586304, 'learning_rate': 2.8667953667953667e-05, 'epoch': 4.77}\n",
      "{'loss': 0.5486, 'grad_norm': 0.2695680558681488, 'learning_rate': 2.857142857142857e-05, 'epoch': 4.79}\n",
      "{'loss': 0.8891, 'grad_norm': 50.348716735839844, 'learning_rate': 2.8474903474903475e-05, 'epoch': 4.81}\n",
      "{'loss': 0.4999, 'grad_norm': 5.749485969543457, 'learning_rate': 2.8378378378378378e-05, 'epoch': 4.82}\n",
      "{'loss': 0.9174, 'grad_norm': 6.836026191711426, 'learning_rate': 2.8281853281853282e-05, 'epoch': 4.84}\n",
      "{'loss': 0.7723, 'grad_norm': 1.7107502222061157, 'learning_rate': 2.8185328185328186e-05, 'epoch': 4.86}\n",
      "{'loss': 0.4049, 'grad_norm': 0.47935834527015686, 'learning_rate': 2.808880308880309e-05, 'epoch': 4.88}\n",
      "{'loss': 0.7544, 'grad_norm': 0.5747727751731873, 'learning_rate': 2.7992277992277993e-05, 'epoch': 4.89}\n",
      "{'loss': 0.4626, 'grad_norm': 0.4623333215713501, 'learning_rate': 2.7895752895752897e-05, 'epoch': 4.91}\n",
      "{'loss': 0.6749, 'grad_norm': 4.1297607421875, 'learning_rate': 2.77992277992278e-05, 'epoch': 4.93}\n",
      "{'loss': 0.8319, 'grad_norm': 4.0822601318359375, 'learning_rate': 2.7702702702702704e-05, 'epoch': 4.95}\n",
      "{'loss': 0.6423, 'grad_norm': 0.395788311958313, 'learning_rate': 2.7606177606177608e-05, 'epoch': 4.96}\n",
      "{'loss': 0.9181, 'grad_norm': 3.7611899375915527, 'learning_rate': 2.750965250965251e-05, 'epoch': 4.98}\n",
      "{'loss': 0.877, 'grad_norm': 8.520451545715332, 'learning_rate': 2.7413127413127415e-05, 'epoch': 5.0}\n"
     ]
    },
    {
     "data": {
      "application/vnd.jupyter.widget-view+json": {
       "model_id": "e434bd49f6884583bc1a4c18c1a6f98a",
       "version_major": 2,
       "version_minor": 0
      },
      "text/plain": [
       "  0%|          | 0/142 [00:00<?, ?it/s]"
      ]
     },
     "metadata": {},
     "output_type": "display_data"
    },
    {
     "name": "stdout",
     "output_type": "stream",
     "text": [
      "{'eval_loss': 0.8038232922554016, 'eval_accuracy': 0.7359154929577465, 'eval_macro_f1': 0.4366122675694977, 'eval_weighted_f1': 0.6332559325588786, 'eval_runtime': 3.426, 'eval_samples_per_second': 82.896, 'eval_steps_per_second': 41.448, 'epoch': 5.0}\n",
      "{'loss': 0.7268, 'grad_norm': 3.6511874198913574, 'learning_rate': 2.731660231660232e-05, 'epoch': 5.02}\n",
      "{'loss': 0.4525, 'grad_norm': 3.7190303802490234, 'learning_rate': 2.7220077220077223e-05, 'epoch': 5.04}\n",
      "{'loss': 0.4676, 'grad_norm': 0.4591163396835327, 'learning_rate': 2.7123552123552126e-05, 'epoch': 5.05}\n",
      "{'loss': 0.0698, 'grad_norm': 0.4610302150249481, 'learning_rate': 2.702702702702703e-05, 'epoch': 5.07}\n",
      "{'loss': 0.4791, 'grad_norm': 0.4584404528141022, 'learning_rate': 2.6930501930501934e-05, 'epoch': 5.09}\n",
      "{'loss': 0.7839, 'grad_norm': 0.39690208435058594, 'learning_rate': 2.6833976833976838e-05, 'epoch': 5.11}\n",
      "{'loss': 0.2041, 'grad_norm': 0.38610222935676575, 'learning_rate': 2.673745173745174e-05, 'epoch': 5.12}\n",
      "{'loss': 0.6269, 'grad_norm': 3.923480987548828, 'learning_rate': 2.6640926640926645e-05, 'epoch': 5.14}\n",
      "{'loss': 0.6674, 'grad_norm': 0.3872336447238922, 'learning_rate': 2.654440154440155e-05, 'epoch': 5.16}\n",
      "{'loss': 0.1982, 'grad_norm': 0.35918450355529785, 'learning_rate': 2.6447876447876452e-05, 'epoch': 5.18}\n",
      "{'loss': 0.8418, 'grad_norm': 4.120234489440918, 'learning_rate': 2.635135135135135e-05, 'epoch': 5.19}\n",
      "{'loss': 0.6733, 'grad_norm': 0.381648451089859, 'learning_rate': 2.6254826254826253e-05, 'epoch': 5.21}\n",
      "{'loss': 0.8096, 'grad_norm': 3.929035186767578, 'learning_rate': 2.6158301158301157e-05, 'epoch': 5.23}\n",
      "{'loss': 0.6245, 'grad_norm': 0.4753858745098114, 'learning_rate': 2.606177606177606e-05, 'epoch': 5.25}\n",
      "{'loss': 0.3443, 'grad_norm': 0.41476115584373474, 'learning_rate': 2.5965250965250964e-05, 'epoch': 5.26}\n",
      "{'loss': 0.3455, 'grad_norm': 0.4240321218967438, 'learning_rate': 2.5868725868725868e-05, 'epoch': 5.28}\n",
      "{'loss': 0.9484, 'grad_norm': 3.994719982147217, 'learning_rate': 2.577220077220077e-05, 'epoch': 5.3}\n",
      "{'loss': 0.3392, 'grad_norm': 0.41970738768577576, 'learning_rate': 2.5675675675675675e-05, 'epoch': 5.32}\n",
      "{'loss': 0.6361, 'grad_norm': 3.98885178565979, 'learning_rate': 2.557915057915058e-05, 'epoch': 5.33}\n",
      "{'loss': 0.9164, 'grad_norm': 0.4466385841369629, 'learning_rate': 2.5482625482625483e-05, 'epoch': 5.35}\n",
      "{'loss': 0.3477, 'grad_norm': 3.864567756652832, 'learning_rate': 2.5386100386100386e-05, 'epoch': 5.37}\n",
      "{'loss': 0.1977, 'grad_norm': 0.4313479959964752, 'learning_rate': 2.528957528957529e-05, 'epoch': 5.39}\n",
      "{'loss': 1.0578, 'grad_norm': 3.819155693054199, 'learning_rate': 2.5193050193050194e-05, 'epoch': 5.4}\n",
      "{'loss': 0.3409, 'grad_norm': 0.3649897873401642, 'learning_rate': 2.5096525096525097e-05, 'epoch': 5.42}\n",
      "{'loss': 0.0525, 'grad_norm': 0.41130897402763367, 'learning_rate': 2.5e-05, 'epoch': 5.44}\n",
      "{'loss': 0.8121, 'grad_norm': 3.9631187915802, 'learning_rate': 2.4903474903474905e-05, 'epoch': 5.46}\n",
      "{'loss': 0.6483, 'grad_norm': 0.3972759544849396, 'learning_rate': 2.480694980694981e-05, 'epoch': 5.48}\n",
      "{'loss': 0.4894, 'grad_norm': 0.4017411768436432, 'learning_rate': 2.4710424710424712e-05, 'epoch': 5.49}\n",
      "{'loss': 0.1933, 'grad_norm': 0.3746262788772583, 'learning_rate': 2.4613899613899616e-05, 'epoch': 5.51}\n",
      "{'loss': 0.3511, 'grad_norm': 0.34249329566955566, 'learning_rate': 2.451737451737452e-05, 'epoch': 5.53}\n",
      "{'loss': 0.8453, 'grad_norm': 0.3311609923839569, 'learning_rate': 2.4420849420849423e-05, 'epoch': 5.55}\n",
      "{'loss': 0.5112, 'grad_norm': 0.4447517693042755, 'learning_rate': 2.4324324324324327e-05, 'epoch': 5.56}\n",
      "{'loss': 0.8457, 'grad_norm': 0.3613663911819458, 'learning_rate': 2.4227799227799227e-05, 'epoch': 5.58}\n",
      "{'loss': 0.202, 'grad_norm': 0.3658086657524109, 'learning_rate': 2.413127413127413e-05, 'epoch': 5.6}\n",
      "{'loss': 0.4973, 'grad_norm': 0.34320273995399475, 'learning_rate': 2.4034749034749035e-05, 'epoch': 5.62}\n",
      "{'loss': 0.6726, 'grad_norm': 0.3075816333293915, 'learning_rate': 2.393822393822394e-05, 'epoch': 5.63}\n",
      "{'loss': 0.6591, 'grad_norm': 0.37529900670051575, 'learning_rate': 2.3841698841698842e-05, 'epoch': 5.65}\n",
      "{'loss': 0.5203, 'grad_norm': 0.420857310295105, 'learning_rate': 2.3745173745173746e-05, 'epoch': 5.67}\n",
      "{'loss': 0.667, 'grad_norm': 0.42083072662353516, 'learning_rate': 2.364864864864865e-05, 'epoch': 5.69}\n",
      "{'loss': 0.4967, 'grad_norm': 0.40563350915908813, 'learning_rate': 2.3552123552123553e-05, 'epoch': 5.7}\n",
      "{'loss': 0.6551, 'grad_norm': 8.491349220275879, 'learning_rate': 2.3455598455598457e-05, 'epoch': 5.72}\n",
      "{'loss': 1.2425, 'grad_norm': 4.241801738739014, 'learning_rate': 2.335907335907336e-05, 'epoch': 5.74}\n",
      "{'loss': 0.4928, 'grad_norm': 4.115898609161377, 'learning_rate': 2.3262548262548265e-05, 'epoch': 5.76}\n",
      "{'loss': 1.0646, 'grad_norm': 8.10009765625, 'learning_rate': 2.3166023166023168e-05, 'epoch': 5.77}\n",
      "{'loss': 0.0569, 'grad_norm': 0.48357200622558594, 'learning_rate': 2.3069498069498072e-05, 'epoch': 5.79}\n",
      "{'loss': 0.3472, 'grad_norm': 0.4349547326564789, 'learning_rate': 2.2972972972972976e-05, 'epoch': 5.81}\n",
      "{'loss': 0.2015, 'grad_norm': 0.31785306334495544, 'learning_rate': 2.2876447876447876e-05, 'epoch': 5.83}\n",
      "{'loss': 0.4928, 'grad_norm': 0.40230679512023926, 'learning_rate': 2.277992277992278e-05, 'epoch': 5.85}\n",
      "{'loss': 0.8094, 'grad_norm': 0.4003993570804596, 'learning_rate': 2.2683397683397683e-05, 'epoch': 5.86}\n",
      "{'loss': 0.8174, 'grad_norm': 4.183078765869141, 'learning_rate': 2.2586872586872587e-05, 'epoch': 5.88}\n",
      "{'loss': 0.0466, 'grad_norm': 0.37176063656806946, 'learning_rate': 2.249034749034749e-05, 'epoch': 5.9}\n",
      "{'loss': 0.5156, 'grad_norm': 4.1400885581970215, 'learning_rate': 2.2393822393822394e-05, 'epoch': 5.92}\n",
      "{'loss': 0.8493, 'grad_norm': 0.32054856419563293, 'learning_rate': 2.2297297297297298e-05, 'epoch': 5.93}\n",
      "{'loss': 0.817, 'grad_norm': 0.4026466906070709, 'learning_rate': 2.2200772200772202e-05, 'epoch': 5.95}\n",
      "{'loss': 0.792, 'grad_norm': 0.45310208201408386, 'learning_rate': 2.2104247104247106e-05, 'epoch': 5.97}\n",
      "{'loss': 0.1987, 'grad_norm': 0.36254072189331055, 'learning_rate': 2.200772200772201e-05, 'epoch': 5.99}\n"
     ]
    },
    {
     "data": {
      "application/vnd.jupyter.widget-view+json": {
       "model_id": "b4848d1253854a0f812f4b5e14b5bb3b",
       "version_major": 2,
       "version_minor": 0
      },
      "text/plain": [
       "  0%|          | 0/142 [00:00<?, ?it/s]"
      ]
     },
     "metadata": {},
     "output_type": "display_data"
    },
    {
     "name": "stdout",
     "output_type": "stream",
     "text": [
      "{'eval_loss': 0.7921897172927856, 'eval_accuracy': 0.7535211267605634, 'eval_macro_f1': 0.6743972746331237, 'eval_weighted_f1': 0.7512604452712079, 'eval_runtime': 3.4695, 'eval_samples_per_second': 81.856, 'eval_steps_per_second': 40.928, 'epoch': 6.0}\n",
      "{'loss': 0.7751, 'grad_norm': 0.4603348970413208, 'learning_rate': 2.1911196911196913e-05, 'epoch': 6.0}\n",
      "{'loss': 0.6345, 'grad_norm': 0.3701711595058441, 'learning_rate': 2.1814671814671817e-05, 'epoch': 6.02}\n",
      "{'loss': 0.772, 'grad_norm': 0.4756350815296173, 'learning_rate': 2.171814671814672e-05, 'epoch': 6.04}\n",
      "{'loss': 0.1988, 'grad_norm': 0.46405282616615295, 'learning_rate': 2.1621621621621624e-05, 'epoch': 6.06}\n",
      "{'loss': 0.341, 'grad_norm': 0.44296783208847046, 'learning_rate': 2.1525096525096524e-05, 'epoch': 6.07}\n",
      "{'loss': 0.4932, 'grad_norm': 0.4046662151813507, 'learning_rate': 2.1428571428571428e-05, 'epoch': 6.09}\n",
      "{'loss': 0.2002, 'grad_norm': 0.41075125336647034, 'learning_rate': 2.1332046332046332e-05, 'epoch': 6.11}\n",
      "{'loss': 0.6426, 'grad_norm': 0.33965879678726196, 'learning_rate': 2.1235521235521236e-05, 'epoch': 6.13}\n",
      "{'loss': 0.352, 'grad_norm': 0.31430312991142273, 'learning_rate': 2.113899613899614e-05, 'epoch': 6.14}\n",
      "{'loss': 0.335, 'grad_norm': 0.3425590991973877, 'learning_rate': 2.1042471042471043e-05, 'epoch': 6.16}\n",
      "{'loss': 0.2034, 'grad_norm': 4.221889019012451, 'learning_rate': 2.0945945945945947e-05, 'epoch': 6.18}\n",
      "{'loss': 0.5168, 'grad_norm': 0.31761434674263, 'learning_rate': 2.084942084942085e-05, 'epoch': 6.2}\n",
      "{'loss': 0.6582, 'grad_norm': 0.30687054991722107, 'learning_rate': 2.0752895752895754e-05, 'epoch': 6.21}\n",
      "{'loss': 0.6502, 'grad_norm': 0.3155410587787628, 'learning_rate': 2.0656370656370658e-05, 'epoch': 6.23}\n",
      "{'loss': 0.5447, 'grad_norm': 0.33615249395370483, 'learning_rate': 2.055984555984556e-05, 'epoch': 6.25}\n",
      "{'loss': 0.3749, 'grad_norm': 0.3211386799812317, 'learning_rate': 2.0463320463320465e-05, 'epoch': 6.27}\n",
      "{'loss': 0.2085, 'grad_norm': 0.31463491916656494, 'learning_rate': 2.036679536679537e-05, 'epoch': 6.29}\n",
      "{'loss': 0.2037, 'grad_norm': 0.29510757327079773, 'learning_rate': 2.0270270270270273e-05, 'epoch': 6.3}\n",
      "{'loss': 0.726, 'grad_norm': 0.2884637117385864, 'learning_rate': 2.0173745173745176e-05, 'epoch': 6.32}\n",
      "{'loss': 0.7191, 'grad_norm': 4.331575870513916, 'learning_rate': 2.0077220077220077e-05, 'epoch': 6.34}\n",
      "{'loss': 0.6843, 'grad_norm': 4.260721683502197, 'learning_rate': 1.998069498069498e-05, 'epoch': 6.36}\n",
      "{'loss': 0.6964, 'grad_norm': 0.3393062949180603, 'learning_rate': 1.9884169884169884e-05, 'epoch': 6.37}\n",
      "{'loss': 0.3649, 'grad_norm': 0.33900824189186096, 'learning_rate': 1.9787644787644788e-05, 'epoch': 6.39}\n",
      "{'loss': 0.8368, 'grad_norm': 0.3437292277812958, 'learning_rate': 1.969111969111969e-05, 'epoch': 6.41}\n",
      "{'loss': 0.6668, 'grad_norm': 0.3440350294113159, 'learning_rate': 1.9594594594594595e-05, 'epoch': 6.43}\n",
      "{'loss': 0.5268, 'grad_norm': 0.35575470328330994, 'learning_rate': 1.94980694980695e-05, 'epoch': 6.44}\n",
      "{'loss': 0.8177, 'grad_norm': 4.1612043380737305, 'learning_rate': 1.9401544401544403e-05, 'epoch': 6.46}\n",
      "{'loss': 0.661, 'grad_norm': 0.3865978419780731, 'learning_rate': 1.9305019305019306e-05, 'epoch': 6.48}\n",
      "{'loss': 0.6435, 'grad_norm': 0.4112612009048462, 'learning_rate': 1.920849420849421e-05, 'epoch': 6.5}\n",
      "{'loss': 0.3509, 'grad_norm': 0.9171031713485718, 'learning_rate': 1.9111969111969114e-05, 'epoch': 6.51}\n",
      "{'loss': 0.6543, 'grad_norm': 0.35897141695022583, 'learning_rate': 1.9015444015444017e-05, 'epoch': 6.53}\n",
      "{'loss': 0.3423, 'grad_norm': 3.924163579940796, 'learning_rate': 1.891891891891892e-05, 'epoch': 6.55}\n",
      "{'loss': 0.4831, 'grad_norm': 0.4094734787940979, 'learning_rate': 1.8822393822393825e-05, 'epoch': 6.57}\n",
      "{'loss': 0.0496, 'grad_norm': 0.3521553575992584, 'learning_rate': 1.8725868725868725e-05, 'epoch': 6.58}\n",
      "{'loss': 0.9691, 'grad_norm': 4.064657688140869, 'learning_rate': 1.862934362934363e-05, 'epoch': 6.6}\n",
      "{'loss': 0.4889, 'grad_norm': 0.38460418581962585, 'learning_rate': 1.8532818532818533e-05, 'epoch': 6.62}\n",
      "{'loss': 0.1959, 'grad_norm': 0.36575108766555786, 'learning_rate': 1.8436293436293436e-05, 'epoch': 6.64}\n",
      "{'loss': 0.5087, 'grad_norm': 4.190125942230225, 'learning_rate': 1.833976833976834e-05, 'epoch': 6.65}\n",
      "{'loss': 0.5054, 'grad_norm': 0.38049161434173584, 'learning_rate': 1.8243243243243244e-05, 'epoch': 6.67}\n",
      "{'loss': 0.4902, 'grad_norm': 0.3412581980228424, 'learning_rate': 1.8146718146718147e-05, 'epoch': 6.69}\n",
      "{'loss': 0.1994, 'grad_norm': 0.33770549297332764, 'learning_rate': 1.805019305019305e-05, 'epoch': 6.71}\n",
      "{'loss': 0.6741, 'grad_norm': 0.3615224063396454, 'learning_rate': 1.7953667953667955e-05, 'epoch': 6.73}\n",
      "{'loss': 0.6962, 'grad_norm': 0.33297234773635864, 'learning_rate': 1.785714285714286e-05, 'epoch': 6.74}\n",
      "{'loss': 0.5311, 'grad_norm': 0.34393781423568726, 'learning_rate': 1.7760617760617762e-05, 'epoch': 6.76}\n",
      "{'loss': 0.3614, 'grad_norm': 0.34962522983551025, 'learning_rate': 1.7664092664092666e-05, 'epoch': 6.78}\n",
      "{'loss': 0.5293, 'grad_norm': 0.31146448850631714, 'learning_rate': 1.756756756756757e-05, 'epoch': 6.8}\n",
      "{'loss': 0.688, 'grad_norm': 0.3171236217021942, 'learning_rate': 1.7471042471042473e-05, 'epoch': 6.81}\n",
      "{'loss': 0.1961, 'grad_norm': 0.35509490966796875, 'learning_rate': 1.7374517374517377e-05, 'epoch': 6.83}\n",
      "{'loss': 0.8282, 'grad_norm': 0.35814565420150757, 'learning_rate': 1.7277992277992277e-05, 'epoch': 6.85}\n",
      "{'loss': 0.1924, 'grad_norm': 0.37169864773750305, 'learning_rate': 1.718146718146718e-05, 'epoch': 6.87}\n",
      "{'loss': 0.6461, 'grad_norm': 3.904860258102417, 'learning_rate': 1.7084942084942085e-05, 'epoch': 6.88}\n",
      "{'loss': 0.5182, 'grad_norm': 4.224501132965088, 'learning_rate': 1.698841698841699e-05, 'epoch': 6.9}\n",
      "{'loss': 0.9738, 'grad_norm': 4.28767728805542, 'learning_rate': 1.6891891891891892e-05, 'epoch': 6.92}\n",
      "{'loss': 0.3592, 'grad_norm': 4.157656669616699, 'learning_rate': 1.6795366795366796e-05, 'epoch': 6.94}\n",
      "{'loss': 0.5254, 'grad_norm': 0.38161686062812805, 'learning_rate': 1.66988416988417e-05, 'epoch': 6.95}\n",
      "{'loss': 0.8397, 'grad_norm': 0.32580822706222534, 'learning_rate': 1.6602316602316603e-05, 'epoch': 6.97}\n",
      "{'loss': 0.2055, 'grad_norm': 0.3320923447608948, 'learning_rate': 1.6505791505791507e-05, 'epoch': 6.99}\n"
     ]
    },
    {
     "data": {
      "application/vnd.jupyter.widget-view+json": {
       "model_id": "7b03fea4ee474470b551c7fc43e0a535",
       "version_major": 2,
       "version_minor": 0
      },
      "text/plain": [
       "  0%|          | 0/142 [00:00<?, ?it/s]"
      ]
     },
     "metadata": {},
     "output_type": "display_data"
    },
    {
     "name": "stdout",
     "output_type": "stream",
     "text": [
      "{'eval_loss': 0.7866362929344177, 'eval_accuracy': 0.7676056338028169, 'eval_macro_f1': 0.6671875, 'eval_weighted_f1': 0.754731514084507, 'eval_runtime': 3.3916, 'eval_samples_per_second': 83.736, 'eval_steps_per_second': 41.868, 'epoch': 7.0}\n",
      "{'loss': 0.1998, 'grad_norm': 4.117156982421875, 'learning_rate': 1.640926640926641e-05, 'epoch': 7.01}\n",
      "{'loss': 0.361, 'grad_norm': 4.123069763183594, 'learning_rate': 1.6312741312741314e-05, 'epoch': 7.02}\n",
      "{'loss': 0.5361, 'grad_norm': 0.37905755639076233, 'learning_rate': 1.6216216216216218e-05, 'epoch': 7.04}\n",
      "{'loss': 0.6599, 'grad_norm': 4.2581400871276855, 'learning_rate': 1.6119691119691122e-05, 'epoch': 7.06}\n",
      "{'loss': 0.5249, 'grad_norm': 0.3403397798538208, 'learning_rate': 1.6023166023166026e-05, 'epoch': 7.08}\n",
      "{'loss': 0.8287, 'grad_norm': 0.3216819763183594, 'learning_rate': 1.5926640926640926e-05, 'epoch': 7.1}\n",
      "{'loss': 0.3639, 'grad_norm': 0.35087695717811584, 'learning_rate': 1.583011583011583e-05, 'epoch': 7.11}\n",
      "{'loss': 0.5158, 'grad_norm': 0.34985780715942383, 'learning_rate': 1.5733590733590733e-05, 'epoch': 7.13}\n",
      "{'loss': 0.3622, 'grad_norm': 0.3512706458568573, 'learning_rate': 1.5637065637065637e-05, 'epoch': 7.15}\n",
      "{'loss': 0.2054, 'grad_norm': 0.30095043778419495, 'learning_rate': 1.554054054054054e-05, 'epoch': 7.17}\n",
      "{'loss': 0.5029, 'grad_norm': 0.2911706566810608, 'learning_rate': 1.5444015444015444e-05, 'epoch': 7.18}\n",
      "{'loss': 0.4929, 'grad_norm': 0.30410730838775635, 'learning_rate': 1.5347490347490348e-05, 'epoch': 7.2}\n",
      "{'loss': 0.9081, 'grad_norm': 4.041456699371338, 'learning_rate': 1.5250965250965252e-05, 'epoch': 7.22}\n",
      "{'loss': 0.5918, 'grad_norm': 3.881718397140503, 'learning_rate': 1.5154440154440155e-05, 'epoch': 7.24}\n",
      "{'loss': 0.5625, 'grad_norm': 0.39378467202186584, 'learning_rate': 1.505791505791506e-05, 'epoch': 7.25}\n",
      "{'loss': 1.2981, 'grad_norm': 7.199795722961426, 'learning_rate': 1.4961389961389963e-05, 'epoch': 7.27}\n",
      "{'loss': 0.6736, 'grad_norm': 3.1626362800598145, 'learning_rate': 1.4864864864864867e-05, 'epoch': 7.29}\n",
      "{'loss': 0.5527, 'grad_norm': 3.177126407623291, 'learning_rate': 1.476833976833977e-05, 'epoch': 7.31}\n",
      "{'loss': 0.6784, 'grad_norm': 4.201925754547119, 'learning_rate': 1.4671814671814674e-05, 'epoch': 7.32}\n",
      "{'loss': 0.4312, 'grad_norm': 0.330258846282959, 'learning_rate': 1.4575289575289574e-05, 'epoch': 7.34}\n",
      "{'loss': 0.5027, 'grad_norm': 1.5536290407180786, 'learning_rate': 1.4478764478764478e-05, 'epoch': 7.36}\n",
      "{'loss': 0.3103, 'grad_norm': 2.288369655609131, 'learning_rate': 1.4382239382239382e-05, 'epoch': 7.38}\n",
      "{'loss': 0.7023, 'grad_norm': 4.2075676918029785, 'learning_rate': 1.4285714285714285e-05, 'epoch': 7.39}\n",
      "{'loss': 0.2593, 'grad_norm': 0.32422682642936707, 'learning_rate': 1.4189189189189189e-05, 'epoch': 7.41}\n",
      "{'loss': 0.3275, 'grad_norm': 0.2965811491012573, 'learning_rate': 1.4092664092664093e-05, 'epoch': 7.43}\n",
      "{'loss': 0.3101, 'grad_norm': 0.29120194911956787, 'learning_rate': 1.3996138996138997e-05, 'epoch': 7.45}\n",
      "{'loss': 0.4352, 'grad_norm': 1.9224655628204346, 'learning_rate': 1.38996138996139e-05, 'epoch': 7.46}\n",
      "{'loss': 0.4074, 'grad_norm': 1.7401690483093262, 'learning_rate': 1.3803088803088804e-05, 'epoch': 7.48}\n",
      "{'loss': 0.3225, 'grad_norm': 4.346799373626709, 'learning_rate': 1.3706563706563708e-05, 'epoch': 7.5}\n",
      "{'loss': 0.2101, 'grad_norm': 0.27737540006637573, 'learning_rate': 1.3610038610038611e-05, 'epoch': 7.52}\n",
      "{'loss': 0.48, 'grad_norm': 0.30606094002723694, 'learning_rate': 1.3513513513513515e-05, 'epoch': 7.54}\n",
      "{'loss': 0.4083, 'grad_norm': 0.7725842595100403, 'learning_rate': 1.3416988416988419e-05, 'epoch': 7.55}\n",
      "{'loss': 0.689, 'grad_norm': 1.3867779970169067, 'learning_rate': 1.3320463320463322e-05, 'epoch': 7.57}\n",
      "{'loss': 0.2264, 'grad_norm': 0.27794113755226135, 'learning_rate': 1.3223938223938226e-05, 'epoch': 7.59}\n",
      "{'loss': 0.5134, 'grad_norm': 4.4828782081604, 'learning_rate': 1.3127413127413127e-05, 'epoch': 7.61}\n",
      "{'loss': 0.2224, 'grad_norm': 0.9966334700584412, 'learning_rate': 1.303088803088803e-05, 'epoch': 7.62}\n",
      "{'loss': 0.9161, 'grad_norm': 0.28267085552215576, 'learning_rate': 1.2934362934362934e-05, 'epoch': 7.64}\n",
      "{'loss': 0.3281, 'grad_norm': 3.610335350036621, 'learning_rate': 1.2837837837837838e-05, 'epoch': 7.66}\n",
      "{'loss': 0.1675, 'grad_norm': 0.4955334961414337, 'learning_rate': 1.2741312741312741e-05, 'epoch': 7.68}\n",
      "{'loss': 0.1675, 'grad_norm': 0.2842403054237366, 'learning_rate': 1.2644787644787645e-05, 'epoch': 7.69}\n",
      "{'loss': 0.2255, 'grad_norm': 0.26157283782958984, 'learning_rate': 1.2548262548262549e-05, 'epoch': 7.71}\n",
      "{'loss': 0.3413, 'grad_norm': 0.6781156659126282, 'learning_rate': 1.2451737451737452e-05, 'epoch': 7.73}\n",
      "{'loss': 0.5265, 'grad_norm': 4.518797874450684, 'learning_rate': 1.2355212355212356e-05, 'epoch': 7.75}\n",
      "{'loss': 0.5818, 'grad_norm': 3.952460527420044, 'learning_rate': 1.225868725868726e-05, 'epoch': 7.76}\n",
      "{'loss': 0.7463, 'grad_norm': 0.2553694248199463, 'learning_rate': 1.2162162162162164e-05, 'epoch': 7.78}\n",
      "{'loss': 0.8631, 'grad_norm': 0.27886298298835754, 'learning_rate': 1.2065637065637066e-05, 'epoch': 7.8}\n",
      "{'loss': 0.3844, 'grad_norm': 0.2885073125362396, 'learning_rate': 1.196911196911197e-05, 'epoch': 7.82}\n",
      "{'loss': 0.5688, 'grad_norm': 4.503359317779541, 'learning_rate': 1.1872586872586873e-05, 'epoch': 7.83}\n",
      "{'loss': 0.0367, 'grad_norm': 0.26725342869758606, 'learning_rate': 1.1776061776061777e-05, 'epoch': 7.85}\n",
      "{'loss': 0.9131, 'grad_norm': 4.465965747833252, 'learning_rate': 1.167953667953668e-05, 'epoch': 7.87}\n",
      "{'loss': 0.7238, 'grad_norm': 0.26785528659820557, 'learning_rate': 1.1583011583011584e-05, 'epoch': 7.89}\n",
      "{'loss': 0.3756, 'grad_norm': 0.2919193506240845, 'learning_rate': 1.1486486486486488e-05, 'epoch': 7.9}\n",
      "{'loss': 0.3839, 'grad_norm': 0.2880043387413025, 'learning_rate': 1.138996138996139e-05, 'epoch': 7.92}\n",
      "{'loss': 0.037, 'grad_norm': 0.289645791053772, 'learning_rate': 1.1293436293436294e-05, 'epoch': 7.94}\n",
      "{'loss': 0.5094, 'grad_norm': 4.463096618652344, 'learning_rate': 1.1196911196911197e-05, 'epoch': 7.96}\n",
      "{'loss': 0.5507, 'grad_norm': 0.28148457407951355, 'learning_rate': 1.1100386100386101e-05, 'epoch': 7.98}\n",
      "{'loss': 0.0383, 'grad_norm': 0.28536731004714966, 'learning_rate': 1.1003861003861005e-05, 'epoch': 7.99}\n"
     ]
    },
    {
     "data": {
      "application/vnd.jupyter.widget-view+json": {
       "model_id": "fbb166013f2e4d659ffae53306153ee5",
       "version_major": 2,
       "version_minor": 0
      },
      "text/plain": [
       "  0%|          | 0/142 [00:00<?, ?it/s]"
      ]
     },
     "metadata": {},
     "output_type": "display_data"
    },
    {
     "name": "stdout",
     "output_type": "stream",
     "text": [
      "{'eval_loss': 0.8379851579666138, 'eval_accuracy': 0.7640845070422535, 'eval_macro_f1': 0.6196758010033779, 'eval_weighted_f1': 0.7319019954107328, 'eval_runtime': 3.5518, 'eval_samples_per_second': 79.96, 'eval_steps_per_second': 39.98, 'epoch': 8.0}\n",
      "{'loss': 1.244, 'grad_norm': 4.46653413772583, 'learning_rate': 1.0907335907335908e-05, 'epoch': 8.01}\n",
      "{'loss': 0.6737, 'grad_norm': 4.436098575592041, 'learning_rate': 1.0810810810810812e-05, 'epoch': 8.03}\n",
      "{'loss': 0.6839, 'grad_norm': 0.334575355052948, 'learning_rate': 1.0714285714285714e-05, 'epoch': 8.05}\n",
      "{'loss': 0.5435, 'grad_norm': 0.3271658718585968, 'learning_rate': 1.0617760617760618e-05, 'epoch': 8.06}\n",
      "{'loss': 0.7109, 'grad_norm': 4.174884796142578, 'learning_rate': 1.0521235521235521e-05, 'epoch': 8.08}\n",
      "{'loss': 0.8696, 'grad_norm': 4.227121353149414, 'learning_rate': 1.0424710424710425e-05, 'epoch': 8.1}\n",
      "{'loss': 0.5351, 'grad_norm': 0.36224454641342163, 'learning_rate': 1.0328185328185329e-05, 'epoch': 8.12}\n",
      "{'loss': 0.8206, 'grad_norm': 8.405367851257324, 'learning_rate': 1.0231660231660233e-05, 'epoch': 8.13}\n",
      "{'loss': 0.6688, 'grad_norm': 0.3693651854991913, 'learning_rate': 1.0135135135135136e-05, 'epoch': 8.15}\n",
      "{'loss': 0.3654, 'grad_norm': 0.3541402518749237, 'learning_rate': 1.0038610038610038e-05, 'epoch': 8.17}\n",
      "{'loss': 0.4961, 'grad_norm': 0.3391311764717102, 'learning_rate': 9.942084942084942e-06, 'epoch': 8.19}\n",
      "{'loss': 0.3612, 'grad_norm': 0.3279878795146942, 'learning_rate': 9.845559845559846e-06, 'epoch': 8.2}\n",
      "{'loss': 1.1116, 'grad_norm': 3.9964659214019775, 'learning_rate': 9.74903474903475e-06, 'epoch': 8.22}\n",
      "{'loss': 0.4939, 'grad_norm': 0.3433935046195984, 'learning_rate': 9.652509652509653e-06, 'epoch': 8.24}\n",
      "{'loss': 0.0476, 'grad_norm': 0.35828936100006104, 'learning_rate': 9.555984555984557e-06, 'epoch': 8.26}\n",
      "{'loss': 0.5218, 'grad_norm': 0.3741145730018616, 'learning_rate': 9.45945945945946e-06, 'epoch': 8.27}\n",
      "{'loss': 0.3742, 'grad_norm': 0.3237372636795044, 'learning_rate': 9.362934362934363e-06, 'epoch': 8.29}\n",
      "{'loss': 0.045, 'grad_norm': 0.3295701742172241, 'learning_rate': 9.266409266409266e-06, 'epoch': 8.31}\n",
      "{'loss': 0.6947, 'grad_norm': 4.226133823394775, 'learning_rate': 9.16988416988417e-06, 'epoch': 8.33}\n",
      "{'loss': 0.0428, 'grad_norm': 0.3182571232318878, 'learning_rate': 9.073359073359074e-06, 'epoch': 8.35}\n",
      "{'loss': 0.374, 'grad_norm': 0.3196878135204315, 'learning_rate': 8.976833976833977e-06, 'epoch': 8.36}\n",
      "{'loss': 0.5344, 'grad_norm': 0.3099655508995056, 'learning_rate': 8.880308880308881e-06, 'epoch': 8.38}\n",
      "{'loss': 0.3463, 'grad_norm': 0.3251381814479828, 'learning_rate': 8.783783783783785e-06, 'epoch': 8.4}\n",
      "{'loss': 0.5338, 'grad_norm': 0.310369610786438, 'learning_rate': 8.687258687258689e-06, 'epoch': 8.42}\n",
      "{'loss': 0.5368, 'grad_norm': 4.282849311828613, 'learning_rate': 8.59073359073359e-06, 'epoch': 8.43}\n",
      "{'loss': 0.6725, 'grad_norm': 0.32631123065948486, 'learning_rate': 8.494208494208494e-06, 'epoch': 8.45}\n",
      "{'loss': 0.5099, 'grad_norm': 0.3357345461845398, 'learning_rate': 8.397683397683398e-06, 'epoch': 8.47}\n",
      "{'loss': 0.4522, 'grad_norm': 0.32798337936401367, 'learning_rate': 8.301158301158302e-06, 'epoch': 8.49}\n",
      "{'loss': 0.2058, 'grad_norm': 4.282555103302002, 'learning_rate': 8.204633204633205e-06, 'epoch': 8.5}\n",
      "{'loss': 0.5343, 'grad_norm': 0.32635897397994995, 'learning_rate': 8.108108108108109e-06, 'epoch': 8.52}\n",
      "{'loss': 0.2038, 'grad_norm': 0.3441758453845978, 'learning_rate': 8.011583011583013e-06, 'epoch': 8.54}\n",
      "{'loss': 0.5324, 'grad_norm': 0.3269622325897217, 'learning_rate': 7.915057915057915e-06, 'epoch': 8.56}\n",
      "{'loss': 0.515, 'grad_norm': 0.3289205729961395, 'learning_rate': 7.818532818532818e-06, 'epoch': 8.57}\n",
      "{'loss': 0.2022, 'grad_norm': 4.2654876708984375, 'learning_rate': 7.722007722007722e-06, 'epoch': 8.59}\n",
      "{'loss': 0.04, 'grad_norm': 0.30470341444015503, 'learning_rate': 7.625482625482626e-06, 'epoch': 8.61}\n",
      "{'loss': 0.3737, 'grad_norm': 0.3086937367916107, 'learning_rate': 7.52895752895753e-06, 'epoch': 8.63}\n",
      "{'loss': 0.981, 'grad_norm': 4.384801864624023, 'learning_rate': 7.432432432432433e-06, 'epoch': 8.64}\n",
      "{'loss': 0.2026, 'grad_norm': 0.2887820303440094, 'learning_rate': 7.335907335907337e-06, 'epoch': 8.66}\n",
      "{'loss': 1.0253, 'grad_norm': 4.329575538635254, 'learning_rate': 7.239382239382239e-06, 'epoch': 8.68}\n",
      "{'loss': 0.4982, 'grad_norm': 0.319736123085022, 'learning_rate': 7.142857142857143e-06, 'epoch': 8.7}\n",
      "{'loss': 0.8331, 'grad_norm': 4.231226921081543, 'learning_rate': 7.046332046332046e-06, 'epoch': 8.71}\n",
      "{'loss': 0.1798, 'grad_norm': 0.3214882016181946, 'learning_rate': 6.94980694980695e-06, 'epoch': 8.73}\n",
      "{'loss': 0.3808, 'grad_norm': 0.4699971079826355, 'learning_rate': 6.853281853281854e-06, 'epoch': 8.75}\n",
      "{'loss': 0.3508, 'grad_norm': 0.30386224389076233, 'learning_rate': 6.7567567567567575e-06, 'epoch': 8.77}\n",
      "{'loss': 0.8496, 'grad_norm': 0.30024316906929016, 'learning_rate': 6.660231660231661e-06, 'epoch': 8.79}\n",
      "{'loss': 0.2073, 'grad_norm': 0.3133792579174042, 'learning_rate': 6.563706563706563e-06, 'epoch': 8.8}\n",
      "{'loss': 0.2043, 'grad_norm': 0.30468156933784485, 'learning_rate': 6.467181467181467e-06, 'epoch': 8.82}\n",
      "{'loss': 0.2147, 'grad_norm': 4.528014183044434, 'learning_rate': 6.370656370656371e-06, 'epoch': 8.84}\n",
      "{'loss': 0.5207, 'grad_norm': 0.2827133536338806, 'learning_rate': 6.274131274131274e-06, 'epoch': 8.86}\n",
      "{'loss': 0.8232, 'grad_norm': 4.156773090362549, 'learning_rate': 6.177606177606178e-06, 'epoch': 8.87}\n",
      "{'loss': 0.5488, 'grad_norm': 0.29379183053970337, 'learning_rate': 6.081081081081082e-06, 'epoch': 8.89}\n",
      "{'loss': 0.3777, 'grad_norm': 0.2868807017803192, 'learning_rate': 5.984555984555985e-06, 'epoch': 8.91}\n",
      "{'loss': 0.5386, 'grad_norm': 0.2906548082828522, 'learning_rate': 5.888030888030888e-06, 'epoch': 8.93}\n",
      "{'loss': 0.3542, 'grad_norm': 0.2956269681453705, 'learning_rate': 5.791505791505792e-06, 'epoch': 8.94}\n",
      "{'loss': 0.9884, 'grad_norm': 0.30440205335617065, 'learning_rate': 5.694980694980695e-06, 'epoch': 8.96}\n",
      "{'loss': 0.3467, 'grad_norm': 0.30579113960266113, 'learning_rate': 5.598455598455599e-06, 'epoch': 8.98}\n",
      "{'loss': 0.5386, 'grad_norm': 0.32603201270103455, 'learning_rate': 5.501930501930502e-06, 'epoch': 9.0}\n"
     ]
    },
    {
     "data": {
      "application/vnd.jupyter.widget-view+json": {
       "model_id": "b232f52a047047b9a22f2953da335504",
       "version_major": 2,
       "version_minor": 0
      },
      "text/plain": [
       "  0%|          | 0/142 [00:00<?, ?it/s]"
      ]
     },
     "metadata": {},
     "output_type": "display_data"
    },
    {
     "name": "stdout",
     "output_type": "stream",
     "text": [
      "{'eval_loss': 0.8263354301452637, 'eval_accuracy': 0.7640845070422535, 'eval_macro_f1': 0.6347442172953258, 'eval_weighted_f1': 0.7388287108194806, 'eval_runtime': 3.5167, 'eval_samples_per_second': 80.756, 'eval_steps_per_second': 40.378, 'epoch': 9.0}\n",
      "{'loss': 0.2042, 'grad_norm': 0.30264756083488464, 'learning_rate': 5.405405405405406e-06, 'epoch': 9.01}\n",
      "{'loss': 0.2148, 'grad_norm': 0.3309290111064911, 'learning_rate': 5.308880308880309e-06, 'epoch': 9.03}\n",
      "{'loss': 0.3471, 'grad_norm': 0.31423282623291016, 'learning_rate': 5.212355212355213e-06, 'epoch': 9.05}\n",
      "{'loss': 0.3821, 'grad_norm': 0.28381776809692383, 'learning_rate': 5.115830115830116e-06, 'epoch': 9.07}\n",
      "{'loss': 0.6624, 'grad_norm': 0.3199167251586914, 'learning_rate': 5.019305019305019e-06, 'epoch': 9.08}\n",
      "{'loss': 0.2036, 'grad_norm': 0.31610390543937683, 'learning_rate': 4.922779922779923e-06, 'epoch': 9.1}\n",
      "{'loss': 0.3759, 'grad_norm': 0.31107866764068604, 'learning_rate': 4.8262548262548266e-06, 'epoch': 9.12}\n",
      "{'loss': 0.0358, 'grad_norm': 0.3126339018344879, 'learning_rate': 4.72972972972973e-06, 'epoch': 9.14}\n",
      "{'loss': 0.8914, 'grad_norm': 4.527719974517822, 'learning_rate': 4.633204633204633e-06, 'epoch': 9.15}\n",
      "{'loss': 0.1807, 'grad_norm': 0.29870501160621643, 'learning_rate': 4.536679536679537e-06, 'epoch': 9.17}\n",
      "{'loss': 0.7035, 'grad_norm': 4.575329780578613, 'learning_rate': 4.4401544401544405e-06, 'epoch': 9.19}\n",
      "{'loss': 0.5327, 'grad_norm': 0.2867692708969116, 'learning_rate': 4.343629343629344e-06, 'epoch': 9.21}\n",
      "{'loss': 0.8797, 'grad_norm': 4.626192092895508, 'learning_rate': 4.247104247104247e-06, 'epoch': 9.23}\n",
      "{'loss': 0.3738, 'grad_norm': 8.830029487609863, 'learning_rate': 4.150579150579151e-06, 'epoch': 9.24}\n",
      "{'loss': 0.5464, 'grad_norm': 0.29843708872795105, 'learning_rate': 4.0540540540540545e-06, 'epoch': 9.26}\n",
      "{'loss': 1.0661, 'grad_norm': 4.410755634307861, 'learning_rate': 3.957528957528957e-06, 'epoch': 9.28}\n",
      "{'loss': 0.8602, 'grad_norm': 0.30858126282691956, 'learning_rate': 3.861003861003861e-06, 'epoch': 9.3}\n",
      "{'loss': 0.5151, 'grad_norm': 0.29991593956947327, 'learning_rate': 3.764478764478765e-06, 'epoch': 9.31}\n",
      "{'loss': 0.8665, 'grad_norm': 4.392600059509277, 'learning_rate': 3.6679536679536685e-06, 'epoch': 9.33}\n",
      "{'loss': 0.0332, 'grad_norm': 0.29717057943344116, 'learning_rate': 3.5714285714285714e-06, 'epoch': 9.35}\n",
      "{'loss': 0.0368, 'grad_norm': 0.2917156517505646, 'learning_rate': 3.474903474903475e-06, 'epoch': 9.37}\n",
      "{'loss': 0.6979, 'grad_norm': 1180.2059326171875, 'learning_rate': 3.3783783783783788e-06, 'epoch': 9.38}\n",
      "{'loss': 0.7099, 'grad_norm': 0.2997601330280304, 'learning_rate': 3.2818532818532816e-06, 'epoch': 9.4}\n",
      "{'loss': 0.3697, 'grad_norm': 0.2801906168460846, 'learning_rate': 3.1853281853281853e-06, 'epoch': 9.42}\n",
      "{'loss': 0.2061, 'grad_norm': 1.6125555038452148, 'learning_rate': 3.088803088803089e-06, 'epoch': 9.44}\n",
      "{'loss': 0.8926, 'grad_norm': 4.460105895996094, 'learning_rate': 2.9922779922779923e-06, 'epoch': 9.45}\n",
      "{'loss': 0.3706, 'grad_norm': 0.2963380217552185, 'learning_rate': 2.895752895752896e-06, 'epoch': 9.47}\n",
      "{'loss': 0.3645, 'grad_norm': 4.3560566902160645, 'learning_rate': 2.7992277992277993e-06, 'epoch': 9.49}\n",
      "{'loss': 0.1853, 'grad_norm': 0.3164762258529663, 'learning_rate': 2.702702702702703e-06, 'epoch': 9.51}\n",
      "{'loss': 0.5467, 'grad_norm': 4.344642162322998, 'learning_rate': 2.6061776061776063e-06, 'epoch': 9.52}\n",
      "{'loss': 0.5417, 'grad_norm': 4.410914421081543, 'learning_rate': 2.5096525096525096e-06, 'epoch': 9.54}\n",
      "{'loss': 0.3758, 'grad_norm': 0.30259770154953003, 'learning_rate': 2.4131274131274133e-06, 'epoch': 9.56}\n",
      "{'loss': 0.6869, 'grad_norm': 4.306452751159668, 'learning_rate': 2.3166023166023166e-06, 'epoch': 9.58}\n",
      "{'loss': 0.2035, 'grad_norm': 0.295553982257843, 'learning_rate': 2.2200772200772203e-06, 'epoch': 9.6}\n",
      "{'loss': 0.8623, 'grad_norm': 0.29986828565597534, 'learning_rate': 2.1235521235521236e-06, 'epoch': 9.61}\n",
      "{'loss': 0.7096, 'grad_norm': 0.3033734858036041, 'learning_rate': 2.0270270270270273e-06, 'epoch': 9.63}\n",
      "{'loss': 0.7103, 'grad_norm': 0.3046642541885376, 'learning_rate': 1.9305019305019305e-06, 'epoch': 9.65}\n",
      "{'loss': 0.201, 'grad_norm': 0.30163928866386414, 'learning_rate': 1.8339768339768342e-06, 'epoch': 9.67}\n",
      "{'loss': 0.7199, 'grad_norm': 0.30070483684539795, 'learning_rate': 1.7374517374517375e-06, 'epoch': 9.68}\n",
      "{'loss': 0.5426, 'grad_norm': 0.3125050961971283, 'learning_rate': 1.6409266409266408e-06, 'epoch': 9.7}\n",
      "{'loss': 0.3734, 'grad_norm': 4.3474321365356445, 'learning_rate': 1.5444015444015445e-06, 'epoch': 9.72}\n",
      "{'loss': 0.5403, 'grad_norm': 0.301819771528244, 'learning_rate': 1.447876447876448e-06, 'epoch': 9.74}\n",
      "{'loss': 0.3855, 'grad_norm': 0.2987833619117737, 'learning_rate': 1.3513513513513515e-06, 'epoch': 9.75}\n",
      "{'loss': 0.3722, 'grad_norm': 0.3010317385196686, 'learning_rate': 1.2548262548262548e-06, 'epoch': 9.77}\n",
      "{'loss': 0.7159, 'grad_norm': 0.2997741103172302, 'learning_rate': 1.1583011583011583e-06, 'epoch': 9.79}\n",
      "{'loss': 0.5485, 'grad_norm': 8.887115478515625, 'learning_rate': 1.0617760617760618e-06, 'epoch': 9.81}\n",
      "{'loss': 0.3792, 'grad_norm': 0.2966495454311371, 'learning_rate': 9.652509652509653e-07, 'epoch': 9.82}\n",
      "{'loss': 0.2036, 'grad_norm': 0.30031144618988037, 'learning_rate': 8.687258687258688e-07, 'epoch': 9.84}\n",
      "{'loss': 0.2072, 'grad_norm': 4.390768051147461, 'learning_rate': 7.722007722007723e-07, 'epoch': 9.86}\n",
      "{'loss': 0.6851, 'grad_norm': 4.3387556076049805, 'learning_rate': 6.756756756756758e-07, 'epoch': 9.88}\n",
      "{'loss': 0.3775, 'grad_norm': 4.475983619689941, 'learning_rate': 5.791505791505791e-07, 'epoch': 9.89}\n",
      "{'loss': 1.2184, 'grad_norm': 4.490678310394287, 'learning_rate': 4.826254826254826e-07, 'epoch': 9.91}\n",
      "{'loss': 0.5439, 'grad_norm': 0.31337863206863403, 'learning_rate': 3.8610038610038613e-07, 'epoch': 9.93}\n",
      "{'loss': 0.7102, 'grad_norm': 0.30113500356674194, 'learning_rate': 2.8957528957528957e-07, 'epoch': 9.95}\n",
      "{'loss': 0.378, 'grad_norm': 4.3802642822265625, 'learning_rate': 1.9305019305019306e-07, 'epoch': 9.96}\n",
      "{'loss': 0.3713, 'grad_norm': 0.28975772857666016, 'learning_rate': 9.652509652509653e-08, 'epoch': 9.98}\n",
      "{'loss': 0.7129, 'grad_norm': 0.29184332489967346, 'learning_rate': 0.0, 'epoch': 10.0}\n"
     ]
    },
    {
     "data": {
      "application/vnd.jupyter.widget-view+json": {
       "model_id": "9db29912885d40bcb68895ae0ddbe91c",
       "version_major": 2,
       "version_minor": 0
      },
      "text/plain": [
       "  0%|          | 0/142 [00:00<?, ?it/s]"
      ]
     },
     "metadata": {},
     "output_type": "display_data"
    },
    {
     "name": "stdout",
     "output_type": "stream",
     "text": [
      "{'eval_loss': 0.8944197297096252, 'eval_accuracy': 0.75, 'eval_macro_f1': 0.5586490686628581, 'eval_weighted_f1': 0.6978133823625977, 'eval_runtime': 3.5187, 'eval_samples_per_second': 80.711, 'eval_steps_per_second': 40.356, 'epoch': 10.0}\n",
      "{'train_runtime': 1350.9498, 'train_samples_per_second': 8.409, 'train_steps_per_second': 4.204, 'train_loss': 0.5189296061592833, 'epoch': 10.0}\n"
     ]
    }
   ],
   "source": [
    "from transformers import TrainingArguments, Trainer\n",
    " # Define the compute_metrics function\n",
    "def compute_metrics(pred):\n",
    "    labels = pred.label_ids\n",
    "    preds = np.argmax(pred.predictions, axis=1)\n",
    "    accuracy = accuracy_score(labels, preds)\n",
    "    macro_f1 = f1_score(labels, preds, average='macro')\n",
    "    weighted_f1 = f1_score(labels, preds, average='weighted')\n",
    "    return {\n",
    "        'accuracy': accuracy,\n",
    "        'macro_f1': macro_f1,\n",
    "        'weighted_f1': weighted_f1\n",
    "    }\n",
    "\n",
    "class TrainMetricsLogger(TrainerCallback):\n",
    "    def on_log(self, args, state, control, logs=None, **kwargs):\n",
    "        if logs is not None:\n",
    "            print(f\"Epoch: {state.epoch}, Training Metrics: {logs}\")\n",
    "\n",
    "training_args = TrainingArguments(\n",
    "    output_dir='./results',\n",
    "    eval_strategy='epoch',     # Evaluate every epoch\n",
    "    num_train_epochs=10,              # Number of epochs\n",
    "    per_device_train_batch_size=2,   # Batch size for training\n",
    "    per_device_eval_batch_size=2,    # Batch size for evaluation\n",
    "    warmup_steps=500,                # Number of warmup steps\n",
    "    weight_decay=0.05,               # Strength of weight decay\n",
    "    logging_dir='./logs',            # Directory for logs\n",
    "    logging_steps=10,\n",
    "    load_best_model_at_end=True,\n",
    "    save_strategy='epoch',\n",
    ")\n",
    " \n",
    "trainer = Trainer(\n",
    "    model=model,\n",
    "    args=training_args,\n",
    "    train_dataset=train_dataset,\n",
    "    eval_dataset=test_dataset,\n",
    "    compute_metrics=compute_metrics,\n",
    ")\n",
    "train_result = trainer.train()"
   ]
  },
  {
   "cell_type": "code",
   "execution_count": 20,
   "metadata": {},
   "outputs": [
    {
     "data": {
      "application/vnd.jupyter.widget-view+json": {
       "model_id": "2d9e4481d62a40988088bf4f58304dbb",
       "version_major": 2,
       "version_minor": 0
      },
      "text/plain": [
       "  0%|          | 0/11360 [00:00<?, ?it/s]"
      ]
     },
     "metadata": {},
     "output_type": "display_data"
    },
    {
     "name": "stdout",
     "output_type": "stream",
     "text": [
      "{'loss': 0.9365, 'grad_norm': 0.40558308362960815, 'learning_rate': 1.0000000000000002e-06, 'epoch': 0.01}\n",
      "{'loss': 0.9336, 'grad_norm': 7.835175514221191, 'learning_rate': 2.0000000000000003e-06, 'epoch': 0.02}\n",
      "{'loss': 0.3506, 'grad_norm': 0.4204024374485016, 'learning_rate': 3e-06, 'epoch': 0.03}\n",
      "{'loss': 0.3425, 'grad_norm': 0.39777010679244995, 'learning_rate': 4.000000000000001e-06, 'epoch': 0.04}\n",
      "{'loss': 1.233, 'grad_norm': 0.4082263708114624, 'learning_rate': 5e-06, 'epoch': 0.04}\n",
      "{'loss': 0.6413, 'grad_norm': 0.40753984451293945, 'learning_rate': 6e-06, 'epoch': 0.05}\n",
      "{'loss': 0.3515, 'grad_norm': 0.3893161118030548, 'learning_rate': 7.000000000000001e-06, 'epoch': 0.06}\n",
      "{'loss': 0.9327, 'grad_norm': 7.847845554351807, 'learning_rate': 8.000000000000001e-06, 'epoch': 0.07}\n",
      "{'loss': 0.6447, 'grad_norm': 0.6113662123680115, 'learning_rate': 9e-06, 'epoch': 0.08}\n",
      "{'loss': 0.3543, 'grad_norm': 0.5913524031639099, 'learning_rate': 1e-05, 'epoch': 0.09}\n",
      "{'loss': 0.3434, 'grad_norm': 0.35125625133514404, 'learning_rate': 1.1000000000000001e-05, 'epoch': 0.1}\n",
      "{'loss': 0.046, 'grad_norm': 0.3519566059112549, 'learning_rate': 1.2e-05, 'epoch': 0.11}\n",
      "{'loss': 0.0448, 'grad_norm': 0.5579919219017029, 'learning_rate': 1.3000000000000001e-05, 'epoch': 0.11}\n",
      "{'loss': 0.3689, 'grad_norm': 8.605423927307129, 'learning_rate': 1.4000000000000001e-05, 'epoch': 0.12}\n",
      "{'loss': 0.0386, 'grad_norm': 0.2798880934715271, 'learning_rate': 1.5e-05, 'epoch': 0.13}\n",
      "{'loss': 1.0809, 'grad_norm': 8.924302101135254, 'learning_rate': 1.6000000000000003e-05, 'epoch': 0.14}\n",
      "{'loss': 0.3863, 'grad_norm': 0.26927170157432556, 'learning_rate': 1.7000000000000003e-05, 'epoch': 0.15}\n",
      "{'loss': 0.3813, 'grad_norm': 0.29357975721359253, 'learning_rate': 1.8e-05, 'epoch': 0.16}\n",
      "{'loss': 0.7374, 'grad_norm': 0.26130297780036926, 'learning_rate': 1.9e-05, 'epoch': 0.17}\n",
      "{'loss': 0.3811, 'grad_norm': 0.2426508516073227, 'learning_rate': 2e-05, 'epoch': 0.18}\n",
      "{'loss': 1.0636, 'grad_norm': 0.25030338764190674, 'learning_rate': 2.1e-05, 'epoch': 0.18}\n",
      "{'loss': 0.8714, 'grad_norm': 871.621337890625, 'learning_rate': 2.2000000000000003e-05, 'epoch': 0.19}\n",
      "{'loss': 0.9531, 'grad_norm': 0.23521095514297485, 'learning_rate': 2.3000000000000003e-05, 'epoch': 0.2}\n",
      "{'loss': 0.7476, 'grad_norm': 0.23212885856628418, 'learning_rate': 2.4e-05, 'epoch': 0.21}\n",
      "{'loss': 0.761, 'grad_norm': 9.233078002929688, 'learning_rate': 2.5e-05, 'epoch': 0.22}\n",
      "{'loss': 1.4841, 'grad_norm': 0.2517990469932556, 'learning_rate': 2.6000000000000002e-05, 'epoch': 0.23}\n",
      "{'loss': 0.0292, 'grad_norm': 0.23824572563171387, 'learning_rate': 2.7000000000000002e-05, 'epoch': 0.24}\n",
      "{'loss': 0.3882, 'grad_norm': 0.24109582602977753, 'learning_rate': 2.8000000000000003e-05, 'epoch': 0.25}\n",
      "{'loss': 1.1359, 'grad_norm': 0.2593769431114197, 'learning_rate': 2.9e-05, 'epoch': 0.26}\n",
      "{'loss': 1.3343, 'grad_norm': 0.2403058558702469, 'learning_rate': 3e-05, 'epoch': 0.26}\n",
      "{'loss': 1.1112, 'grad_norm': 0.2763601541519165, 'learning_rate': 3.1e-05, 'epoch': 0.27}\n",
      "{'loss': 1.4031, 'grad_norm': 8.603683471679688, 'learning_rate': 3.2000000000000005e-05, 'epoch': 0.28}\n",
      "{'loss': 1.3492, 'grad_norm': 8.501801490783691, 'learning_rate': 3.3e-05, 'epoch': 0.29}\n",
      "{'loss': 0.6749, 'grad_norm': 0.39425894618034363, 'learning_rate': 3.4000000000000007e-05, 'epoch': 0.3}\n",
      "{'loss': 1.0003, 'grad_norm': 8.453963279724121, 'learning_rate': 3.5e-05, 'epoch': 0.31}\n",
      "{'loss': 0.6715, 'grad_norm': 0.3759247660636902, 'learning_rate': 3.6e-05, 'epoch': 0.32}\n",
      "{'loss': 0.3517, 'grad_norm': 0.3397988975048065, 'learning_rate': 3.7e-05, 'epoch': 0.33}\n",
      "{'loss': 1.3083, 'grad_norm': 0.38386061787605286, 'learning_rate': 3.8e-05, 'epoch': 0.33}\n",
      "{'loss': 0.6902, 'grad_norm': 9.004734992980957, 'learning_rate': 3.9000000000000006e-05, 'epoch': 0.34}\n",
      "{'loss': 0.3618, 'grad_norm': 0.3181656002998352, 'learning_rate': 4e-05, 'epoch': 0.35}\n",
      "{'loss': 2.3229, 'grad_norm': 0.3729613721370697, 'learning_rate': 4.1e-05, 'epoch': 0.36}\n",
      "{'loss': 0.3449, 'grad_norm': 0.40713784098625183, 'learning_rate': 4.2e-05, 'epoch': 0.37}\n",
      "{'loss': 0.9817, 'grad_norm': 8.423251152038574, 'learning_rate': 4.3e-05, 'epoch': 0.38}\n",
      "{'loss': 0.9733, 'grad_norm': 0.37031471729278564, 'learning_rate': 4.4000000000000006e-05, 'epoch': 0.39}\n",
      "{'loss': 0.958, 'grad_norm': 0.4091169536113739, 'learning_rate': 4.5e-05, 'epoch': 0.4}\n",
      "{'loss': 0.3445, 'grad_norm': 0.409505695104599, 'learning_rate': 4.600000000000001e-05, 'epoch': 0.4}\n",
      "{'loss': 0.9944, 'grad_norm': 0.33399224281311035, 'learning_rate': 4.7e-05, 'epoch': 0.41}\n",
      "{'loss': 0.0379, 'grad_norm': 0.28410977125167847, 'learning_rate': 4.8e-05, 'epoch': 0.42}\n",
      "{'loss': 0.7232, 'grad_norm': 0.26180022954940796, 'learning_rate': 4.9e-05, 'epoch': 0.43}\n",
      "{'loss': 0.7509, 'grad_norm': 0.24168357253074646, 'learning_rate': 5e-05, 'epoch': 0.44}\n",
      "{'loss': 0.7772, 'grad_norm': 9.423080444335938, 'learning_rate': 4.9953959484346224e-05, 'epoch': 0.45}\n",
      "{'loss': 0.394, 'grad_norm': 0.23540189862251282, 'learning_rate': 4.990791896869245e-05, 'epoch': 0.46}\n",
      "{'loss': 1.5018, 'grad_norm': 0.23842407763004303, 'learning_rate': 4.986187845303867e-05, 'epoch': 0.47}\n",
      "{'loss': 0.7508, 'grad_norm': 0.26408904790878296, 'learning_rate': 4.98158379373849e-05, 'epoch': 0.48}\n",
      "{'loss': 1.0736, 'grad_norm': 0.2827528715133667, 'learning_rate': 4.976979742173112e-05, 'epoch': 0.48}\n",
      "{'loss': 0.6999, 'grad_norm': 0.3449663519859314, 'learning_rate': 4.972375690607735e-05, 'epoch': 0.49}\n",
      "{'loss': 0.7083, 'grad_norm': 0.2798877954483032, 'learning_rate': 4.967771639042357e-05, 'epoch': 0.5}\n",
      "{'loss': 0.5828, 'grad_norm': 0.27356868982315063, 'learning_rate': 4.96316758747698e-05, 'epoch': 0.51}\n",
      "{'loss': 1.0768, 'grad_norm': 0.2571466863155365, 'learning_rate': 4.958563535911602e-05, 'epoch': 0.52}\n",
      "{'loss': 0.9908, 'grad_norm': 0.23702114820480347, 'learning_rate': 4.953959484346225e-05, 'epoch': 0.53}\n",
      "{'loss': 1.1093, 'grad_norm': 0.2777952551841736, 'learning_rate': 4.949355432780847e-05, 'epoch': 0.54}\n",
      "{'loss': 0.7323, 'grad_norm': 8.86376667022705, 'learning_rate': 4.94475138121547e-05, 'epoch': 0.55}\n",
      "{'loss': 1.3726, 'grad_norm': 8.74482250213623, 'learning_rate': 4.940147329650092e-05, 'epoch': 0.55}\n",
      "{'loss': 0.7368, 'grad_norm': 0.32288745045661926, 'learning_rate': 4.935543278084715e-05, 'epoch': 0.56}\n",
      "{'loss': 0.8114, 'grad_norm': 2.785865306854248, 'learning_rate': 4.930939226519337e-05, 'epoch': 0.57}\n",
      "{'loss': 0.4044, 'grad_norm': 0.2631893455982208, 'learning_rate': 4.9263351749539597e-05, 'epoch': 0.58}\n",
      "{'loss': 0.0279, 'grad_norm': 0.2250257432460785, 'learning_rate': 4.921731123388582e-05, 'epoch': 0.59}\n",
      "{'loss': 0.4129, 'grad_norm': 0.19334566593170166, 'learning_rate': 4.9171270718232046e-05, 'epoch': 0.6}\n",
      "{'loss': 0.8094, 'grad_norm': 0.19598838686943054, 'learning_rate': 4.9125230202578274e-05, 'epoch': 0.61}\n",
      "{'loss': 0.4244, 'grad_norm': 9.778422355651855, 'learning_rate': 4.9079189686924495e-05, 'epoch': 0.62}\n",
      "{'loss': 2.0191, 'grad_norm': 9.560689926147461, 'learning_rate': 4.903314917127072e-05, 'epoch': 0.62}\n",
      "{'loss': 1.0877, 'grad_norm': 8.903995513916016, 'learning_rate': 4.898710865561695e-05, 'epoch': 0.63}\n",
      "{'loss': 0.7107, 'grad_norm': 8.247036933898926, 'learning_rate': 4.894106813996317e-05, 'epoch': 0.64}\n",
      "{'loss': 0.705, 'grad_norm': 8.655420303344727, 'learning_rate': 4.8895027624309394e-05, 'epoch': 0.65}\n",
      "{'loss': 1.6793, 'grad_norm': 0.401881605386734, 'learning_rate': 4.884898710865562e-05, 'epoch': 0.66}\n",
      "{'loss': 0.3558, 'grad_norm': 0.38193807005882263, 'learning_rate': 4.880294659300184e-05, 'epoch': 0.67}\n",
      "{'loss': 0.3639, 'grad_norm': 0.3083299398422241, 'learning_rate': 4.875690607734807e-05, 'epoch': 0.68}\n",
      "{'loss': 0.7034, 'grad_norm': 0.262971967458725, 'learning_rate': 4.871086556169429e-05, 'epoch': 0.69}\n",
      "{'loss': 0.7479, 'grad_norm': 0.25339582562446594, 'learning_rate': 4.866482504604052e-05, 'epoch': 0.7}\n",
      "{'loss': 1.4665, 'grad_norm': 0.27822163701057434, 'learning_rate': 4.861878453038674e-05, 'epoch': 0.7}\n",
      "{'loss': 0.7367, 'grad_norm': 0.27441951632499695, 'learning_rate': 4.857274401473297e-05, 'epoch': 0.71}\n",
      "{'loss': 1.7081, 'grad_norm': 8.519372940063477, 'learning_rate': 4.852670349907919e-05, 'epoch': 0.72}\n",
      "{'loss': 1.5742, 'grad_norm': 7.808138370513916, 'learning_rate': 4.848066298342542e-05, 'epoch': 0.73}\n",
      "{'loss': 1.421, 'grad_norm': 7.214644432067871, 'learning_rate': 4.843462246777164e-05, 'epoch': 0.74}\n",
      "{'loss': 0.0784, 'grad_norm': 0.515311062335968, 'learning_rate': 4.838858195211787e-05, 'epoch': 0.75}\n",
      "{'loss': 0.3521, 'grad_norm': 0.37926408648490906, 'learning_rate': 4.834254143646409e-05, 'epoch': 0.76}\n",
      "{'loss': 0.9836, 'grad_norm': 8.48928451538086, 'learning_rate': 4.829650092081032e-05, 'epoch': 0.77}\n",
      "{'loss': 0.6987, 'grad_norm': 8.383042335510254, 'learning_rate': 4.825046040515654e-05, 'epoch': 0.77}\n",
      "{'loss': 1.0357, 'grad_norm': 0.3101067841053009, 'learning_rate': 4.820441988950277e-05, 'epoch': 0.78}\n",
      "{'loss': 0.6928, 'grad_norm': 0.3151891827583313, 'learning_rate': 4.815837937384899e-05, 'epoch': 0.79}\n",
      "{'loss': 0.3622, 'grad_norm': 0.30593010783195496, 'learning_rate': 4.8112338858195216e-05, 'epoch': 0.8}\n",
      "{'loss': 1.0562, 'grad_norm': 0.30415207147598267, 'learning_rate': 4.806629834254144e-05, 'epoch': 0.81}\n",
      "{'loss': 1.3776, 'grad_norm': 8.4161958694458, 'learning_rate': 4.8020257826887665e-05, 'epoch': 0.82}\n",
      "{'loss': 0.6962, 'grad_norm': 0.32845669984817505, 'learning_rate': 4.7974217311233886e-05, 'epoch': 0.83}\n",
      "{'loss': 1.3196, 'grad_norm': 0.37463197112083435, 'learning_rate': 4.7928176795580114e-05, 'epoch': 0.84}\n",
      "{'loss': 1.27, 'grad_norm': 0.3788737952709198, 'learning_rate': 4.7882136279926336e-05, 'epoch': 0.85}\n",
      "{'loss': 0.345, 'grad_norm': 0.38509050011634827, 'learning_rate': 4.7836095764272564e-05, 'epoch': 0.85}\n",
      "{'loss': 0.9597, 'grad_norm': 7.8964009284973145, 'learning_rate': 4.7790055248618785e-05, 'epoch': 0.86}\n",
      "{'loss': 0.9563, 'grad_norm': 0.3555394113063812, 'learning_rate': 4.7744014732965006e-05, 'epoch': 0.87}\n",
      "{'loss': 0.3612, 'grad_norm': 0.34228524565696716, 'learning_rate': 4.7697974217311234e-05, 'epoch': 0.88}\n",
      "{'loss': 0.6889, 'grad_norm': 0.33378365635871887, 'learning_rate': 4.7651933701657456e-05, 'epoch': 0.89}\n",
      "{'loss': 1.0203, 'grad_norm': 0.309720903635025, 'learning_rate': 4.7605893186003684e-05, 'epoch': 0.9}\n",
      "{'loss': 1.0125, 'grad_norm': 8.35423755645752, 'learning_rate': 4.7559852670349905e-05, 'epoch': 0.91}\n",
      "{'loss': 1.9527, 'grad_norm': 7.877187252044678, 'learning_rate': 4.751381215469613e-05, 'epoch': 0.92}\n",
      "{'loss': 1.222, 'grad_norm': 7.692805767059326, 'learning_rate': 4.746777163904236e-05, 'epoch': 0.92}\n",
      "{'loss': 0.6187, 'grad_norm': 0.4889204204082489, 'learning_rate': 4.742173112338858e-05, 'epoch': 0.93}\n",
      "{'loss': 0.8665, 'grad_norm': 0.48546332120895386, 'learning_rate': 4.737569060773481e-05, 'epoch': 0.94}\n",
      "{'loss': 1.1703, 'grad_norm': 7.440343856811523, 'learning_rate': 4.732965009208104e-05, 'epoch': 0.95}\n",
      "{'loss': 1.1607, 'grad_norm': 0.5297272801399231, 'learning_rate': 4.728360957642726e-05, 'epoch': 0.96}\n",
      "{'loss': 0.6099, 'grad_norm': 0.4754463732242584, 'learning_rate': 4.723756906077349e-05, 'epoch': 0.97}\n",
      "{'loss': 0.6116, 'grad_norm': 0.4388818144798279, 'learning_rate': 4.719152854511971e-05, 'epoch': 0.98}\n",
      "{'loss': 0.9206, 'grad_norm': 0.42196330428123474, 'learning_rate': 4.714548802946594e-05, 'epoch': 0.99}\n",
      "{'loss': 1.2184, 'grad_norm': 7.588321685791016, 'learning_rate': 4.709944751381216e-05, 'epoch': 0.99}\n"
     ]
    },
    {
     "data": {
      "application/vnd.jupyter.widget-view+json": {
       "model_id": "3557b59bf1a94adc9bc3cf64ef5bc8c6",
       "version_major": 2,
       "version_minor": 0
      },
      "text/plain": [
       "  0%|          | 0/284 [00:00<?, ?it/s]"
      ]
     },
     "metadata": {},
     "output_type": "display_data"
    },
    {
     "name": "stdout",
     "output_type": "stream",
     "text": [
      "{'eval_loss': 0.8373655080795288, 'eval_accuracy': 0.7394366197183099, 'eval_macro_f1': 0.4251012145748988, 'eval_weighted_f1': 0.6286708102868221, 'eval_runtime': 6.0814, 'eval_samples_per_second': 46.7, 'eval_steps_per_second': 46.7, 'epoch': 1.0}\n",
      "{'loss': 0.945, 'grad_norm': 7.8397536277771, 'learning_rate': 4.7053406998158386e-05, 'epoch': 1.0}\n",
      "{'loss': 0.9151, 'grad_norm': 0.4541016221046448, 'learning_rate': 4.700736648250461e-05, 'epoch': 1.01}\n",
      "{'loss': 1.7504, 'grad_norm': 0.5110873579978943, 'learning_rate': 4.6961325966850835e-05, 'epoch': 1.02}\n",
      "{'loss': 0.5941, 'grad_norm': 0.5363752841949463, 'learning_rate': 4.6915285451197057e-05, 'epoch': 1.03}\n",
      "{'loss': 1.1337, 'grad_norm': 7.094141960144043, 'learning_rate': 4.6869244935543285e-05, 'epoch': 1.04}\n",
      "{'loss': 0.3398, 'grad_norm': 0.48281198740005493, 'learning_rate': 4.6823204419889506e-05, 'epoch': 1.05}\n",
      "{'loss': 0.6233, 'grad_norm': 0.41327935457229614, 'learning_rate': 4.6777163904235734e-05, 'epoch': 1.06}\n",
      "{'loss': 0.937, 'grad_norm': 7.628388404846191, 'learning_rate': 4.6731123388581955e-05, 'epoch': 1.07}\n",
      "{'loss': 0.6681, 'grad_norm': 8.11701488494873, 'learning_rate': 4.6685082872928176e-05, 'epoch': 1.07}\n",
      "{'loss': 1.295, 'grad_norm': 0.38137707114219666, 'learning_rate': 4.6639042357274404e-05, 'epoch': 1.08}\n",
      "{'loss': 0.3534, 'grad_norm': 0.3769495487213135, 'learning_rate': 4.6593001841620626e-05, 'epoch': 1.09}\n",
      "{'loss': 0.6701, 'grad_norm': 8.16342544555664, 'learning_rate': 4.6546961325966854e-05, 'epoch': 1.1}\n",
      "{'loss': 1.3011, 'grad_norm': 0.36672741174697876, 'learning_rate': 4.6500920810313075e-05, 'epoch': 1.11}\n",
      "{'loss': 1.8675, 'grad_norm': 0.4293901324272156, 'learning_rate': 4.64548802946593e-05, 'epoch': 1.12}\n",
      "{'loss': 0.9211, 'grad_norm': 0.46059614419937134, 'learning_rate': 4.6408839779005524e-05, 'epoch': 1.13}\n",
      "{'loss': 1.6989, 'grad_norm': 0.5029696822166443, 'learning_rate': 4.636279926335175e-05, 'epoch': 1.14}\n",
      "{'loss': 0.5936, 'grad_norm': 7.093057155609131, 'learning_rate': 4.6316758747697973e-05, 'epoch': 1.14}\n",
      "{'loss': 0.5932, 'grad_norm': 0.5083362460136414, 'learning_rate': 4.62707182320442e-05, 'epoch': 1.15}\n",
      "{'loss': 0.8737, 'grad_norm': 0.4850521683692932, 'learning_rate': 4.622467771639042e-05, 'epoch': 1.16}\n",
      "{'loss': 0.8803, 'grad_norm': 0.44384893774986267, 'learning_rate': 4.617863720073665e-05, 'epoch': 1.17}\n",
      "{'loss': 0.3334, 'grad_norm': 0.4448273777961731, 'learning_rate': 4.613259668508287e-05, 'epoch': 1.18}\n",
      "{'loss': 0.9563, 'grad_norm': 0.37145018577575684, 'learning_rate': 4.60865561694291e-05, 'epoch': 1.19}\n",
      "{'loss': 0.9719, 'grad_norm': 0.36610180139541626, 'learning_rate': 4.604051565377532e-05, 'epoch': 1.2}\n",
      "{'loss': 0.947, 'grad_norm': 0.3839363157749176, 'learning_rate': 4.599447513812155e-05, 'epoch': 1.21}\n",
      "{'loss': 0.3575, 'grad_norm': 8.023720741271973, 'learning_rate': 4.594843462246777e-05, 'epoch': 1.21}\n",
      "{'loss': 0.6727, 'grad_norm': 0.3335815370082855, 'learning_rate': 4.5902394106814e-05, 'epoch': 1.22}\n",
      "{'loss': 0.3699, 'grad_norm': 0.2924376130104065, 'learning_rate': 4.585635359116022e-05, 'epoch': 1.23}\n",
      "{'loss': 1.0413, 'grad_norm': 0.27374374866485596, 'learning_rate': 4.581031307550645e-05, 'epoch': 1.24}\n",
      "{'loss': 0.0322, 'grad_norm': 0.26901349425315857, 'learning_rate': 4.576427255985267e-05, 'epoch': 1.25}\n",
      "{'loss': 0.7378, 'grad_norm': 0.2598224878311157, 'learning_rate': 4.57182320441989e-05, 'epoch': 1.26}\n",
      "{'loss': 1.457, 'grad_norm': 8.946715354919434, 'learning_rate': 4.5672191528545125e-05, 'epoch': 1.27}\n",
      "{'loss': 0.7478, 'grad_norm': 0.2843233048915863, 'learning_rate': 4.5626151012891346e-05, 'epoch': 1.28}\n",
      "{'loss': 1.3902, 'grad_norm': 8.679187774658203, 'learning_rate': 4.5580110497237574e-05, 'epoch': 1.29}\n",
      "{'loss': 0.6969, 'grad_norm': 8.265829086303711, 'learning_rate': 4.5534069981583796e-05, 'epoch': 1.29}\n",
      "{'loss': 0.3637, 'grad_norm': 0.2848666310310364, 'learning_rate': 4.5488029465930024e-05, 'epoch': 1.3}\n",
      "{'loss': 1.0483, 'grad_norm': 0.3114020824432373, 'learning_rate': 4.5441988950276245e-05, 'epoch': 1.31}\n",
      "{'loss': 0.0343, 'grad_norm': 0.28675612807273865, 'learning_rate': 4.539594843462247e-05, 'epoch': 1.32}\n",
      "{'loss': 0.7352, 'grad_norm': 0.2595122158527374, 'learning_rate': 4.5349907918968694e-05, 'epoch': 1.33}\n",
      "{'loss': 1.1104, 'grad_norm': 0.2714346647262573, 'learning_rate': 4.530386740331492e-05, 'epoch': 1.34}\n",
      "{'loss': 0.7354, 'grad_norm': 0.26881566643714905, 'learning_rate': 4.5257826887661144e-05, 'epoch': 1.35}\n",
      "{'loss': 0.3801, 'grad_norm': 0.269155889749527, 'learning_rate': 4.521178637200737e-05, 'epoch': 1.36}\n",
      "{'loss': 0.3817, 'grad_norm': 0.24650634825229645, 'learning_rate': 4.516574585635359e-05, 'epoch': 1.36}\n",
      "{'loss': 0.7495, 'grad_norm': 0.22122898697853088, 'learning_rate': 4.511970534069982e-05, 'epoch': 1.37}\n",
      "{'loss': 0.0232, 'grad_norm': 0.21323096752166748, 'learning_rate': 4.507366482504604e-05, 'epoch': 1.38}\n",
      "{'loss': 0.7746, 'grad_norm': 0.2103930115699768, 'learning_rate': 4.502762430939227e-05, 'epoch': 1.39}\n",
      "{'loss': 1.1796, 'grad_norm': 0.207310289144516, 'learning_rate': 4.498158379373849e-05, 'epoch': 1.4}\n",
      "{'loss': 1.1555, 'grad_norm': 0.22134637832641602, 'learning_rate': 4.493554327808472e-05, 'epoch': 1.41}\n",
      "{'loss': 0.7516, 'grad_norm': 0.23312081396579742, 'learning_rate': 4.488950276243094e-05, 'epoch': 1.42}\n",
      "{'loss': 1.8337, 'grad_norm': 8.950960159301758, 'learning_rate': 4.484346224677717e-05, 'epoch': 1.43}\n",
      "{'loss': 1.4176, 'grad_norm': 8.603464126586914, 'learning_rate': 4.479742173112339e-05, 'epoch': 1.43}\n",
      "{'loss': 1.6387, 'grad_norm': 0.37370890378952026, 'learning_rate': 4.475138121546962e-05, 'epoch': 1.44}\n",
      "{'loss': 0.9415, 'grad_norm': 0.4074591100215912, 'learning_rate': 4.470534069981584e-05, 'epoch': 1.45}\n",
      "{'loss': 0.9266, 'grad_norm': 0.44109058380126953, 'learning_rate': 4.465930018416207e-05, 'epoch': 1.46}\n",
      "{'loss': 1.1985, 'grad_norm': 7.483335018157959, 'learning_rate': 4.461325966850829e-05, 'epoch': 1.47}\n",
      "{'loss': 0.633, 'grad_norm': 0.44161224365234375, 'learning_rate': 4.4567219152854516e-05, 'epoch': 1.48}\n",
      "{'loss': 1.1832, 'grad_norm': 0.45619651675224304, 'learning_rate': 4.452117863720074e-05, 'epoch': 1.49}\n",
      "{'loss': 0.6203, 'grad_norm': 0.49131518602371216, 'learning_rate': 4.447513812154696e-05, 'epoch': 1.5}\n",
      "{'loss': 0.8985, 'grad_norm': 0.4545041620731354, 'learning_rate': 4.442909760589319e-05, 'epoch': 1.51}\n",
      "{'loss': 0.3424, 'grad_norm': 0.39157000184059143, 'learning_rate': 4.438305709023941e-05, 'epoch': 1.51}\n",
      "{'loss': 0.3602, 'grad_norm': 8.119900703430176, 'learning_rate': 4.4337016574585636e-05, 'epoch': 1.52}\n",
      "{'loss': 1.6311, 'grad_norm': 8.319007873535156, 'learning_rate': 4.429097605893186e-05, 'epoch': 1.53}\n",
      "{'loss': 0.6837, 'grad_norm': 0.35231733322143555, 'learning_rate': 4.4244935543278086e-05, 'epoch': 1.54}\n",
      "{'loss': 0.6657, 'grad_norm': 0.36466291546821594, 'learning_rate': 4.419889502762431e-05, 'epoch': 1.55}\n",
      "{'loss': 0.9908, 'grad_norm': 8.385412216186523, 'learning_rate': 4.4152854511970535e-05, 'epoch': 1.56}\n",
      "{'loss': 0.3698, 'grad_norm': 0.3437868356704712, 'learning_rate': 4.4106813996316756e-05, 'epoch': 1.57}\n",
      "{'loss': 0.992, 'grad_norm': 0.35747018456459045, 'learning_rate': 4.4060773480662984e-05, 'epoch': 1.58}\n",
      "{'loss': 1.3311, 'grad_norm': 8.2123384475708, 'learning_rate': 4.401473296500921e-05, 'epoch': 1.58}\n",
      "{'loss': 1.2948, 'grad_norm': 0.3783785402774811, 'learning_rate': 4.396869244935543e-05, 'epoch': 1.59}\n",
      "{'loss': 1.2526, 'grad_norm': 0.38504868745803833, 'learning_rate': 4.392265193370166e-05, 'epoch': 1.6}\n",
      "{'loss': 0.9335, 'grad_norm': 0.46090349555015564, 'learning_rate': 4.387661141804788e-05, 'epoch': 1.61}\n",
      "{'loss': 0.6296, 'grad_norm': 0.45322084426879883, 'learning_rate': 4.383057090239411e-05, 'epoch': 1.62}\n",
      "{'loss': 0.6357, 'grad_norm': 0.4015929102897644, 'learning_rate': 4.378453038674034e-05, 'epoch': 1.63}\n",
      "{'loss': 0.6552, 'grad_norm': 0.3783375024795532, 'learning_rate': 4.373848987108656e-05, 'epoch': 1.64}\n",
      "{'loss': 1.2808, 'grad_norm': 8.060074806213379, 'learning_rate': 4.369244935543279e-05, 'epoch': 1.65}\n",
      "{'loss': 0.6711, 'grad_norm': 0.3570112884044647, 'learning_rate': 4.364640883977901e-05, 'epoch': 1.65}\n",
      "{'loss': 0.965, 'grad_norm': 0.3902171850204468, 'learning_rate': 4.360036832412524e-05, 'epoch': 1.66}\n",
      "{'loss': 0.6592, 'grad_norm': 0.37066566944122314, 'learning_rate': 4.355432780847146e-05, 'epoch': 1.67}\n",
      "{'loss': 0.3604, 'grad_norm': 0.3692457973957062, 'learning_rate': 4.3508287292817687e-05, 'epoch': 1.68}\n",
      "{'loss': 0.6987, 'grad_norm': 0.33306893706321716, 'learning_rate': 4.346224677716391e-05, 'epoch': 1.69}\n",
      "{'loss': 1.9803, 'grad_norm': 0.3393765985965729, 'learning_rate': 4.341620626151013e-05, 'epoch': 1.7}\n",
      "{'loss': 0.357, 'grad_norm': 0.3703937828540802, 'learning_rate': 4.337016574585636e-05, 'epoch': 1.71}\n",
      "{'loss': 0.9897, 'grad_norm': 0.36037319898605347, 'learning_rate': 4.332412523020258e-05, 'epoch': 1.72}\n",
      "{'loss': 0.6867, 'grad_norm': 8.337054252624512, 'learning_rate': 4.3278084714548806e-05, 'epoch': 1.73}\n",
      "{'loss': 0.679, 'grad_norm': 0.3175697326660156, 'learning_rate': 4.323204419889503e-05, 'epoch': 1.73}\n",
      "{'loss': 0.3603, 'grad_norm': 0.29076287150382996, 'learning_rate': 4.3186003683241256e-05, 'epoch': 1.74}\n",
      "{'loss': 0.366, 'grad_norm': 0.2917978763580322, 'learning_rate': 4.313996316758748e-05, 'epoch': 1.75}\n",
      "{'loss': 1.371, 'grad_norm': 0.2852911949157715, 'learning_rate': 4.3093922651933705e-05, 'epoch': 1.76}\n",
      "{'loss': 0.38, 'grad_norm': 8.771980285644531, 'learning_rate': 4.3047882136279926e-05, 'epoch': 1.77}\n",
      "{'loss': 0.3883, 'grad_norm': 8.959004402160645, 'learning_rate': 4.3001841620626154e-05, 'epoch': 1.78}\n",
      "{'loss': 0.746, 'grad_norm': 0.26264676451683044, 'learning_rate': 4.2955801104972375e-05, 'epoch': 1.79}\n",
      "{'loss': 0.3922, 'grad_norm': 0.22809547185897827, 'learning_rate': 4.2909760589318603e-05, 'epoch': 1.8}\n",
      "{'loss': 0.7406, 'grad_norm': 0.24722184240818024, 'learning_rate': 4.2863720073664825e-05, 'epoch': 1.8}\n",
      "{'loss': 0.7648, 'grad_norm': 0.23252417147159576, 'learning_rate': 4.281767955801105e-05, 'epoch': 1.81}\n",
      "{'loss': 0.0257, 'grad_norm': 0.23978914320468903, 'learning_rate': 4.2771639042357274e-05, 'epoch': 1.82}\n",
      "{'loss': 1.1533, 'grad_norm': 0.20923244953155518, 'learning_rate': 4.27255985267035e-05, 'epoch': 1.83}\n",
      "{'loss': 0.3935, 'grad_norm': 0.20782537758350372, 'learning_rate': 4.267955801104972e-05, 'epoch': 1.84}\n",
      "{'loss': 1.9115, 'grad_norm': 0.2230418473482132, 'learning_rate': 4.263351749539595e-05, 'epoch': 1.85}\n",
      "{'loss': 0.3841, 'grad_norm': 0.2598336935043335, 'learning_rate': 4.258747697974217e-05, 'epoch': 1.86}\n",
      "{'loss': 1.4411, 'grad_norm': 0.2694924473762512, 'learning_rate': 4.25414364640884e-05, 'epoch': 1.87}\n",
      "{'loss': 1.0662, 'grad_norm': 0.29177993535995483, 'learning_rate': 4.249539594843462e-05, 'epoch': 1.88}\n",
      "{'loss': 1.382, 'grad_norm': 0.30774444341659546, 'learning_rate': 4.244935543278085e-05, 'epoch': 1.88}\n",
      "{'loss': 0.3696, 'grad_norm': 0.3103228807449341, 'learning_rate': 4.240331491712707e-05, 'epoch': 1.89}\n",
      "{'loss': 0.6894, 'grad_norm': 0.2995377480983734, 'learning_rate': 4.23572744014733e-05, 'epoch': 1.9}\n",
      "{'loss': 1.0427, 'grad_norm': 8.503114700317383, 'learning_rate': 4.231123388581952e-05, 'epoch': 1.91}\n",
      "{'loss': 1.0154, 'grad_norm': 8.446728706359863, 'learning_rate': 4.226519337016575e-05, 'epoch': 1.92}\n",
      "{'loss': 0.6798, 'grad_norm': 0.33015280961990356, 'learning_rate': 4.221915285451197e-05, 'epoch': 1.93}\n",
      "{'loss': 0.7097, 'grad_norm': 8.559561729431152, 'learning_rate': 4.21731123388582e-05, 'epoch': 1.94}\n",
      "{'loss': 0.699, 'grad_norm': 0.3016811013221741, 'learning_rate': 4.2127071823204426e-05, 'epoch': 1.95}\n",
      "{'loss': 0.7074, 'grad_norm': 0.3060949444770813, 'learning_rate': 4.208103130755065e-05, 'epoch': 1.95}\n",
      "{'loss': 1.3889, 'grad_norm': 0.3300672769546509, 'learning_rate': 4.2034990791896875e-05, 'epoch': 1.96}\n",
      "{'loss': 1.6646, 'grad_norm': 8.213298797607422, 'learning_rate': 4.1988950276243096e-05, 'epoch': 1.97}\n",
      "{'loss': 0.6711, 'grad_norm': 0.3586783707141876, 'learning_rate': 4.1942909760589324e-05, 'epoch': 1.98}\n",
      "{'loss': 0.3515, 'grad_norm': 0.3464922606945038, 'learning_rate': 4.1896869244935545e-05, 'epoch': 1.99}\n",
      "{'loss': 0.362, 'grad_norm': 0.3408762812614441, 'learning_rate': 4.1850828729281773e-05, 'epoch': 2.0}\n"
     ]
    },
    {
     "data": {
      "application/vnd.jupyter.widget-view+json": {
       "model_id": "e224e364e6354d2a8fb72e781c4f7935",
       "version_major": 2,
       "version_minor": 0
      },
      "text/plain": [
       "  0%|          | 0/284 [00:00<?, ?it/s]"
      ]
     },
     "metadata": {},
     "output_type": "display_data"
    },
    {
     "name": "stdout",
     "output_type": "stream",
     "text": [
      "{'eval_loss': 0.9116561412811279, 'eval_accuracy': 0.7394366197183099, 'eval_macro_f1': 0.4251012145748988, 'eval_weighted_f1': 0.6286708102868221, 'eval_runtime': 6.0274, 'eval_samples_per_second': 47.118, 'eval_steps_per_second': 47.118, 'epoch': 2.0}\n",
      "{'loss': 0.6845, 'grad_norm': 0.28642168641090393, 'learning_rate': 4.1804788213627995e-05, 'epoch': 2.01}\n",
      "{'loss': 1.3848, 'grad_norm': 0.305355966091156, 'learning_rate': 4.175874769797422e-05, 'epoch': 2.02}\n",
      "{'loss': 1.3526, 'grad_norm': 0.32936403155326843, 'learning_rate': 4.1712707182320444e-05, 'epoch': 2.02}\n",
      "{'loss': 1.5987, 'grad_norm': 0.4074011743068695, 'learning_rate': 4.166666666666667e-05, 'epoch': 2.03}\n",
      "{'loss': 0.0508, 'grad_norm': 0.41250136494636536, 'learning_rate': 4.162062615101289e-05, 'epoch': 2.04}\n",
      "{'loss': 0.0457, 'grad_norm': 0.3248731791973114, 'learning_rate': 4.157458563535912e-05, 'epoch': 2.05}\n",
      "{'loss': 1.6431, 'grad_norm': 0.3316221833229065, 'learning_rate': 4.152854511970534e-05, 'epoch': 2.06}\n",
      "{'loss': 1.0023, 'grad_norm': 0.33902713656425476, 'learning_rate': 4.148250460405157e-05, 'epoch': 2.07}\n",
      "{'loss': 0.6804, 'grad_norm': 0.3434998095035553, 'learning_rate': 4.143646408839779e-05, 'epoch': 2.08}\n",
      "{'loss': 0.3658, 'grad_norm': 0.3186265826225281, 'learning_rate': 4.139042357274402e-05, 'epoch': 2.09}\n",
      "{'loss': 1.6541, 'grad_norm': 8.282410621643066, 'learning_rate': 4.134438305709024e-05, 'epoch': 2.1}\n",
      "{'loss': 0.6793, 'grad_norm': 0.3437954783439636, 'learning_rate': 4.129834254143646e-05, 'epoch': 2.1}\n",
      "{'loss': 0.6631, 'grad_norm': 8.072152137756348, 'learning_rate': 4.125230202578269e-05, 'epoch': 2.11}\n",
      "{'loss': 1.0027, 'grad_norm': 0.33437517285346985, 'learning_rate': 4.120626151012891e-05, 'epoch': 2.12}\n",
      "{'loss': 0.6753, 'grad_norm': 0.34765902161598206, 'learning_rate': 4.116022099447514e-05, 'epoch': 2.13}\n",
      "{'loss': 0.6703, 'grad_norm': 0.368655800819397, 'learning_rate': 4.111418047882136e-05, 'epoch': 2.14}\n",
      "{'loss': 1.6252, 'grad_norm': 0.36731696128845215, 'learning_rate': 4.106813996316759e-05, 'epoch': 2.15}\n",
      "{'loss': 0.6712, 'grad_norm': 0.3791622519493103, 'learning_rate': 4.102209944751381e-05, 'epoch': 2.16}\n",
      "{'loss': 0.6689, 'grad_norm': 0.36239558458328247, 'learning_rate': 4.097605893186004e-05, 'epoch': 2.17}\n",
      "{'loss': 0.9638, 'grad_norm': 0.3505554497241974, 'learning_rate': 4.093001841620626e-05, 'epoch': 2.17}\n",
      "{'loss': 0.3625, 'grad_norm': 8.231878280639648, 'learning_rate': 4.088397790055249e-05, 'epoch': 2.18}\n",
      "{'loss': 0.69, 'grad_norm': 0.31211522221565247, 'learning_rate': 4.083793738489871e-05, 'epoch': 2.19}\n",
      "{'loss': 0.3643, 'grad_norm': 0.2884960174560547, 'learning_rate': 4.079189686924494e-05, 'epoch': 2.2}\n",
      "{'loss': 1.0552, 'grad_norm': 8.716766357421875, 'learning_rate': 4.074585635359116e-05, 'epoch': 2.21}\n",
      "{'loss': 0.0311, 'grad_norm': 0.27445492148399353, 'learning_rate': 4.0699815837937386e-05, 'epoch': 2.22}\n",
      "{'loss': 0.7375, 'grad_norm': 0.2676752507686615, 'learning_rate': 4.065377532228361e-05, 'epoch': 2.23}\n",
      "{'loss': 0.7471, 'grad_norm': 0.24816139042377472, 'learning_rate': 4.0607734806629835e-05, 'epoch': 2.24}\n",
      "{'loss': 1.479, 'grad_norm': 8.906533241271973, 'learning_rate': 4.056169429097606e-05, 'epoch': 2.24}\n",
      "{'loss': 0.7337, 'grad_norm': 0.2859576344490051, 'learning_rate': 4.0515653775322285e-05, 'epoch': 2.25}\n",
      "{'loss': 0.7215, 'grad_norm': 0.27130770683288574, 'learning_rate': 4.046961325966851e-05, 'epoch': 2.26}\n",
      "{'loss': 1.067, 'grad_norm': 0.28555160760879517, 'learning_rate': 4.0423572744014734e-05, 'epoch': 2.27}\n",
      "{'loss': 0.7092, 'grad_norm': 0.2985460162162781, 'learning_rate': 4.037753222836096e-05, 'epoch': 2.28}\n",
      "{'loss': 0.7193, 'grad_norm': 8.746338844299316, 'learning_rate': 4.033149171270719e-05, 'epoch': 2.29}\n",
      "{'loss': 0.7246, 'grad_norm': 0.2608861029148102, 'learning_rate': 4.028545119705341e-05, 'epoch': 2.3}\n",
      "{'loss': 1.3984, 'grad_norm': 0.303989976644516, 'learning_rate': 4.023941068139964e-05, 'epoch': 2.31}\n",
      "{'loss': 0.7093, 'grad_norm': 0.3001222610473633, 'learning_rate': 4.019337016574586e-05, 'epoch': 2.32}\n",
      "{'loss': 1.0261, 'grad_norm': 0.33880889415740967, 'learning_rate': 4.014732965009208e-05, 'epoch': 2.32}\n",
      "{'loss': 1.0126, 'grad_norm': 0.34925419092178345, 'learning_rate': 4.010128913443831e-05, 'epoch': 2.33}\n",
      "{'loss': 0.0376, 'grad_norm': 0.3181004524230957, 'learning_rate': 4.005524861878453e-05, 'epoch': 2.34}\n",
      "{'loss': 0.374, 'grad_norm': 0.2970311939716339, 'learning_rate': 4.000920810313076e-05, 'epoch': 2.35}\n",
      "{'loss': 0.375, 'grad_norm': 0.2577710449695587, 'learning_rate': 3.996316758747698e-05, 'epoch': 2.36}\n",
      "{'loss': 1.0979, 'grad_norm': 0.24806757271289825, 'learning_rate': 3.991712707182321e-05, 'epoch': 2.37}\n",
      "{'loss': 1.0825, 'grad_norm': 0.26436716318130493, 'learning_rate': 3.987108655616943e-05, 'epoch': 2.38}\n",
      "{'loss': 1.0768, 'grad_norm': 0.2728804051876068, 'learning_rate': 3.982504604051566e-05, 'epoch': 2.39}\n",
      "{'loss': 1.4091, 'grad_norm': 0.2988864481449127, 'learning_rate': 3.977900552486188e-05, 'epoch': 2.39}\n",
      "{'loss': 0.3712, 'grad_norm': 0.33272838592529297, 'learning_rate': 3.973296500920811e-05, 'epoch': 2.4}\n",
      "{'loss': 0.7113, 'grad_norm': 0.28720822930336, 'learning_rate': 3.968692449355433e-05, 'epoch': 2.41}\n",
      "{'loss': 1.0425, 'grad_norm': 8.598143577575684, 'learning_rate': 3.9640883977900556e-05, 'epoch': 2.42}\n",
      "{'loss': 0.7137, 'grad_norm': 0.28371280431747437, 'learning_rate': 3.959484346224678e-05, 'epoch': 2.43}\n",
      "{'loss': 1.047, 'grad_norm': 8.443830490112305, 'learning_rate': 3.9548802946593005e-05, 'epoch': 2.44}\n",
      "{'loss': 1.3642, 'grad_norm': 0.3396027684211731, 'learning_rate': 3.950276243093923e-05, 'epoch': 2.45}\n",
      "{'loss': 0.6758, 'grad_norm': 8.213922500610352, 'learning_rate': 3.9456721915285455e-05, 'epoch': 2.46}\n",
      "{'loss': 1.9215, 'grad_norm': 0.36080172657966614, 'learning_rate': 3.9410681399631676e-05, 'epoch': 2.46}\n",
      "{'loss': 0.3516, 'grad_norm': 0.4044020473957062, 'learning_rate': 3.9364640883977904e-05, 'epoch': 2.47}\n",
      "{'loss': 1.2373, 'grad_norm': 0.3945411145687103, 'learning_rate': 3.9318600368324125e-05, 'epoch': 2.48}\n",
      "{'loss': 1.8036, 'grad_norm': 7.346982479095459, 'learning_rate': 3.927255985267035e-05, 'epoch': 2.49}\n",
      "{'loss': 0.892, 'grad_norm': 0.49330827593803406, 'learning_rate': 3.9226519337016574e-05, 'epoch': 2.5}\n",
      "{'loss': 1.1352, 'grad_norm': 0.49574917554855347, 'learning_rate': 3.91804788213628e-05, 'epoch': 2.51}\n",
      "{'loss': 1.3969, 'grad_norm': 7.166712284088135, 'learning_rate': 3.9134438305709024e-05, 'epoch': 2.52}\n",
      "{'loss': 0.8591, 'grad_norm': 0.6015705466270447, 'learning_rate': 3.9088397790055245e-05, 'epoch': 2.53}\n",
      "{'loss': 1.0673, 'grad_norm': 6.676390171051025, 'learning_rate': 3.904235727440147e-05, 'epoch': 2.54}\n",
      "{'loss': 0.8161, 'grad_norm': 0.5752196311950684, 'learning_rate': 3.8996316758747694e-05, 'epoch': 2.54}\n",
      "{'loss': 1.3229, 'grad_norm': 6.953754901885986, 'learning_rate': 3.895027624309392e-05, 'epoch': 2.55}\n",
      "{'loss': 0.579, 'grad_norm': 0.5422666072845459, 'learning_rate': 3.890423572744015e-05, 'epoch': 2.56}\n",
      "{'loss': 0.3348, 'grad_norm': 0.4986349940299988, 'learning_rate': 3.885819521178637e-05, 'epoch': 2.57}\n",
      "{'loss': 1.4387, 'grad_norm': 0.47499096393585205, 'learning_rate': 3.88121546961326e-05, 'epoch': 2.58}\n",
      "{'loss': 0.0622, 'grad_norm': 0.4670749604701996, 'learning_rate': 3.876611418047882e-05, 'epoch': 2.59}\n",
      "{'loss': 0.3426, 'grad_norm': 0.39903056621551514, 'learning_rate': 3.872007366482505e-05, 'epoch': 2.6}\n",
      "{'loss': 0.6615, 'grad_norm': 0.37375152111053467, 'learning_rate': 3.867403314917128e-05, 'epoch': 2.61}\n",
      "{'loss': 0.9995, 'grad_norm': 0.3312113881111145, 'learning_rate': 3.86279926335175e-05, 'epoch': 2.61}\n",
      "{'loss': 0.0408, 'grad_norm': 0.34003016352653503, 'learning_rate': 3.8581952117863726e-05, 'epoch': 2.62}\n",
      "{'loss': 0.7081, 'grad_norm': 0.28003984689712524, 'learning_rate': 3.853591160220995e-05, 'epoch': 2.63}\n",
      "{'loss': 1.3707, 'grad_norm': 8.624683380126953, 'learning_rate': 3.8489871086556175e-05, 'epoch': 2.64}\n",
      "{'loss': 0.3627, 'grad_norm': 0.294156551361084, 'learning_rate': 3.84438305709024e-05, 'epoch': 2.65}\n",
      "{'loss': 0.3747, 'grad_norm': 0.2930490970611572, 'learning_rate': 3.8397790055248625e-05, 'epoch': 2.66}\n",
      "{'loss': 0.7234, 'grad_norm': 8.763052940368652, 'learning_rate': 3.8351749539594846e-05, 'epoch': 2.67}\n",
      "{'loss': 0.3846, 'grad_norm': 0.272538423538208, 'learning_rate': 3.8305709023941074e-05, 'epoch': 2.68}\n",
      "{'loss': 0.7598, 'grad_norm': 9.150017738342285, 'learning_rate': 3.8259668508287295e-05, 'epoch': 2.68}\n",
      "{'loss': 1.457, 'grad_norm': 0.2467789649963379, 'learning_rate': 3.821362799263352e-05, 'epoch': 2.69}\n",
      "{'loss': 1.7573, 'grad_norm': 8.50507640838623, 'learning_rate': 3.8167587476979745e-05, 'epoch': 2.7}\n",
      "{'loss': 0.3708, 'grad_norm': 0.3137538731098175, 'learning_rate': 3.812154696132597e-05, 'epoch': 2.71}\n",
      "{'loss': 1.3442, 'grad_norm': 0.31200212240219116, 'learning_rate': 3.8075506445672194e-05, 'epoch': 2.72}\n",
      "{'loss': 0.6956, 'grad_norm': 0.3369874656200409, 'learning_rate': 3.8029465930018415e-05, 'epoch': 2.73}\n",
      "{'loss': 0.3596, 'grad_norm': 0.31683266162872314, 'learning_rate': 3.798342541436464e-05, 'epoch': 2.74}\n",
      "{'loss': 1.3412, 'grad_norm': 8.179180145263672, 'learning_rate': 3.7937384898710864e-05, 'epoch': 2.75}\n",
      "{'loss': 1.6417, 'grad_norm': 8.03668212890625, 'learning_rate': 3.789134438305709e-05, 'epoch': 2.76}\n",
      "{'loss': 0.3493, 'grad_norm': 0.3498295247554779, 'learning_rate': 3.7845303867403314e-05, 'epoch': 2.76}\n",
      "{'loss': 0.3638, 'grad_norm': 8.278627395629883, 'learning_rate': 3.779926335174954e-05, 'epoch': 2.77}\n",
      "{'loss': 1.0127, 'grad_norm': 0.3259675204753876, 'learning_rate': 3.775322283609576e-05, 'epoch': 2.78}\n",
      "{'loss': 0.6895, 'grad_norm': 8.24522590637207, 'learning_rate': 3.770718232044199e-05, 'epoch': 2.79}\n",
      "{'loss': 0.0366, 'grad_norm': 0.29819971323013306, 'learning_rate': 3.766114180478821e-05, 'epoch': 2.8}\n",
      "{'loss': 1.7416, 'grad_norm': 8.63763427734375, 'learning_rate': 3.761510128913444e-05, 'epoch': 2.81}\n",
      "{'loss': 0.7063, 'grad_norm': 0.3097893297672272, 'learning_rate': 3.756906077348066e-05, 'epoch': 2.82}\n",
      "{'loss': 0.7, 'grad_norm': 8.440933227539062, 'learning_rate': 3.752302025782689e-05, 'epoch': 2.83}\n",
      "{'loss': 0.6894, 'grad_norm': 0.2983700931072235, 'learning_rate': 3.747697974217311e-05, 'epoch': 2.83}\n",
      "{'loss': 0.7041, 'grad_norm': 0.2935437262058258, 'learning_rate': 3.743093922651934e-05, 'epoch': 2.84}\n",
      "{'loss': 0.722, 'grad_norm': 8.7039155960083, 'learning_rate': 3.738489871086556e-05, 'epoch': 2.85}\n",
      "{'loss': 1.3909, 'grad_norm': 0.279019296169281, 'learning_rate': 3.733885819521179e-05, 'epoch': 2.86}\n",
      "{'loss': 0.3645, 'grad_norm': 0.3138357698917389, 'learning_rate': 3.729281767955801e-05, 'epoch': 2.87}\n",
      "{'loss': 1.0275, 'grad_norm': 0.3320509195327759, 'learning_rate': 3.724677716390424e-05, 'epoch': 2.88}\n",
      "{'loss': 0.3645, 'grad_norm': 0.31575337052345276, 'learning_rate': 3.720073664825046e-05, 'epoch': 2.89}\n",
      "{'loss': 0.381, 'grad_norm': 0.2792518138885498, 'learning_rate': 3.7154696132596687e-05, 'epoch': 2.9}\n",
      "{'loss': 0.7349, 'grad_norm': 0.2654348909854889, 'learning_rate': 3.710865561694291e-05, 'epoch': 2.9}\n",
      "{'loss': 0.0291, 'grad_norm': 0.2495931088924408, 'learning_rate': 3.7062615101289136e-05, 'epoch': 2.91}\n",
      "{'loss': 0.3967, 'grad_norm': 0.24124355614185333, 'learning_rate': 3.7016574585635364e-05, 'epoch': 2.92}\n",
      "{'loss': 1.5169, 'grad_norm': 0.2218313217163086, 'learning_rate': 3.6970534069981585e-05, 'epoch': 2.93}\n",
      "{'loss': 1.488, 'grad_norm': 0.2518487572669983, 'learning_rate': 3.692449355432781e-05, 'epoch': 2.94}\n",
      "{'loss': 0.7333, 'grad_norm': 8.847285270690918, 'learning_rate': 3.6878453038674034e-05, 'epoch': 2.95}\n",
      "{'loss': 1.0782, 'grad_norm': 0.2647142708301544, 'learning_rate': 3.683241252302026e-05, 'epoch': 2.96}\n",
      "{'loss': 1.0789, 'grad_norm': 0.30995577573776245, 'learning_rate': 3.6786372007366484e-05, 'epoch': 2.97}\n",
      "{'loss': 0.3733, 'grad_norm': 0.2775425910949707, 'learning_rate': 3.674033149171271e-05, 'epoch': 2.98}\n",
      "{'loss': 1.0602, 'grad_norm': 0.30591949820518494, 'learning_rate': 3.669429097605893e-05, 'epoch': 2.98}\n",
      "{'loss': 1.7229, 'grad_norm': 8.442858695983887, 'learning_rate': 3.664825046040516e-05, 'epoch': 2.99}\n"
     ]
    },
    {
     "data": {
      "application/vnd.jupyter.widget-view+json": {
       "model_id": "8cdf246c666d441a92eb89e303d603b7",
       "version_major": 2,
       "version_minor": 0
      },
      "text/plain": [
       "  0%|          | 0/284 [00:00<?, ?it/s]"
      ]
     },
     "metadata": {},
     "output_type": "display_data"
    },
    {
     "name": "stdout",
     "output_type": "stream",
     "text": [
      "{'eval_loss': 0.9008967280387878, 'eval_accuracy': 0.7394366197183099, 'eval_macro_f1': 0.4251012145748988, 'eval_weighted_f1': 0.6286708102868221, 'eval_runtime': 5.8922, 'eval_samples_per_second': 48.199, 'eval_steps_per_second': 48.199, 'epoch': 3.0}\n",
      "{'loss': 1.0259, 'grad_norm': 8.350610733032227, 'learning_rate': 3.660220994475138e-05, 'epoch': 3.0}\n",
      "{'loss': 0.3694, 'grad_norm': 0.3667164146900177, 'learning_rate': 3.655616942909761e-05, 'epoch': 3.01}\n",
      "{'loss': 1.6224, 'grad_norm': 0.3563547432422638, 'learning_rate': 3.651012891344383e-05, 'epoch': 3.02}\n",
      "{'loss': 0.9825, 'grad_norm': 0.3751315772533417, 'learning_rate': 3.646408839779006e-05, 'epoch': 3.03}\n",
      "{'loss': 0.3499, 'grad_norm': 0.3901837170124054, 'learning_rate': 3.641804788213628e-05, 'epoch': 3.04}\n",
      "{'loss': 0.649, 'grad_norm': 0.36301204562187195, 'learning_rate': 3.637200736648251e-05, 'epoch': 3.05}\n",
      "{'loss': 1.6138, 'grad_norm': 8.098576545715332, 'learning_rate': 3.632596685082873e-05, 'epoch': 3.05}\n",
      "{'loss': 0.9805, 'grad_norm': 0.37813881039619446, 'learning_rate': 3.627992633517496e-05, 'epoch': 3.06}\n",
      "{'loss': 0.6548, 'grad_norm': 0.3799171447753906, 'learning_rate': 3.623388581952118e-05, 'epoch': 3.07}\n",
      "{'loss': 0.6517, 'grad_norm': 7.789348125457764, 'learning_rate': 3.618784530386741e-05, 'epoch': 3.08}\n",
      "{'loss': 0.3601, 'grad_norm': 0.35816583037376404, 'learning_rate': 3.614180478821363e-05, 'epoch': 3.09}\n",
      "{'loss': 0.0386, 'grad_norm': 0.33082425594329834, 'learning_rate': 3.609576427255986e-05, 'epoch': 3.1}\n",
      "{'loss': 0.3705, 'grad_norm': 0.27585411071777344, 'learning_rate': 3.604972375690608e-05, 'epoch': 3.11}\n",
      "{'loss': 0.3753, 'grad_norm': 0.2687583863735199, 'learning_rate': 3.6003683241252306e-05, 'epoch': 3.12}\n",
      "{'loss': 1.1016, 'grad_norm': 0.2613908648490906, 'learning_rate': 3.595764272559853e-05, 'epoch': 3.12}\n",
      "{'loss': 0.3825, 'grad_norm': 0.2604919373989105, 'learning_rate': 3.5911602209944755e-05, 'epoch': 3.13}\n",
      "{'loss': 1.8166, 'grad_norm': 8.944991111755371, 'learning_rate': 3.5865561694290976e-05, 'epoch': 3.14}\n",
      "{'loss': 1.4049, 'grad_norm': 8.581625938415527, 'learning_rate': 3.58195211786372e-05, 'epoch': 3.15}\n",
      "{'loss': 0.7186, 'grad_norm': 0.2987390160560608, 'learning_rate': 3.5773480662983426e-05, 'epoch': 3.16}\n",
      "{'loss': 0.6998, 'grad_norm': 0.33157461881637573, 'learning_rate': 3.572744014732965e-05, 'epoch': 3.17}\n",
      "{'loss': 0.6907, 'grad_norm': 0.3276267647743225, 'learning_rate': 3.5681399631675875e-05, 'epoch': 3.18}\n",
      "{'loss': 1.3551, 'grad_norm': 0.32135891914367676, 'learning_rate': 3.5635359116022096e-05, 'epoch': 3.19}\n",
      "{'loss': 1.006, 'grad_norm': 0.33116206526756287, 'learning_rate': 3.5589318600368324e-05, 'epoch': 3.2}\n",
      "{'loss': 1.9048, 'grad_norm': 7.835277557373047, 'learning_rate': 3.5543278084714546e-05, 'epoch': 3.2}\n",
      "{'loss': 0.3579, 'grad_norm': 0.38695791363716125, 'learning_rate': 3.5497237569060774e-05, 'epoch': 3.21}\n",
      "{'loss': 0.047, 'grad_norm': 0.334594190120697, 'learning_rate': 3.5451197053406995e-05, 'epoch': 3.22}\n",
      "{'loss': 1.024, 'grad_norm': 8.481983184814453, 'learning_rate': 3.540515653775322e-05, 'epoch': 3.23}\n",
      "{'loss': 0.6965, 'grad_norm': 0.3289380669593811, 'learning_rate': 3.535911602209945e-05, 'epoch': 3.24}\n",
      "{'loss': 0.3689, 'grad_norm': 0.30712294578552246, 'learning_rate': 3.531307550644567e-05, 'epoch': 3.25}\n",
      "{'loss': 0.3744, 'grad_norm': 8.608960151672363, 'learning_rate': 3.52670349907919e-05, 'epoch': 3.26}\n",
      "{'loss': 1.4043, 'grad_norm': 0.2973962724208832, 'learning_rate': 3.522099447513813e-05, 'epoch': 3.27}\n",
      "{'loss': 0.0327, 'grad_norm': 0.2817141115665436, 'learning_rate': 3.517495395948435e-05, 'epoch': 3.27}\n",
      "{'loss': 0.7238, 'grad_norm': 0.26839664578437805, 'learning_rate': 3.512891344383058e-05, 'epoch': 3.28}\n",
      "{'loss': 1.421, 'grad_norm': 8.595582962036133, 'learning_rate': 3.50828729281768e-05, 'epoch': 3.29}\n",
      "{'loss': 1.0633, 'grad_norm': 8.57565689086914, 'learning_rate': 3.503683241252303e-05, 'epoch': 3.3}\n",
      "{'loss': 0.7253, 'grad_norm': 0.30559489130973816, 'learning_rate': 3.499079189686925e-05, 'epoch': 3.31}\n",
      "{'loss': 0.7002, 'grad_norm': 0.28424087166786194, 'learning_rate': 3.4944751381215476e-05, 'epoch': 3.32}\n",
      "{'loss': 1.0398, 'grad_norm': 8.555720329284668, 'learning_rate': 3.48987108655617e-05, 'epoch': 3.33}\n",
      "{'loss': 1.0435, 'grad_norm': 0.2924954891204834, 'learning_rate': 3.4852670349907925e-05, 'epoch': 3.34}\n",
      "{'loss': 0.6971, 'grad_norm': 0.30849480628967285, 'learning_rate': 3.4806629834254147e-05, 'epoch': 3.35}\n",
      "{'loss': 0.6958, 'grad_norm': 0.3166140615940094, 'learning_rate': 3.476058931860037e-05, 'epoch': 3.35}\n",
      "{'loss': 1.014, 'grad_norm': 8.306148529052734, 'learning_rate': 3.4714548802946596e-05, 'epoch': 3.36}\n",
      "{'loss': 1.6633, 'grad_norm': 0.33433887362480164, 'learning_rate': 3.466850828729282e-05, 'epoch': 3.37}\n",
      "{'loss': 1.2928, 'grad_norm': 0.3723713755607605, 'learning_rate': 3.4622467771639045e-05, 'epoch': 3.38}\n",
      "{'loss': 0.9722, 'grad_norm': 0.37485942244529724, 'learning_rate': 3.4576427255985266e-05, 'epoch': 3.39}\n",
      "{'loss': 1.5571, 'grad_norm': 7.90241003036499, 'learning_rate': 3.4530386740331494e-05, 'epoch': 3.4}\n",
      "{'loss': 0.9144, 'grad_norm': 0.4353809356689453, 'learning_rate': 3.4484346224677716e-05, 'epoch': 3.41}\n",
      "{'loss': 0.3397, 'grad_norm': 7.460798740386963, 'learning_rate': 3.4438305709023944e-05, 'epoch': 3.42}\n",
      "{'loss': 1.2118, 'grad_norm': 0.4181452989578247, 'learning_rate': 3.4392265193370165e-05, 'epoch': 3.42}\n",
      "{'loss': 0.9226, 'grad_norm': 0.41224920749664307, 'learning_rate': 3.434622467771639e-05, 'epoch': 3.43}\n",
      "{'loss': 0.918, 'grad_norm': 0.4537625312805176, 'learning_rate': 3.4300184162062614e-05, 'epoch': 3.44}\n",
      "{'loss': 0.6358, 'grad_norm': 7.7977142333984375, 'learning_rate': 3.425414364640884e-05, 'epoch': 3.45}\n",
      "{'loss': 0.3435, 'grad_norm': 0.39643558859825134, 'learning_rate': 3.4208103130755063e-05, 'epoch': 3.46}\n",
      "{'loss': 0.3494, 'grad_norm': 0.3636725842952728, 'learning_rate': 3.416206261510129e-05, 'epoch': 3.47}\n",
      "{'loss': 0.3654, 'grad_norm': 0.3148951530456543, 'learning_rate': 3.411602209944751e-05, 'epoch': 3.48}\n",
      "{'loss': 1.352, 'grad_norm': 8.40837574005127, 'learning_rate': 3.406998158379374e-05, 'epoch': 3.49}\n",
      "{'loss': 1.0032, 'grad_norm': 0.3429814577102661, 'learning_rate': 3.402394106813996e-05, 'epoch': 3.49}\n",
      "{'loss': 0.3629, 'grad_norm': 0.322404682636261, 'learning_rate': 3.397790055248619e-05, 'epoch': 3.5}\n",
      "{'loss': 0.6783, 'grad_norm': 0.3145218789577484, 'learning_rate': 3.393186003683241e-05, 'epoch': 3.51}\n",
      "{'loss': 1.0371, 'grad_norm': 8.61253833770752, 'learning_rate': 3.388581952117864e-05, 'epoch': 3.52}\n",
      "{'loss': 1.0243, 'grad_norm': 8.349268913269043, 'learning_rate': 3.383977900552486e-05, 'epoch': 3.53}\n",
      "{'loss': 0.6842, 'grad_norm': 0.3258610665798187, 'learning_rate': 3.379373848987109e-05, 'epoch': 3.54}\n",
      "{'loss': 1.6648, 'grad_norm': 0.33811062574386597, 'learning_rate': 3.374769797421731e-05, 'epoch': 3.55}\n",
      "{'loss': 0.0406, 'grad_norm': 0.3549448847770691, 'learning_rate': 3.370165745856354e-05, 'epoch': 3.56}\n",
      "{'loss': 1.0012, 'grad_norm': 0.34081846475601196, 'learning_rate': 3.365561694290976e-05, 'epoch': 3.57}\n",
      "{'loss': 1.0026, 'grad_norm': 0.34749433398246765, 'learning_rate': 3.360957642725599e-05, 'epoch': 3.57}\n",
      "{'loss': 1.3236, 'grad_norm': 8.177055358886719, 'learning_rate': 3.3563535911602215e-05, 'epoch': 3.58}\n",
      "{'loss': 0.6779, 'grad_norm': 0.36591166257858276, 'learning_rate': 3.3517495395948436e-05, 'epoch': 3.59}\n",
      "{'loss': 0.9804, 'grad_norm': 8.112068176269531, 'learning_rate': 3.3471454880294664e-05, 'epoch': 3.6}\n",
      "{'loss': 0.6636, 'grad_norm': 0.35639598965644836, 'learning_rate': 3.3425414364640886e-05, 'epoch': 3.61}\n",
      "{'loss': 1.3102, 'grad_norm': 8.296197891235352, 'learning_rate': 3.3379373848987114e-05, 'epoch': 3.62}\n",
      "{'loss': 0.351, 'grad_norm': 0.342593252658844, 'learning_rate': 3.3333333333333335e-05, 'epoch': 3.63}\n",
      "{'loss': 0.9857, 'grad_norm': 0.35128313302993774, 'learning_rate': 3.328729281767956e-05, 'epoch': 3.64}\n",
      "{'loss': 0.6719, 'grad_norm': 0.3407348394393921, 'learning_rate': 3.3241252302025784e-05, 'epoch': 3.64}\n",
      "{'loss': 0.9679, 'grad_norm': 7.905592441558838, 'learning_rate': 3.319521178637201e-05, 'epoch': 3.65}\n",
      "{'loss': 0.9856, 'grad_norm': 8.188101768493652, 'learning_rate': 3.3149171270718233e-05, 'epoch': 3.66}\n",
      "{'loss': 0.9854, 'grad_norm': 0.3692917823791504, 'learning_rate': 3.310313075506446e-05, 'epoch': 3.67}\n",
      "{'loss': 0.6671, 'grad_norm': 0.39036494493484497, 'learning_rate': 3.305709023941068e-05, 'epoch': 3.68}\n",
      "{'loss': 0.6726, 'grad_norm': 0.3551574945449829, 'learning_rate': 3.301104972375691e-05, 'epoch': 3.69}\n",
      "{'loss': 0.6714, 'grad_norm': 8.196755409240723, 'learning_rate': 3.296500920810313e-05, 'epoch': 3.7}\n",
      "{'loss': 0.3532, 'grad_norm': 0.32967236638069153, 'learning_rate': 3.291896869244936e-05, 'epoch': 3.71}\n",
      "{'loss': 1.358, 'grad_norm': 0.3010040819644928, 'learning_rate': 3.287292817679558e-05, 'epoch': 3.71}\n",
      "{'loss': 0.0378, 'grad_norm': 0.3151419460773468, 'learning_rate': 3.282688766114181e-05, 'epoch': 3.72}\n",
      "{'loss': 0.0351, 'grad_norm': 0.29378989338874817, 'learning_rate': 3.278084714548803e-05, 'epoch': 3.73}\n",
      "{'loss': 1.7874, 'grad_norm': 8.680310249328613, 'learning_rate': 3.273480662983426e-05, 'epoch': 3.74}\n",
      "{'loss': 0.7221, 'grad_norm': 0.28871747851371765, 'learning_rate': 3.268876611418048e-05, 'epoch': 3.75}\n",
      "{'loss': 1.0644, 'grad_norm': 8.70348834991455, 'learning_rate': 3.264272559852671e-05, 'epoch': 3.76}\n",
      "{'loss': 0.365, 'grad_norm': 0.30416542291641235, 'learning_rate': 3.259668508287293e-05, 'epoch': 3.77}\n",
      "{'loss': 1.0551, 'grad_norm': 0.2938673198223114, 'learning_rate': 3.255064456721915e-05, 'epoch': 3.78}\n",
      "{'loss': 0.3686, 'grad_norm': 0.27160051465034485, 'learning_rate': 3.250460405156538e-05, 'epoch': 3.79}\n",
      "{'loss': 1.3826, 'grad_norm': 8.586136817932129, 'learning_rate': 3.24585635359116e-05, 'epoch': 3.79}\n",
      "{'loss': 0.7083, 'grad_norm': 8.569584846496582, 'learning_rate': 3.241252302025783e-05, 'epoch': 3.8}\n",
      "{'loss': 1.0397, 'grad_norm': 0.30892178416252136, 'learning_rate': 3.236648250460405e-05, 'epoch': 3.81}\n",
      "{'loss': 1.0243, 'grad_norm': 8.453133583068848, 'learning_rate': 3.232044198895028e-05, 'epoch': 3.82}\n",
      "{'loss': 1.0153, 'grad_norm': 0.33117401599884033, 'learning_rate': 3.22744014732965e-05, 'epoch': 3.83}\n",
      "{'loss': 1.0083, 'grad_norm': 0.3329339921474457, 'learning_rate': 3.2228360957642726e-05, 'epoch': 3.84}\n",
      "{'loss': 1.6491, 'grad_norm': 0.35353395342826843, 'learning_rate': 3.218232044198895e-05, 'epoch': 3.85}\n",
      "{'loss': 0.9623, 'grad_norm': 0.3705623745918274, 'learning_rate': 3.2136279926335176e-05, 'epoch': 3.86}\n",
      "{'loss': 0.3537, 'grad_norm': 0.37885618209838867, 'learning_rate': 3.20902394106814e-05, 'epoch': 3.86}\n",
      "{'loss': 0.35, 'grad_norm': 0.34660255908966064, 'learning_rate': 3.2044198895027625e-05, 'epoch': 3.87}\n",
      "{'loss': 1.2752, 'grad_norm': 0.3548063039779663, 'learning_rate': 3.1998158379373846e-05, 'epoch': 3.88}\n",
      "{'loss': 0.683, 'grad_norm': 0.3561343550682068, 'learning_rate': 3.1952117863720074e-05, 'epoch': 3.89}\n",
      "{'loss': 0.985, 'grad_norm': 7.950053691864014, 'learning_rate': 3.19060773480663e-05, 'epoch': 3.9}\n",
      "{'loss': 0.0414, 'grad_norm': 0.3602955639362335, 'learning_rate': 3.186003683241252e-05, 'epoch': 3.91}\n",
      "{'loss': 1.3401, 'grad_norm': 0.33539754152297974, 'learning_rate': 3.181399631675875e-05, 'epoch': 3.92}\n",
      "{'loss': 0.3648, 'grad_norm': 0.32438308000564575, 'learning_rate': 3.176795580110498e-05, 'epoch': 3.93}\n",
      "{'loss': 0.366, 'grad_norm': 0.32273492217063904, 'learning_rate': 3.17219152854512e-05, 'epoch': 3.93}\n",
      "{'loss': 1.375, 'grad_norm': 8.681937217712402, 'learning_rate': 3.167587476979743e-05, 'epoch': 3.94}\n",
      "{'loss': 0.6858, 'grad_norm': 0.2927466630935669, 'learning_rate': 3.162983425414365e-05, 'epoch': 3.95}\n",
      "{'loss': 1.0397, 'grad_norm': 8.45574951171875, 'learning_rate': 3.158379373848988e-05, 'epoch': 3.96}\n",
      "{'loss': 1.346, 'grad_norm': 0.3120809495449066, 'learning_rate': 3.15377532228361e-05, 'epoch': 3.97}\n",
      "{'loss': 0.6761, 'grad_norm': 0.3471866250038147, 'learning_rate': 3.149171270718232e-05, 'epoch': 3.98}\n",
      "{'loss': 0.6832, 'grad_norm': 0.3224480450153351, 'learning_rate': 3.144567219152855e-05, 'epoch': 3.99}\n",
      "{'loss': 1.6504, 'grad_norm': 8.233186721801758, 'learning_rate': 3.139963167587477e-05, 'epoch': 4.0}\n"
     ]
    },
    {
     "data": {
      "application/vnd.jupyter.widget-view+json": {
       "model_id": "a80aba2501fd40278e92a02ea2f240c1",
       "version_major": 2,
       "version_minor": 0
      },
      "text/plain": [
       "  0%|          | 0/284 [00:00<?, ?it/s]"
      ]
     },
     "metadata": {},
     "output_type": "display_data"
    },
    {
     "name": "stdout",
     "output_type": "stream",
     "text": [
      "{'eval_loss': 0.8876268863677979, 'eval_accuracy': 0.7394366197183099, 'eval_macro_f1': 0.4251012145748988, 'eval_weighted_f1': 0.6286708102868221, 'eval_runtime': 5.8215, 'eval_samples_per_second': 48.785, 'eval_steps_per_second': 48.785, 'epoch': 4.0}\n",
      "{'loss': 0.6872, 'grad_norm': 8.222962379455566, 'learning_rate': 3.1353591160221e-05, 'epoch': 4.01}\n",
      "{'loss': 1.2771, 'grad_norm': 0.3739375174045563, 'learning_rate': 3.130755064456722e-05, 'epoch': 4.01}\n",
      "{'loss': 0.0458, 'grad_norm': 0.3543046712875366, 'learning_rate': 3.126151012891345e-05, 'epoch': 4.02}\n",
      "{'loss': 0.9602, 'grad_norm': 0.35353800654411316, 'learning_rate': 3.121546961325967e-05, 'epoch': 4.03}\n",
      "{'loss': 1.3076, 'grad_norm': 0.3844212293624878, 'learning_rate': 3.1169429097605896e-05, 'epoch': 4.04}\n",
      "{'loss': 1.5898, 'grad_norm': 0.40515244007110596, 'learning_rate': 3.112338858195212e-05, 'epoch': 4.05}\n",
      "{'loss': 0.9511, 'grad_norm': 0.39178338646888733, 'learning_rate': 3.1077348066298346e-05, 'epoch': 4.06}\n",
      "{'loss': 1.2403, 'grad_norm': 0.43879395723342896, 'learning_rate': 3.103130755064457e-05, 'epoch': 4.07}\n",
      "{'loss': 1.4835, 'grad_norm': 0.4657992124557495, 'learning_rate': 3.0985267034990795e-05, 'epoch': 4.08}\n",
      "{'loss': 0.874, 'grad_norm': 0.5191829204559326, 'learning_rate': 3.0939226519337016e-05, 'epoch': 4.08}\n",
      "{'loss': 1.1324, 'grad_norm': 7.237459182739258, 'learning_rate': 3.0893186003683244e-05, 'epoch': 4.09}\n",
      "{'loss': 0.8765, 'grad_norm': 0.4992091655731201, 'learning_rate': 3.0847145488029465e-05, 'epoch': 4.1}\n",
      "{'loss': 0.3252, 'grad_norm': 0.4664936661720276, 'learning_rate': 3.0801104972375693e-05, 'epoch': 4.11}\n",
      "{'loss': 1.1899, 'grad_norm': 0.42916223406791687, 'learning_rate': 3.0755064456721915e-05, 'epoch': 4.12}\n",
      "{'loss': 0.9069, 'grad_norm': 0.44521957635879517, 'learning_rate': 3.070902394106814e-05, 'epoch': 4.13}\n",
      "{'loss': 1.1735, 'grad_norm': 0.4514209032058716, 'learning_rate': 3.0662983425414364e-05, 'epoch': 4.14}\n",
      "{'loss': 0.6215, 'grad_norm': 7.4887471199035645, 'learning_rate': 3.061694290976059e-05, 'epoch': 4.15}\n",
      "{'loss': 0.3411, 'grad_norm': 0.4219452440738678, 'learning_rate': 3.057090239410681e-05, 'epoch': 4.15}\n",
      "{'loss': 0.6343, 'grad_norm': 0.3915344476699829, 'learning_rate': 3.052486187845304e-05, 'epoch': 4.16}\n",
      "{'loss': 1.5262, 'grad_norm': 0.39448460936546326, 'learning_rate': 3.0478821362799266e-05, 'epoch': 4.17}\n",
      "{'loss': 1.2103, 'grad_norm': 7.572838306427002, 'learning_rate': 3.0432780847145487e-05, 'epoch': 4.18}\n",
      "{'loss': 0.0535, 'grad_norm': 0.4032300114631653, 'learning_rate': 3.0386740331491715e-05, 'epoch': 4.19}\n",
      "{'loss': 0.6537, 'grad_norm': 0.382601261138916, 'learning_rate': 3.0340699815837936e-05, 'epoch': 4.2}\n",
      "{'loss': 1.2528, 'grad_norm': 0.3805331587791443, 'learning_rate': 3.0294659300184164e-05, 'epoch': 4.21}\n",
      "{'loss': 0.3532, 'grad_norm': 7.907885551452637, 'learning_rate': 3.0248618784530386e-05, 'epoch': 4.22}\n",
      "{'loss': 0.662, 'grad_norm': 0.3535989820957184, 'learning_rate': 3.0202578268876614e-05, 'epoch': 4.23}\n",
      "{'loss': 1.2939, 'grad_norm': 0.3452468812465668, 'learning_rate': 3.0156537753222835e-05, 'epoch': 4.23}\n",
      "{'loss': 0.9707, 'grad_norm': 0.36949777603149414, 'learning_rate': 3.0110497237569063e-05, 'epoch': 4.24}\n",
      "{'loss': 0.9691, 'grad_norm': 0.3940390646457672, 'learning_rate': 3.0064456721915284e-05, 'epoch': 4.25}\n",
      "{'loss': 0.3482, 'grad_norm': 0.3759767711162567, 'learning_rate': 3.0018416206261512e-05, 'epoch': 4.26}\n",
      "{'loss': 0.6614, 'grad_norm': 0.35182300209999084, 'learning_rate': 2.9972375690607734e-05, 'epoch': 4.27}\n",
      "{'loss': 0.3652, 'grad_norm': 8.314087867736816, 'learning_rate': 2.992633517495396e-05, 'epoch': 4.28}\n",
      "{'loss': 0.689, 'grad_norm': 8.288151741027832, 'learning_rate': 2.9880294659300183e-05, 'epoch': 4.29}\n",
      "{'loss': 0.3726, 'grad_norm': 0.3038804531097412, 'learning_rate': 2.983425414364641e-05, 'epoch': 4.3}\n",
      "{'loss': 1.0393, 'grad_norm': 0.3115806579589844, 'learning_rate': 2.9788213627992635e-05, 'epoch': 4.3}\n",
      "{'loss': 0.7199, 'grad_norm': 0.3154602646827698, 'learning_rate': 2.974217311233886e-05, 'epoch': 4.31}\n",
      "{'loss': 0.7083, 'grad_norm': 0.28853848576545715, 'learning_rate': 2.9696132596685085e-05, 'epoch': 4.32}\n",
      "{'loss': 0.3742, 'grad_norm': 0.280130535364151, 'learning_rate': 2.965009208103131e-05, 'epoch': 4.33}\n",
      "{'loss': 1.0687, 'grad_norm': 0.2795027494430542, 'learning_rate': 2.9604051565377534e-05, 'epoch': 4.34}\n",
      "{'loss': 0.7249, 'grad_norm': 0.3092205822467804, 'learning_rate': 2.9558011049723762e-05, 'epoch': 4.35}\n",
      "{'loss': 1.3986, 'grad_norm': 0.30862662196159363, 'learning_rate': 2.9511970534069983e-05, 'epoch': 4.36}\n",
      "{'loss': 1.0388, 'grad_norm': 0.31348568201065063, 'learning_rate': 2.946593001841621e-05, 'epoch': 4.37}\n",
      "{'loss': 1.3446, 'grad_norm': 8.391524314880371, 'learning_rate': 2.9419889502762433e-05, 'epoch': 4.38}\n",
      "{'loss': 1.0091, 'grad_norm': 0.3133629560470581, 'learning_rate': 2.937384898710866e-05, 'epoch': 4.38}\n",
      "{'loss': 0.6847, 'grad_norm': 8.352773666381836, 'learning_rate': 2.9327808471454882e-05, 'epoch': 4.39}\n",
      "{'loss': 0.0404, 'grad_norm': 0.33757534623146057, 'learning_rate': 2.9281767955801103e-05, 'epoch': 4.4}\n",
      "{'loss': 0.3642, 'grad_norm': 0.303501158952713, 'learning_rate': 2.923572744014733e-05, 'epoch': 4.41}\n",
      "{'loss': 1.0413, 'grad_norm': 0.2700495719909668, 'learning_rate': 2.9189686924493552e-05, 'epoch': 4.42}\n",
      "{'loss': 1.3925, 'grad_norm': 8.559311866760254, 'learning_rate': 2.914364640883978e-05, 'epoch': 4.43}\n",
      "{'loss': 0.3636, 'grad_norm': 0.2749185562133789, 'learning_rate': 2.9097605893186e-05, 'epoch': 4.44}\n",
      "{'loss': 0.363, 'grad_norm': 0.30312371253967285, 'learning_rate': 2.905156537753223e-05, 'epoch': 4.45}\n",
      "{'loss': 1.0474, 'grad_norm': 0.27767160534858704, 'learning_rate': 2.900552486187845e-05, 'epoch': 4.45}\n",
      "{'loss': 1.3892, 'grad_norm': 8.534211158752441, 'learning_rate': 2.895948434622468e-05, 'epoch': 4.46}\n",
      "{'loss': 0.7071, 'grad_norm': 0.33204296231269836, 'learning_rate': 2.8913443830570904e-05, 'epoch': 4.47}\n",
      "{'loss': 1.3429, 'grad_norm': 0.32012149691581726, 'learning_rate': 2.8867403314917128e-05, 'epoch': 4.48}\n",
      "{'loss': 1.0173, 'grad_norm': 8.365388870239258, 'learning_rate': 2.8821362799263353e-05, 'epoch': 4.49}\n",
      "{'loss': 0.3564, 'grad_norm': 0.3273473381996155, 'learning_rate': 2.877532228360958e-05, 'epoch': 4.5}\n",
      "{'loss': 0.3638, 'grad_norm': 0.3164014220237732, 'learning_rate': 2.8729281767955802e-05, 'epoch': 4.51}\n",
      "{'loss': 0.3712, 'grad_norm': 0.3145419955253601, 'learning_rate': 2.868324125230203e-05, 'epoch': 4.52}\n",
      "{'loss': 0.7169, 'grad_norm': 0.31509020924568176, 'learning_rate': 2.863720073664825e-05, 'epoch': 4.52}\n",
      "{'loss': 1.3854, 'grad_norm': 0.28814372420310974, 'learning_rate': 2.859116022099448e-05, 'epoch': 4.53}\n",
      "{'loss': 1.3814, 'grad_norm': 8.548306465148926, 'learning_rate': 2.85451197053407e-05, 'epoch': 4.54}\n",
      "{'loss': 0.6949, 'grad_norm': 8.329602241516113, 'learning_rate': 2.849907918968693e-05, 'epoch': 4.55}\n",
      "{'loss': 1.3465, 'grad_norm': 8.446208000183105, 'learning_rate': 2.845303867403315e-05, 'epoch': 4.56}\n",
      "{'loss': 0.3582, 'grad_norm': 0.3381759822368622, 'learning_rate': 2.8406998158379378e-05, 'epoch': 4.57}\n",
      "{'loss': 0.684, 'grad_norm': 0.31241410970687866, 'learning_rate': 2.83609576427256e-05, 'epoch': 4.58}\n",
      "{'loss': 1.0257, 'grad_norm': 0.30816999077796936, 'learning_rate': 2.8314917127071827e-05, 'epoch': 4.59}\n",
      "{'loss': 1.0131, 'grad_norm': 8.44127368927002, 'learning_rate': 2.826887661141805e-05, 'epoch': 4.6}\n",
      "{'loss': 0.6776, 'grad_norm': 0.3211776316165924, 'learning_rate': 2.822283609576427e-05, 'epoch': 4.6}\n",
      "{'loss': 0.6889, 'grad_norm': 0.29841378331184387, 'learning_rate': 2.8176795580110498e-05, 'epoch': 4.61}\n",
      "{'loss': 0.3669, 'grad_norm': 0.3327396512031555, 'learning_rate': 2.8130755064456722e-05, 'epoch': 4.62}\n",
      "{'loss': 0.3668, 'grad_norm': 0.31926625967025757, 'learning_rate': 2.8084714548802947e-05, 'epoch': 4.63}\n",
      "{'loss': 0.7177, 'grad_norm': 0.29926931858062744, 'learning_rate': 2.8038674033149172e-05, 'epoch': 4.64}\n",
      "{'loss': 0.7122, 'grad_norm': 0.263851135969162, 'learning_rate': 2.7992633517495396e-05, 'epoch': 4.65}\n",
      "{'loss': 0.3795, 'grad_norm': 0.2842649519443512, 'learning_rate': 2.794659300184162e-05, 'epoch': 4.66}\n",
      "{'loss': 1.7884, 'grad_norm': 0.2861843407154083, 'learning_rate': 2.790055248618785e-05, 'epoch': 4.67}\n",
      "{'loss': 1.3922, 'grad_norm': 0.3012567460536957, 'learning_rate': 2.785451197053407e-05, 'epoch': 4.67}\n",
      "{'loss': 1.0392, 'grad_norm': 0.3281725347042084, 'learning_rate': 2.7808471454880298e-05, 'epoch': 4.68}\n",
      "{'loss': 0.6878, 'grad_norm': 0.3360845744609833, 'learning_rate': 2.776243093922652e-05, 'epoch': 4.69}\n",
      "{'loss': 0.0387, 'grad_norm': 0.3209989070892334, 'learning_rate': 2.7716390423572748e-05, 'epoch': 4.7}\n",
      "{'loss': 0.704, 'grad_norm': 0.2822830379009247, 'learning_rate': 2.767034990791897e-05, 'epoch': 4.71}\n",
      "{'loss': 1.0499, 'grad_norm': 0.2774167060852051, 'learning_rate': 2.7624309392265197e-05, 'epoch': 4.72}\n",
      "{'loss': 1.0614, 'grad_norm': 0.2829011082649231, 'learning_rate': 2.7578268876611418e-05, 'epoch': 4.73}\n",
      "{'loss': 0.3704, 'grad_norm': 0.3032344579696655, 'learning_rate': 2.7532228360957646e-05, 'epoch': 4.74}\n",
      "{'loss': 1.3713, 'grad_norm': 0.2864009737968445, 'learning_rate': 2.7486187845303867e-05, 'epoch': 4.74}\n",
      "{'loss': 0.3616, 'grad_norm': 8.367582321166992, 'learning_rate': 2.7440147329650095e-05, 'epoch': 4.75}\n",
      "{'loss': 0.3783, 'grad_norm': 0.29646173119544983, 'learning_rate': 2.7394106813996317e-05, 'epoch': 4.76}\n",
      "{'loss': 1.0685, 'grad_norm': 0.26731088757514954, 'learning_rate': 2.7348066298342545e-05, 'epoch': 4.77}\n",
      "{'loss': 1.0567, 'grad_norm': 8.553468704223633, 'learning_rate': 2.7302025782688766e-05, 'epoch': 4.78}\n",
      "{'loss': 0.0315, 'grad_norm': 0.287632018327713, 'learning_rate': 2.7255985267034994e-05, 'epoch': 4.79}\n",
      "{'loss': 1.4145, 'grad_norm': 8.685942649841309, 'learning_rate': 2.7209944751381215e-05, 'epoch': 4.8}\n",
      "{'loss': 0.364, 'grad_norm': 0.2760179340839386, 'learning_rate': 2.716390423572744e-05, 'epoch': 4.81}\n",
      "{'loss': 0.0314, 'grad_norm': 0.2901729345321655, 'learning_rate': 2.7117863720073668e-05, 'epoch': 4.82}\n",
      "{'loss': 1.4457, 'grad_norm': 0.28844231367111206, 'learning_rate': 2.707182320441989e-05, 'epoch': 4.82}\n",
      "{'loss': 0.3763, 'grad_norm': 0.2607797682285309, 'learning_rate': 2.7025782688766117e-05, 'epoch': 4.83}\n",
      "{'loss': 1.7647, 'grad_norm': 8.774978637695312, 'learning_rate': 2.697974217311234e-05, 'epoch': 4.84}\n",
      "{'loss': 1.7411, 'grad_norm': 8.589978218078613, 'learning_rate': 2.6933701657458566e-05, 'epoch': 4.85}\n",
      "{'loss': 1.3508, 'grad_norm': 8.234777450561523, 'learning_rate': 2.6887661141804788e-05, 'epoch': 4.86}\n",
      "{'loss': 0.9894, 'grad_norm': 8.039907455444336, 'learning_rate': 2.6841620626151016e-05, 'epoch': 4.87}\n",
      "{'loss': 1.2872, 'grad_norm': 0.3664688169956207, 'learning_rate': 2.6795580110497237e-05, 'epoch': 4.88}\n",
      "{'loss': 0.969, 'grad_norm': 0.39695221185684204, 'learning_rate': 2.6749539594843465e-05, 'epoch': 4.89}\n",
      "{'loss': 0.6555, 'grad_norm': 7.779171943664551, 'learning_rate': 2.6703499079189686e-05, 'epoch': 4.89}\n",
      "{'loss': 1.2524, 'grad_norm': 0.3902803063392639, 'learning_rate': 2.6657458563535914e-05, 'epoch': 4.9}\n",
      "{'loss': 0.0482, 'grad_norm': 0.3769673705101013, 'learning_rate': 2.6611418047882135e-05, 'epoch': 4.91}\n",
      "{'loss': 0.6674, 'grad_norm': 0.35395723581314087, 'learning_rate': 2.6565377532228364e-05, 'epoch': 4.92}\n",
      "{'loss': 0.6911, 'grad_norm': 8.251873970031738, 'learning_rate': 2.6519337016574585e-05, 'epoch': 4.93}\n",
      "{'loss': 0.6738, 'grad_norm': 0.3357802927494049, 'learning_rate': 2.6473296500920813e-05, 'epoch': 4.94}\n",
      "{'loss': 1.0141, 'grad_norm': 8.318321228027344, 'learning_rate': 2.6427255985267034e-05, 'epoch': 4.95}\n",
      "{'loss': 0.3669, 'grad_norm': 0.341691792011261, 'learning_rate': 2.6381215469613262e-05, 'epoch': 4.96}\n",
      "{'loss': 1.0154, 'grad_norm': 0.3354300260543823, 'learning_rate': 2.6335174953959483e-05, 'epoch': 4.96}\n",
      "{'loss': 1.0071, 'grad_norm': 0.32005852460861206, 'learning_rate': 2.628913443830571e-05, 'epoch': 4.97}\n",
      "{'loss': 1.0198, 'grad_norm': 0.32245078682899475, 'learning_rate': 2.6243093922651936e-05, 'epoch': 4.98}\n",
      "{'loss': 0.6896, 'grad_norm': 0.31391632556915283, 'learning_rate': 2.619705340699816e-05, 'epoch': 4.99}\n",
      "{'loss': 1.32, 'grad_norm': 8.252068519592285, 'learning_rate': 2.6151012891344385e-05, 'epoch': 5.0}\n"
     ]
    },
    {
     "data": {
      "application/vnd.jupyter.widget-view+json": {
       "model_id": "05e5c1286e4e42029325726f9c1fc993",
       "version_major": 2,
       "version_minor": 0
      },
      "text/plain": [
       "  0%|          | 0/284 [00:00<?, ?it/s]"
      ]
     },
     "metadata": {},
     "output_type": "display_data"
    },
    {
     "name": "stdout",
     "output_type": "stream",
     "text": [
      "{'eval_loss': 0.9004923701286316, 'eval_accuracy': 0.7394366197183099, 'eval_macro_f1': 0.4251012145748988, 'eval_weighted_f1': 0.6286708102868221, 'eval_runtime': 5.7452, 'eval_samples_per_second': 49.433, 'eval_steps_per_second': 49.433, 'epoch': 5.0}\n",
      "{'loss': 0.6808, 'grad_norm': 0.3326244652271271, 'learning_rate': 2.6104972375690613e-05, 'epoch': 5.01}\n",
      "{'loss': 1.3087, 'grad_norm': 7.898545742034912, 'learning_rate': 2.6058931860036835e-05, 'epoch': 5.02}\n",
      "{'loss': 0.6668, 'grad_norm': 0.345497727394104, 'learning_rate': 2.6012891344383056e-05, 'epoch': 5.03}\n",
      "{'loss': 0.9766, 'grad_norm': 0.36628851294517517, 'learning_rate': 2.5966850828729284e-05, 'epoch': 5.04}\n",
      "{'loss': 0.9816, 'grad_norm': 0.3553021252155304, 'learning_rate': 2.5920810313075505e-05, 'epoch': 5.04}\n",
      "{'loss': 0.3645, 'grad_norm': 0.34305211901664734, 'learning_rate': 2.5874769797421733e-05, 'epoch': 5.05}\n",
      "{'loss': 0.3595, 'grad_norm': 0.32130467891693115, 'learning_rate': 2.5828729281767954e-05, 'epoch': 5.06}\n",
      "{'loss': 0.3586, 'grad_norm': 0.33705028891563416, 'learning_rate': 2.5782688766114182e-05, 'epoch': 5.07}\n",
      "{'loss': 0.3653, 'grad_norm': 0.28851714730262756, 'learning_rate': 2.5736648250460404e-05, 'epoch': 5.08}\n",
      "{'loss': 0.7142, 'grad_norm': 0.2964583933353424, 'learning_rate': 2.569060773480663e-05, 'epoch': 5.09}\n",
      "{'loss': 1.3923, 'grad_norm': 0.3088124394416809, 'learning_rate': 2.5644567219152853e-05, 'epoch': 5.1}\n",
      "{'loss': 0.3759, 'grad_norm': 0.2756226062774658, 'learning_rate': 2.559852670349908e-05, 'epoch': 5.11}\n",
      "{'loss': 0.3742, 'grad_norm': 0.29997560381889343, 'learning_rate': 2.5552486187845302e-05, 'epoch': 5.11}\n",
      "{'loss': 1.0656, 'grad_norm': 0.27833348512649536, 'learning_rate': 2.550644567219153e-05, 'epoch': 5.12}\n",
      "{'loss': 1.085, 'grad_norm': 0.2743964195251465, 'learning_rate': 2.5460405156537755e-05, 'epoch': 5.13}\n",
      "{'loss': 0.3775, 'grad_norm': 0.26938867568969727, 'learning_rate': 2.541436464088398e-05, 'epoch': 5.14}\n",
      "{'loss': 1.0541, 'grad_norm': 0.26028668880462646, 'learning_rate': 2.5368324125230204e-05, 'epoch': 5.15}\n",
      "{'loss': 0.7189, 'grad_norm': 0.2755110561847687, 'learning_rate': 2.532228360957643e-05, 'epoch': 5.16}\n",
      "{'loss': 0.3745, 'grad_norm': 0.28392818570137024, 'learning_rate': 2.5276243093922653e-05, 'epoch': 5.17}\n",
      "{'loss': 0.0305, 'grad_norm': 0.2802109718322754, 'learning_rate': 2.523020257826888e-05, 'epoch': 5.18}\n",
      "{'loss': 0.7407, 'grad_norm': 0.25765442848205566, 'learning_rate': 2.5184162062615103e-05, 'epoch': 5.18}\n",
      "{'loss': 1.8324, 'grad_norm': 0.2815723121166229, 'learning_rate': 2.513812154696133e-05, 'epoch': 5.19}\n",
      "{'loss': 1.4292, 'grad_norm': 8.916082382202148, 'learning_rate': 2.5092081031307552e-05, 'epoch': 5.2}\n",
      "{'loss': 1.4146, 'grad_norm': 8.611207962036133, 'learning_rate': 2.504604051565378e-05, 'epoch': 5.21}\n",
      "{'loss': 1.0193, 'grad_norm': 0.32280653715133667, 'learning_rate': 2.5e-05, 'epoch': 5.22}\n",
      "{'loss': 1.0102, 'grad_norm': 0.31442463397979736, 'learning_rate': 2.4953959484346226e-05, 'epoch': 5.23}\n",
      "{'loss': 1.2998, 'grad_norm': 0.3522627651691437, 'learning_rate': 2.490791896869245e-05, 'epoch': 5.24}\n",
      "{'loss': 0.9703, 'grad_norm': 0.35703393816947937, 'learning_rate': 2.4861878453038675e-05, 'epoch': 5.25}\n",
      "{'loss': 0.3596, 'grad_norm': 0.34730055928230286, 'learning_rate': 2.48158379373849e-05, 'epoch': 5.26}\n",
      "{'loss': 0.672, 'grad_norm': 0.3402765393257141, 'learning_rate': 2.4769797421731124e-05, 'epoch': 5.26}\n",
      "{'loss': 0.6817, 'grad_norm': 0.35893702507019043, 'learning_rate': 2.472375690607735e-05, 'epoch': 5.27}\n",
      "{'loss': 0.3524, 'grad_norm': 0.33310890197753906, 'learning_rate': 2.4677716390423574e-05, 'epoch': 5.28}\n",
      "{'loss': 1.0102, 'grad_norm': 0.303730845451355, 'learning_rate': 2.4631675874769798e-05, 'epoch': 5.29}\n",
      "{'loss': 1.6698, 'grad_norm': 8.459968566894531, 'learning_rate': 2.4585635359116023e-05, 'epoch': 5.3}\n",
      "{'loss': 0.3596, 'grad_norm': 0.3354341983795166, 'learning_rate': 2.4539594843462248e-05, 'epoch': 5.31}\n",
      "{'loss': 0.6822, 'grad_norm': 0.3610909879207611, 'learning_rate': 2.4493554327808476e-05, 'epoch': 5.32}\n",
      "{'loss': 0.9988, 'grad_norm': 0.35167133808135986, 'learning_rate': 2.4447513812154697e-05, 'epoch': 5.33}\n",
      "{'loss': 0.6795, 'grad_norm': 8.261880874633789, 'learning_rate': 2.440147329650092e-05, 'epoch': 5.33}\n",
      "{'loss': 1.0232, 'grad_norm': 8.479552268981934, 'learning_rate': 2.4355432780847146e-05, 'epoch': 5.34}\n",
      "{'loss': 1.0166, 'grad_norm': 0.32957521080970764, 'learning_rate': 2.430939226519337e-05, 'epoch': 5.35}\n",
      "{'loss': 0.6817, 'grad_norm': 8.2843656539917, 'learning_rate': 2.4263351749539595e-05, 'epoch': 5.36}\n",
      "{'loss': 0.6829, 'grad_norm': 0.31702667474746704, 'learning_rate': 2.421731123388582e-05, 'epoch': 5.37}\n",
      "{'loss': 0.689, 'grad_norm': 8.469650268554688, 'learning_rate': 2.4171270718232045e-05, 'epoch': 5.38}\n",
      "{'loss': 0.0367, 'grad_norm': 0.2939264178276062, 'learning_rate': 2.412523020257827e-05, 'epoch': 5.39}\n",
      "{'loss': 2.0052, 'grad_norm': 8.243141174316406, 'learning_rate': 2.4079189686924494e-05, 'epoch': 5.4}\n",
      "{'loss': 1.0143, 'grad_norm': 8.243560791015625, 'learning_rate': 2.403314917127072e-05, 'epoch': 5.4}\n",
      "{'loss': 1.3166, 'grad_norm': 0.35836556553840637, 'learning_rate': 2.3987108655616943e-05, 'epoch': 5.41}\n",
      "{'loss': 0.6779, 'grad_norm': 0.3493726849555969, 'learning_rate': 2.3941068139963168e-05, 'epoch': 5.42}\n",
      "{'loss': 0.364, 'grad_norm': 0.33348575234413147, 'learning_rate': 2.3895027624309393e-05, 'epoch': 5.43}\n",
      "{'loss': 0.3663, 'grad_norm': 0.31108754873275757, 'learning_rate': 2.3848987108655617e-05, 'epoch': 5.44}\n",
      "{'loss': 1.638, 'grad_norm': 8.17488956451416, 'learning_rate': 2.3802946593001842e-05, 'epoch': 5.45}\n",
      "{'loss': 1.009, 'grad_norm': 0.3693545162677765, 'learning_rate': 2.3756906077348066e-05, 'epoch': 5.46}\n",
      "{'loss': 1.283, 'grad_norm': 7.980587005615234, 'learning_rate': 2.371086556169429e-05, 'epoch': 5.47}\n",
      "{'loss': 0.363, 'grad_norm': 0.3487153947353363, 'learning_rate': 2.366482504604052e-05, 'epoch': 5.48}\n",
      "{'loss': 0.3542, 'grad_norm': 0.34068092703819275, 'learning_rate': 2.3618784530386744e-05, 'epoch': 5.48}\n",
      "{'loss': 0.6725, 'grad_norm': 0.3179156184196472, 'learning_rate': 2.357274401473297e-05, 'epoch': 5.49}\n",
      "{'loss': 0.367, 'grad_norm': 0.3232819139957428, 'learning_rate': 2.3526703499079193e-05, 'epoch': 5.5}\n",
      "{'loss': 0.3716, 'grad_norm': 0.3005037009716034, 'learning_rate': 2.3480662983425418e-05, 'epoch': 5.51}\n",
      "{'loss': 1.0475, 'grad_norm': 0.281293660402298, 'learning_rate': 2.3434622467771642e-05, 'epoch': 5.52}\n",
      "{'loss': 0.698, 'grad_norm': 0.2884247601032257, 'learning_rate': 2.3388581952117867e-05, 'epoch': 5.53}\n",
      "{'loss': 1.0617, 'grad_norm': 8.634573936462402, 'learning_rate': 2.3342541436464088e-05, 'epoch': 5.54}\n",
      "{'loss': 0.72, 'grad_norm': 0.31708088517189026, 'learning_rate': 2.3296500920810313e-05, 'epoch': 5.55}\n",
      "{'loss': 1.0385, 'grad_norm': 0.305463969707489, 'learning_rate': 2.3250460405156537e-05, 'epoch': 5.55}\n",
      "{'loss': 0.3658, 'grad_norm': 0.31333786249160767, 'learning_rate': 2.3204419889502762e-05, 'epoch': 5.56}\n",
      "{'loss': 0.7078, 'grad_norm': 0.27608463168144226, 'learning_rate': 2.3158379373848987e-05, 'epoch': 5.57}\n",
      "{'loss': 1.3836, 'grad_norm': 0.3064131736755371, 'learning_rate': 2.311233885819521e-05, 'epoch': 5.58}\n",
      "{'loss': 0.7052, 'grad_norm': 0.29400524497032166, 'learning_rate': 2.3066298342541436e-05, 'epoch': 5.59}\n",
      "{'loss': 0.3745, 'grad_norm': 0.3074040114879608, 'learning_rate': 2.302025782688766e-05, 'epoch': 5.6}\n",
      "{'loss': 0.7186, 'grad_norm': 0.293383926153183, 'learning_rate': 2.2974217311233885e-05, 'epoch': 5.61}\n",
      "{'loss': 0.7172, 'grad_norm': 0.28821998834609985, 'learning_rate': 2.292817679558011e-05, 'epoch': 5.62}\n",
      "{'loss': 1.0483, 'grad_norm': 0.28809553384780884, 'learning_rate': 2.2882136279926335e-05, 'epoch': 5.62}\n",
      "{'loss': 1.3959, 'grad_norm': 0.29596617817878723, 'learning_rate': 2.2836095764272563e-05, 'epoch': 5.63}\n",
      "{'loss': 1.6954, 'grad_norm': 8.420317649841309, 'learning_rate': 2.2790055248618787e-05, 'epoch': 5.64}\n",
      "{'loss': 0.6918, 'grad_norm': 0.33350956439971924, 'learning_rate': 2.2744014732965012e-05, 'epoch': 5.65}\n",
      "{'loss': 0.3631, 'grad_norm': 0.3380106985569, 'learning_rate': 2.2697974217311236e-05, 'epoch': 5.66}\n",
      "{'loss': 1.3422, 'grad_norm': 0.32875490188598633, 'learning_rate': 2.265193370165746e-05, 'epoch': 5.67}\n",
      "{'loss': 1.0019, 'grad_norm': 0.33145880699157715, 'learning_rate': 2.2605893186003686e-05, 'epoch': 5.68}\n",
      "{'loss': 0.6609, 'grad_norm': 0.3520999252796173, 'learning_rate': 2.255985267034991e-05, 'epoch': 5.69}\n",
      "{'loss': 0.6869, 'grad_norm': 8.373137474060059, 'learning_rate': 2.2513812154696135e-05, 'epoch': 5.7}\n",
      "{'loss': 0.684, 'grad_norm': 0.32306745648384094, 'learning_rate': 2.246777163904236e-05, 'epoch': 5.7}\n",
      "{'loss': 1.0085, 'grad_norm': 0.3106071949005127, 'learning_rate': 2.2421731123388584e-05, 'epoch': 5.71}\n",
      "{'loss': 1.0036, 'grad_norm': 8.324106216430664, 'learning_rate': 2.237569060773481e-05, 'epoch': 5.72}\n",
      "{'loss': 1.0103, 'grad_norm': 8.280987739562988, 'learning_rate': 2.2329650092081034e-05, 'epoch': 5.73}\n",
      "{'loss': 2.2674, 'grad_norm': 8.029298782348633, 'learning_rate': 2.2283609576427258e-05, 'epoch': 5.74}\n",
      "{'loss': 0.3522, 'grad_norm': 0.3901222050189972, 'learning_rate': 2.223756906077348e-05, 'epoch': 5.75}\n",
      "{'loss': 0.961, 'grad_norm': 0.3615662455558777, 'learning_rate': 2.2191528545119704e-05, 'epoch': 5.76}\n",
      "{'loss': 1.2469, 'grad_norm': 0.41621729731559753, 'learning_rate': 2.214548802946593e-05, 'epoch': 5.77}\n",
      "{'loss': 1.5239, 'grad_norm': 7.745211601257324, 'learning_rate': 2.2099447513812153e-05, 'epoch': 5.77}\n",
      "{'loss': 0.6329, 'grad_norm': 0.40679240226745605, 'learning_rate': 2.2053406998158378e-05, 'epoch': 5.78}\n",
      "{'loss': 0.6363, 'grad_norm': 0.4248111844062805, 'learning_rate': 2.2007366482504606e-05, 'epoch': 5.79}\n",
      "{'loss': 1.234, 'grad_norm': 0.43148720264434814, 'learning_rate': 2.196132596685083e-05, 'epoch': 5.8}\n",
      "{'loss': 0.9174, 'grad_norm': 0.4521985352039337, 'learning_rate': 2.1915285451197055e-05, 'epoch': 5.81}\n",
      "{'loss': 0.6367, 'grad_norm': 0.4191611111164093, 'learning_rate': 2.186924493554328e-05, 'epoch': 5.82}\n",
      "{'loss': 0.9299, 'grad_norm': 7.613452434539795, 'learning_rate': 2.1823204419889505e-05, 'epoch': 5.83}\n",
      "{'loss': 0.9428, 'grad_norm': 0.40195104479789734, 'learning_rate': 2.177716390423573e-05, 'epoch': 5.84}\n",
      "{'loss': 0.6372, 'grad_norm': 0.39436158537864685, 'learning_rate': 2.1731123388581954e-05, 'epoch': 5.85}\n",
      "{'loss': 1.2427, 'grad_norm': 7.780477046966553, 'learning_rate': 2.168508287292818e-05, 'epoch': 5.85}\n",
      "{'loss': 0.9295, 'grad_norm': 0.3948422968387604, 'learning_rate': 2.1639042357274403e-05, 'epoch': 5.86}\n",
      "{'loss': 0.0513, 'grad_norm': 0.4006788432598114, 'learning_rate': 2.1593001841620628e-05, 'epoch': 5.87}\n",
      "{'loss': 0.3488, 'grad_norm': 0.3777812719345093, 'learning_rate': 2.1546961325966852e-05, 'epoch': 5.88}\n",
      "{'loss': 0.3633, 'grad_norm': 8.241654396057129, 'learning_rate': 2.1500920810313077e-05, 'epoch': 5.89}\n",
      "{'loss': 0.3532, 'grad_norm': 0.32508474588394165, 'learning_rate': 2.1454880294659302e-05, 'epoch': 5.9}\n",
      "{'loss': 0.3632, 'grad_norm': 0.3063792586326599, 'learning_rate': 2.1408839779005526e-05, 'epoch': 5.91}\n",
      "{'loss': 0.7127, 'grad_norm': 8.613078117370605, 'learning_rate': 2.136279926335175e-05, 'epoch': 5.92}\n",
      "{'loss': 1.3773, 'grad_norm': 0.31258490681648254, 'learning_rate': 2.1316758747697976e-05, 'epoch': 5.92}\n",
      "{'loss': 1.7016, 'grad_norm': 8.205924034118652, 'learning_rate': 2.12707182320442e-05, 'epoch': 5.93}\n",
      "{'loss': 0.6825, 'grad_norm': 0.3386172950267792, 'learning_rate': 2.1224677716390425e-05, 'epoch': 5.94}\n",
      "{'loss': 0.6896, 'grad_norm': 0.32350584864616394, 'learning_rate': 2.117863720073665e-05, 'epoch': 5.95}\n",
      "{'loss': 0.3658, 'grad_norm': 0.3089713454246521, 'learning_rate': 2.1132596685082874e-05, 'epoch': 5.96}\n",
      "{'loss': 2.626, 'grad_norm': 8.225139617919922, 'learning_rate': 2.10865561694291e-05, 'epoch': 5.97}\n",
      "{'loss': 0.3575, 'grad_norm': 0.37278321385383606, 'learning_rate': 2.1040515653775323e-05, 'epoch': 5.98}\n",
      "{'loss': 0.6735, 'grad_norm': 8.151949882507324, 'learning_rate': 2.0994475138121548e-05, 'epoch': 5.99}\n",
      "{'loss': 1.3034, 'grad_norm': 0.36578401923179626, 'learning_rate': 2.0948434622467773e-05, 'epoch': 5.99}\n"
     ]
    },
    {
     "data": {
      "application/vnd.jupyter.widget-view+json": {
       "model_id": "7feba1516dbd451ea77b4fb3142e50a2",
       "version_major": 2,
       "version_minor": 0
      },
      "text/plain": [
       "  0%|          | 0/284 [00:00<?, ?it/s]"
      ]
     },
     "metadata": {},
     "output_type": "display_data"
    },
    {
     "name": "stdout",
     "output_type": "stream",
     "text": [
      "{'eval_loss': 0.8739458322525024, 'eval_accuracy': 0.7394366197183099, 'eval_macro_f1': 0.4251012145748988, 'eval_weighted_f1': 0.6286708102868221, 'eval_runtime': 6.3742, 'eval_samples_per_second': 44.554, 'eval_steps_per_second': 44.554, 'epoch': 6.0}\n",
      "{'loss': 1.2769, 'grad_norm': 0.3577388525009155, 'learning_rate': 2.0902394106813997e-05, 'epoch': 6.0}\n",
      "{'loss': 0.9743, 'grad_norm': 0.35103094577789307, 'learning_rate': 2.0856353591160222e-05, 'epoch': 6.01}\n",
      "{'loss': 0.9593, 'grad_norm': 7.805878162384033, 'learning_rate': 2.0810313075506447e-05, 'epoch': 6.02}\n",
      "{'loss': 1.5559, 'grad_norm': 0.41830676794052124, 'learning_rate': 2.076427255985267e-05, 'epoch': 6.03}\n",
      "{'loss': 1.2202, 'grad_norm': 0.4167958199977875, 'learning_rate': 2.0718232044198896e-05, 'epoch': 6.04}\n",
      "{'loss': 0.6336, 'grad_norm': 0.4288772642612457, 'learning_rate': 2.067219152854512e-05, 'epoch': 6.05}\n",
      "{'loss': 0.9269, 'grad_norm': 0.409666508436203, 'learning_rate': 2.0626151012891345e-05, 'epoch': 6.06}\n",
      "{'loss': 0.635, 'grad_norm': 0.4127533435821533, 'learning_rate': 2.058011049723757e-05, 'epoch': 6.07}\n",
      "{'loss': 0.347, 'grad_norm': 0.42902201414108276, 'learning_rate': 2.0534069981583794e-05, 'epoch': 6.07}\n",
      "{'loss': 0.6523, 'grad_norm': 0.393058180809021, 'learning_rate': 2.048802946593002e-05, 'epoch': 6.08}\n",
      "{'loss': 1.2559, 'grad_norm': 0.3943510055541992, 'learning_rate': 2.0441988950276244e-05, 'epoch': 6.09}\n",
      "{'loss': 0.3532, 'grad_norm': 0.3727032244205475, 'learning_rate': 2.039594843462247e-05, 'epoch': 6.1}\n",
      "{'loss': 0.9559, 'grad_norm': 0.37672966718673706, 'learning_rate': 2.0349907918968693e-05, 'epoch': 6.11}\n",
      "{'loss': 0.9512, 'grad_norm': 0.3814806342124939, 'learning_rate': 2.0303867403314918e-05, 'epoch': 6.12}\n",
      "{'loss': 0.6601, 'grad_norm': 7.993118762969971, 'learning_rate': 2.0257826887661142e-05, 'epoch': 6.13}\n",
      "{'loss': 0.0431, 'grad_norm': 0.3500368595123291, 'learning_rate': 2.0211786372007367e-05, 'epoch': 6.14}\n",
      "{'loss': 1.2995, 'grad_norm': 8.12981128692627, 'learning_rate': 2.0165745856353595e-05, 'epoch': 6.14}\n",
      "{'loss': 0.0407, 'grad_norm': 0.3194662034511566, 'learning_rate': 2.011970534069982e-05, 'epoch': 6.15}\n",
      "{'loss': 0.699, 'grad_norm': 8.475123405456543, 'learning_rate': 2.007366482504604e-05, 'epoch': 6.16}\n",
      "{'loss': 0.365, 'grad_norm': 0.3391833007335663, 'learning_rate': 2.0027624309392265e-05, 'epoch': 6.17}\n",
      "{'loss': 0.7049, 'grad_norm': 0.3115459084510803, 'learning_rate': 1.998158379373849e-05, 'epoch': 6.18}\n",
      "{'loss': 1.0531, 'grad_norm': 8.584856986999512, 'learning_rate': 1.9935543278084715e-05, 'epoch': 6.19}\n",
      "{'loss': 0.7062, 'grad_norm': 0.28017616271972656, 'learning_rate': 1.988950276243094e-05, 'epoch': 6.2}\n",
      "{'loss': 0.699, 'grad_norm': 8.527000427246094, 'learning_rate': 1.9843462246777164e-05, 'epoch': 6.21}\n",
      "{'loss': 1.3699, 'grad_norm': 0.29159021377563477, 'learning_rate': 1.979742173112339e-05, 'epoch': 6.21}\n",
      "{'loss': 0.3656, 'grad_norm': 0.2935301661491394, 'learning_rate': 1.9751381215469613e-05, 'epoch': 6.22}\n",
      "{'loss': 1.0237, 'grad_norm': 0.3020581901073456, 'learning_rate': 1.9705340699815838e-05, 'epoch': 6.23}\n",
      "{'loss': 2.338, 'grad_norm': 0.31464630365371704, 'learning_rate': 1.9659300184162063e-05, 'epoch': 6.24}\n",
      "{'loss': 0.6825, 'grad_norm': 0.357905775308609, 'learning_rate': 1.9613259668508287e-05, 'epoch': 6.25}\n",
      "{'loss': 0.362, 'grad_norm': 0.3251354694366455, 'learning_rate': 1.9567219152854512e-05, 'epoch': 6.26}\n",
      "{'loss': 0.6833, 'grad_norm': 0.34024542570114136, 'learning_rate': 1.9521178637200737e-05, 'epoch': 6.27}\n",
      "{'loss': 1.0111, 'grad_norm': 0.3486650884151459, 'learning_rate': 1.947513812154696e-05, 'epoch': 6.28}\n",
      "{'loss': 1.3177, 'grad_norm': 0.34691888093948364, 'learning_rate': 1.9429097605893186e-05, 'epoch': 6.29}\n",
      "{'loss': 0.356, 'grad_norm': 0.33150169253349304, 'learning_rate': 1.938305709023941e-05, 'epoch': 6.29}\n",
      "{'loss': 0.6881, 'grad_norm': 0.3556242883205414, 'learning_rate': 1.933701657458564e-05, 'epoch': 6.3}\n",
      "{'loss': 1.3151, 'grad_norm': 0.3214767575263977, 'learning_rate': 1.9290976058931863e-05, 'epoch': 6.31}\n",
      "{'loss': 0.3646, 'grad_norm': 0.3158458471298218, 'learning_rate': 1.9244935543278088e-05, 'epoch': 6.32}\n",
      "{'loss': 1.3253, 'grad_norm': 0.3387286365032196, 'learning_rate': 1.9198895027624312e-05, 'epoch': 6.33}\n",
      "{'loss': 1.0005, 'grad_norm': 0.35219526290893555, 'learning_rate': 1.9152854511970537e-05, 'epoch': 6.34}\n",
      "{'loss': 0.6799, 'grad_norm': 0.34532734751701355, 'learning_rate': 1.910681399631676e-05, 'epoch': 6.35}\n",
      "{'loss': 0.6868, 'grad_norm': 0.34121614694595337, 'learning_rate': 1.9060773480662986e-05, 'epoch': 6.36}\n",
      "{'loss': 1.0009, 'grad_norm': 8.17949390411377, 'learning_rate': 1.9014732965009208e-05, 'epoch': 6.36}\n",
      "{'loss': 0.687, 'grad_norm': 0.35849061608314514, 'learning_rate': 1.8968692449355432e-05, 'epoch': 6.37}\n",
      "{'loss': 0.668, 'grad_norm': 0.34809181094169617, 'learning_rate': 1.8922651933701657e-05, 'epoch': 6.38}\n",
      "{'loss': 0.0378, 'grad_norm': 0.33104807138442993, 'learning_rate': 1.887661141804788e-05, 'epoch': 6.39}\n",
      "{'loss': 1.3543, 'grad_norm': 0.3162713050842285, 'learning_rate': 1.8830570902394106e-05, 'epoch': 6.4}\n",
      "{'loss': 0.6886, 'grad_norm': 0.33055493235588074, 'learning_rate': 1.878453038674033e-05, 'epoch': 6.41}\n",
      "{'loss': 1.9945, 'grad_norm': 8.230003356933594, 'learning_rate': 1.8738489871086555e-05, 'epoch': 6.42}\n",
      "{'loss': 0.0401, 'grad_norm': 0.34881269931793213, 'learning_rate': 1.869244935543278e-05, 'epoch': 6.43}\n",
      "{'loss': 1.0094, 'grad_norm': 0.3277542293071747, 'learning_rate': 1.8646408839779005e-05, 'epoch': 6.43}\n",
      "{'loss': 1.0126, 'grad_norm': 0.34340497851371765, 'learning_rate': 1.860036832412523e-05, 'epoch': 6.44}\n",
      "{'loss': 1.0036, 'grad_norm': 0.3234982490539551, 'learning_rate': 1.8554327808471454e-05, 'epoch': 6.45}\n",
      "{'loss': 1.2995, 'grad_norm': 8.045957565307617, 'learning_rate': 1.8508287292817682e-05, 'epoch': 6.46}\n",
      "{'loss': 0.3567, 'grad_norm': 0.3540014922618866, 'learning_rate': 1.8462246777163907e-05, 'epoch': 6.47}\n",
      "{'loss': 1.2942, 'grad_norm': 0.3494563102722168, 'learning_rate': 1.841620626151013e-05, 'epoch': 6.48}\n",
      "{'loss': 0.681, 'grad_norm': 0.354705810546875, 'learning_rate': 1.8370165745856356e-05, 'epoch': 6.49}\n",
      "{'loss': 1.2896, 'grad_norm': 0.3814989924430847, 'learning_rate': 1.832412523020258e-05, 'epoch': 6.5}\n",
      "{'loss': 0.6696, 'grad_norm': 0.35358673334121704, 'learning_rate': 1.8278084714548805e-05, 'epoch': 6.51}\n",
      "{'loss': 0.6778, 'grad_norm': 8.075492858886719, 'learning_rate': 1.823204419889503e-05, 'epoch': 6.51}\n",
      "{'loss': 0.3508, 'grad_norm': 0.33283013105392456, 'learning_rate': 1.8186003683241254e-05, 'epoch': 6.52}\n",
      "{'loss': 1.3164, 'grad_norm': 8.228373527526855, 'learning_rate': 1.813996316758748e-05, 'epoch': 6.53}\n",
      "{'loss': 0.3515, 'grad_norm': 0.3335667848587036, 'learning_rate': 1.8093922651933704e-05, 'epoch': 6.54}\n",
      "{'loss': 0.6802, 'grad_norm': 0.3223229944705963, 'learning_rate': 1.804788213627993e-05, 'epoch': 6.55}\n",
      "{'loss': 0.6869, 'grad_norm': 8.445100784301758, 'learning_rate': 1.8001841620626153e-05, 'epoch': 6.56}\n",
      "{'loss': 1.0193, 'grad_norm': 0.3429456651210785, 'learning_rate': 1.7955801104972378e-05, 'epoch': 6.57}\n",
      "{'loss': 0.6875, 'grad_norm': 0.3423827886581421, 'learning_rate': 1.79097605893186e-05, 'epoch': 6.58}\n",
      "{'loss': 0.3604, 'grad_norm': 0.3234342634677887, 'learning_rate': 1.7863720073664823e-05, 'epoch': 6.58}\n",
      "{'loss': 0.6864, 'grad_norm': 8.47653865814209, 'learning_rate': 1.7817679558011048e-05, 'epoch': 6.59}\n",
      "{'loss': 1.9991, 'grad_norm': 0.3058386445045471, 'learning_rate': 1.7771639042357273e-05, 'epoch': 6.6}\n",
      "{'loss': 0.679, 'grad_norm': 0.31479689478874207, 'learning_rate': 1.7725598526703497e-05, 'epoch': 6.61}\n",
      "{'loss': 0.6746, 'grad_norm': 0.34938815236091614, 'learning_rate': 1.7679558011049725e-05, 'epoch': 6.62}\n",
      "{'loss': 0.3549, 'grad_norm': 0.32823464274406433, 'learning_rate': 1.763351749539595e-05, 'epoch': 6.63}\n",
      "{'loss': 0.6872, 'grad_norm': 0.32405397295951843, 'learning_rate': 1.7587476979742175e-05, 'epoch': 6.64}\n",
      "{'loss': 0.6893, 'grad_norm': 0.3239295780658722, 'learning_rate': 1.75414364640884e-05, 'epoch': 6.65}\n",
      "{'loss': 1.0179, 'grad_norm': 8.40963077545166, 'learning_rate': 1.7495395948434624e-05, 'epoch': 6.65}\n",
      "{'loss': 0.3687, 'grad_norm': 0.2923257052898407, 'learning_rate': 1.744935543278085e-05, 'epoch': 6.66}\n",
      "{'loss': 1.0384, 'grad_norm': 0.30481070280075073, 'learning_rate': 1.7403314917127073e-05, 'epoch': 6.67}\n",
      "{'loss': 1.364, 'grad_norm': 0.3179497718811035, 'learning_rate': 1.7357274401473298e-05, 'epoch': 6.68}\n",
      "{'loss': 1.657, 'grad_norm': 0.3152085244655609, 'learning_rate': 1.7311233885819523e-05, 'epoch': 6.69}\n",
      "{'loss': 0.9989, 'grad_norm': 0.37072479724884033, 'learning_rate': 1.7265193370165747e-05, 'epoch': 6.7}\n",
      "{'loss': 0.0416, 'grad_norm': 0.3461202085018158, 'learning_rate': 1.7219152854511972e-05, 'epoch': 6.71}\n",
      "{'loss': 0.6795, 'grad_norm': 0.3314046561717987, 'learning_rate': 1.7173112338858196e-05, 'epoch': 6.72}\n",
      "{'loss': 1.0136, 'grad_norm': 0.3195210099220276, 'learning_rate': 1.712707182320442e-05, 'epoch': 6.73}\n",
      "{'loss': 1.6224, 'grad_norm': 13.954767227172852, 'learning_rate': 1.7081031307550646e-05, 'epoch': 6.73}\n",
      "{'loss': 0.395, 'grad_norm': 5.202144145965576, 'learning_rate': 1.703499079189687e-05, 'epoch': 6.74}\n",
      "{'loss': 0.6929, 'grad_norm': 0.32043829560279846, 'learning_rate': 1.6988950276243095e-05, 'epoch': 6.75}\n",
      "{'loss': 0.3573, 'grad_norm': 0.31187838315963745, 'learning_rate': 1.694290976058932e-05, 'epoch': 6.76}\n",
      "{'loss': 0.3755, 'grad_norm': 0.2992006242275238, 'learning_rate': 1.6896869244935544e-05, 'epoch': 6.77}\n",
      "{'loss': 1.0362, 'grad_norm': 0.32606732845306396, 'learning_rate': 1.685082872928177e-05, 'epoch': 6.78}\n",
      "{'loss': 0.7053, 'grad_norm': 0.31155821681022644, 'learning_rate': 1.6804788213627994e-05, 'epoch': 6.79}\n",
      "{'loss': 0.6953, 'grad_norm': 8.420487403869629, 'learning_rate': 1.6758747697974218e-05, 'epoch': 6.8}\n",
      "{'loss': 1.371, 'grad_norm': 8.472538948059082, 'learning_rate': 1.6712707182320443e-05, 'epoch': 6.8}\n",
      "{'loss': 0.6974, 'grad_norm': 0.2966218888759613, 'learning_rate': 1.6666666666666667e-05, 'epoch': 6.81}\n",
      "{'loss': 1.0305, 'grad_norm': 0.31719231605529785, 'learning_rate': 1.6620626151012892e-05, 'epoch': 6.82}\n",
      "{'loss': 0.6868, 'grad_norm': 0.30911800265312195, 'learning_rate': 1.6574585635359117e-05, 'epoch': 6.83}\n",
      "{'loss': 1.3224, 'grad_norm': 0.32076218724250793, 'learning_rate': 1.652854511970534e-05, 'epoch': 6.84}\n",
      "{'loss': 0.6804, 'grad_norm': 0.31987571716308594, 'learning_rate': 1.6482504604051566e-05, 'epoch': 6.85}\n",
      "{'loss': 0.6806, 'grad_norm': 0.34434640407562256, 'learning_rate': 1.643646408839779e-05, 'epoch': 6.86}\n",
      "{'loss': 1.019, 'grad_norm': 0.3284910321235657, 'learning_rate': 1.6390423572744015e-05, 'epoch': 6.87}\n",
      "{'loss': 0.3653, 'grad_norm': 0.31412407755851746, 'learning_rate': 1.634438305709024e-05, 'epoch': 6.88}\n",
      "{'loss': 2.001, 'grad_norm': 0.34017038345336914, 'learning_rate': 1.6298342541436465e-05, 'epoch': 6.88}\n",
      "{'loss': 0.3658, 'grad_norm': 0.33577224612236023, 'learning_rate': 1.625230202578269e-05, 'epoch': 6.89}\n",
      "{'loss': 0.9934, 'grad_norm': 8.04769229888916, 'learning_rate': 1.6206261510128914e-05, 'epoch': 6.9}\n",
      "{'loss': 0.3555, 'grad_norm': 0.3412710130214691, 'learning_rate': 1.616022099447514e-05, 'epoch': 6.91}\n",
      "{'loss': 2.285, 'grad_norm': 8.240592002868652, 'learning_rate': 1.6114180478821363e-05, 'epoch': 6.92}\n",
      "{'loss': 0.6822, 'grad_norm': 0.36613723635673523, 'learning_rate': 1.6068139963167588e-05, 'epoch': 6.93}\n",
      "{'loss': 0.3531, 'grad_norm': 0.3492943048477173, 'learning_rate': 1.6022099447513812e-05, 'epoch': 6.94}\n",
      "{'loss': 0.6657, 'grad_norm': 0.34334596991539, 'learning_rate': 1.5976058931860037e-05, 'epoch': 6.95}\n",
      "{'loss': 1.2996, 'grad_norm': 0.35349711775779724, 'learning_rate': 1.593001841620626e-05, 'epoch': 6.95}\n",
      "{'loss': 1.3024, 'grad_norm': 8.002387046813965, 'learning_rate': 1.588397790055249e-05, 'epoch': 6.96}\n",
      "{'loss': 0.9647, 'grad_norm': 7.911871433258057, 'learning_rate': 1.5837937384898714e-05, 'epoch': 6.97}\n",
      "{'loss': 0.9666, 'grad_norm': 0.35263776779174805, 'learning_rate': 1.579189686924494e-05, 'epoch': 6.98}\n",
      "{'loss': 0.3575, 'grad_norm': 8.073790550231934, 'learning_rate': 1.574585635359116e-05, 'epoch': 6.99}\n",
      "{'loss': 0.0426, 'grad_norm': 0.33106377720832825, 'learning_rate': 1.5699815837937385e-05, 'epoch': 7.0}\n"
     ]
    },
    {
     "data": {
      "application/vnd.jupyter.widget-view+json": {
       "model_id": "8e43a4b48397499cb9ab708aa41b892d",
       "version_major": 2,
       "version_minor": 0
      },
      "text/plain": [
       "  0%|          | 0/284 [00:00<?, ?it/s]"
      ]
     },
     "metadata": {},
     "output_type": "display_data"
    },
    {
     "name": "stdout",
     "output_type": "stream",
     "text": [
      "{'eval_loss': 0.8941230177879333, 'eval_accuracy': 0.7394366197183099, 'eval_macro_f1': 0.4251012145748988, 'eval_weighted_f1': 0.6286708102868221, 'eval_runtime': 5.7889, 'eval_samples_per_second': 49.06, 'eval_steps_per_second': 49.06, 'epoch': 7.0}\n",
      "{'loss': 0.671, 'grad_norm': 8.065064430236816, 'learning_rate': 1.565377532228361e-05, 'epoch': 7.01}\n",
      "{'loss': 0.3594, 'grad_norm': 8.200859069824219, 'learning_rate': 1.5607734806629834e-05, 'epoch': 7.02}\n",
      "{'loss': 0.6822, 'grad_norm': 8.445530891418457, 'learning_rate': 1.556169429097606e-05, 'epoch': 7.02}\n",
      "{'loss': 1.0277, 'grad_norm': 0.3350711166858673, 'learning_rate': 1.5515653775322283e-05, 'epoch': 7.03}\n",
      "{'loss': 0.7068, 'grad_norm': 0.2917410731315613, 'learning_rate': 1.5469613259668508e-05, 'epoch': 7.04}\n",
      "{'loss': 0.0357, 'grad_norm': 0.29271399974823, 'learning_rate': 1.5423572744014733e-05, 'epoch': 7.05}\n",
      "{'loss': 1.0351, 'grad_norm': 8.330621719360352, 'learning_rate': 1.5377532228360957e-05, 'epoch': 7.06}\n",
      "{'loss': 1.0543, 'grad_norm': 0.31728318333625793, 'learning_rate': 1.5331491712707182e-05, 'epoch': 7.07}\n",
      "{'loss': 0.3619, 'grad_norm': 0.30236589908599854, 'learning_rate': 1.5285451197053407e-05, 'epoch': 7.08}\n",
      "{'loss': 1.6991, 'grad_norm': 8.517495155334473, 'learning_rate': 1.5239410681399633e-05, 'epoch': 7.09}\n",
      "{'loss': 0.6987, 'grad_norm': 8.625377655029297, 'learning_rate': 1.5193370165745858e-05, 'epoch': 7.1}\n",
      "{'loss': 1.0428, 'grad_norm': 0.29982975125312805, 'learning_rate': 1.5147329650092082e-05, 'epoch': 7.1}\n",
      "{'loss': 0.3673, 'grad_norm': 0.31161782145500183, 'learning_rate': 1.5101289134438307e-05, 'epoch': 7.11}\n",
      "{'loss': 0.6958, 'grad_norm': 0.31250429153442383, 'learning_rate': 1.5055248618784531e-05, 'epoch': 7.12}\n",
      "{'loss': 1.3594, 'grad_norm': 0.3091527819633484, 'learning_rate': 1.5009208103130756e-05, 'epoch': 7.13}\n",
      "{'loss': 0.3709, 'grad_norm': 0.3172946870326996, 'learning_rate': 1.496316758747698e-05, 'epoch': 7.14}\n",
      "{'loss': 1.0404, 'grad_norm': 0.31135421991348267, 'learning_rate': 1.4917127071823205e-05, 'epoch': 7.15}\n",
      "{'loss': 0.7114, 'grad_norm': 0.2810001075267792, 'learning_rate': 1.487108655616943e-05, 'epoch': 7.16}\n",
      "{'loss': 1.0217, 'grad_norm': 0.2880478799343109, 'learning_rate': 1.4825046040515655e-05, 'epoch': 7.17}\n",
      "{'loss': 1.3516, 'grad_norm': 0.31147515773773193, 'learning_rate': 1.4779005524861881e-05, 'epoch': 7.17}\n",
      "{'loss': 1.3549, 'grad_norm': 8.512761116027832, 'learning_rate': 1.4732965009208106e-05, 'epoch': 7.18}\n",
      "{'loss': 0.3633, 'grad_norm': 0.33596765995025635, 'learning_rate': 1.468692449355433e-05, 'epoch': 7.19}\n",
      "{'loss': 1.3369, 'grad_norm': 8.400318145751953, 'learning_rate': 1.4640883977900552e-05, 'epoch': 7.2}\n",
      "{'loss': 0.3544, 'grad_norm': 0.34048208594322205, 'learning_rate': 1.4594843462246776e-05, 'epoch': 7.21}\n",
      "{'loss': 0.6727, 'grad_norm': 0.343788743019104, 'learning_rate': 1.4548802946593e-05, 'epoch': 7.22}\n",
      "{'loss': 0.3523, 'grad_norm': 0.31234660744667053, 'learning_rate': 1.4502762430939225e-05, 'epoch': 7.23}\n",
      "{'loss': 1.3499, 'grad_norm': 8.30568790435791, 'learning_rate': 1.4456721915285452e-05, 'epoch': 7.24}\n",
      "{'loss': 1.0198, 'grad_norm': 0.3145087659358978, 'learning_rate': 1.4410681399631676e-05, 'epoch': 7.24}\n",
      "{'loss': 1.0157, 'grad_norm': 0.31136223673820496, 'learning_rate': 1.4364640883977901e-05, 'epoch': 7.25}\n",
      "{'loss': 0.3659, 'grad_norm': 0.3006514608860016, 'learning_rate': 1.4318600368324126e-05, 'epoch': 7.26}\n",
      "{'loss': 0.0378, 'grad_norm': 0.3141578733921051, 'learning_rate': 1.427255985267035e-05, 'epoch': 7.27}\n",
      "{'loss': 1.6852, 'grad_norm': 8.428496360778809, 'learning_rate': 1.4226519337016575e-05, 'epoch': 7.28}\n",
      "{'loss': 0.6963, 'grad_norm': 0.2862909138202667, 'learning_rate': 1.41804788213628e-05, 'epoch': 7.29}\n",
      "{'loss': 0.6891, 'grad_norm': 0.29290783405303955, 'learning_rate': 1.4134438305709024e-05, 'epoch': 7.3}\n",
      "{'loss': 0.7099, 'grad_norm': 0.3268662989139557, 'learning_rate': 1.4088397790055249e-05, 'epoch': 7.31}\n",
      "{'loss': 0.708, 'grad_norm': 8.608548164367676, 'learning_rate': 1.4042357274401474e-05, 'epoch': 7.32}\n",
      "{'loss': 0.703, 'grad_norm': 8.512358665466309, 'learning_rate': 1.3996316758747698e-05, 'epoch': 7.32}\n",
      "{'loss': 2.0196, 'grad_norm': 8.419565200805664, 'learning_rate': 1.3950276243093924e-05, 'epoch': 7.33}\n",
      "{'loss': 0.3615, 'grad_norm': 0.3220357298851013, 'learning_rate': 1.3904235727440149e-05, 'epoch': 7.34}\n",
      "{'loss': 0.6876, 'grad_norm': 0.3405834138393402, 'learning_rate': 1.3858195211786374e-05, 'epoch': 7.35}\n",
      "{'loss': 1.0154, 'grad_norm': 0.3314947485923767, 'learning_rate': 1.3812154696132598e-05, 'epoch': 7.36}\n",
      "{'loss': 0.6777, 'grad_norm': 0.3057325482368469, 'learning_rate': 1.3766114180478823e-05, 'epoch': 7.37}\n",
      "{'loss': 0.3509, 'grad_norm': 0.32198211550712585, 'learning_rate': 1.3720073664825048e-05, 'epoch': 7.38}\n",
      "{'loss': 0.6819, 'grad_norm': 8.170482635498047, 'learning_rate': 1.3674033149171272e-05, 'epoch': 7.39}\n",
      "{'loss': 1.3591, 'grad_norm': 8.44884967803955, 'learning_rate': 1.3627992633517497e-05, 'epoch': 7.39}\n",
      "{'loss': 0.685, 'grad_norm': 0.3197978436946869, 'learning_rate': 1.358195211786372e-05, 'epoch': 7.4}\n",
      "{'loss': 0.6983, 'grad_norm': 0.2934754490852356, 'learning_rate': 1.3535911602209945e-05, 'epoch': 7.41}\n",
      "{'loss': 1.668, 'grad_norm': 0.3259093463420868, 'learning_rate': 1.348987108655617e-05, 'epoch': 7.42}\n",
      "{'loss': 0.0387, 'grad_norm': 0.34101513028144836, 'learning_rate': 1.3443830570902394e-05, 'epoch': 7.43}\n",
      "{'loss': 1.0099, 'grad_norm': 0.3315766453742981, 'learning_rate': 1.3397790055248618e-05, 'epoch': 7.44}\n",
      "{'loss': 0.3728, 'grad_norm': 0.318692147731781, 'learning_rate': 1.3351749539594843e-05, 'epoch': 7.45}\n",
      "{'loss': 0.0372, 'grad_norm': 0.3159712553024292, 'learning_rate': 1.3305709023941068e-05, 'epoch': 7.46}\n",
      "{'loss': 1.0381, 'grad_norm': 8.461236953735352, 'learning_rate': 1.3259668508287292e-05, 'epoch': 7.46}\n",
      "{'loss': 1.0325, 'grad_norm': 0.2948390543460846, 'learning_rate': 1.3213627992633517e-05, 'epoch': 7.47}\n",
      "{'loss': 1.0482, 'grad_norm': 8.55907917022705, 'learning_rate': 1.3167587476979742e-05, 'epoch': 7.48}\n",
      "{'loss': 0.0356, 'grad_norm': 0.3059820532798767, 'learning_rate': 1.3121546961325968e-05, 'epoch': 7.49}\n",
      "{'loss': 1.3738, 'grad_norm': 8.435687065124512, 'learning_rate': 1.3075506445672193e-05, 'epoch': 7.5}\n",
      "{'loss': 0.3625, 'grad_norm': 0.2939644157886505, 'learning_rate': 1.3029465930018417e-05, 'epoch': 7.51}\n",
      "{'loss': 0.7103, 'grad_norm': 0.28775912523269653, 'learning_rate': 1.2983425414364642e-05, 'epoch': 7.52}\n",
      "{'loss': 1.3992, 'grad_norm': 8.721842765808105, 'learning_rate': 1.2937384898710867e-05, 'epoch': 7.53}\n",
      "{'loss': 0.7094, 'grad_norm': 0.2972692549228668, 'learning_rate': 1.2891344383057091e-05, 'epoch': 7.54}\n",
      "{'loss': 1.0345, 'grad_norm': 0.3011434078216553, 'learning_rate': 1.2845303867403316e-05, 'epoch': 7.54}\n",
      "{'loss': 1.029, 'grad_norm': 0.30783307552337646, 'learning_rate': 1.279926335174954e-05, 'epoch': 7.55}\n",
      "{'loss': 1.3512, 'grad_norm': 0.3095950186252594, 'learning_rate': 1.2753222836095765e-05, 'epoch': 7.56}\n",
      "{'loss': 1.9988, 'grad_norm': 8.31856918334961, 'learning_rate': 1.270718232044199e-05, 'epoch': 7.57}\n",
      "{'loss': 1.0108, 'grad_norm': 0.3221401870250702, 'learning_rate': 1.2661141804788214e-05, 'epoch': 7.58}\n",
      "{'loss': 0.3698, 'grad_norm': 0.34424543380737305, 'learning_rate': 1.261510128913444e-05, 'epoch': 7.59}\n",
      "{'loss': 1.3185, 'grad_norm': 0.33912038803100586, 'learning_rate': 1.2569060773480665e-05, 'epoch': 7.6}\n",
      "{'loss': 1.307, 'grad_norm': 8.088470458984375, 'learning_rate': 1.252302025782689e-05, 'epoch': 7.61}\n",
      "{'loss': 0.3541, 'grad_norm': 0.39497584104537964, 'learning_rate': 1.2476979742173113e-05, 'epoch': 7.61}\n",
      "{'loss': 1.303, 'grad_norm': 8.065690040588379, 'learning_rate': 1.2430939226519338e-05, 'epoch': 7.62}\n",
      "{'loss': 1.3006, 'grad_norm': 0.3460966646671295, 'learning_rate': 1.2384898710865562e-05, 'epoch': 7.63}\n",
      "{'loss': 1.584, 'grad_norm': 0.36754703521728516, 'learning_rate': 1.2338858195211787e-05, 'epoch': 7.64}\n",
      "{'loss': 0.0481, 'grad_norm': 0.3912113606929779, 'learning_rate': 1.2292817679558011e-05, 'epoch': 7.65}\n",
      "{'loss': 1.2565, 'grad_norm': 0.3886946439743042, 'learning_rate': 1.2246777163904238e-05, 'epoch': 7.66}\n",
      "{'loss': 1.2481, 'grad_norm': 0.3804859519004822, 'learning_rate': 1.220073664825046e-05, 'epoch': 7.67}\n",
      "{'loss': 0.9524, 'grad_norm': 0.38301393389701843, 'learning_rate': 1.2154696132596685e-05, 'epoch': 7.68}\n",
      "{'loss': 0.6567, 'grad_norm': 0.41430115699768066, 'learning_rate': 1.210865561694291e-05, 'epoch': 7.68}\n",
      "{'loss': 1.5444, 'grad_norm': 0.3883385956287384, 'learning_rate': 1.2062615101289135e-05, 'epoch': 7.69}\n",
      "{'loss': 1.2249, 'grad_norm': 7.7175188064575195, 'learning_rate': 1.201657458563536e-05, 'epoch': 7.7}\n",
      "{'loss': 0.6375, 'grad_norm': 0.40040674805641174, 'learning_rate': 1.1970534069981584e-05, 'epoch': 7.71}\n",
      "{'loss': 0.9287, 'grad_norm': 0.4432394802570343, 'learning_rate': 1.1924493554327809e-05, 'epoch': 7.72}\n",
      "{'loss': 1.5184, 'grad_norm': 7.652337551116943, 'learning_rate': 1.1878453038674033e-05, 'epoch': 7.73}\n",
      "{'loss': 0.3476, 'grad_norm': 0.415121465921402, 'learning_rate': 1.183241252302026e-05, 'epoch': 7.74}\n",
      "{'loss': 0.9312, 'grad_norm': 7.614134788513184, 'learning_rate': 1.1786372007366484e-05, 'epoch': 7.75}\n",
      "{'loss': 0.344, 'grad_norm': 0.40387123823165894, 'learning_rate': 1.1740331491712709e-05, 'epoch': 7.76}\n",
      "{'loss': 0.3473, 'grad_norm': 0.3722333014011383, 'learning_rate': 1.1694290976058933e-05, 'epoch': 7.76}\n",
      "{'loss': 1.2473, 'grad_norm': 0.3760586082935333, 'learning_rate': 1.1648250460405156e-05, 'epoch': 7.77}\n",
      "{'loss': 0.6561, 'grad_norm': 0.3757389187812805, 'learning_rate': 1.1602209944751381e-05, 'epoch': 7.78}\n",
      "{'loss': 1.2593, 'grad_norm': 0.39944735169410706, 'learning_rate': 1.1556169429097606e-05, 'epoch': 7.79}\n",
      "{'loss': 0.3577, 'grad_norm': 0.3923587501049042, 'learning_rate': 1.151012891344383e-05, 'epoch': 7.8}\n",
      "{'loss': 0.65, 'grad_norm': 0.39100751280784607, 'learning_rate': 1.1464088397790055e-05, 'epoch': 7.81}\n",
      "{'loss': 0.6593, 'grad_norm': 0.36746352910995483, 'learning_rate': 1.1418047882136281e-05, 'epoch': 7.82}\n",
      "{'loss': 1.2764, 'grad_norm': 8.081928253173828, 'learning_rate': 1.1372007366482506e-05, 'epoch': 7.83}\n"
     ]
    },
    {
     "ename": "KeyboardInterrupt",
     "evalue": "",
     "output_type": "error",
     "traceback": [
      "\u001b[0;31m---------------------------------------------------------------------------\u001b[0m",
      "\u001b[0;31mKeyboardInterrupt\u001b[0m                         Traceback (most recent call last)",
      "Cell \u001b[0;32mIn[20], line 41\u001b[0m\n\u001b[1;32m     20\u001b[0m training_args \u001b[38;5;241m=\u001b[39m TrainingArguments(\n\u001b[1;32m     21\u001b[0m     output_dir\u001b[38;5;241m=\u001b[39m\u001b[38;5;124m'\u001b[39m\u001b[38;5;124m./results\u001b[39m\u001b[38;5;124m'\u001b[39m,\n\u001b[1;32m     22\u001b[0m     eval_strategy\u001b[38;5;241m=\u001b[39m\u001b[38;5;124m'\u001b[39m\u001b[38;5;124mepoch\u001b[39m\u001b[38;5;124m'\u001b[39m,     \u001b[38;5;66;03m# Evaluate every epoch\u001b[39;00m\n\u001b[0;32m   (...)\u001b[0m\n\u001b[1;32m     31\u001b[0m     save_strategy\u001b[38;5;241m=\u001b[39m\u001b[38;5;124m'\u001b[39m\u001b[38;5;124mepoch\u001b[39m\u001b[38;5;124m'\u001b[39m,\n\u001b[1;32m     32\u001b[0m )\n\u001b[1;32m     34\u001b[0m trainer \u001b[38;5;241m=\u001b[39m Trainer(\n\u001b[1;32m     35\u001b[0m     model\u001b[38;5;241m=\u001b[39mmodel,\n\u001b[1;32m     36\u001b[0m     args\u001b[38;5;241m=\u001b[39mtraining_args,\n\u001b[0;32m   (...)\u001b[0m\n\u001b[1;32m     39\u001b[0m     compute_metrics\u001b[38;5;241m=\u001b[39mcompute_metrics,\n\u001b[1;32m     40\u001b[0m )\n\u001b[0;32m---> 41\u001b[0m train_result \u001b[38;5;241m=\u001b[39m \u001b[43mtrainer\u001b[49m\u001b[38;5;241;43m.\u001b[39;49m\u001b[43mtrain\u001b[49m\u001b[43m(\u001b[49m\u001b[43m)\u001b[49m\n",
      "File \u001b[0;32m~/Documents/text-recommendation/.venv/lib/python3.9/site-packages/transformers/trainer.py:2123\u001b[0m, in \u001b[0;36mTrainer.train\u001b[0;34m(self, resume_from_checkpoint, trial, ignore_keys_for_eval, **kwargs)\u001b[0m\n\u001b[1;32m   2121\u001b[0m         hf_hub_utils\u001b[38;5;241m.\u001b[39menable_progress_bars()\n\u001b[1;32m   2122\u001b[0m \u001b[38;5;28;01melse\u001b[39;00m:\n\u001b[0;32m-> 2123\u001b[0m     \u001b[38;5;28;01mreturn\u001b[39;00m \u001b[43minner_training_loop\u001b[49m\u001b[43m(\u001b[49m\n\u001b[1;32m   2124\u001b[0m \u001b[43m        \u001b[49m\u001b[43margs\u001b[49m\u001b[38;5;241;43m=\u001b[39;49m\u001b[43margs\u001b[49m\u001b[43m,\u001b[49m\n\u001b[1;32m   2125\u001b[0m \u001b[43m        \u001b[49m\u001b[43mresume_from_checkpoint\u001b[49m\u001b[38;5;241;43m=\u001b[39;49m\u001b[43mresume_from_checkpoint\u001b[49m\u001b[43m,\u001b[49m\n\u001b[1;32m   2126\u001b[0m \u001b[43m        \u001b[49m\u001b[43mtrial\u001b[49m\u001b[38;5;241;43m=\u001b[39;49m\u001b[43mtrial\u001b[49m\u001b[43m,\u001b[49m\n\u001b[1;32m   2127\u001b[0m \u001b[43m        \u001b[49m\u001b[43mignore_keys_for_eval\u001b[49m\u001b[38;5;241;43m=\u001b[39;49m\u001b[43mignore_keys_for_eval\u001b[49m\u001b[43m,\u001b[49m\n\u001b[1;32m   2128\u001b[0m \u001b[43m    \u001b[49m\u001b[43m)\u001b[49m\n",
      "File \u001b[0;32m~/Documents/text-recommendation/.venv/lib/python3.9/site-packages/transformers/trainer.py:2483\u001b[0m, in \u001b[0;36mTrainer._inner_training_loop\u001b[0;34m(self, batch_size, args, resume_from_checkpoint, trial, ignore_keys_for_eval)\u001b[0m\n\u001b[1;32m   2480\u001b[0m \u001b[38;5;28;01mwith\u001b[39;00m context():\n\u001b[1;32m   2481\u001b[0m     tr_loss_step \u001b[38;5;241m=\u001b[39m \u001b[38;5;28mself\u001b[39m\u001b[38;5;241m.\u001b[39mtraining_step(model, inputs, num_items_in_batch)\n\u001b[0;32m-> 2483\u001b[0m \u001b[38;5;28;01mif\u001b[39;00m (\n\u001b[1;32m   2484\u001b[0m     args\u001b[38;5;241m.\u001b[39mlogging_nan_inf_filter\n\u001b[1;32m   2485\u001b[0m     \u001b[38;5;129;01mand\u001b[39;00m \u001b[38;5;129;01mnot\u001b[39;00m is_torch_xla_available()\n\u001b[1;32m   2486\u001b[0m     \u001b[38;5;129;01mand\u001b[39;00m (torch\u001b[38;5;241m.\u001b[39misnan(tr_loss_step) \u001b[38;5;129;01mor\u001b[39;00m torch\u001b[38;5;241m.\u001b[39misinf(tr_loss_step))\n\u001b[1;32m   2487\u001b[0m ):\n\u001b[1;32m   2488\u001b[0m     \u001b[38;5;66;03m# if loss is nan or inf simply add the average of previous logged losses\u001b[39;00m\n\u001b[1;32m   2489\u001b[0m     tr_loss \u001b[38;5;241m=\u001b[39m tr_loss \u001b[38;5;241m+\u001b[39m tr_loss \u001b[38;5;241m/\u001b[39m (\u001b[38;5;241m1\u001b[39m \u001b[38;5;241m+\u001b[39m \u001b[38;5;28mself\u001b[39m\u001b[38;5;241m.\u001b[39mstate\u001b[38;5;241m.\u001b[39mglobal_step \u001b[38;5;241m-\u001b[39m \u001b[38;5;28mself\u001b[39m\u001b[38;5;241m.\u001b[39m_globalstep_last_logged)\n\u001b[1;32m   2490\u001b[0m \u001b[38;5;28;01melse\u001b[39;00m:\n",
      "\u001b[0;31mKeyboardInterrupt\u001b[0m: "
     ]
    }
   ],
   "source": [
    "from transformers import TrainingArguments, Trainer\n",
    " # Define the compute_metrics function\n",
    "def compute_metrics(pred):\n",
    "    labels = pred.label_ids\n",
    "    preds = np.argmax(pred.predictions, axis=1)\n",
    "    accuracy = accuracy_score(labels, preds)\n",
    "    macro_f1 = f1_score(labels, preds, average='macro')\n",
    "    weighted_f1 = f1_score(labels, preds, average='weighted')\n",
    "    return {\n",
    "        'accuracy': accuracy,\n",
    "        'macro_f1': macro_f1,\n",
    "        'weighted_f1': weighted_f1\n",
    "    }\n",
    "\n",
    "class TrainMetricsLogger(TrainerCallback):\n",
    "    def on_log(self, args, state, control, logs=None, **kwargs):\n",
    "        if logs is not None:\n",
    "            print(f\"Epoch: {state.epoch}, Training Metrics: {logs}\")\n",
    "\n",
    "training_args = TrainingArguments(\n",
    "    output_dir='./results',\n",
    "    eval_strategy='epoch',     # Evaluate every epoch\n",
    "    num_train_epochs=10,              # Number of epochs\n",
    "    per_device_train_batch_size=1,   # Batch size for training\n",
    "    per_device_eval_batch_size=1,    # Batch size for evaluation\n",
    "    warmup_steps=500,                # Number of warmup steps\n",
    "    weight_decay=0.05,               # Strength of weight decay\n",
    "    logging_dir='./logs',            # Directory for logs\n",
    "    logging_steps=10,\n",
    "    load_best_model_at_end=True,\n",
    "    save_strategy='epoch',\n",
    ")\n",
    " \n",
    "trainer = Trainer(\n",
    "    model=model,\n",
    "    args=training_args,\n",
    "    train_dataset=train_dataset,\n",
    "    eval_dataset=test_dataset,\n",
    "    compute_metrics=compute_metrics,\n",
    ")\n",
    "train_result = trainer.train()"
   ]
  },
  {
   "cell_type": "code",
   "execution_count": null,
   "metadata": {},
   "outputs": [],
   "source": []
  }
 ],
 "metadata": {
  "kernelspec": {
   "display_name": ".venv",
   "language": "python",
   "name": "python3"
  },
  "language_info": {
   "codemirror_mode": {
    "name": "ipython",
    "version": 3
   },
   "file_extension": ".py",
   "mimetype": "text/x-python",
   "name": "python",
   "nbconvert_exporter": "python",
   "pygments_lexer": "ipython3",
   "version": "3.9.6"
  }
 },
 "nbformat": 4,
 "nbformat_minor": 2
}
