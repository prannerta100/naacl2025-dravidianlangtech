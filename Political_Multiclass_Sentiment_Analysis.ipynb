{
 "cells": [
  {
   "cell_type": "code",
   "execution_count": null,
   "id": "c6ffab9f-b443-4ead-9a73-17ee44c20b69",
   "metadata": {
    "tags": []
   },
   "outputs": [],
   "source": [
    "import pandas as pd\n",
    "\n",
    "import matplotlib.pyplot as plt\n",
    "\n",
    "from sklearn.metrics import precision_score, recall_score, f1_score, accuracy_score\n",
    "\n",
    "import torch\n",
    "from torch.utils.data import Dataset, DataLoader\n",
    "from torch.optim.lr_scheduler import ExponentialLR\n",
    "from transformers import AutoModelForSequenceClassification, AutoTokenizer\n",
    "\n",
    "\n",
    "torch.cuda.is_available()\n",
    "\n",
    "device = torch.device(\"cuda:0\" if torch.cuda.is_available() else \"cpu\")\n",
    "\n",
    "torch.cuda.empty_cache()"
   ]
  },
  {
   "cell_type": "code",
   "execution_count": null,
   "id": "fa1739ca-ac41-4239-8d26-e5ed01258dfe",
   "metadata": {
    "tags": []
   },
   "outputs": [],
   "source": [
    "model_name = 'gpt2'\n",
    "# model_name = \"l3cube-pune/tamil-bert\"\n",
    "# model_name = \"google-bert/bert-base-multilingual-uncased\"\n",
    "\n",
    "model = AutoModelForSequenceClassification.from_pretrained(model_name, num_labels=7)\n",
    "\n",
    "tokenizer = AutoTokenizer.from_pretrained(model_name)\n",
    "model.to(device)\n",
    "\n",
    "tokenizer.pad_token = tokenizer.eos_token\n",
    "model.config.pad_token_id = model.config.eos_token_id"
   ]
  },
  {
   "cell_type": "markdown",
   "id": "131c8356-9538-4253-a77d-8be1f3d9f136",
   "metadata": {
    "tags": []
   },
   "source": [
    "### Dataloader"
   ]
  },
  {
   "cell_type": "code",
   "execution_count": null,
   "id": "b038598d-eb79-4c13-b38f-c8d5166f9848",
   "metadata": {
    "tags": []
   },
   "outputs": [],
   "source": [
    "df = pd.read_csv(\"PS_train.csv\", encoding_errors=\"ignore\", on_bad_lines='skip')\n",
    "df_test = pd.read_csv(\"PS_dev.csv\", encoding_errors=\"ignore\", on_bad_lines='skip')\n",
    "\n",
    "print(df.shape, df_test.shape)\n",
    "\n",
    "df = pd.concat([df, df_test], ignore_index=True)\n",
    "df_test = df.sample(frac=0.20, random_state=42)\n",
    "df = df.drop(df_test.index)\n",
    "df[\"labels\"].value_counts()"
   ]
  },
  {
   "cell_type": "code",
   "execution_count": null,
   "id": "5d883717-de08-472b-82dc-1fa467ba49df",
   "metadata": {
    "tags": []
   },
   "outputs": [],
   "source": [
    "label_dict = {\n",
    "    \"Opinionated\": 0,\n",
    "    \"Sarcastic\": 1,\n",
    "    \"Neutral\": 2,\n",
    "    \"Positive\": 3,\n",
    "    \"Substantiated\": 4,\n",
    "    \"Negative\": 5,\n",
    "    \"None of the above\": 6\n",
    "}\n",
    "\n",
    "df[\"labels\"] = df[\"labels\"].apply(lambda x: label_dict[x])\n",
    "df_test[\"labels\"] = df_test[\"labels\"].apply(lambda x: label_dict[x])\n",
    "\n",
    "\n",
    "train_texts = df['content'].tolist()\n",
    "train_labels = df['labels'].tolist()\n",
    "\n",
    "test_texts = df_test['content'].tolist()\n",
    "test_labels = df_test['labels'].tolist()"
   ]
  },
  {
   "cell_type": "code",
   "execution_count": null,
   "id": "e6d3e819-b055-4e73-acf5-edc00c4d5c76",
   "metadata": {
    "tags": []
   },
   "outputs": [],
   "source": [
    "class TextDataset(Dataset):\n",
    "    def __init__(self, texts, labels, tokenizer, max_length):\n",
    "        self.texts = texts\n",
    "        self.labels = labels\n",
    "        self.tokenizer = tokenizer\n",
    "        self.max_length = max_length\n",
    "\n",
    "    def __len__(self):\n",
    "        return len(self.texts)\n",
    "\n",
    "    def __getitem__(self, item):\n",
    "        text = self.texts[item]\n",
    "        label = self.labels[item]\n",
    "        label = int(label)\n",
    "\n",
    "        encoding = self.tokenizer.encode_plus(\n",
    "            text,\n",
    "            add_special_tokens=True,\n",
    "            max_length=self.max_length,\n",
    "            padding='max_length',\n",
    "            truncation=True,\n",
    "            return_attention_mask=True,\n",
    "            return_tensors='pt'\n",
    "        )\n",
    "\n",
    "        return {\n",
    "            'input_ids': encoding['input_ids'].flatten(),\n",
    "            'attention_mask': encoding['attention_mask'].flatten(),\n",
    "            'labels': torch.tensor(label, dtype=torch.long)\n",
    "        }\n",
    "\n",
    "max_length = 256\n",
    "\n",
    "batch_size = 32\n",
    "train_dataset = TextDataset(train_texts, train_labels, tokenizer, max_length)\n",
    "test_dataset = TextDataset(test_texts, test_labels, tokenizer, max_length)\n",
    "\n",
    "train_dataloader = DataLoader(train_dataset, batch_size=batch_size, shuffle=True)\n",
    "test_dataloader = DataLoader(test_dataset, batch_size=batch_size)\n",
    "\n",
    "\n",
    "for batch in train_dataloader:\n",
    "    print(batch)\n",
    "    break"
   ]
  },
  {
   "cell_type": "markdown",
   "id": "2b87f27b-fb81-4675-9e2f-c5688d909e40",
   "metadata": {
    "jp-MarkdownHeadingCollapsed": true,
    "tags": []
   },
   "source": [
    "### Utils"
   ]
  },
  {
   "cell_type": "code",
   "execution_count": null,
   "id": "e16e4d6d-13a4-44cd-a300-0cdd76358173",
   "metadata": {},
   "outputs": [],
   "source": [
    "sentence_lengths = df['content'].apply(lambda x: len(tokenizer.encode(x, add_special_tokens=True)))\n",
    "\n",
    "plt.figure(figsize=(10, 6))\n",
    "plt.hist(sentence_lengths, bins=50, color='skyblue', edgecolor='black')\n",
    "plt.title('Distribution of Sentence Lengths')\n",
    "plt.xlabel('Sentence Length')\n",
    "plt.ylabel('Frequency')\n",
    "plt.show()\n",
    "\n",
    "print(f\"Max sentence length: {max(sentence_lengths)}\")\n",
    "print(f\"Median sentence length: {sentence_lengths.median()}\")\n",
    "print(f\"Mean sentence length: {sentence_lengths.mean()}\")\n",
    "print(f\"90th percentile sentence length: {pd.Series(sentence_lengths).quantile(0.9)}\")"
   ]
  },
  {
   "cell_type": "code",
   "execution_count": null,
   "id": "f2444a21-7376-4279-aac0-155d6718d25d",
   "metadata": {
    "tags": []
   },
   "outputs": [],
   "source": [
    "def compute_metrics(preds, labels):\n",
    "    preds = preds.flatten()\n",
    "    labels = labels.flatten()\n",
    "\n",
    "    accuracy = accuracy_score(labels.cpu(), preds.cpu())\n",
    "    precision = precision_score(labels.cpu(), preds.cpu(), average='macro', zero_division=1)  # For binary classification\n",
    "    recall = recall_score(labels.cpu(), preds.cpu(), average='macro', zero_division=1)\n",
    "    f1 = f1_score(labels.cpu(), preds.cpu(), average='macro', zero_division=1)\n",
    "\n",
    "    return accuracy, precision, recall, f1\n",
    "\n",
    "\n",
    "def calc_and_print_metrics(model, dataloader):\n",
    "    model.eval()\n",
    "\n",
    "    test_preds = []\n",
    "    test_labels = []\n",
    "\n",
    "    with torch.no_grad():\n",
    "        for batch in dataloader:\n",
    "            input_ids = batch['input_ids'].to(device)\n",
    "            attention_mask = batch['attention_mask'].to(device)\n",
    "            labels = batch['labels'].to(device)\n",
    "\n",
    "            outputs = model(input_ids=input_ids, attention_mask=attention_mask, labels=labels)\n",
    "            logits = outputs.logits\n",
    "\n",
    "            preds = torch.argmax(logits, dim=-1)\n",
    "\n",
    "            test_preds.extend(preds.cpu().numpy())\n",
    "            test_labels.extend(labels.cpu().numpy())\n",
    "\n",
    "    accuracy, precision, recall, f1 = compute_metrics(torch.tensor(test_preds), torch.tensor(test_labels))\n",
    "\n",
    "    print(f\"Accuracy: {accuracy:.4f}\")\n",
    "    print(f\"Precision: {precision:.4f}\")\n",
    "    print(f\"Recall: {recall:.4f}\")\n",
    "    print(f\"F1-Score: {f1:.4f}\")"
   ]
  },
  {
   "cell_type": "markdown",
   "id": "13fc6c41-d308-4706-a753-7e5b0352f8b4",
   "metadata": {
    "jp-MarkdownHeadingCollapsed": true,
    "tags": []
   },
   "source": [
    "### Training"
   ]
  },
  {
   "cell_type": "code",
   "execution_count": null,
   "id": "a10eb6e0-c04d-4e27-bc33-ec1f7afdb796",
   "metadata": {
    "tags": []
   },
   "outputs": [],
   "source": [
    "optimizer = torch.optim.AdamW(model.parameters(), lr=5e-5)\n",
    "scheduler = ExponentialLR(optimizer, gamma=0.9)"
   ]
  },
  {
   "cell_type": "code",
   "execution_count": null,
   "id": "da86e6bc-2dc2-4b26-b60c-74583aafb511",
   "metadata": {
    "tags": []
   },
   "outputs": [],
   "source": [
    "epochs = 20\n",
    "lr_history = []\n",
    "\n",
    "for epoch in range(epochs):\n",
    "    model.train()\n",
    "    total_loss = 0\n",
    "    all_preds = []\n",
    "    all_labels = []\n",
    "\n",
    "    for batch in train_dataloader:\n",
    "        optimizer.zero_grad()\n",
    "\n",
    "        input_ids = batch['input_ids'].to(device)\n",
    "        attention_mask = batch['attention_mask'].to(device)\n",
    "        labels = batch['labels'].to(device)\n",
    "\n",
    "        outputs = model(input_ids=input_ids, attention_mask=attention_mask, labels=labels)\n",
    "        loss = outputs.loss\n",
    "        logits = outputs.logits\n",
    "\n",
    "        loss.backward()\n",
    "        optimizer.step()\n",
    "\n",
    "        total_loss += loss.item()\n",
    "\n",
    "        # the label with the highest probability\n",
    "        preds = torch.argmax(logits, dim=-1)\n",
    "\n",
    "        all_preds.extend(preds.cpu().numpy())\n",
    "        all_labels.extend(labels.cpu().numpy())\n",
    "\n",
    "    scheduler.step()\n",
    "    lr_history.append(optimizer.param_groups[0]['lr'])\n",
    "\n",
    "    avg_loss = total_loss / len(train_dataloader)\n",
    "    accuracy, precision, recall, f1 = compute_metrics(torch.tensor(all_preds), torch.tensor(all_labels))\n",
    "\n",
    "    print(f\"Epoch {epoch+1}\")\n",
    "    print(f\"Average Training Loss: {avg_loss:.4f}\")\n",
    "    print(f\"Accuracy: {accuracy:.4f}, Precision: {precision:.4f}, Recall: {recall:.4f}, F1: {f1:.4f}\")\n",
    "\n",
    "    print(\"------ on test dataset ------\")\n",
    "    calc_and_print_metrics(model, test_dataloader)\n",
    "    print(\"\\n\")"
   ]
  }
 ],
 "metadata": {
  "kernelspec": {
   "display_name": "Python 3 (ipykernel)",
   "language": "python",
   "name": "python3"
  },
  "language_info": {
   "codemirror_mode": {
    "name": "ipython",
    "version": 3
   },
   "file_extension": ".py",
   "mimetype": "text/x-python",
   "name": "python",
   "nbconvert_exporter": "python",
   "pygments_lexer": "ipython3",
   "version": "3.9.7"
  }
 },
 "nbformat": 4,
 "nbformat_minor": 5
}
